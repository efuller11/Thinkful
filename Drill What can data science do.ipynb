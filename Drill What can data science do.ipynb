{
 "cells": [
  {
   "cell_type": "markdown",
   "metadata": {},
   "source": [
    "1.You work at an e-commerce company that sells three goods: widgets, doodads, and fizzbangs. The head of advertising asks you which they should feature in their new advertising campaign. You have data on individual visitors' sessions (activity on a website, pageviews, and purchases), as well as whether or not those users converted from an advertisement for that session. You also have the cost and price information for the goods."
   ]
  },
  {
   "cell_type": "markdown",
   "metadata": {},
   "source": [
    "    A: Basically I am wanting to create a model or graph that will predict the highest profit for the company through a advertising campaign. I would use the information from the pageviews to get a good idea on what to expect in terms of clicks or hits from the sales campaign. Next, I would use the conversion marketing for all three products and take the likelihood of a customer purchase and multiply it by their respective hits projected for each of the products. Last, I would take those three numbers and mulitply it by the profits each item had. After comparing the three numbers, I should have a good idea which product would fetch the most profit for the company. I could show this data in a bar graph."
   ]
  },
  {
   "cell_type": "markdown",
   "metadata": {},
   "source": [
    "2.You work at a web design company that offers to build websites for clients. Signups have slowed, and you are tasked with finding out why. The onboarding funnel has three steps: email and password signup, plan choice, and payment. On a user level you have information on what steps they have completed as well as timestamps for all of those events for the past 3 years. You also have information on marketing spend on a weekly level."
   ]
  },
  {
   "cell_type": "markdown",
   "metadata": {},
   "source": [
    "    A: For this I am wanting to find out why the company I am working for is having less business. I have two data sources to use to figure this out, in real life I would also be interested in knowing if there were any competitors up and coming that were disrupting our business. I have the onboarding funnel data and I would use that to figure out if there were any alarming fallout rates in any of the funnels. I would look at this over the past 3 years and also verify if this number had significant changes at any time recently compared to the past, by showing all three in a scatterplot broken into months. I would be interested in knowing if we had similar numbers for the first funnel, email and password signup that we did in the past. I would also make a scatterplot to view the marketing data and see if there were any changes around the time our company's number started to dip. I would also back to view when our company was at its best and see if there are any significant changes between then and now. I believe after doing all of this I should find answers to what is hurting the company from gaining new clients."
   ]
  },
  {
   "cell_type": "markdown",
   "metadata": {},
   "source": [
    "3.You work at a hotel website and currently the website ranks search results by price. For simplicity's sake, let's say it's a website for one city with 100 hotels. You are tasked with proposing a better ranking system. You have session information, price information for the hotels, and whether each hotel is currently available."
   ]
  },
  {
   "cell_type": "markdown",
   "metadata": {},
   "source": [
    "    A: As the saying goes location is everything, I believe this is very true for hotels. Being on the wrong side of the city might not be worth the few dollars saved for a cheaper hotel. I propose that the rankings would add two location attributes, the first being how close the hotel was to the attraction that is the reason the customer is visiting the area in the first place. This score would be directly related to the customer's needs. The other attribute would be the score of the area the hotel is in, this could include walking score, restaurants within 1-2 miles, how safe the area is considered, and other attractions nearby. With the current system, I could only compare cost of hotel with whether it had an available room and sort the cheaper available rooms to the top of the list. After my additions, the webpage could have a sort by function that allowed the customer to view the top hotel candidates for what their preference was, allowing them to make a decision based most by their needs. Later on, we could incorporate machine learning after gaining data based on customer choices and even surveys off of customer experiences and give each hotel a score based off of that data."
   ]
  },
  {
   "cell_type": "markdown",
   "metadata": {},
   "source": [
    "4.You work at a social network, and the management is worried about churn (users stopping using the product). You are tasked with finding out if their churn is atypical. You have three years of data for users with an entry for every time they've logged in, including the timestamp and length of session."
   ]
  },
  {
   "cell_type": "markdown",
   "metadata": {},
   "source": [
    "    A: Since I have three years worth of customer data that shows every time they logged in, timestamps and lengths of the session, I would create a violinplot or bar graph of the each user's time spent in the social network, I would group this data into months. After doing this, I should be able to view any trends over the three years and also compare the current and last month to the past data to represent whether our churn rate was atypical from the past months."
   ]
  }
 ],
 "metadata": {
  "kernelspec": {
   "display_name": "Python 3",
   "language": "python",
   "name": "python3"
  },
  "language_info": {
   "codemirror_mode": {
    "name": "ipython",
    "version": 3
   },
   "file_extension": ".py",
   "mimetype": "text/x-python",
   "name": "python",
   "nbconvert_exporter": "python",
   "pygments_lexer": "ipython3",
   "version": "3.6.3"
  }
 },
 "nbformat": 4,
 "nbformat_minor": 2
}
