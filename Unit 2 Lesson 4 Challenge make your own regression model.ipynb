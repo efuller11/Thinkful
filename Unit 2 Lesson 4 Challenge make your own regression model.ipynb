{
 "cells": [
  {
   "cell_type": "markdown",
   "metadata": {},
   "source": [
    "# Unit 2 Lesson 4 Challenge: make your own regression model"
   ]
  },
  {
   "cell_type": "code",
   "execution_count": 1,
   "metadata": {
    "collapsed": true
   },
   "outputs": [],
   "source": [
    "import numpy as np\n",
    "import pandas as pd\n",
    "import scipy\n",
    "import sklearn\n",
    "import matplotlib.pyplot as plt\n",
    "import seaborn as sns\n",
    "from sklearn import linear_model\n",
    "%matplotlib inline\n",
    "pd.options.display.float_format = '{:.3f}'.format\n",
    "from sklearn import preprocessing\n",
    "import math\n",
    "import statsmodels.formula.api as smf\n",
    "import scipy.stats as stats\n",
    "from statsmodels.sandbox.regression.predstd import wls_prediction_std"
   ]
  },
  {
   "cell_type": "code",
   "execution_count": 2,
   "metadata": {
    "collapsed": true
   },
   "outputs": [],
   "source": [
    "fbi_data = pd.read_csv('offenses_known_to_law_enforcement1.csv')"
   ]
  },
  {
   "cell_type": "markdown",
   "metadata": {},
   "source": [
    "### Exploring the data"
   ]
  },
  {
   "cell_type": "code",
   "execution_count": 3,
   "metadata": {},
   "outputs": [
    {
     "data": {
      "text/html": [
       "<div>\n",
       "<style>\n",
       "    .dataframe thead tr:only-child th {\n",
       "        text-align: right;\n",
       "    }\n",
       "\n",
       "    .dataframe thead th {\n",
       "        text-align: left;\n",
       "    }\n",
       "\n",
       "    .dataframe tbody tr th {\n",
       "        vertical-align: top;\n",
       "    }\n",
       "</style>\n",
       "<table border=\"1\" class=\"dataframe\">\n",
       "  <thead>\n",
       "    <tr style=\"text-align: right;\">\n",
       "      <th></th>\n",
       "      <th>City</th>\n",
       "      <th>Population</th>\n",
       "      <th>Violent\n",
       "crime</th>\n",
       "      <th>Murder and\n",
       "nonnegligent\n",
       "manslaughter</th>\n",
       "      <th>Rape\n",
       "(revised\n",
       "definition)1</th>\n",
       "      <th>Rape\n",
       "(legacy\n",
       "definition)2</th>\n",
       "      <th>Robbery</th>\n",
       "      <th>Aggravated\n",
       "assault</th>\n",
       "      <th>Property\n",
       "crime</th>\n",
       "      <th>Burglary</th>\n",
       "      <th>Larceny-\n",
       "theft</th>\n",
       "      <th>Motor\n",
       "vehicle\n",
       "theft</th>\n",
       "      <th>Arson3</th>\n",
       "    </tr>\n",
       "  </thead>\n",
       "  <tbody>\n",
       "    <tr>\n",
       "      <th>0</th>\n",
       "      <td>Adams Village</td>\n",
       "      <td>1,861</td>\n",
       "      <td>0</td>\n",
       "      <td>0</td>\n",
       "      <td>nan</td>\n",
       "      <td>0</td>\n",
       "      <td>0</td>\n",
       "      <td>0</td>\n",
       "      <td>12</td>\n",
       "      <td>2</td>\n",
       "      <td>10</td>\n",
       "      <td>0</td>\n",
       "      <td>0.000</td>\n",
       "    </tr>\n",
       "    <tr>\n",
       "      <th>1</th>\n",
       "      <td>Addison Town and Village</td>\n",
       "      <td>2,577</td>\n",
       "      <td>3</td>\n",
       "      <td>0</td>\n",
       "      <td>nan</td>\n",
       "      <td>0</td>\n",
       "      <td>0</td>\n",
       "      <td>3</td>\n",
       "      <td>24</td>\n",
       "      <td>3</td>\n",
       "      <td>20</td>\n",
       "      <td>1</td>\n",
       "      <td>0.000</td>\n",
       "    </tr>\n",
       "    <tr>\n",
       "      <th>2</th>\n",
       "      <td>Akron Village</td>\n",
       "      <td>2,846</td>\n",
       "      <td>3</td>\n",
       "      <td>0</td>\n",
       "      <td>nan</td>\n",
       "      <td>0</td>\n",
       "      <td>0</td>\n",
       "      <td>3</td>\n",
       "      <td>16</td>\n",
       "      <td>1</td>\n",
       "      <td>15</td>\n",
       "      <td>0</td>\n",
       "      <td>0.000</td>\n",
       "    </tr>\n",
       "    <tr>\n",
       "      <th>3</th>\n",
       "      <td>Albany</td>\n",
       "      <td>97,956</td>\n",
       "      <td>791</td>\n",
       "      <td>8</td>\n",
       "      <td>nan</td>\n",
       "      <td>30</td>\n",
       "      <td>227</td>\n",
       "      <td>526</td>\n",
       "      <td>4,090</td>\n",
       "      <td>705</td>\n",
       "      <td>3,243</td>\n",
       "      <td>142</td>\n",
       "      <td>nan</td>\n",
       "    </tr>\n",
       "    <tr>\n",
       "      <th>4</th>\n",
       "      <td>Albion Village</td>\n",
       "      <td>6,388</td>\n",
       "      <td>23</td>\n",
       "      <td>0</td>\n",
       "      <td>nan</td>\n",
       "      <td>3</td>\n",
       "      <td>4</td>\n",
       "      <td>16</td>\n",
       "      <td>223</td>\n",
       "      <td>53</td>\n",
       "      <td>165</td>\n",
       "      <td>5</td>\n",
       "      <td>nan</td>\n",
       "    </tr>\n",
       "  </tbody>\n",
       "</table>\n",
       "</div>"
      ],
      "text/plain": [
       "                       City Population Violent\\ncrime  \\\n",
       "0             Adams Village      1,861              0   \n",
       "1  Addison Town and Village      2,577              3   \n",
       "2             Akron Village      2,846              3   \n",
       "3                    Albany     97,956            791   \n",
       "4            Albion Village      6,388             23   \n",
       "\n",
       "   Murder and\\nnonnegligent\\nmanslaughter  Rape\\n(revised\\ndefinition)1  \\\n",
       "0                                       0                           nan   \n",
       "1                                       0                           nan   \n",
       "2                                       0                           nan   \n",
       "3                                       8                           nan   \n",
       "4                                       0                           nan   \n",
       "\n",
       "  Rape\\n(legacy\\ndefinition)2 Robbery Aggravated\\nassault Property\\ncrime  \\\n",
       "0                           0       0                   0              12   \n",
       "1                           0       0                   3              24   \n",
       "2                           0       0                   3              16   \n",
       "3                          30     227                 526           4,090   \n",
       "4                           3       4                  16             223   \n",
       "\n",
       "  Burglary Larceny-\\ntheft Motor\\nvehicle\\ntheft  Arson3  \n",
       "0        2              10                     0   0.000  \n",
       "1        3              20                     1   0.000  \n",
       "2        1              15                     0   0.000  \n",
       "3      705           3,243                   142     nan  \n",
       "4       53             165                     5     nan  "
      ]
     },
     "execution_count": 3,
     "metadata": {},
     "output_type": "execute_result"
    }
   ],
   "source": [
    "fbi_data.head()"
   ]
  },
  {
   "cell_type": "code",
   "execution_count": 4,
   "metadata": {},
   "outputs": [
    {
     "data": {
      "text/html": [
       "<div>\n",
       "<style>\n",
       "    .dataframe thead tr:only-child th {\n",
       "        text-align: right;\n",
       "    }\n",
       "\n",
       "    .dataframe thead th {\n",
       "        text-align: left;\n",
       "    }\n",
       "\n",
       "    .dataframe tbody tr th {\n",
       "        vertical-align: top;\n",
       "    }\n",
       "</style>\n",
       "<table border=\"1\" class=\"dataframe\">\n",
       "  <thead>\n",
       "    <tr style=\"text-align: right;\">\n",
       "      <th></th>\n",
       "      <th>Murder and\n",
       "nonnegligent\n",
       "manslaughter</th>\n",
       "      <th>Rape\n",
       "(revised\n",
       "definition)1</th>\n",
       "      <th>Arson3</th>\n",
       "    </tr>\n",
       "  </thead>\n",
       "  <tbody>\n",
       "    <tr>\n",
       "      <th>count</th>\n",
       "      <td>348.000</td>\n",
       "      <td>0.000</td>\n",
       "      <td>187.000</td>\n",
       "    </tr>\n",
       "    <tr>\n",
       "      <th>mean</th>\n",
       "      <td>1.566</td>\n",
       "      <td>nan</td>\n",
       "      <td>1.872</td>\n",
       "    </tr>\n",
       "    <tr>\n",
       "      <th>std</th>\n",
       "      <td>18.304</td>\n",
       "      <td>nan</td>\n",
       "      <td>10.693</td>\n",
       "    </tr>\n",
       "    <tr>\n",
       "      <th>min</th>\n",
       "      <td>0.000</td>\n",
       "      <td>nan</td>\n",
       "      <td>0.000</td>\n",
       "    </tr>\n",
       "    <tr>\n",
       "      <th>25%</th>\n",
       "      <td>0.000</td>\n",
       "      <td>nan</td>\n",
       "      <td>0.000</td>\n",
       "    </tr>\n",
       "    <tr>\n",
       "      <th>50%</th>\n",
       "      <td>0.000</td>\n",
       "      <td>nan</td>\n",
       "      <td>0.000</td>\n",
       "    </tr>\n",
       "    <tr>\n",
       "      <th>75%</th>\n",
       "      <td>0.000</td>\n",
       "      <td>nan</td>\n",
       "      <td>1.000</td>\n",
       "    </tr>\n",
       "    <tr>\n",
       "      <th>max</th>\n",
       "      <td>335.000</td>\n",
       "      <td>nan</td>\n",
       "      <td>132.000</td>\n",
       "    </tr>\n",
       "  </tbody>\n",
       "</table>\n",
       "</div>"
      ],
      "text/plain": [
       "       Murder and\\nnonnegligent\\nmanslaughter  Rape\\n(revised\\ndefinition)1  \\\n",
       "count                                 348.000                         0.000   \n",
       "mean                                    1.566                           nan   \n",
       "std                                    18.304                           nan   \n",
       "min                                     0.000                           nan   \n",
       "25%                                     0.000                           nan   \n",
       "50%                                     0.000                           nan   \n",
       "75%                                     0.000                           nan   \n",
       "max                                   335.000                           nan   \n",
       "\n",
       "       Arson3  \n",
       "count 187.000  \n",
       "mean    1.872  \n",
       "std    10.693  \n",
       "min     0.000  \n",
       "25%     0.000  \n",
       "50%     0.000  \n",
       "75%     1.000  \n",
       "max   132.000  "
      ]
     },
     "execution_count": 4,
     "metadata": {},
     "output_type": "execute_result"
    }
   ],
   "source": [
    "fbi_data.describe()"
   ]
  },
  {
   "cell_type": "markdown",
   "metadata": {},
   "source": [
    "### Data Cleaning"
   ]
  },
  {
   "cell_type": "code",
   "execution_count": 5,
   "metadata": {
    "collapsed": true
   },
   "outputs": [],
   "source": [
    "fbi_data = fbi_data.drop(['Rape\\n(revised\\ndefinition)1'], axis =1)"
   ]
  },
  {
   "cell_type": "code",
   "execution_count": 6,
   "metadata": {
    "collapsed": true
   },
   "outputs": [],
   "source": [
    "fbi_data.columns = ['City', 'Population', 'ViolentCrime', 'Murder', 'Rape2', 'Robbery', 'AggAssault', 'PropCrime', 'Burglary', 'Larceny', 'AutoTheft', 'Arson']"
   ]
  },
  {
   "cell_type": "code",
   "execution_count": 7,
   "metadata": {
    "collapsed": true
   },
   "outputs": [],
   "source": [
    "fbi_data = fbi_data.fillna(0)"
   ]
  },
  {
   "cell_type": "code",
   "execution_count": 8,
   "metadata": {},
   "outputs": [],
   "source": [
    "# Need to convert the column's data from strings\n",
    "\n",
    "fbi_data['Arson'] = fbi_data['Arson'].astype(int)\n",
    "fbi_data['Robbery'] = fbi_data['Robbery'].str.replace(',', '')\n",
    "fbi_data['Population'] = fbi_data['Population'].str.replace(',', '')\n",
    "fbi_data['Robbery'] = fbi_data['Robbery'].astype(int)\n",
    "fbi_data['Population'] = fbi_data['Population'].astype(int)\n",
    "fbi_data['PropCrime'] = fbi_data['PropCrime'].str.replace(',', '')\n",
    "fbi_data['Larceny'] = fbi_data['Larceny'].str.replace(',', '')\n",
    "fbi_data['AutoTheft'] = fbi_data['AutoTheft'].str.replace(',', '')\n",
    "fbi_data['Rape2'] = fbi_data['Rape2'].str.replace(',', '')\n",
    "fbi_data['PropCrime'] = fbi_data['PropCrime'].astype(int)\n",
    "fbi_data['Rape2'] = fbi_data['Rape2'].astype(int)\n",
    "fbi_data['Murder'] = fbi_data['Murder'].astype(int)\n",
    "fbi_data['Burglary'] = fbi_data['Burglary'].str.replace(',', '')\n",
    "fbi_data['Burglary'] = fbi_data['Burglary'].astype(int)\n",
    "fbi_data['Larceny'] = fbi_data['Larceny'].astype(int)\n",
    "fbi_data['AutoTheft'] = fbi_data['AutoTheft'].astype(int)"
   ]
  },
  {
   "cell_type": "code",
   "execution_count": 9,
   "metadata": {
    "collapsed": true
   },
   "outputs": [],
   "source": [
    "# revisiting feature cleaning after analsis of residuals\n",
    "fbi_data = fbi_data[fbi_data['PropCrime']< fbi_data['PropCrime'].quantile(0.95)]"
   ]
  },
  {
   "cell_type": "code",
   "execution_count": 10,
   "metadata": {},
   "outputs": [
    {
     "data": {
      "image/png": "[encoded data removed]",
      "text/plain": [
       "<matplotlib.figure.Figure at 0x230261dc438>"
      ]
     },
     "metadata": {},
     "output_type": "display_data"
    }
   ],
   "source": [
    "plt.boxplot(fbi_data['PropCrime']);"
   ]
  },
  {
   "cell_type": "markdown",
   "metadata": {},
   "source": [
    "###  Creating a new feature and fitting the model"
   ]
  },
  {
   "cell_type": "code",
   "execution_count": 11,
   "metadata": {},
   "outputs": [],
   "source": [
    "fbi_data['Rape_bi'] = fbi_data['Rape2'].apply(lambda x: 1 if x >= 1 else 0)\n",
    "fbi_data['Robbery_bi'] = fbi_data['Robbery'].apply(lambda x: 1 if x >= 1 else 0)\n",
    "fbi_data['Murder_bi'] = fbi_data['Murder'].apply(lambda x: 1 if x >= 1 else 0)\n",
    "fbi_data['Larceny_bi'] = fbi_data['Larceny'].apply(lambda x: 1 if x >= 1 else 0)\n",
    "fbi_data['AutoTheft_bi'] = fbi_data['AutoTheft'].apply(lambda x: 1 if x >= 1 else 0)\n",
    "fbi_data['Popx2'] = fbi_data['Population']** 2\n",
    "\n",
    "new_fbi_data_col = [\"Population\", \"Rape2\", \"PropCrime\", 'Robbery', 'Rape_bi', 'Robbery_bi', 'Popx2',\n",
    "                    'Murder', 'Murder_bi',  'AutoTheft_bi' , 'AutoTheft', 'Larceny_bi', 'Larceny']\n",
    "new_fbi_data = fbi_data[new_fbi_data_col]"
   ]
  },
  {
   "cell_type": "code",
   "execution_count": 12,
   "metadata": {},
   "outputs": [
    {
     "name": "stdout",
     "output_type": "stream",
     "text": [
      "\n",
      "Coefficients: \n",
      " [[  2.86958905e-04   4.15659223e+00   9.01433563e-01  -8.92755374e-01\n",
      "    1.22516993e+00  -3.24701332e-09  -9.45629186e+00   8.80678146e+00\n",
      "    1.46246556e+00   1.47744350e+00   1.78852333e+00   1.09463806e+00]]\n",
      "\n",
      "Intercept: \n",
      " [-0.222691]\n",
      "\n",
      "R-squared:\n",
      "0.995693747904\n"
     ]
    }
   ],
   "source": [
    "regr = linear_model.LinearRegression()\n",
    "Y = new_fbi_data['PropCrime'].values.reshape(-1, 1)\n",
    "X = new_fbi_data[[\"Population\", \"Rape2\", \"Robbery\", 'Rape_bi', 'Robbery_bi', 'Popx2', 'Murder',\n",
    "                  'Murder_bi', 'AutoTheft_bi' , 'AutoTheft', 'Larceny_bi', 'Larceny']]\n",
    "regr.fit(X, Y)\n",
    "\n",
    "# Inspect the results.\n",
    "print('\\nCoefficients: \\n', regr.coef_)\n",
    "print('\\nIntercept: \\n', regr.intercept_)\n",
    "print('\\nR-squared:')\n",
    "print(regr.score(X, Y))"
   ]
  },
  {
   "cell_type": "code",
   "execution_count": 13,
   "metadata": {
    "collapsed": true
   },
   "outputs": [],
   "source": [
    "# Extract predicted values.\n",
    "predicted = regr.predict(X).ravel()\n",
    "actual = new_fbi_data['PropCrime']\n",
    "predicted = predicted.astype(float)\n",
    "actual = actual.astype(float)\n",
    "# Calculate the error, also called the residual.\n",
    "residual = actual - predicted"
   ]
  },
  {
   "cell_type": "markdown",
   "metadata": {},
   "source": [
    "### Verifiying the model meets Multivariable criteria"
   ]
  },
  {
   "cell_type": "code",
   "execution_count": 14,
   "metadata": {},
   "outputs": [
    {
     "data": {
      "image/png": "[encoded data removed]",
      "text/plain": [
       "<matplotlib.figure.Figure at 0x230264af048>"
      ]
     },
     "metadata": {},
     "output_type": "display_data"
    }
   ],
   "source": [
    "plt.scatter(actual, predicted)\n",
    "plt.show()"
   ]
  },
  {
   "cell_type": "code",
   "execution_count": 15,
   "metadata": {},
   "outputs": [
    {
     "data": {
      "image/png": "[encoded data removed]",
      "text/plain": [
       "<matplotlib.figure.Figure at 0x230264788d0>"
      ]
     },
     "metadata": {},
     "output_type": "display_data"
    }
   ],
   "source": [
    "plt.hist(residual)\n",
    "plt.title('Residual counts')\n",
    "plt.xlabel('Residual')\n",
    "plt.ylabel('Count')\n",
    "plt.show()"
   ]
  },
  {
   "cell_type": "code",
   "execution_count": 16,
   "metadata": {},
   "outputs": [
    {
     "data": {
      "image/png": "[encoded data removed]",
      "text/plain": [
       "<matplotlib.figure.Figure at 0x23026522358>"
      ]
     },
     "metadata": {},
     "output_type": "display_data"
    }
   ],
   "source": [
    "# the errors are fairly consistent for the new predicted values\n",
    "plt.scatter(predicted, residual)\n",
    "plt.xlabel('Predicted')\n",
    "plt.ylabel('Residual')\n",
    "plt.axhline(y=0)\n",
    "plt.title('Residual vs. Predicted')\n",
    "plt.show()"
   ]
  },
  {
   "cell_type": "code",
   "execution_count": 17,
   "metadata": {},
   "outputs": [
    {
     "data": {
      "text/html": [
       "<div>\n",
       "<style>\n",
       "    .dataframe thead tr:only-child th {\n",
       "        text-align: right;\n",
       "    }\n",
       "\n",
       "    .dataframe thead th {\n",
       "        text-align: left;\n",
       "    }\n",
       "\n",
       "    .dataframe tbody tr th {\n",
       "        vertical-align: top;\n",
       "    }\n",
       "</style>\n",
       "<table border=\"1\" class=\"dataframe\">\n",
       "  <thead>\n",
       "    <tr style=\"text-align: right;\">\n",
       "      <th></th>\n",
       "      <th>Population</th>\n",
       "      <th>Rape2</th>\n",
       "      <th>Robbery</th>\n",
       "      <th>Rape_bi</th>\n",
       "      <th>Robbery_bi</th>\n",
       "      <th>Popx2</th>\n",
       "      <th>Murder</th>\n",
       "      <th>Murder_bi</th>\n",
       "      <th>AutoTheft_bi</th>\n",
       "      <th>AutoTheft</th>\n",
       "      <th>Larceny_bi</th>\n",
       "      <th>Larceny</th>\n",
       "    </tr>\n",
       "  </thead>\n",
       "  <tbody>\n",
       "    <tr>\n",
       "      <th>Population</th>\n",
       "      <td>1.000</td>\n",
       "      <td>0.427</td>\n",
       "      <td>0.494</td>\n",
       "      <td>0.479</td>\n",
       "      <td>0.472</td>\n",
       "      <td>0.465</td>\n",
       "      <td>0.414</td>\n",
       "      <td>0.486</td>\n",
       "      <td>0.377</td>\n",
       "      <td>0.646</td>\n",
       "      <td>0.121</td>\n",
       "      <td>0.785</td>\n",
       "    </tr>\n",
       "    <tr>\n",
       "      <th>Rape2</th>\n",
       "      <td>0.427</td>\n",
       "      <td>1.000</td>\n",
       "      <td>0.544</td>\n",
       "      <td>0.577</td>\n",
       "      <td>0.326</td>\n",
       "      <td>0.221</td>\n",
       "      <td>0.422</td>\n",
       "      <td>0.416</td>\n",
       "      <td>0.195</td>\n",
       "      <td>0.474</td>\n",
       "      <td>0.067</td>\n",
       "      <td>0.583</td>\n",
       "    </tr>\n",
       "    <tr>\n",
       "      <th>Robbery</th>\n",
       "      <td>0.494</td>\n",
       "      <td>0.544</td>\n",
       "      <td>1.000</td>\n",
       "      <td>0.310</td>\n",
       "      <td>0.269</td>\n",
       "      <td>0.109</td>\n",
       "      <td>0.839</td>\n",
       "      <td>0.425</td>\n",
       "      <td>0.177</td>\n",
       "      <td>0.825</td>\n",
       "      <td>0.046</td>\n",
       "      <td>0.499</td>\n",
       "    </tr>\n",
       "    <tr>\n",
       "      <th>Rape_bi</th>\n",
       "      <td>0.479</td>\n",
       "      <td>0.577</td>\n",
       "      <td>0.310</td>\n",
       "      <td>1.000</td>\n",
       "      <td>0.448</td>\n",
       "      <td>0.274</td>\n",
       "      <td>0.218</td>\n",
       "      <td>0.323</td>\n",
       "      <td>0.260</td>\n",
       "      <td>0.394</td>\n",
       "      <td>0.116</td>\n",
       "      <td>0.558</td>\n",
       "    </tr>\n",
       "    <tr>\n",
       "      <th>Robbery_bi</th>\n",
       "      <td>0.472</td>\n",
       "      <td>0.326</td>\n",
       "      <td>0.269</td>\n",
       "      <td>0.448</td>\n",
       "      <td>1.000</td>\n",
       "      <td>0.288</td>\n",
       "      <td>0.186</td>\n",
       "      <td>0.279</td>\n",
       "      <td>0.434</td>\n",
       "      <td>0.341</td>\n",
       "      <td>0.173</td>\n",
       "      <td>0.520</td>\n",
       "    </tr>\n",
       "    <tr>\n",
       "      <th>Popx2</th>\n",
       "      <td>0.465</td>\n",
       "      <td>0.221</td>\n",
       "      <td>0.109</td>\n",
       "      <td>0.274</td>\n",
       "      <td>0.288</td>\n",
       "      <td>1.000</td>\n",
       "      <td>0.049</td>\n",
       "      <td>0.194</td>\n",
       "      <td>0.235</td>\n",
       "      <td>0.198</td>\n",
       "      <td>0.064</td>\n",
       "      <td>0.423</td>\n",
       "    </tr>\n",
       "    <tr>\n",
       "      <th>Murder</th>\n",
       "      <td>0.414</td>\n",
       "      <td>0.422</td>\n",
       "      <td>0.839</td>\n",
       "      <td>0.218</td>\n",
       "      <td>0.186</td>\n",
       "      <td>0.049</td>\n",
       "      <td>1.000</td>\n",
       "      <td>0.647</td>\n",
       "      <td>0.134</td>\n",
       "      <td>0.643</td>\n",
       "      <td>0.033</td>\n",
       "      <td>0.346</td>\n",
       "    </tr>\n",
       "    <tr>\n",
       "      <th>Murder_bi</th>\n",
       "      <td>0.486</td>\n",
       "      <td>0.416</td>\n",
       "      <td>0.425</td>\n",
       "      <td>0.323</td>\n",
       "      <td>0.279</td>\n",
       "      <td>0.194</td>\n",
       "      <td>0.647</td>\n",
       "      <td>1.000</td>\n",
       "      <td>0.198</td>\n",
       "      <td>0.422</td>\n",
       "      <td>0.052</td>\n",
       "      <td>0.471</td>\n",
       "    </tr>\n",
       "    <tr>\n",
       "      <th>AutoTheft_bi</th>\n",
       "      <td>0.377</td>\n",
       "      <td>0.195</td>\n",
       "      <td>0.177</td>\n",
       "      <td>0.260</td>\n",
       "      <td>0.434</td>\n",
       "      <td>0.235</td>\n",
       "      <td>0.134</td>\n",
       "      <td>0.198</td>\n",
       "      <td>1.000</td>\n",
       "      <td>0.310</td>\n",
       "      <td>0.235</td>\n",
       "      <td>0.363</td>\n",
       "    </tr>\n",
       "    <tr>\n",
       "      <th>AutoTheft</th>\n",
       "      <td>0.646</td>\n",
       "      <td>0.474</td>\n",
       "      <td>0.825</td>\n",
       "      <td>0.394</td>\n",
       "      <td>0.341</td>\n",
       "      <td>0.198</td>\n",
       "      <td>0.643</td>\n",
       "      <td>0.422</td>\n",
       "      <td>0.310</td>\n",
       "      <td>1.000</td>\n",
       "      <td>0.073</td>\n",
       "      <td>0.646</td>\n",
       "    </tr>\n",
       "    <tr>\n",
       "      <th>Larceny_bi</th>\n",
       "      <td>0.121</td>\n",
       "      <td>0.067</td>\n",
       "      <td>0.046</td>\n",
       "      <td>0.116</td>\n",
       "      <td>0.173</td>\n",
       "      <td>0.064</td>\n",
       "      <td>0.033</td>\n",
       "      <td>0.052</td>\n",
       "      <td>0.235</td>\n",
       "      <td>0.073</td>\n",
       "      <td>1.000</td>\n",
       "      <td>0.115</td>\n",
       "    </tr>\n",
       "    <tr>\n",
       "      <th>Larceny</th>\n",
       "      <td>0.785</td>\n",
       "      <td>0.583</td>\n",
       "      <td>0.499</td>\n",
       "      <td>0.558</td>\n",
       "      <td>0.520</td>\n",
       "      <td>0.423</td>\n",
       "      <td>0.346</td>\n",
       "      <td>0.471</td>\n",
       "      <td>0.363</td>\n",
       "      <td>0.646</td>\n",
       "      <td>0.115</td>\n",
       "      <td>1.000</td>\n",
       "    </tr>\n",
       "  </tbody>\n",
       "</table>\n",
       "</div>"
      ],
      "text/plain": [
       "              Population  Rape2  Robbery  Rape_bi  Robbery_bi  Popx2  Murder  \\\n",
       "Population         1.000  0.427    0.494    0.479       0.472  0.465   0.414   \n",
       "Rape2              0.427  1.000    0.544    0.577       0.326  0.221   0.422   \n",
       "Robbery            0.494  0.544    1.000    0.310       0.269  0.109   0.839   \n",
       "Rape_bi            0.479  0.577    0.310    1.000       0.448  0.274   0.218   \n",
       "Robbery_bi         0.472  0.326    0.269    0.448       1.000  0.288   0.186   \n",
       "Popx2              0.465  0.221    0.109    0.274       0.288  1.000   0.049   \n",
       "Murder             0.414  0.422    0.839    0.218       0.186  0.049   1.000   \n",
       "Murder_bi          0.486  0.416    0.425    0.323       0.279  0.194   0.647   \n",
       "AutoTheft_bi       0.377  0.195    0.177    0.260       0.434  0.235   0.134   \n",
       "AutoTheft          0.646  0.474    0.825    0.394       0.341  0.198   0.643   \n",
       "Larceny_bi         0.121  0.067    0.046    0.116       0.173  0.064   0.033   \n",
       "Larceny            0.785  0.583    0.499    0.558       0.520  0.423   0.346   \n",
       "\n",
       "              Murder_bi  AutoTheft_bi  AutoTheft  Larceny_bi  Larceny  \n",
       "Population        0.486         0.377      0.646       0.121    0.785  \n",
       "Rape2             0.416         0.195      0.474       0.067    0.583  \n",
       "Robbery           0.425         0.177      0.825       0.046    0.499  \n",
       "Rape_bi           0.323         0.260      0.394       0.116    0.558  \n",
       "Robbery_bi        0.279         0.434      0.341       0.173    0.520  \n",
       "Popx2             0.194         0.235      0.198       0.064    0.423  \n",
       "Murder            0.647         0.134      0.643       0.033    0.346  \n",
       "Murder_bi         1.000         0.198      0.422       0.052    0.471  \n",
       "AutoTheft_bi      0.198         1.000      0.310       0.235    0.363  \n",
       "AutoTheft         0.422         0.310      1.000       0.073    0.646  \n",
       "Larceny_bi        0.052         0.235      0.073       1.000    0.115  \n",
       "Larceny           0.471         0.363      0.646       0.115    1.000  "
      ]
     },
     "metadata": {},
     "output_type": "display_data"
    }
   ],
   "source": [
    "# As expected there is high correlation between the features between the features I made and the feature I created it from\n",
    "correlation_matrix = X.corr()\n",
    "display(correlation_matrix)"
   ]
  },
  {
   "cell_type": "markdown",
   "metadata": {},
   "source": [
    "## Without Popx2 and Rape_bi"
   ]
  },
  {
   "cell_type": "code",
   "execution_count": 40,
   "metadata": {},
   "outputs": [
    {
     "name": "stdout",
     "output_type": "stream",
     "text": [
      "\n",
      "Coefficients: \n",
      " [[  2.33414996e-04   4.06727752e+00   9.03424909e-01   9.47021257e-01\n",
      "   -9.17269464e+00   8.63932334e+00   1.29732746e+00   1.49373651e+00\n",
      "    1.84326985e+00   1.09347760e+00]]\n",
      "\n",
      "Intercept: \n",
      " [-0.1592819]\n",
      "\n",
      "R-squared:\n",
      "0.995673681873\n"
     ]
    }
   ],
   "source": [
    "regr = linear_model.LinearRegression()\n",
    "Y = new_fbi_data['PropCrime'].values.reshape(-1, 1)\n",
    "X = new_fbi_data[[\"Population\", \"Rape2\", \"Robbery\", 'Robbery_bi', 'Murder',\n",
    "                  'Murder_bi', 'AutoTheft_bi' , 'AutoTheft', 'Larceny_bi', 'Larceny']]\n",
    "regr.fit(X, Y)\n",
    "\n",
    "# Inspect the results.\n",
    "print('\\nCoefficients: \\n', regr.coef_)\n",
    "print('\\nIntercept: \\n', regr.intercept_)\n",
    "print('\\nR-squared:')\n",
    "print(regr.score(X, Y))"
   ]
  },
  {
   "cell_type": "code",
   "execution_count": 29,
   "metadata": {},
   "outputs": [
    {
     "data": {
      "image/png": "[encoded data removed]",
      "text/plain": [
       "<matplotlib.figure.Figure at 0x230269337f0>"
      ]
     },
     "metadata": {},
     "output_type": "display_data"
    }
   ],
   "source": [
    "new_pred = regr.predict(X).ravel()\n",
    "actual = new_fbi_data['PropCrime']\n",
    "\n",
    "new_res = actual - new_pred\n",
    "\n",
    "plt.scatter(actual, new_pred)\n",
    "plt.show()"
   ]
  },
  {
   "cell_type": "code",
   "execution_count": 30,
   "metadata": {},
   "outputs": [
    {
     "data": {
      "image/png": "[encoded data removed]",
      "text/plain": [
       "<matplotlib.figure.Figure at 0x23027c14908>"
      ]
     },
     "metadata": {},
     "output_type": "display_data"
    }
   ],
   "source": [
    "plt.hist(new_res)\n",
    "plt.title('Residual counts')\n",
    "plt.xlabel('Residual')\n",
    "plt.ylabel('Count')\n",
    "plt.show()"
   ]
  },
  {
   "cell_type": "code",
   "execution_count": 31,
   "metadata": {},
   "outputs": [
    {
     "data": {
      "image/png": "[encoded data removed]",
      "text/plain": [
       "<matplotlib.figure.Figure at 0x23027c702b0>"
      ]
     },
     "metadata": {},
     "output_type": "display_data"
    }
   ],
   "source": [
    "plt.scatter(new_pred, new_res)\n",
    "plt.xlabel('Predicted')\n",
    "plt.ylabel('Residual')\n",
    "plt.axhline(y=0)\n",
    "plt.title('Residual vs. Predicted')\n",
    "plt.show()"
   ]
  }
 ],
 "metadata": {
  "kernelspec": {
   "display_name": "Python 3",
   "language": "python",
   "name": "python3"
  },
  "language_info": {
   "codemirror_mode": {
    "name": "ipython",
    "version": 3
   },
   "file_extension": ".py",
   "mimetype": "text/x-python",
   "name": "python",
   "nbconvert_exporter": "python",
   "pygments_lexer": "ipython3",
   "version": "3.6.3"
  }
 },
 "nbformat": 4,
 "nbformat_minor": 2
}
