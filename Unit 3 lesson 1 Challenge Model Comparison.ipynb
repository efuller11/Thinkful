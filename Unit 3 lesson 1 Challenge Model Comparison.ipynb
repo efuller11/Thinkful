{
 "cells": [
  {
   "cell_type": "markdown",
   "metadata": {},
   "source": [
    "# Challenge: Model Comparison"
   ]
  },
  {
   "cell_type": "code",
   "execution_count": 47,
   "metadata": {
    "collapsed": true
   },
   "outputs": [],
   "source": [
    "import pandas as pd\n",
    "from matplotlib import pyplot as plt\n",
    "import numpy as np\n",
    "from sklearn import linear_model\n",
    "import pandas as pd\n",
    "import numpy as np\n",
    "import scipy\n",
    "import matplotlib.pyplot as plt\n",
    "from sklearn import neighbors\n",
    "from sklearn.model_selection import cross_val_score\n",
    "%matplotlib inline\n",
    "pd.options.display.float_format = '{:.3f}'.format\n",
    "from sklearn.model_selection import train_test_split\n",
    "from sklearn.neighbors import KNeighborsClassifier\n",
    "from sklearn.model_selection import GridSearchCV\n",
    "# Suppress annoying harmless error.\n",
    "import warnings\n",
    "warnings.filterwarnings(action=\"ignore\", module=\"scipy\", message=\"^internal gelsd\")\n",
    "import statsmodels.formula.api as smf"
   ]
  },
  {
   "cell_type": "code",
   "execution_count": 2,
   "metadata": {
    "collapsed": true
   },
   "outputs": [],
   "source": [
    "kickstarter_data = pd.read_csv('kickstarter_2018.csv')"
   ]
  },
  {
   "cell_type": "code",
   "execution_count": 3,
   "metadata": {},
   "outputs": [
    {
     "data": {
      "text/html": [
       "<div>\n",
       "<style>\n",
       "    .dataframe thead tr:only-child th {\n",
       "        text-align: right;\n",
       "    }\n",
       "\n",
       "    .dataframe thead th {\n",
       "        text-align: left;\n",
       "    }\n",
       "\n",
       "    .dataframe tbody tr th {\n",
       "        vertical-align: top;\n",
       "    }\n",
       "</style>\n",
       "<table border=\"1\" class=\"dataframe\">\n",
       "  <thead>\n",
       "    <tr style=\"text-align: right;\">\n",
       "      <th></th>\n",
       "      <th>ID</th>\n",
       "      <th>name</th>\n",
       "      <th>category</th>\n",
       "      <th>main_category</th>\n",
       "      <th>currency</th>\n",
       "      <th>deadline</th>\n",
       "      <th>goal</th>\n",
       "      <th>launched</th>\n",
       "      <th>pledged</th>\n",
       "      <th>state</th>\n",
       "      <th>backers</th>\n",
       "      <th>country</th>\n",
       "      <th>usd pledged</th>\n",
       "      <th>usd_pledged_real</th>\n",
       "      <th>usd_goal_real</th>\n",
       "    </tr>\n",
       "  </thead>\n",
       "  <tbody>\n",
       "    <tr>\n",
       "      <th>0</th>\n",
       "      <td>1000002330</td>\n",
       "      <td>The Songs of Adelaide &amp; Abullah</td>\n",
       "      <td>Poetry</td>\n",
       "      <td>Publishing</td>\n",
       "      <td>GBP</td>\n",
       "      <td>2015-10-09</td>\n",
       "      <td>1000.000</td>\n",
       "      <td>2015-08-11 12:12:28</td>\n",
       "      <td>0.000</td>\n",
       "      <td>failed</td>\n",
       "      <td>0</td>\n",
       "      <td>GB</td>\n",
       "      <td>0.000</td>\n",
       "      <td>0.000</td>\n",
       "      <td>1533.950</td>\n",
       "    </tr>\n",
       "    <tr>\n",
       "      <th>1</th>\n",
       "      <td>1000003930</td>\n",
       "      <td>Greeting From Earth: ZGAC Arts Capsule For ET</td>\n",
       "      <td>Narrative Film</td>\n",
       "      <td>Film &amp; Video</td>\n",
       "      <td>USD</td>\n",
       "      <td>2017-11-01</td>\n",
       "      <td>30000.000</td>\n",
       "      <td>2017-09-02 04:43:57</td>\n",
       "      <td>2421.000</td>\n",
       "      <td>failed</td>\n",
       "      <td>15</td>\n",
       "      <td>US</td>\n",
       "      <td>100.000</td>\n",
       "      <td>2421.000</td>\n",
       "      <td>30000.000</td>\n",
       "    </tr>\n",
       "    <tr>\n",
       "      <th>2</th>\n",
       "      <td>1000004038</td>\n",
       "      <td>Where is Hank?</td>\n",
       "      <td>Narrative Film</td>\n",
       "      <td>Film &amp; Video</td>\n",
       "      <td>USD</td>\n",
       "      <td>2013-02-26</td>\n",
       "      <td>45000.000</td>\n",
       "      <td>2013-01-12 00:20:50</td>\n",
       "      <td>220.000</td>\n",
       "      <td>failed</td>\n",
       "      <td>3</td>\n",
       "      <td>US</td>\n",
       "      <td>220.000</td>\n",
       "      <td>220.000</td>\n",
       "      <td>45000.000</td>\n",
       "    </tr>\n",
       "    <tr>\n",
       "      <th>3</th>\n",
       "      <td>1000007540</td>\n",
       "      <td>ToshiCapital Rekordz Needs Help to Complete Album</td>\n",
       "      <td>Music</td>\n",
       "      <td>Music</td>\n",
       "      <td>USD</td>\n",
       "      <td>2012-04-16</td>\n",
       "      <td>5000.000</td>\n",
       "      <td>2012-03-17 03:24:11</td>\n",
       "      <td>1.000</td>\n",
       "      <td>failed</td>\n",
       "      <td>1</td>\n",
       "      <td>US</td>\n",
       "      <td>1.000</td>\n",
       "      <td>1.000</td>\n",
       "      <td>5000.000</td>\n",
       "    </tr>\n",
       "    <tr>\n",
       "      <th>4</th>\n",
       "      <td>1000011046</td>\n",
       "      <td>Community Film Project: The Art of Neighborhoo...</td>\n",
       "      <td>Film &amp; Video</td>\n",
       "      <td>Film &amp; Video</td>\n",
       "      <td>USD</td>\n",
       "      <td>2015-08-29</td>\n",
       "      <td>19500.000</td>\n",
       "      <td>2015-07-04 08:35:03</td>\n",
       "      <td>1283.000</td>\n",
       "      <td>canceled</td>\n",
       "      <td>14</td>\n",
       "      <td>US</td>\n",
       "      <td>1283.000</td>\n",
       "      <td>1283.000</td>\n",
       "      <td>19500.000</td>\n",
       "    </tr>\n",
       "  </tbody>\n",
       "</table>\n",
       "</div>"
      ],
      "text/plain": [
       "           ID                                               name  \\\n",
       "0  1000002330                    The Songs of Adelaide & Abullah   \n",
       "1  1000003930      Greeting From Earth: ZGAC Arts Capsule For ET   \n",
       "2  1000004038                                     Where is Hank?   \n",
       "3  1000007540  ToshiCapital Rekordz Needs Help to Complete Album   \n",
       "4  1000011046  Community Film Project: The Art of Neighborhoo...   \n",
       "\n",
       "         category main_category currency    deadline      goal  \\\n",
       "0          Poetry    Publishing      GBP  2015-10-09  1000.000   \n",
       "1  Narrative Film  Film & Video      USD  2017-11-01 30000.000   \n",
       "2  Narrative Film  Film & Video      USD  2013-02-26 45000.000   \n",
       "3           Music         Music      USD  2012-04-16  5000.000   \n",
       "4    Film & Video  Film & Video      USD  2015-08-29 19500.000   \n",
       "\n",
       "              launched  pledged     state  backers country  usd pledged  \\\n",
       "0  2015-08-11 12:12:28    0.000    failed        0      GB        0.000   \n",
       "1  2017-09-02 04:43:57 2421.000    failed       15      US      100.000   \n",
       "2  2013-01-12 00:20:50  220.000    failed        3      US      220.000   \n",
       "3  2012-03-17 03:24:11    1.000    failed        1      US        1.000   \n",
       "4  2015-07-04 08:35:03 1283.000  canceled       14      US     1283.000   \n",
       "\n",
       "   usd_pledged_real  usd_goal_real  \n",
       "0             0.000       1533.950  \n",
       "1          2421.000      30000.000  \n",
       "2           220.000      45000.000  \n",
       "3             1.000       5000.000  \n",
       "4          1283.000      19500.000  "
      ]
     },
     "execution_count": 3,
     "metadata": {},
     "output_type": "execute_result"
    }
   ],
   "source": [
    "kickstarter_data.head()"
   ]
  },
  {
   "cell_type": "code",
   "execution_count": 4,
   "metadata": {},
   "outputs": [
    {
     "data": {
      "text/html": [
       "<div>\n",
       "<style>\n",
       "    .dataframe thead tr:only-child th {\n",
       "        text-align: right;\n",
       "    }\n",
       "\n",
       "    .dataframe thead th {\n",
       "        text-align: left;\n",
       "    }\n",
       "\n",
       "    .dataframe tbody tr th {\n",
       "        vertical-align: top;\n",
       "    }\n",
       "</style>\n",
       "<table border=\"1\" class=\"dataframe\">\n",
       "  <thead>\n",
       "    <tr style=\"text-align: right;\">\n",
       "      <th></th>\n",
       "      <th>ID</th>\n",
       "      <th>goal</th>\n",
       "      <th>pledged</th>\n",
       "      <th>backers</th>\n",
       "      <th>usd pledged</th>\n",
       "      <th>usd_pledged_real</th>\n",
       "      <th>usd_goal_real</th>\n",
       "    </tr>\n",
       "  </thead>\n",
       "  <tbody>\n",
       "    <tr>\n",
       "      <th>count</th>\n",
       "      <td>378661.000</td>\n",
       "      <td>378661.000</td>\n",
       "      <td>378661.000</td>\n",
       "      <td>378661.000</td>\n",
       "      <td>374864.000</td>\n",
       "      <td>378661.000</td>\n",
       "      <td>378661.000</td>\n",
       "    </tr>\n",
       "    <tr>\n",
       "      <th>mean</th>\n",
       "      <td>1074731191.989</td>\n",
       "      <td>49080.792</td>\n",
       "      <td>9682.979</td>\n",
       "      <td>105.617</td>\n",
       "      <td>7036.729</td>\n",
       "      <td>9058.924</td>\n",
       "      <td>45454.401</td>\n",
       "    </tr>\n",
       "    <tr>\n",
       "      <th>std</th>\n",
       "      <td>619086204.323</td>\n",
       "      <td>1183391.259</td>\n",
       "      <td>95636.010</td>\n",
       "      <td>907.185</td>\n",
       "      <td>78639.745</td>\n",
       "      <td>90973.343</td>\n",
       "      <td>1152950.055</td>\n",
       "    </tr>\n",
       "    <tr>\n",
       "      <th>min</th>\n",
       "      <td>5971.000</td>\n",
       "      <td>0.010</td>\n",
       "      <td>0.000</td>\n",
       "      <td>0.000</td>\n",
       "      <td>0.000</td>\n",
       "      <td>0.000</td>\n",
       "      <td>0.010</td>\n",
       "    </tr>\n",
       "    <tr>\n",
       "      <th>25%</th>\n",
       "      <td>538263516.000</td>\n",
       "      <td>2000.000</td>\n",
       "      <td>30.000</td>\n",
       "      <td>2.000</td>\n",
       "      <td>16.980</td>\n",
       "      <td>31.000</td>\n",
       "      <td>2000.000</td>\n",
       "    </tr>\n",
       "    <tr>\n",
       "      <th>50%</th>\n",
       "      <td>1075275634.000</td>\n",
       "      <td>5200.000</td>\n",
       "      <td>620.000</td>\n",
       "      <td>12.000</td>\n",
       "      <td>394.720</td>\n",
       "      <td>624.330</td>\n",
       "      <td>5500.000</td>\n",
       "    </tr>\n",
       "    <tr>\n",
       "      <th>75%</th>\n",
       "      <td>1610148624.000</td>\n",
       "      <td>16000.000</td>\n",
       "      <td>4076.000</td>\n",
       "      <td>56.000</td>\n",
       "      <td>3034.090</td>\n",
       "      <td>4050.000</td>\n",
       "      <td>15500.000</td>\n",
       "    </tr>\n",
       "    <tr>\n",
       "      <th>max</th>\n",
       "      <td>2147476221.000</td>\n",
       "      <td>100000000.000</td>\n",
       "      <td>20338986.270</td>\n",
       "      <td>219382.000</td>\n",
       "      <td>20338986.270</td>\n",
       "      <td>20338986.270</td>\n",
       "      <td>166361390.710</td>\n",
       "    </tr>\n",
       "  </tbody>\n",
       "</table>\n",
       "</div>"
      ],
      "text/plain": [
       "                  ID          goal      pledged    backers  usd pledged  \\\n",
       "count     378661.000    378661.000   378661.000 378661.000   374864.000   \n",
       "mean  1074731191.989     49080.792     9682.979    105.617     7036.729   \n",
       "std    619086204.323   1183391.259    95636.010    907.185    78639.745   \n",
       "min         5971.000         0.010        0.000      0.000        0.000   \n",
       "25%    538263516.000      2000.000       30.000      2.000       16.980   \n",
       "50%   1075275634.000      5200.000      620.000     12.000      394.720   \n",
       "75%   1610148624.000     16000.000     4076.000     56.000     3034.090   \n",
       "max   2147476221.000 100000000.000 20338986.270 219382.000 20338986.270   \n",
       "\n",
       "       usd_pledged_real  usd_goal_real  \n",
       "count        378661.000     378661.000  \n",
       "mean           9058.924      45454.401  \n",
       "std           90973.343    1152950.055  \n",
       "min               0.000          0.010  \n",
       "25%              31.000       2000.000  \n",
       "50%             624.330       5500.000  \n",
       "75%            4050.000      15500.000  \n",
       "max        20338986.270  166361390.710  "
      ]
     },
     "execution_count": 4,
     "metadata": {},
     "output_type": "execute_result"
    }
   ],
   "source": [
    "kickstarter_data.describe()"
   ]
  },
  {
   "cell_type": "code",
   "execution_count": 5,
   "metadata": {
    "collapsed": true
   },
   "outputs": [],
   "source": [
    "kickstarter_data['state'] = kickstarter_data['state'].apply(lambda x: 1 if x == 'successful' else 0 )"
   ]
  },
  {
   "cell_type": "code",
   "execution_count": 6,
   "metadata": {},
   "outputs": [
    {
     "data": {
      "text/html": [
       "<div>\n",
       "<style>\n",
       "    .dataframe thead tr:only-child th {\n",
       "        text-align: right;\n",
       "    }\n",
       "\n",
       "    .dataframe thead th {\n",
       "        text-align: left;\n",
       "    }\n",
       "\n",
       "    .dataframe tbody tr th {\n",
       "        vertical-align: top;\n",
       "    }\n",
       "</style>\n",
       "<table border=\"1\" class=\"dataframe\">\n",
       "  <thead>\n",
       "    <tr style=\"text-align: right;\">\n",
       "      <th></th>\n",
       "      <th>ID</th>\n",
       "      <th>goal</th>\n",
       "      <th>pledged</th>\n",
       "      <th>state</th>\n",
       "      <th>backers</th>\n",
       "      <th>usd pledged</th>\n",
       "      <th>usd_pledged_real</th>\n",
       "      <th>usd_goal_real</th>\n",
       "    </tr>\n",
       "  </thead>\n",
       "  <tbody>\n",
       "    <tr>\n",
       "      <th>count</th>\n",
       "      <td>378661.000</td>\n",
       "      <td>378661.000</td>\n",
       "      <td>378661.000</td>\n",
       "      <td>378661.000</td>\n",
       "      <td>378661.000</td>\n",
       "      <td>374864.000</td>\n",
       "      <td>378661.000</td>\n",
       "      <td>378661.000</td>\n",
       "    </tr>\n",
       "    <tr>\n",
       "      <th>mean</th>\n",
       "      <td>1074731191.989</td>\n",
       "      <td>49080.792</td>\n",
       "      <td>9682.979</td>\n",
       "      <td>0.354</td>\n",
       "      <td>105.617</td>\n",
       "      <td>7036.729</td>\n",
       "      <td>9058.924</td>\n",
       "      <td>45454.401</td>\n",
       "    </tr>\n",
       "    <tr>\n",
       "      <th>std</th>\n",
       "      <td>619086204.323</td>\n",
       "      <td>1183391.259</td>\n",
       "      <td>95636.010</td>\n",
       "      <td>0.478</td>\n",
       "      <td>907.185</td>\n",
       "      <td>78639.745</td>\n",
       "      <td>90973.343</td>\n",
       "      <td>1152950.055</td>\n",
       "    </tr>\n",
       "    <tr>\n",
       "      <th>min</th>\n",
       "      <td>5971.000</td>\n",
       "      <td>0.010</td>\n",
       "      <td>0.000</td>\n",
       "      <td>0.000</td>\n",
       "      <td>0.000</td>\n",
       "      <td>0.000</td>\n",
       "      <td>0.000</td>\n",
       "      <td>0.010</td>\n",
       "    </tr>\n",
       "    <tr>\n",
       "      <th>25%</th>\n",
       "      <td>538263516.000</td>\n",
       "      <td>2000.000</td>\n",
       "      <td>30.000</td>\n",
       "      <td>0.000</td>\n",
       "      <td>2.000</td>\n",
       "      <td>16.980</td>\n",
       "      <td>31.000</td>\n",
       "      <td>2000.000</td>\n",
       "    </tr>\n",
       "    <tr>\n",
       "      <th>50%</th>\n",
       "      <td>1075275634.000</td>\n",
       "      <td>5200.000</td>\n",
       "      <td>620.000</td>\n",
       "      <td>0.000</td>\n",
       "      <td>12.000</td>\n",
       "      <td>394.720</td>\n",
       "      <td>624.330</td>\n",
       "      <td>5500.000</td>\n",
       "    </tr>\n",
       "    <tr>\n",
       "      <th>75%</th>\n",
       "      <td>1610148624.000</td>\n",
       "      <td>16000.000</td>\n",
       "      <td>4076.000</td>\n",
       "      <td>1.000</td>\n",
       "      <td>56.000</td>\n",
       "      <td>3034.090</td>\n",
       "      <td>4050.000</td>\n",
       "      <td>15500.000</td>\n",
       "    </tr>\n",
       "    <tr>\n",
       "      <th>max</th>\n",
       "      <td>2147476221.000</td>\n",
       "      <td>100000000.000</td>\n",
       "      <td>20338986.270</td>\n",
       "      <td>1.000</td>\n",
       "      <td>219382.000</td>\n",
       "      <td>20338986.270</td>\n",
       "      <td>20338986.270</td>\n",
       "      <td>166361390.710</td>\n",
       "    </tr>\n",
       "  </tbody>\n",
       "</table>\n",
       "</div>"
      ],
      "text/plain": [
       "                  ID          goal      pledged      state    backers  \\\n",
       "count     378661.000    378661.000   378661.000 378661.000 378661.000   \n",
       "mean  1074731191.989     49080.792     9682.979      0.354    105.617   \n",
       "std    619086204.323   1183391.259    95636.010      0.478    907.185   \n",
       "min         5971.000         0.010        0.000      0.000      0.000   \n",
       "25%    538263516.000      2000.000       30.000      0.000      2.000   \n",
       "50%   1075275634.000      5200.000      620.000      0.000     12.000   \n",
       "75%   1610148624.000     16000.000     4076.000      1.000     56.000   \n",
       "max   2147476221.000 100000000.000 20338986.270      1.000 219382.000   \n",
       "\n",
       "       usd pledged  usd_pledged_real  usd_goal_real  \n",
       "count   374864.000        378661.000     378661.000  \n",
       "mean      7036.729          9058.924      45454.401  \n",
       "std      78639.745         90973.343    1152950.055  \n",
       "min          0.000             0.000          0.010  \n",
       "25%         16.980            31.000       2000.000  \n",
       "50%        394.720           624.330       5500.000  \n",
       "75%       3034.090          4050.000      15500.000  \n",
       "max   20338986.270      20338986.270  166361390.710  "
      ]
     },
     "execution_count": 6,
     "metadata": {},
     "output_type": "execute_result"
    }
   ],
   "source": [
    "kickstarter_data.describe()"
   ]
  },
  {
   "cell_type": "markdown",
   "metadata": {},
   "source": [
    "My goal is to get an estimate of what a kickstarter's pledges are based on the goal, the number of backers and whether the kickstarter was succesful."
   ]
  },
  {
   "cell_type": "markdown",
   "metadata": {},
   "source": [
    "## KNN Model"
   ]
  },
  {
   "cell_type": "code",
   "execution_count": 21,
   "metadata": {},
   "outputs": [
    {
     "data": {
      "image/png": "[encoded data removed]",
      "text/plain": [
       "<matplotlib.figure.Figure at 0x24d5b084f98>"
      ]
     },
     "metadata": {},
     "output_type": "display_data"
    }
   ],
   "source": [
    "# This graph shows that our data shows nearly double the unsuccessful kickstarter campaigns as there is successful ones. \n",
    "plt.hist(kickstarter_data['state'])\n",
    "plt.title('State Distribution');"
   ]
  },
  {
   "cell_type": "code",
   "execution_count": 37,
   "metadata": {},
   "outputs": [
    {
     "name": "stdout",
     "output_type": "stream",
     "text": [
      "Unweighted Accuracy: 0.42 (+/- 0.18)\n",
      "Weighted Accuracy: 0.41 (+/- 0.17)\n"
     ]
    }
   ],
   "source": [
    "X = kickstarter_data[[\"goal\", \"state\", 'backers']]\n",
    "y = kickstarter_data['pledged']\n",
    "knn = neighbors.KNeighborsRegressor(n_neighbors=20)\n",
    "knn.fit(X, y)\n",
    "knn_w = neighbors.KNeighborsRegressor(n_neighbors=20, weights='distance')\n",
    "knn_w.fit(X, y)\n",
    "score = cross_val_score(knn, X, y, cv=5)\n",
    "print(\"Unweighted Accuracy: %0.2f (+/- %0.2f)\" % (score.mean(), score.std() * 2))\n",
    "score_w = cross_val_score(knn_w, X, y, cv=5)\n",
    "print(\"Weighted Accuracy: %0.2f (+/- %0.2f)\" % (score_w.mean(), score_w.std() * 2))"
   ]
  },
  {
   "cell_type": "code",
   "execution_count": 38,
   "metadata": {},
   "outputs": [
    {
     "name": "stdout",
     "output_type": "stream",
     "text": [
      "Unweighted Accuracy: 0.44 (+/- 0.17)\n",
      "Weighted Accuracy: 0.43 (+/- 0.18)\n"
     ]
    }
   ],
   "source": [
    "X = kickstarter_data[[\"goal\", \"state\", 'backers']]\n",
    "y = kickstarter_data['pledged']\n",
    "knn = neighbors.KNeighborsRegressor(n_neighbors=15)\n",
    "knn.fit(X, y)\n",
    "knn_w = neighbors.KNeighborsRegressor(n_neighbors=15, weights='distance')\n",
    "knn_w.fit(X, y)\n",
    "score = cross_val_score(knn, X, y, cv=5)\n",
    "print(\"Unweighted Accuracy: %0.2f (+/- %0.2f)\" % (score.mean(), score.std() * 2))\n",
    "score_w = cross_val_score(knn_w, X, y, cv=5)\n",
    "print(\"Weighted Accuracy: %0.2f (+/- %0.2f)\" % (score_w.mean(), score_w.std() * 2))"
   ]
  },
  {
   "cell_type": "code",
   "execution_count": 33,
   "metadata": {},
   "outputs": [
    {
     "name": "stdout",
     "output_type": "stream",
     "text": [
      "Unweighted Accuracy: 0.47 (+/- 0.16)\n",
      "Weighted Accuracy: 0.44 (+/- 0.20)\n"
     ]
    }
   ],
   "source": [
    "X = kickstarter_data[[\"goal\", \"state\", 'backers']]\n",
    "y = kickstarter_data['pledged']\n",
    "knn = neighbors.KNeighborsRegressor(n_neighbors=10)\n",
    "knn.fit(X, y)\n",
    "knn_w = neighbors.KNeighborsRegressor(n_neighbors=10, weights='distance')\n",
    "knn_w.fit(X, y)\n",
    "score = cross_val_score(knn, X, y, cv=5)\n",
    "print(\"Unweighted Accuracy: %0.2f (+/- %0.2f)\" % (score.mean(), score.std() * 2))\n",
    "score_w = cross_val_score(knn_w, X, y, cv=5)\n",
    "print(\"Weighted Accuracy: %0.2f (+/- %0.2f)\" % (score_w.mean(), score_w.std() * 2))"
   ]
  },
  {
   "cell_type": "code",
   "execution_count": 35,
   "metadata": {},
   "outputs": [
    {
     "name": "stdout",
     "output_type": "stream",
     "text": [
      "Unweighted Accuracy: 0.48 (+/- 0.15)\n",
      "Weighted Accuracy: 0.44 (+/- 0.22)\n"
     ]
    }
   ],
   "source": [
    "X = kickstarter_data[[\"goal\", \"state\", 'backers']]\n",
    "y = kickstarter_data['pledged']\n",
    "knn = neighbors.KNeighborsRegressor(n_neighbors=8)\n",
    "knn.fit(X, y)\n",
    "knn_w = neighbors.KNeighborsRegressor(n_neighbors=8, weights='distance')\n",
    "knn_w.fit(X, y)\n",
    "score = cross_val_score(knn, X, y, cv=5)\n",
    "print(\"Unweighted Accuracy: %0.2f (+/- %0.2f)\" % (score.mean(), score.std() * 2))\n",
    "score_w = cross_val_score(knn_w, X, y, cv=5)\n",
    "print(\"Weighted Accuracy: %0.2f (+/- %0.2f)\" % (score_w.mean(), score_w.std() * 2))"
   ]
  },
  {
   "cell_type": "code",
   "execution_count": 36,
   "metadata": {},
   "outputs": [
    {
     "name": "stdout",
     "output_type": "stream",
     "text": [
      "Unweighted Accuracy: 0.48 (+/- 0.13)\n",
      "Weighted Accuracy: 0.43 (+/- 0.24)\n"
     ]
    }
   ],
   "source": [
    "X = kickstarter_data[[\"goal\", \"state\", 'backers']]\n",
    "y = kickstarter_data['pledged']\n",
    "knn = neighbors.KNeighborsRegressor(n_neighbors=6)\n",
    "knn.fit(X, y)\n",
    "knn_w = neighbors.KNeighborsRegressor(n_neighbors=6, weights='distance')\n",
    "knn_w.fit(X, y)\n",
    "score = cross_val_score(knn, X, y, cv=5)\n",
    "print(\"Unweighted Accuracy: %0.2f (+/- %0.2f)\" % (score.mean(), score.std() * 2))\n",
    "score_w = cross_val_score(knn_w, X, y, cv=5)\n",
    "print(\"Weighted Accuracy: %0.2f (+/- %0.2f)\" % (score_w.mean(), score_w.std() * 2))"
   ]
  },
  {
   "cell_type": "code",
   "execution_count": 34,
   "metadata": {},
   "outputs": [
    {
     "name": "stdout",
     "output_type": "stream",
     "text": [
      "Unweighted Accuracy: 0.47 (+/- 0.12)\n",
      "Weighted Accuracy: 0.41 (+/- 0.24)\n"
     ]
    }
   ],
   "source": [
    "X = kickstarter_data[[\"goal\", \"state\", 'backers']]\n",
    "y = kickstarter_data['pledged']\n",
    "knn = neighbors.KNeighborsRegressor(n_neighbors=5)\n",
    "knn.fit(X, y)\n",
    "knn_w = neighbors.KNeighborsRegressor(n_neighbors=5, weights='distance')\n",
    "knn_w.fit(X, y)\n",
    "score = cross_val_score(knn, X, y, cv=5)\n",
    "print(\"Unweighted Accuracy: %0.2f (+/- %0.2f)\" % (score.mean(), score.std() * 2))\n",
    "score_w = cross_val_score(knn_w, X, y, cv=5)\n",
    "print(\"Weighted Accuracy: %0.2f (+/- %0.2f)\" % (score_w.mean(), score_w.std() * 2))"
   ]
  },
  {
   "cell_type": "code",
   "execution_count": 39,
   "metadata": {},
   "outputs": [
    {
     "name": "stdout",
     "output_type": "stream",
     "text": [
      "Unweighted Accuracy: 0.47 (+/- 0.08)\n",
      "Weighted Accuracy: 0.40 (+/- 0.24)\n"
     ]
    }
   ],
   "source": [
    "X = kickstarter_data[[\"goal\", \"state\", 'backers']]\n",
    "y = kickstarter_data['pledged']\n",
    "knn = neighbors.KNeighborsRegressor(n_neighbors=3)\n",
    "knn.fit(X, y)\n",
    "knn_w = neighbors.KNeighborsRegressor(n_neighbors=3, weights='distance')\n",
    "knn_w.fit(X, y)\n",
    "score = cross_val_score(knn, X, y, cv=5)\n",
    "print(\"Unweighted Accuracy: %0.2f (+/- %0.2f)\" % (score.mean(), score.std() * 2))\n",
    "score_w = cross_val_score(knn_w, X, y, cv=5)\n",
    "print(\"Weighted Accuracy: %0.2f (+/- %0.2f)\" % (score_w.mean(), score_w.std() * 2))"
   ]
  },
  {
   "cell_type": "code",
   "execution_count": 40,
   "metadata": {},
   "outputs": [
    {
     "name": "stdout",
     "output_type": "stream",
     "text": [
      "Unweighted Accuracy: 0.43 (+/- 0.11)\n",
      "Weighted Accuracy: 0.35 (+/- 0.24)\n"
     ]
    }
   ],
   "source": [
    "X = kickstarter_data[[\"goal\", \"state\", 'backers']]\n",
    "y = kickstarter_data['pledged']\n",
    "knn = neighbors.KNeighborsRegressor(n_neighbors=2)\n",
    "knn.fit(X, y)\n",
    "knn_w = neighbors.KNeighborsRegressor(n_neighbors=2, weights='distance')\n",
    "knn_w.fit(X, y)\n",
    "score = cross_val_score(knn, X, y, cv=5)\n",
    "print(\"Unweighted Accuracy: %0.2f (+/- %0.2f)\" % (score.mean(), score.std() * 2))\n",
    "score_w = cross_val_score(knn_w, X, y, cv=5)\n",
    "print(\"Weighted Accuracy: %0.2f (+/- %0.2f)\" % (score_w.mean(), score_w.std() * 2))"
   ]
  },
  {
   "cell_type": "code",
   "execution_count": 41,
   "metadata": {},
   "outputs": [
    {
     "name": "stdout",
     "output_type": "stream",
     "text": [
      "Unweighted Accuracy: 0.17 (+/- 0.39)\n",
      "Weighted Accuracy: 0.17 (+/- 0.39)\n"
     ]
    }
   ],
   "source": [
    "X = kickstarter_data[[\"goal\", \"state\", 'backers']]\n",
    "y = kickstarter_data['pledged']\n",
    "knn = neighbors.KNeighborsRegressor(n_neighbors=1)\n",
    "knn.fit(X, y)\n",
    "knn_w = neighbors.KNeighborsRegressor(n_neighbors=1, weights='distance')\n",
    "knn_w.fit(X, y)\n",
    "score = cross_val_score(knn, X, y, cv=5)\n",
    "print(\"Unweighted Accuracy: %0.2f (+/- %0.2f)\" % (score.mean(), score.std() * 2))\n",
    "score_w = cross_val_score(knn_w, X, y, cv=5)\n",
    "print(\"Weighted Accuracy: %0.2f (+/- %0.2f)\" % (score_w.mean(), score_w.std() * 2))"
   ]
  },
  {
   "cell_type": "markdown",
   "metadata": {},
   "source": [
    "Based on the results shown unweighted with 6 Ks had the best results of 48% accuracy"
   ]
  },
  {
   "cell_type": "markdown",
   "metadata": {},
   "source": [
    "Linear Regression"
   ]
  },
  {
   "cell_type": "code",
   "execution_count": 43,
   "metadata": {},
   "outputs": [
    {
     "name": "stdout",
     "output_type": "stream",
     "text": [
      "\n",
      "Coefficients: \n",
      " [  4.01099179e-04   3.88025040e+03   7.53288247e+01]\n",
      "\n",
      "Intercept: \n",
      " 334.566306772\n",
      "\n",
      "R-squared:\n",
      "0.514592910975\n"
     ]
    }
   ],
   "source": [
    "regr = linear_model.LinearRegression()\n",
    "regr.fit(X, y)\n",
    "\n",
    "# Inspect the results.\n",
    "print('\\nCoefficients: \\n', regr.coef_)\n",
    "print('\\nIntercept: \\n', regr.intercept_)\n",
    "print('\\nR-squared:')\n",
    "print(regr.score(X, y))"
   ]
  },
  {
   "cell_type": "code",
   "execution_count": 48,
   "metadata": {},
   "outputs": [
    {
     "data": {
      "text/html": [
       "<table class=\"simpletable\">\n",
       "<caption>OLS Regression Results</caption>\n",
       "<tr>\n",
       "  <th>Dep. Variable:</th>    <td>kickstarter_data.pledged</td> <th>  R-squared:         </th>  <td>   0.515</td>  \n",
       "</tr>\n",
       "<tr>\n",
       "  <th>Model:</th>                       <td>OLS</td>           <th>  Adj. R-squared:    </th>  <td>   0.515</td>  \n",
       "</tr>\n",
       "<tr>\n",
       "  <th>Method:</th>                 <td>Least Squares</td>      <th>  F-statistic:       </th>  <td>1.338e+05</td> \n",
       "</tr>\n",
       "<tr>\n",
       "  <th>Date:</th>                 <td>Mon, 04 Jun 2018</td>     <th>  Prob (F-statistic):</th>   <td>  0.00</td>   \n",
       "</tr>\n",
       "<tr>\n",
       "  <th>Time:</th>                     <td>16:38:35</td>         <th>  Log-Likelihood:    </th> <td>-4.7431e+06</td>\n",
       "</tr>\n",
       "<tr>\n",
       "  <th>No. Observations:</th>          <td>378661</td>          <th>  AIC:               </th>  <td>9.486e+06</td> \n",
       "</tr>\n",
       "<tr>\n",
       "  <th>Df Residuals:</th>              <td>378657</td>          <th>  BIC:               </th>  <td>9.486e+06</td> \n",
       "</tr>\n",
       "<tr>\n",
       "  <th>Df Model:</th>                  <td>     3</td>          <th>                     </th>      <td> </td>     \n",
       "</tr>\n",
       "<tr>\n",
       "  <th>Covariance Type:</th>          <td>nonrobust</td>        <th>                     </th>      <td> </td>     \n",
       "</tr>\n",
       "</table>\n",
       "<table class=\"simpletable\">\n",
       "<tr>\n",
       "      <td></td>         <th>coef</th>     <th>std err</th>      <th>t</th>      <th>P>|t|</th>  <th>[0.025</th>    <th>0.975]</th>  \n",
       "</tr>\n",
       "<tr>\n",
       "  <th>Intercept</th> <td>  334.5663</td> <td>  134.869</td> <td>    2.481</td> <td> 0.013</td> <td>   70.228</td> <td>  598.905</td>\n",
       "</tr>\n",
       "<tr>\n",
       "  <th>goal</th>      <td>    0.0004</td> <td> 9.15e-05</td> <td>    4.382</td> <td> 0.000</td> <td>    0.000</td> <td>    0.001</td>\n",
       "</tr>\n",
       "<tr>\n",
       "  <th>state</th>     <td> 3880.2504</td> <td>  228.447</td> <td>   16.985</td> <td> 0.000</td> <td> 3432.501</td> <td> 4328.000</td>\n",
       "</tr>\n",
       "<tr>\n",
       "  <th>backers</th>   <td>   75.3288</td> <td>    0.120</td> <td>  625.812</td> <td> 0.000</td> <td>   75.093</td> <td>   75.565</td>\n",
       "</tr>\n",
       "</table>\n",
       "<table class=\"simpletable\">\n",
       "<tr>\n",
       "  <th>Omnibus:</th>       <td>1320684.513</td> <th>  Durbin-Watson:     </th>     <td>   2.000</td>     \n",
       "</tr>\n",
       "<tr>\n",
       "  <th>Prob(Omnibus):</th>   <td> 0.000</td>    <th>  Jarque-Bera (JB):  </th> <td>2116617159425.559</td>\n",
       "</tr>\n",
       "<tr>\n",
       "  <th>Skew:</th>            <td>66.606</td>    <th>  Prob(JB):          </th>     <td>    0.00</td>     \n",
       "</tr>\n",
       "<tr>\n",
       "  <th>Kurtosis:</th>       <td>11584.712</td>  <th>  Cond. No.          </th>     <td>2.68e+06</td>     \n",
       "</tr>\n",
       "</table>"
      ],
      "text/plain": [
       "<class 'statsmodels.iolib.summary.Summary'>\n",
       "\"\"\"\n",
       "                               OLS Regression Results                               \n",
       "====================================================================================\n",
       "Dep. Variable:     kickstarter_data.pledged   R-squared:                       0.515\n",
       "Model:                                  OLS   Adj. R-squared:                  0.515\n",
       "Method:                       Least Squares   F-statistic:                 1.338e+05\n",
       "Date:                      Mon, 04 Jun 2018   Prob (F-statistic):               0.00\n",
       "Time:                              16:38:35   Log-Likelihood:            -4.7431e+06\n",
       "No. Observations:                    378661   AIC:                         9.486e+06\n",
       "Df Residuals:                        378657   BIC:                         9.486e+06\n",
       "Df Model:                                 3                                         \n",
       "Covariance Type:                  nonrobust                                         \n",
       "==============================================================================\n",
       "                 coef    std err          t      P>|t|      [0.025      0.975]\n",
       "------------------------------------------------------------------------------\n",
       "Intercept    334.5663    134.869      2.481      0.013      70.228     598.905\n",
       "goal           0.0004   9.15e-05      4.382      0.000       0.000       0.001\n",
       "state       3880.2504    228.447     16.985      0.000    3432.501    4328.000\n",
       "backers       75.3288      0.120    625.812      0.000      75.093      75.565\n",
       "==============================================================================\n",
       "Omnibus:                  1320684.513   Durbin-Watson:                   2.000\n",
       "Prob(Omnibus):                  0.000   Jarque-Bera (JB):    2116617159425.559\n",
       "Skew:                          66.606   Prob(JB):                         0.00\n",
       "Kurtosis:                   11584.712   Cond. No.                     2.68e+06\n",
       "==============================================================================\n",
       "\n",
       "Warnings:\n",
       "[1] Standard Errors assume that the covariance matrix of the errors is correctly specified.\n",
       "[2] The condition number is large, 2.68e+06. This might indicate that there are\n",
       "strong multicollinearity or other numerical problems.\n",
       "\"\"\""
      ]
     },
     "execution_count": 48,
     "metadata": {},
     "output_type": "execute_result"
    }
   ],
   "source": [
    "linear_formula = 'kickstarter_data.pledged ~ goal + state + backers'\n",
    "lm = smf.ols(formula= linear_formula, data=kickstarter_data).fit()\n",
    "lm.summary()"
   ]
  },
  {
   "cell_type": "code",
   "execution_count": 49,
   "metadata": {},
   "outputs": [
    {
     "name": "stdout",
     "output_type": "stream",
     "text": [
      "Unweighted Accuracy: 0.52 (+/- 0.13)\n"
     ]
    }
   ],
   "source": [
    "score = cross_val_score(regr, X, y, cv=10)\n",
    "print(\"Unweighted Accuracy: %0.2f (+/- %0.2f)\" % (score.mean(), score.std() * 2))"
   ]
  },
  {
   "cell_type": "markdown",
   "metadata": {},
   "source": [
    "This model shows .515 rsquared compared with a 52% accuracy versus Knn which had its best accuracy at 48%"
   ]
  }
 ],
 "metadata": {
  "kernelspec": {
   "display_name": "Python 3",
   "language": "python",
   "name": "python3"
  },
  "language_info": {
   "codemirror_mode": {
    "name": "ipython",
    "version": 3
   },
   "file_extension": ".py",
   "mimetype": "text/x-python",
   "name": "python",
   "nbconvert_exporter": "python",
   "pygments_lexer": "ipython3",
   "version": "3.6.3"
  }
 },
 "nbformat": 4,
 "nbformat_minor": 2
}
