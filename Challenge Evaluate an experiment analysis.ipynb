{
 "cells": [
  {
   "cell_type": "markdown",
   "metadata": {},
   "source": [
    "1.The Sith Lords are concerned that their recruiting slogan, \"Give In to Your Anger,\" isn't very effective. Darth Vader develops an alternative slogan, \"Together We Can Rule the Galaxy.\" They compare the slogans on two groups of 50 captured droids each. In one group, Emperor Palpatine delivers the \"Anger\" slogan. In the other, Darth Vader presents the \"Together\" slogan. 20 droids convert to the Dark Side after hearing Palpatine's slogan, while only 5 droids convert after hearing Vader's. The Sith's data scientist concludes that \"Anger\" is a more effective slogan and should continue to be used."
   ]
  },
  {
   "cell_type": "markdown",
   "metadata": {},
   "source": [
    "    A: While I perfer Vader's slogan Palapatine is a pretty scary guy (shooting lighting from your hands can be very intimidating) and he has communication and leadership skills I imagine Vader does not, plus Palpatine is stronger. These droids might have converted more because Palapatine is more feared than Vader. Another possibility, is when Vader giving his slogan, many might not find him to be very believable, since he is a mass murderer and all. I would have similar representatives giving the two slogans to find out which is more effective."
   ]
  },
  {
   "cell_type": "markdown",
   "metadata": {},
   "source": [
    "2.In the past, the Jedi have had difficulty with public relations. They send two envoys, Jar Jar Binks and Mace Windu, to four friendly and four unfriendly planets respectively, with the goal of promoting favorable feelings toward the Jedi. Upon their return, the envoys learn that Jar Jar was much more effective than Windu: Over 75% of the people surveyed said their attitudes had become more favorable after speaking with Jar Jar, while only 65% said their attitudes had become more favorable after speaking with Windu. This makes Windu angry, because he is sure that he had a better success rate than Jar Jar on every planet. The Jedi choose Jar Jar to be their representative in the future."
   ]
  },
  {
   "cell_type": "markdown",
   "metadata": {},
   "source": [
    "    A: There could be a lot of factors that might skewed the results in Jar Jar's favor. One could be race, Jar Jar and Windu are not the same race and those planets might have had more experience or been more comfortable with whatever Jar Jar's race is. There could have also been an problem with the survey such as only getting results from certain democraphics or education levels. The survey team might unintentionally or intentionally have had influence on the results by showing bias towards Jar Jar or the opposite, being negative towards Windu. I would tried to ensure there is not bias towards Jar jar or Windu during the surveys and make sure the surveys are being randomly given out to have a good represensation of all citizens on the planet."
   ]
  },
  {
   "cell_type": "markdown",
   "metadata": {},
   "source": [
    "3.A company with work sites in five different countries has sent you data on employee satisfaction rates for workers in Human Resources and workers in Information Technology. Most HR workers are concentrated in three of the countries, while IT workers are equally distributed across worksites. The company requests a report on satisfaction for each job type. You calculate average job satisfaction for HR and for IT and present the report."
   ]
  },
  {
   "cell_type": "markdown",
   "metadata": {},
   "source": [
    "    A: The unequal responses from HR department could easily skew the results given. Two of the countries results will have a little impact on what the average results show for HR. The survey needs to have equal data from all five countries for HR department."
   ]
  },
  {
   "cell_type": "markdown",
   "metadata": {},
   "source": [
    "4.When people install the Happy Days Fitness Tracker app, they are asked to \"opt in\" to a data collection scheme where their level of physical activity data is automatically sent to the company for product research purposes. During your interview with the company, they tell you that the app is very effective because after installing the app, the data show that people's activity levels rise steadily."
   ]
  },
  {
   "cell_type": "markdown",
   "metadata": {},
   "source": [
    "    A: First off, this is a product for fitness tracking, I imagine a lot of people might be downloading an app like this one to start off their new routine, with that said it may have nothing to do with the app or any competitor app could have had similar results. It is quite common for people to start working out for a couple of weeks or months and then stop. To believe this number, I would want to see long-term data provided, such as customers that keep using the product after 3-6 months and how they have gotten better over that time. "
   ]
  },
  {
   "cell_type": "markdown",
   "metadata": {},
   "source": [
    "5.To prevent cheating, a teacher writes three versions of a test. She stacks the three versions together, first all copies of Version A, then all copies of Version B, then all copies of Version C. As students arrive for the exam, each student takes a test. When grading the test, the teacher finds that students who took Version B scored higher than students who took either Version A or Version C. She concludes from this that Version B is easier, and discards it."
   ]
  },
  {
   "cell_type": "markdown",
   "metadata": {},
   "source": [
    "    A: It is quite possible the randomness of handing out the tests were not as random as the teacher thought, the B tests might have accidently been given to the better students overall. Due to the small sample size just a few \"good\" students getting test B might skew the result in its favor. There is also the possibility that some of the answers for test B could have been reveiled by writting on the chalk board or from informational posters on the walls or door. The only way I can think of to be sure that the tests were equal in difficulty is if, either the students same were give all three tests or each test had the same questions but were ordered differently. Other than those ideas, I would want a larger sample size before making any rash decisions."
   ]
  }
 ],
 "metadata": {
  "kernelspec": {
   "display_name": "Python 3",
   "language": "python",
   "name": "python3"
  },
  "language_info": {
   "codemirror_mode": {
    "name": "ipython",
    "version": 3
   },
   "file_extension": ".py",
   "mimetype": "text/x-python",
   "name": "python",
   "nbconvert_exporter": "python",
   "pygments_lexer": "ipython3",
   "version": "3.6.3"
  }
 },
 "nbformat": 4,
 "nbformat_minor": 2
}
