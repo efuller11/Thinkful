{
 "cells": [
  {
   "cell_type": "markdown",
   "metadata": {},
   "source": [
    "# Unit 2 Lesson 5 Challenge: Validating a linear regression"
   ]
  },
  {
   "cell_type": "code",
   "execution_count": 1,
   "metadata": {
    "collapsed": true
   },
   "outputs": [],
   "source": [
    "import matplotlib.pyplot as plt\n",
    "import numpy as np\n",
    "import pandas as pd\n",
    "import scipy\n",
    "import sklearn\n",
    "import matplotlib.pyplot as plt\n",
    "import seaborn as sns\n",
    "from sklearn import linear_model\n",
    "%matplotlib inline\n",
    "pd.options.display.float_format = '{:.3f}'.format\n",
    "from sklearn import preprocessing\n",
    "import math\n",
    "import statsmodels.formula.api as smf\n",
    "import scipy.stats as stats\n",
    "from statsmodels.sandbox.regression.predstd import wls_prediction_std\n",
    "from sklearn.naive_bayes import BernoulliNB\n",
    "from sklearn.model_selection import cross_val_score\n",
    "from sklearn.model_selection import train_test_split\n",
    "from sklearn import metrics\n",
    "from sklearn.ensemble import RandomForestClassifier, RandomForestRegressor, ExtraTreesRegressor, GradientBoostingRegressor\n",
    "from sklearn.metrics import accuracy_score"
   ]
  },
  {
   "cell_type": "code",
   "execution_count": 2,
   "metadata": {
    "collapsed": true
   },
   "outputs": [],
   "source": [
    "fbi_data = pd.read_csv('GAcrime2013.csv')"
   ]
  },
  {
   "cell_type": "markdown",
   "metadata": {},
   "source": [
    "### Exploring the data"
   ]
  },
  {
   "cell_type": "code",
   "execution_count": 3,
   "metadata": {},
   "outputs": [
    {
     "data": {
      "text/html": [
       "<div>\n",
       "<style>\n",
       "    .dataframe thead tr:only-child th {\n",
       "        text-align: right;\n",
       "    }\n",
       "\n",
       "    .dataframe thead th {\n",
       "        text-align: left;\n",
       "    }\n",
       "\n",
       "    .dataframe tbody tr th {\n",
       "        vertical-align: top;\n",
       "    }\n",
       "</style>\n",
       "<table border=\"1\" class=\"dataframe\">\n",
       "  <thead>\n",
       "    <tr style=\"text-align: right;\">\n",
       "      <th></th>\n",
       "      <th>City</th>\n",
       "      <th>Population</th>\n",
       "      <th>Violent\n",
       "crime</th>\n",
       "      <th>Murder and\n",
       "nonnegligent\n",
       "manslaughter</th>\n",
       "      <th>Rape\n",
       "(revised\n",
       "definition)1</th>\n",
       "      <th>Rape\n",
       "(legacy\n",
       "definition)2</th>\n",
       "      <th>Robbery</th>\n",
       "      <th>Aggravated\n",
       "assault</th>\n",
       "      <th>Property\n",
       "crime</th>\n",
       "      <th>Burglary</th>\n",
       "      <th>Larceny-\n",
       "theft</th>\n",
       "      <th>Motor\n",
       "vehicle\n",
       "theft</th>\n",
       "      <th>Arson3</th>\n",
       "    </tr>\n",
       "  </thead>\n",
       "  <tbody>\n",
       "    <tr>\n",
       "      <th>0</th>\n",
       "      <td>Abbeville</td>\n",
       "      <td>2,888</td>\n",
       "      <td>3</td>\n",
       "      <td>0</td>\n",
       "      <td>nan</td>\n",
       "      <td>0</td>\n",
       "      <td>2</td>\n",
       "      <td>1</td>\n",
       "      <td>22</td>\n",
       "      <td>3</td>\n",
       "      <td>16</td>\n",
       "      <td>3</td>\n",
       "      <td>0.000</td>\n",
       "    </tr>\n",
       "    <tr>\n",
       "      <th>1</th>\n",
       "      <td>Adairsville</td>\n",
       "      <td>4,686</td>\n",
       "      <td>13</td>\n",
       "      <td>0</td>\n",
       "      <td>nan</td>\n",
       "      <td>0</td>\n",
       "      <td>1</td>\n",
       "      <td>12</td>\n",
       "      <td>52</td>\n",
       "      <td>15</td>\n",
       "      <td>31</td>\n",
       "      <td>6</td>\n",
       "      <td>0.000</td>\n",
       "    </tr>\n",
       "    <tr>\n",
       "      <th>2</th>\n",
       "      <td>Adel</td>\n",
       "      <td>5,240</td>\n",
       "      <td>18</td>\n",
       "      <td>0</td>\n",
       "      <td>nan</td>\n",
       "      <td>5</td>\n",
       "      <td>5</td>\n",
       "      <td>8</td>\n",
       "      <td>189</td>\n",
       "      <td>64</td>\n",
       "      <td>121</td>\n",
       "      <td>4</td>\n",
       "      <td>0.000</td>\n",
       "    </tr>\n",
       "    <tr>\n",
       "      <th>3</th>\n",
       "      <td>Adrian</td>\n",
       "      <td>656</td>\n",
       "      <td>0</td>\n",
       "      <td>0</td>\n",
       "      <td>nan</td>\n",
       "      <td>0</td>\n",
       "      <td>0</td>\n",
       "      <td>0</td>\n",
       "      <td>2</td>\n",
       "      <td>0</td>\n",
       "      <td>2</td>\n",
       "      <td>0</td>\n",
       "      <td>0.000</td>\n",
       "    </tr>\n",
       "    <tr>\n",
       "      <th>4</th>\n",
       "      <td>Alapaha</td>\n",
       "      <td>646</td>\n",
       "      <td>5</td>\n",
       "      <td>0</td>\n",
       "      <td>nan</td>\n",
       "      <td>0</td>\n",
       "      <td>1</td>\n",
       "      <td>4</td>\n",
       "      <td>6</td>\n",
       "      <td>0</td>\n",
       "      <td>6</td>\n",
       "      <td>0</td>\n",
       "      <td>0.000</td>\n",
       "    </tr>\n",
       "  </tbody>\n",
       "</table>\n",
       "</div>"
      ],
      "text/plain": [
       "          City Population Violent\\ncrime  \\\n",
       "0    Abbeville      2,888              3   \n",
       "1  Adairsville      4,686             13   \n",
       "2         Adel      5,240             18   \n",
       "3       Adrian        656              0   \n",
       "4      Alapaha        646              5   \n",
       "\n",
       "   Murder and\\nnonnegligent\\nmanslaughter  Rape\\n(revised\\ndefinition)1  \\\n",
       "0                                       0                           nan   \n",
       "1                                       0                           nan   \n",
       "2                                       0                           nan   \n",
       "3                                       0                           nan   \n",
       "4                                       0                           nan   \n",
       "\n",
       "   Rape\\n(legacy\\ndefinition)2 Robbery Aggravated\\nassault Property\\ncrime  \\\n",
       "0                            0       2                   1              22   \n",
       "1                            0       1                  12              52   \n",
       "2                            5       5                   8             189   \n",
       "3                            0       0                   0               2   \n",
       "4                            0       1                   4               6   \n",
       "\n",
       "  Burglary Larceny-\\ntheft Motor\\nvehicle\\ntheft  Arson3  \n",
       "0        3              16                     3   0.000  \n",
       "1       15              31                     6   0.000  \n",
       "2       64             121                     4   0.000  \n",
       "3        0               2                     0   0.000  \n",
       "4        0               6                     0   0.000  "
      ]
     },
     "execution_count": 3,
     "metadata": {},
     "output_type": "execute_result"
    }
   ],
   "source": [
    "fbi_data.head()"
   ]
  },
  {
   "cell_type": "code",
   "execution_count": 4,
   "metadata": {},
   "outputs": [
    {
     "data": {
      "text/html": [
       "<div>\n",
       "<style>\n",
       "    .dataframe thead tr:only-child th {\n",
       "        text-align: right;\n",
       "    }\n",
       "\n",
       "    .dataframe thead th {\n",
       "        text-align: left;\n",
       "    }\n",
       "\n",
       "    .dataframe tbody tr th {\n",
       "        vertical-align: top;\n",
       "    }\n",
       "</style>\n",
       "<table border=\"1\" class=\"dataframe\">\n",
       "  <thead>\n",
       "    <tr style=\"text-align: right;\">\n",
       "      <th></th>\n",
       "      <th>Murder and\n",
       "nonnegligent\n",
       "manslaughter</th>\n",
       "      <th>Rape\n",
       "(revised\n",
       "definition)1</th>\n",
       "      <th>Rape\n",
       "(legacy\n",
       "definition)2</th>\n",
       "      <th>Arson3</th>\n",
       "    </tr>\n",
       "  </thead>\n",
       "  <tbody>\n",
       "    <tr>\n",
       "      <th>count</th>\n",
       "      <td>253.000</td>\n",
       "      <td>0.000</td>\n",
       "      <td>253.000</td>\n",
       "      <td>176.000</td>\n",
       "    </tr>\n",
       "    <tr>\n",
       "      <th>mean</th>\n",
       "      <td>1.115</td>\n",
       "      <td>nan</td>\n",
       "      <td>3.146</td>\n",
       "      <td>2.125</td>\n",
       "    </tr>\n",
       "    <tr>\n",
       "      <th>std</th>\n",
       "      <td>5.960</td>\n",
       "      <td>nan</td>\n",
       "      <td>9.060</td>\n",
       "      <td>7.627</td>\n",
       "    </tr>\n",
       "    <tr>\n",
       "      <th>min</th>\n",
       "      <td>0.000</td>\n",
       "      <td>nan</td>\n",
       "      <td>0.000</td>\n",
       "      <td>0.000</td>\n",
       "    </tr>\n",
       "    <tr>\n",
       "      <th>25%</th>\n",
       "      <td>0.000</td>\n",
       "      <td>nan</td>\n",
       "      <td>0.000</td>\n",
       "      <td>0.000</td>\n",
       "    </tr>\n",
       "    <tr>\n",
       "      <th>50%</th>\n",
       "      <td>0.000</td>\n",
       "      <td>nan</td>\n",
       "      <td>0.000</td>\n",
       "      <td>0.000</td>\n",
       "    </tr>\n",
       "    <tr>\n",
       "      <th>75%</th>\n",
       "      <td>0.000</td>\n",
       "      <td>nan</td>\n",
       "      <td>2.000</td>\n",
       "      <td>1.000</td>\n",
       "    </tr>\n",
       "    <tr>\n",
       "      <th>max</th>\n",
       "      <td>84.000</td>\n",
       "      <td>nan</td>\n",
       "      <td>105.000</td>\n",
       "      <td>71.000</td>\n",
       "    </tr>\n",
       "  </tbody>\n",
       "</table>\n",
       "</div>"
      ],
      "text/plain": [
       "       Murder and\\nnonnegligent\\nmanslaughter  Rape\\n(revised\\ndefinition)1  \\\n",
       "count                                 253.000                         0.000   \n",
       "mean                                    1.115                           nan   \n",
       "std                                     5.960                           nan   \n",
       "min                                     0.000                           nan   \n",
       "25%                                     0.000                           nan   \n",
       "50%                                     0.000                           nan   \n",
       "75%                                     0.000                           nan   \n",
       "max                                    84.000                           nan   \n",
       "\n",
       "       Rape\\n(legacy\\ndefinition)2  Arson3  \n",
       "count                      253.000 176.000  \n",
       "mean                         3.146   2.125  \n",
       "std                          9.060   7.627  \n",
       "min                          0.000   0.000  \n",
       "25%                          0.000   0.000  \n",
       "50%                          0.000   0.000  \n",
       "75%                          2.000   1.000  \n",
       "max                        105.000  71.000  "
      ]
     },
     "execution_count": 4,
     "metadata": {},
     "output_type": "execute_result"
    }
   ],
   "source": [
    "fbi_data.describe()"
   ]
  },
  {
   "cell_type": "markdown",
   "metadata": {},
   "source": [
    "### Data Cleaning"
   ]
  },
  {
   "cell_type": "code",
   "execution_count": 5,
   "metadata": {
    "collapsed": true
   },
   "outputs": [],
   "source": [
    "fbi_data = fbi_data.drop(['Rape\\n(revised\\ndefinition)1'], axis =1)"
   ]
  },
  {
   "cell_type": "code",
   "execution_count": 6,
   "metadata": {
    "collapsed": true
   },
   "outputs": [],
   "source": [
    "fbi_data.columns = ['City', 'Population', 'ViolentCrime', 'Murder', 'Rape2', 'Robbery', 'AggAssault', 'PropCrime', 'Burglary', 'Larceny', 'AutoTheft', 'Arson']"
   ]
  },
  {
   "cell_type": "code",
   "execution_count": 7,
   "metadata": {
    "collapsed": true
   },
   "outputs": [],
   "source": [
    "fbi_data = fbi_data.fillna(0)"
   ]
  },
  {
   "cell_type": "code",
   "execution_count": 8,
   "metadata": {},
   "outputs": [
    {
     "data": {
      "text/html": [
       "<div>\n",
       "<style>\n",
       "    .dataframe thead tr:only-child th {\n",
       "        text-align: right;\n",
       "    }\n",
       "\n",
       "    .dataframe thead th {\n",
       "        text-align: left;\n",
       "    }\n",
       "\n",
       "    .dataframe tbody tr th {\n",
       "        vertical-align: top;\n",
       "    }\n",
       "</style>\n",
       "<table border=\"1\" class=\"dataframe\">\n",
       "  <thead>\n",
       "    <tr style=\"text-align: right;\">\n",
       "      <th></th>\n",
       "      <th>City</th>\n",
       "      <th>Population</th>\n",
       "      <th>ViolentCrime</th>\n",
       "      <th>Murder</th>\n",
       "      <th>Rape2</th>\n",
       "      <th>Robbery</th>\n",
       "      <th>AggAssault</th>\n",
       "      <th>PropCrime</th>\n",
       "      <th>Burglary</th>\n",
       "      <th>Larceny</th>\n",
       "      <th>AutoTheft</th>\n",
       "      <th>Arson</th>\n",
       "    </tr>\n",
       "  </thead>\n",
       "  <tbody>\n",
       "    <tr>\n",
       "      <th>243</th>\n",
       "      <td>Waverly Hall</td>\n",
       "      <td>737</td>\n",
       "      <td>0</td>\n",
       "      <td>0</td>\n",
       "      <td>0</td>\n",
       "      <td>0</td>\n",
       "      <td>0</td>\n",
       "      <td>8</td>\n",
       "      <td>3</td>\n",
       "      <td>4</td>\n",
       "      <td>1</td>\n",
       "      <td>0.000</td>\n",
       "    </tr>\n",
       "    <tr>\n",
       "      <th>244</th>\n",
       "      <td>Waycross</td>\n",
       "      <td>14,206</td>\n",
       "      <td>64</td>\n",
       "      <td>1</td>\n",
       "      <td>1</td>\n",
       "      <td>27</td>\n",
       "      <td>35</td>\n",
       "      <td>946</td>\n",
       "      <td>114</td>\n",
       "      <td>817</td>\n",
       "      <td>15</td>\n",
       "      <td>6.000</td>\n",
       "    </tr>\n",
       "    <tr>\n",
       "      <th>245</th>\n",
       "      <td>Waynesboro</td>\n",
       "      <td>5,793</td>\n",
       "      <td>32</td>\n",
       "      <td>0</td>\n",
       "      <td>2</td>\n",
       "      <td>7</td>\n",
       "      <td>23</td>\n",
       "      <td>134</td>\n",
       "      <td>32</td>\n",
       "      <td>90</td>\n",
       "      <td>12</td>\n",
       "      <td>0.000</td>\n",
       "    </tr>\n",
       "    <tr>\n",
       "      <th>246</th>\n",
       "      <td>West Point</td>\n",
       "      <td>3,539</td>\n",
       "      <td>21</td>\n",
       "      <td>0</td>\n",
       "      <td>0</td>\n",
       "      <td>9</td>\n",
       "      <td>12</td>\n",
       "      <td>138</td>\n",
       "      <td>35</td>\n",
       "      <td>95</td>\n",
       "      <td>8</td>\n",
       "      <td>0.000</td>\n",
       "    </tr>\n",
       "    <tr>\n",
       "      <th>247</th>\n",
       "      <td>Willacoochee</td>\n",
       "      <td>1,366</td>\n",
       "      <td>4</td>\n",
       "      <td>0</td>\n",
       "      <td>0</td>\n",
       "      <td>1</td>\n",
       "      <td>3</td>\n",
       "      <td>37</td>\n",
       "      <td>14</td>\n",
       "      <td>23</td>\n",
       "      <td>0</td>\n",
       "      <td>0.000</td>\n",
       "    </tr>\n",
       "    <tr>\n",
       "      <th>248</th>\n",
       "      <td>Winder</td>\n",
       "      <td>14,291</td>\n",
       "      <td>59</td>\n",
       "      <td>0</td>\n",
       "      <td>6</td>\n",
       "      <td>11</td>\n",
       "      <td>42</td>\n",
       "      <td>639</td>\n",
       "      <td>111</td>\n",
       "      <td>489</td>\n",
       "      <td>39</td>\n",
       "      <td>0.000</td>\n",
       "    </tr>\n",
       "    <tr>\n",
       "      <th>249</th>\n",
       "      <td>Winterville</td>\n",
       "      <td>1,137</td>\n",
       "      <td>0</td>\n",
       "      <td>0</td>\n",
       "      <td>0</td>\n",
       "      <td>0</td>\n",
       "      <td>0</td>\n",
       "      <td>11</td>\n",
       "      <td>4</td>\n",
       "      <td>7</td>\n",
       "      <td>0</td>\n",
       "      <td>0.000</td>\n",
       "    </tr>\n",
       "    <tr>\n",
       "      <th>250</th>\n",
       "      <td>Woodbury</td>\n",
       "      <td>911</td>\n",
       "      <td>2</td>\n",
       "      <td>0</td>\n",
       "      <td>0</td>\n",
       "      <td>0</td>\n",
       "      <td>2</td>\n",
       "      <td>23</td>\n",
       "      <td>4</td>\n",
       "      <td>18</td>\n",
       "      <td>1</td>\n",
       "      <td>0.000</td>\n",
       "    </tr>\n",
       "    <tr>\n",
       "      <th>251</th>\n",
       "      <td>Woodstock</td>\n",
       "      <td>25,515</td>\n",
       "      <td>20</td>\n",
       "      <td>0</td>\n",
       "      <td>3</td>\n",
       "      <td>6</td>\n",
       "      <td>11</td>\n",
       "      <td>594</td>\n",
       "      <td>47</td>\n",
       "      <td>534</td>\n",
       "      <td>13</td>\n",
       "      <td>0.000</td>\n",
       "    </tr>\n",
       "    <tr>\n",
       "      <th>252</th>\n",
       "      <td>Wrens</td>\n",
       "      <td>2096</td>\n",
       "      <td>10</td>\n",
       "      <td>0</td>\n",
       "      <td>2</td>\n",
       "      <td>1</td>\n",
       "      <td>7</td>\n",
       "      <td>79</td>\n",
       "      <td>8</td>\n",
       "      <td>71</td>\n",
       "      <td>0</td>\n",
       "      <td>0.000</td>\n",
       "    </tr>\n",
       "  </tbody>\n",
       "</table>\n",
       "</div>"
      ],
      "text/plain": [
       "             City Population ViolentCrime  Murder  Rape2 Robbery AggAssault  \\\n",
       "243  Waverly Hall        737            0       0      0       0          0   \n",
       "244      Waycross     14,206           64       1      1      27         35   \n",
       "245    Waynesboro      5,793           32       0      2       7         23   \n",
       "246    West Point      3,539           21       0      0       9         12   \n",
       "247  Willacoochee      1,366            4       0      0       1          3   \n",
       "248        Winder     14,291           59       0      6      11         42   \n",
       "249   Winterville      1,137            0       0      0       0          0   \n",
       "250      Woodbury        911            2       0      0       0          2   \n",
       "251     Woodstock     25,515           20       0      3       6         11   \n",
       "252         Wrens       2096           10       0      2       1          7   \n",
       "\n",
       "    PropCrime Burglary Larceny AutoTheft  Arson  \n",
       "243         8        3       4         1  0.000  \n",
       "244       946      114     817        15  6.000  \n",
       "245       134       32      90        12  0.000  \n",
       "246       138       35      95         8  0.000  \n",
       "247        37       14      23         0  0.000  \n",
       "248       639      111     489        39  0.000  \n",
       "249        11        4       7         0  0.000  \n",
       "250        23        4      18         1  0.000  \n",
       "251       594       47     534        13  0.000  \n",
       "252        79        8      71         0  0.000  "
      ]
     },
     "execution_count": 8,
     "metadata": {},
     "output_type": "execute_result"
    }
   ],
   "source": [
    "fbi_data.tail(10)"
   ]
  },
  {
   "cell_type": "code",
   "execution_count": 9,
   "metadata": {
    "collapsed": true
   },
   "outputs": [],
   "source": [
    "# Need to convert the column's data from strings\n",
    "\n",
    "fbi_data['Arson'] = fbi_data['Arson'].astype(int)\n",
    "fbi_data['Robbery'] = fbi_data['Robbery'].str.replace(',', '')\n",
    "fbi_data['Population'] = fbi_data['Population'].str.replace(',', '')\n",
    "fbi_data['Robbery'] = fbi_data['Robbery'].astype(int)\n",
    "fbi_data['Population'] = fbi_data['Population'].astype(int)\n",
    "fbi_data['PropCrime'] = fbi_data['PropCrime'].str.replace(',', '')\n",
    "fbi_data['Larceny'] = fbi_data['Larceny'].str.replace(',', '')\n",
    "fbi_data['AutoTheft'] = fbi_data['AutoTheft'].str.replace(',', '')\n",
    "fbi_data['PropCrime'] = fbi_data['PropCrime'].astype(int)\n",
    "fbi_data['Rape2'] = fbi_data['Rape2'].astype(int)"
   ]
  },
  {
   "cell_type": "code",
   "execution_count": 10,
   "metadata": {
    "collapsed": true
   },
   "outputs": [],
   "source": [
    "fbi_data['Rape2'] = fbi_data['Rape2'].apply(lambda x: 1 if x >= 1 else 0)\n",
    "fbi_data['Robbery'] = fbi_data['Robbery'].apply(lambda x: 1 if x >= 1 else 0)\n",
    "new_fbi_data_col = [\"Population\", \"Rape2\", \"PropCrime\", 'Robbery']\n",
    "new_fbi_data = fbi_data[new_fbi_data_col]"
   ]
  },
  {
   "cell_type": "markdown",
   "metadata": {},
   "source": [
    "###  Creating a new feature and fitting the model"
   ]
  },
  {
   "cell_type": "code",
   "execution_count": 11,
   "metadata": {},
   "outputs": [
    {
     "name": "stdout",
     "output_type": "stream",
     "text": [
      "\n",
      "Coefficients: \n",
      " [[ 0.20902701  0.86814617  2.23811586]]\n",
      "\n",
      "Intercept: \n",
      " [-2.91731235]\n",
      "\n",
      "R-squared:\n",
      "0.886235779218\n"
     ]
    }
   ],
   "source": [
    "regr = linear_model.LinearRegression()\n",
    "new_data = new_fbi_data[(np.abs(stats.zscore(new_fbi_data)) <= 1.5).all(axis=1)]\n",
    "new_data = np.sqrt(new_fbi_data)\n",
    "Y = new_data['PropCrime'].values.reshape(-1, 1)\n",
    "X = new_data[[\"Population\", \"Rape2\", \"Robbery\"]]\n",
    "regr.fit(X, Y)\n",
    "new_predicted = regr.predict(X).ravel()\n",
    "new_actual = new_data['PropCrime']\n",
    "# Calculate the error, also called the residual.\n",
    "new_res = new_actual - new_predicted\n",
    "# Inspect the results.\n",
    "print('\\nCoefficients: \\n', regr.coef_)\n",
    "print('\\nIntercept: \\n', regr.intercept_)\n",
    "print('\\nR-squared:')\n",
    "print(regr.score(X, Y))"
   ]
  },
  {
   "cell_type": "code",
   "execution_count": 12,
   "metadata": {},
   "outputs": [
    {
     "data": {
      "image/png": "[encoded data removed]",
      "text/plain": [
       "<matplotlib.figure.Figure at 0x1c1c51d3f98>"
      ]
     },
     "metadata": {},
     "output_type": "display_data"
    }
   ],
   "source": [
    "# the model has a linear relationship\n",
    "plt.scatter(new_actual, new_predicted)\n",
    "plt.title('Have a Linear Relationship?')\n",
    "plt.xlabel('Actual Score')\n",
    "plt.ylabel('My Predicted')\n",
    "plt.show()"
   ]
  },
  {
   "cell_type": "code",
   "execution_count": 13,
   "metadata": {},
   "outputs": [
    {
     "data": {
      "image/png": "[encoded data removed]",
      "text/plain": [
       "<matplotlib.figure.Figure at 0x1c1c54724a8>"
      ]
     },
     "metadata": {},
     "output_type": "display_data"
    }
   ],
   "source": [
    "plt.hist(new_res)\n",
    "plt.title('Residual counts')\n",
    "plt.xlabel('Residual')\n",
    "plt.ylabel('Count')\n",
    "\n",
    "plt.show()"
   ]
  },
  {
   "cell_type": "code",
   "execution_count": 14,
   "metadata": {},
   "outputs": [
    {
     "data": {
      "image/png": "[encoded data removed]",
      "text/plain": [
       "<matplotlib.figure.Figure at 0x1c1c55b6518>"
      ]
     },
     "metadata": {},
     "output_type": "display_data"
    }
   ],
   "source": [
    "# the errors are not as consistant as they were with New York's data\n",
    "plt.scatter(new_predicted, new_res)\n",
    "plt.xlabel('Predicted')\n",
    "plt.ylabel('Residual')\n",
    "plt.axhline(y=0)\n",
    "plt.title('Residual vs. Predicted')\n",
    "plt.show()"
   ]
  },
  {
   "cell_type": "code",
   "execution_count": 15,
   "metadata": {},
   "outputs": [
    {
     "data": {
      "text/html": [
       "<div>\n",
       "<style>\n",
       "    .dataframe thead tr:only-child th {\n",
       "        text-align: right;\n",
       "    }\n",
       "\n",
       "    .dataframe thead th {\n",
       "        text-align: left;\n",
       "    }\n",
       "\n",
       "    .dataframe tbody tr th {\n",
       "        vertical-align: top;\n",
       "    }\n",
       "</style>\n",
       "<table border=\"1\" class=\"dataframe\">\n",
       "  <thead>\n",
       "    <tr style=\"text-align: right;\">\n",
       "      <th></th>\n",
       "      <th>Population</th>\n",
       "      <th>Rape2</th>\n",
       "      <th>Robbery</th>\n",
       "    </tr>\n",
       "  </thead>\n",
       "  <tbody>\n",
       "    <tr>\n",
       "      <th>Population</th>\n",
       "      <td>1.000</td>\n",
       "      <td>0.504</td>\n",
       "      <td>0.460</td>\n",
       "    </tr>\n",
       "    <tr>\n",
       "      <th>Rape2</th>\n",
       "      <td>0.504</td>\n",
       "      <td>1.000</td>\n",
       "      <td>0.476</td>\n",
       "    </tr>\n",
       "    <tr>\n",
       "      <th>Robbery</th>\n",
       "      <td>0.460</td>\n",
       "      <td>0.476</td>\n",
       "      <td>1.000</td>\n",
       "    </tr>\n",
       "  </tbody>\n",
       "</table>\n",
       "</div>"
      ],
      "text/plain": [
       "            Population  Rape2  Robbery\n",
       "Population       1.000  0.504    0.460\n",
       "Rape2            0.504  1.000    0.476\n",
       "Robbery          0.460  0.476    1.000"
      ]
     },
     "metadata": {},
     "output_type": "display_data"
    }
   ],
   "source": [
    "# the correlation is higher than it was with New York\n",
    "correlation_matrix = X.corr()\n",
    "display(correlation_matrix)"
   ]
  },
  {
   "cell_type": "code",
   "execution_count": 16,
   "metadata": {
    "collapsed": true
   },
   "outputs": [],
   "source": [
    "linear_formula = 'new_data.PropCrime ~ Population+Rape2+Robbery'\n",
    "lm = smf.ols(formula= linear_formula, data=new_data).fit()"
   ]
  },
  {
   "cell_type": "code",
   "execution_count": 17,
   "metadata": {},
   "outputs": [
    {
     "data": {
      "text/plain": [
       "Intercept    -2.917\n",
       "Population    0.209\n",
       "Rape2         0.868\n",
       "Robbery       2.238\n",
       "dtype: float64"
      ]
     },
     "execution_count": 17,
     "metadata": {},
     "output_type": "execute_result"
    }
   ],
   "source": [
    "lm.params"
   ]
  },
  {
   "cell_type": "code",
   "execution_count": 18,
   "metadata": {},
   "outputs": [
    {
     "data": {
      "text/plain": [
       "Intercept    0.000\n",
       "Population   0.000\n",
       "Rape2        0.366\n",
       "Robbery      0.021\n",
       "dtype: float64"
      ]
     },
     "execution_count": 18,
     "metadata": {},
     "output_type": "execute_result"
    }
   ],
   "source": [
    "# Rape2 p-values are much higher than 0.05 and would not be a good feature to use for Georgia's dataset \n",
    "lm.pvalues"
   ]
  },
  {
   "cell_type": "code",
   "execution_count": 19,
   "metadata": {},
   "outputs": [
    {
     "data": {
      "text/plain": [
       "0.88623577921815522"
      ]
     },
     "execution_count": 19,
     "metadata": {},
     "output_type": "execute_result"
    }
   ],
   "source": [
    "lm.rsquared"
   ]
  },
  {
   "cell_type": "code",
   "execution_count": 20,
   "metadata": {},
   "outputs": [
    {
     "data": {
      "text/html": [
       "<div>\n",
       "<style>\n",
       "    .dataframe thead tr:only-child th {\n",
       "        text-align: right;\n",
       "    }\n",
       "\n",
       "    .dataframe thead th {\n",
       "        text-align: left;\n",
       "    }\n",
       "\n",
       "    .dataframe tbody tr th {\n",
       "        vertical-align: top;\n",
       "    }\n",
       "</style>\n",
       "<table border=\"1\" class=\"dataframe\">\n",
       "  <thead>\n",
       "    <tr style=\"text-align: right;\">\n",
       "      <th></th>\n",
       "      <th>0</th>\n",
       "      <th>1</th>\n",
       "    </tr>\n",
       "  </thead>\n",
       "  <tbody>\n",
       "    <tr>\n",
       "      <th>Intercept</th>\n",
       "      <td>-4.269</td>\n",
       "      <td>-1.565</td>\n",
       "    </tr>\n",
       "    <tr>\n",
       "      <th>Population</th>\n",
       "      <td>0.197</td>\n",
       "      <td>0.221</td>\n",
       "    </tr>\n",
       "    <tr>\n",
       "      <th>Rape2</th>\n",
       "      <td>-1.019</td>\n",
       "      <td>2.755</td>\n",
       "    </tr>\n",
       "    <tr>\n",
       "      <th>Robbery</th>\n",
       "      <td>0.335</td>\n",
       "      <td>4.141</td>\n",
       "    </tr>\n",
       "  </tbody>\n",
       "</table>\n",
       "</div>"
      ],
      "text/plain": [
       "                0      1\n",
       "Intercept  -4.269 -1.565\n",
       "Population  0.197  0.221\n",
       "Rape2      -1.019  2.755\n",
       "Robbery     0.335  4.141"
      ]
     },
     "execution_count": 20,
     "metadata": {},
     "output_type": "execute_result"
    }
   ],
   "source": [
    "lm.conf_int()"
   ]
  },
  {
   "cell_type": "code",
   "execution_count": 21,
   "metadata": {},
   "outputs": [
    {
     "data": {
      "image/png": "[encoded data removed]",
      "text/plain": [
       "<matplotlib.figure.Figure at 0x1c1c54ca4a8>"
      ]
     },
     "metadata": {},
     "output_type": "display_data"
    }
   ],
   "source": [
    "prstd, iv_l, iv_u = wls_prediction_std(lm)\n",
    "\n",
    "plt.figure()\n",
    "plt.plot(iv_u[0:30], 'o', color='r')\n",
    "plt.plot(iv_l[0:30], 'o', color='r')\n",
    "plt.plot(lm.fittedvalues[0:30], 'o', color='b')\n",
    "plt.title('blue: predicted, red: 95% CI')\n",
    "plt.show()"
   ]
  },
  {
   "cell_type": "code",
   "execution_count": 22,
   "metadata": {},
   "outputs": [
    {
     "name": "stderr",
     "output_type": "stream",
     "text": [
      "C:\\Users\\blindside\\Anaconda3\\lib\\site-packages\\sklearn\\utils\\validation.py:578: DataConversionWarning: A column-vector y was passed when a 1d array was expected. Please change the shape of y to (n_samples, ), for example using ravel().\n",
      "  y = column_or_1d(y, warn=True)\n"
     ]
    },
    {
     "ename": "ValueError",
     "evalue": "Unknown label type: (array([   4.69041576,    7.21110255,   13.74772708,    1.41421356,\n          2.44948974,   68.27151675,   14.4222051 ,   35.04283094,\n          5.29150262,   35.29872519,    7.14142843,    5.91607978,\n         11.13552873,   13.56465997,   63.82789359,  165.91564122,\n          1.41421356,   13.82027496,   23.83275058,    7.        ,\n          3.46410162,   18.08314132,   17.        ,    0.        ,\n         12.24744871,    4.58257569,   14.31782106,    7.87400787,\n          4.79583152,    3.74165739,    6.92820323,    8.54400375,\n         11.26942767,    0.        ,   13.15294644,    3.31662479,\n         33.3166625 ,    6.55743852,    8.66025404,    4.89897949,\n         12.24744871,   14.89966443,   28.        ,   20.14944168,\n         33.01514804,   30.4466747 ,    4.24264069,   30.33150178,\n         20.39607805,   12.72792206,    6.244998  ,    8.24621125,\n         17.66352173,   12.16552506,    9.8488578 ,   14.35270009,\n          0.        ,   15.71623365,   40.79215611,    8.30662386,\n        111.69153952,   10.72380529,   32.34192326,    2.        ,\n         29.10326442,   13.6381817 ,   27.58622845,    7.41619849,\n         36.31803959,    4.69041576,    9.21954446,   26.26785107,\n          4.58257569,    2.64575131,    6.55743852,   10.29563014,\n         20.174241  ,   29.71531592,   44.71017781,   34.43835072,\n         25.59296778,   42.87190222,    9.32737905,   21.21320344,\n         62.4899992 ,   14.73091986,    4.12310563,   17.57839583,\n          4.12310563,    4.69041576,    7.61577311,    0.        ,\n          4.24264069,   11.26942767,   22.56102835,    2.23606798,\n         22.64950331,   22.36067977,    9.74679434,    8.54400375,\n         15.23154621,   26.36285265,   20.88061302,    4.89897949,\n          3.        ,   38.79432948,   20.59126028,   11.74734012,\n          2.        ,    4.69041576,    8.24621125,   12.72792206,\n          5.29150262,   43.38202393,   14.59451952,    6.78232998,\n         10.63014581,   23.06512519,    6.164414  ,    0.        ,\n         13.41640786,    7.87400787,    5.38516481,   38.        ,\n         21.26029163,    2.44948974,    9.89949494,    0.        ,\n         14.2126704 ,    9.74679434,   12.20655562,    3.        ,\n         28.74021573,   24.87971061,   15.        ,   22.42766149,\n         21.63330765,   20.27313493,   41.64132563,    8.54400375,\n          3.74165739,   11.91637529,   29.51270913,   26.70205985,\n          6.4807407 ,   18.24828759,   17.43559577,    4.35889894,\n          4.35889894,    0.        ,   82.46211251,   14.93318452,\n         13.22875656,   49.989999  ,    5.19615242,   28.93095228,\n          4.69041576,    8.42614977,    4.89897949,    0.        ,\n          8.42614977,   29.59729717,   20.46948949,   32.51153641,\n         12.60952021,   29.24038303,   31.63858404,    3.87298335,\n         16.4924225 ,    3.16227766,   32.89376841,    3.16227766,\n          6.        ,   26.40075756,   17.11724277,   11.70469991,\n         13.89244399,    5.65685425,    2.        ,    1.73205081,\n         20.95232684,   12.80624847,    7.14142843,   15.84297952,\n          7.28010989,   23.74868417,    8.        ,   10.86278049,\n          4.89897949,   26.98147513,   14.76482306,    1.73205081,\n          0.        ,   14.76482306,   13.78404875,   28.74021573,\n          6.78232998,   20.63976744,   46.66904756,   26.60826939,\n         45.90206967,   17.        ,   52.33545643,   91.96738552,\n          4.12310563,    6.70820393,    1.        ,    1.73205081,\n         41.73727351,   28.63564213,   14.38749457,    9.79795897,\n          6.08276253,    7.87400787,   36.89173349,   21.04756518,\n         22.84731932,    7.07106781,   19.77371993,   11.09053651,\n          5.        ,    1.        ,    8.36660027,   34.14674216,\n          9.38083152,   35.42597917,    1.73205081,   23.40939982,\n          4.35889894,    6.40312424,    4.79583152,    8.48528137,\n          9.94987437,   42.46174749,    9.2736185 ,   26.64582519,\n         25.27844932,   12.64911064,    4.79583152,   64.90762667,\n          8.48528137,   11.09053651,    8.30662386,    2.82842712,\n         30.757113  ,   11.5758369 ,   11.74734012,    6.08276253,\n         25.27844932,    3.31662479,    4.79583152,   24.37211521,\n          8.88819442]),)",
     "output_type": "error",
     "traceback": [
      "\u001b[1;31m---------------------------------------------------------------------------\u001b[0m",
      "\u001b[1;31mValueError\u001b[0m                                Traceback (most recent call last)",
      "\u001b[1;32m<ipython-input-22-8507670b42bd>\u001b[0m in \u001b[0;36m<module>\u001b[1;34m()\u001b[0m\n\u001b[0;32m      1\u001b[0m \u001b[0mbnb\u001b[0m \u001b[1;33m=\u001b[0m \u001b[0mBernoulliNB\u001b[0m\u001b[1;33m(\u001b[0m\u001b[1;33m)\u001b[0m\u001b[1;33m\u001b[0m\u001b[0m\n\u001b[0;32m      2\u001b[0m \u001b[0mX_train\u001b[0m\u001b[1;33m,\u001b[0m \u001b[0mX_test\u001b[0m\u001b[1;33m,\u001b[0m \u001b[0my_train\u001b[0m\u001b[1;33m,\u001b[0m \u001b[0my_test\u001b[0m \u001b[1;33m=\u001b[0m \u001b[0mtrain_test_split\u001b[0m\u001b[1;33m(\u001b[0m\u001b[0mX\u001b[0m\u001b[1;33m,\u001b[0m \u001b[0mY\u001b[0m\u001b[1;33m,\u001b[0m \u001b[0mtest_size\u001b[0m\u001b[1;33m=\u001b[0m\u001b[1;36m0.2\u001b[0m\u001b[1;33m,\u001b[0m \u001b[0mrandom_state\u001b[0m\u001b[1;33m=\u001b[0m\u001b[1;36m20\u001b[0m\u001b[1;33m)\u001b[0m\u001b[1;33m\u001b[0m\u001b[0m\n\u001b[1;32m----> 3\u001b[1;33m \u001b[0mbnb\u001b[0m\u001b[1;33m.\u001b[0m\u001b[0mfit\u001b[0m\u001b[1;33m(\u001b[0m\u001b[0mX\u001b[0m\u001b[1;33m,\u001b[0m \u001b[0mY\u001b[0m\u001b[1;33m)\u001b[0m\u001b[1;33m\u001b[0m\u001b[0m\n\u001b[0m\u001b[0;32m      4\u001b[0m \u001b[0mprint\u001b[0m\u001b[1;33m(\u001b[0m\u001b[1;34m'With 20% Holdout: '\u001b[0m \u001b[1;33m+\u001b[0m \u001b[0mstr\u001b[0m\u001b[1;33m(\u001b[0m\u001b[0mbnb\u001b[0m\u001b[1;33m.\u001b[0m\u001b[0mfit\u001b[0m\u001b[1;33m(\u001b[0m\u001b[0mX_train\u001b[0m\u001b[1;33m,\u001b[0m \u001b[0my_train\u001b[0m\u001b[1;33m)\u001b[0m\u001b[1;33m.\u001b[0m\u001b[0mscore\u001b[0m\u001b[1;33m(\u001b[0m\u001b[0mX_test\u001b[0m\u001b[1;33m,\u001b[0m \u001b[0my_test\u001b[0m\u001b[1;33m)\u001b[0m\u001b[1;33m)\u001b[0m\u001b[1;33m)\u001b[0m\u001b[1;33m\u001b[0m\u001b[0m\n\u001b[0;32m      5\u001b[0m \u001b[0mprint\u001b[0m\u001b[1;33m(\u001b[0m\u001b[1;34m'Testing on Sample: '\u001b[0m \u001b[1;33m+\u001b[0m \u001b[0mstr\u001b[0m\u001b[1;33m(\u001b[0m\u001b[0mbnb\u001b[0m\u001b[1;33m.\u001b[0m\u001b[0mfit\u001b[0m\u001b[1;33m(\u001b[0m\u001b[0mXY\u001b[0m\u001b[1;33m)\u001b[0m\u001b[1;33m.\u001b[0m\u001b[0mscore\u001b[0m\u001b[1;33m(\u001b[0m\u001b[0mX\u001b[0m\u001b[1;33m,\u001b[0m \u001b[0mY\u001b[0m\u001b[1;33m)\u001b[0m\u001b[1;33m)\u001b[0m\u001b[1;33m)\u001b[0m\u001b[1;33m\u001b[0m\u001b[0m\n",
      "\u001b[1;32m~\\Anaconda3\\lib\\site-packages\\sklearn\\naive_bayes.py\u001b[0m in \u001b[0;36mfit\u001b[1;34m(self, X, y, sample_weight)\u001b[0m\n\u001b[0;32m    581\u001b[0m \u001b[1;33m\u001b[0m\u001b[0m\n\u001b[0;32m    582\u001b[0m         \u001b[0mlabelbin\u001b[0m \u001b[1;33m=\u001b[0m \u001b[0mLabelBinarizer\u001b[0m\u001b[1;33m(\u001b[0m\u001b[1;33m)\u001b[0m\u001b[1;33m\u001b[0m\u001b[0m\n\u001b[1;32m--> 583\u001b[1;33m         \u001b[0mY\u001b[0m \u001b[1;33m=\u001b[0m \u001b[0mlabelbin\u001b[0m\u001b[1;33m.\u001b[0m\u001b[0mfit_transform\u001b[0m\u001b[1;33m(\u001b[0m\u001b[0my\u001b[0m\u001b[1;33m)\u001b[0m\u001b[1;33m\u001b[0m\u001b[0m\n\u001b[0m\u001b[0;32m    584\u001b[0m         \u001b[0mself\u001b[0m\u001b[1;33m.\u001b[0m\u001b[0mclasses_\u001b[0m \u001b[1;33m=\u001b[0m \u001b[0mlabelbin\u001b[0m\u001b[1;33m.\u001b[0m\u001b[0mclasses_\u001b[0m\u001b[1;33m\u001b[0m\u001b[0m\n\u001b[0;32m    585\u001b[0m         \u001b[1;32mif\u001b[0m \u001b[0mY\u001b[0m\u001b[1;33m.\u001b[0m\u001b[0mshape\u001b[0m\u001b[1;33m[\u001b[0m\u001b[1;36m1\u001b[0m\u001b[1;33m]\u001b[0m \u001b[1;33m==\u001b[0m \u001b[1;36m1\u001b[0m\u001b[1;33m:\u001b[0m\u001b[1;33m\u001b[0m\u001b[0m\n",
      "\u001b[1;32m~\\Anaconda3\\lib\\site-packages\\sklearn\\preprocessing\\label.py\u001b[0m in \u001b[0;36mfit_transform\u001b[1;34m(self, y)\u001b[0m\n\u001b[0;32m    305\u001b[0m             \u001b[0mShape\u001b[0m \u001b[0mwill\u001b[0m \u001b[0mbe\u001b[0m \u001b[1;33m[\u001b[0m\u001b[0mn_samples\u001b[0m\u001b[1;33m,\u001b[0m \u001b[1;36m1\u001b[0m\u001b[1;33m]\u001b[0m \u001b[1;32mfor\u001b[0m \u001b[0mbinary\u001b[0m \u001b[0mproblems\u001b[0m\u001b[1;33m.\u001b[0m\u001b[1;33m\u001b[0m\u001b[0m\n\u001b[0;32m    306\u001b[0m         \"\"\"\n\u001b[1;32m--> 307\u001b[1;33m         \u001b[1;32mreturn\u001b[0m \u001b[0mself\u001b[0m\u001b[1;33m.\u001b[0m\u001b[0mfit\u001b[0m\u001b[1;33m(\u001b[0m\u001b[0my\u001b[0m\u001b[1;33m)\u001b[0m\u001b[1;33m.\u001b[0m\u001b[0mtransform\u001b[0m\u001b[1;33m(\u001b[0m\u001b[0my\u001b[0m\u001b[1;33m)\u001b[0m\u001b[1;33m\u001b[0m\u001b[0m\n\u001b[0m\u001b[0;32m    308\u001b[0m \u001b[1;33m\u001b[0m\u001b[0m\n\u001b[0;32m    309\u001b[0m     \u001b[1;32mdef\u001b[0m \u001b[0mtransform\u001b[0m\u001b[1;33m(\u001b[0m\u001b[0mself\u001b[0m\u001b[1;33m,\u001b[0m \u001b[0my\u001b[0m\u001b[1;33m)\u001b[0m\u001b[1;33m:\u001b[0m\u001b[1;33m\u001b[0m\u001b[0m\n",
      "\u001b[1;32m~\\Anaconda3\\lib\\site-packages\\sklearn\\preprocessing\\label.py\u001b[0m in \u001b[0;36mfit\u001b[1;34m(self, y)\u001b[0m\n\u001b[0;32m    282\u001b[0m \u001b[1;33m\u001b[0m\u001b[0m\n\u001b[0;32m    283\u001b[0m         \u001b[0mself\u001b[0m\u001b[1;33m.\u001b[0m\u001b[0msparse_input_\u001b[0m \u001b[1;33m=\u001b[0m \u001b[0msp\u001b[0m\u001b[1;33m.\u001b[0m\u001b[0missparse\u001b[0m\u001b[1;33m(\u001b[0m\u001b[0my\u001b[0m\u001b[1;33m)\u001b[0m\u001b[1;33m\u001b[0m\u001b[0m\n\u001b[1;32m--> 284\u001b[1;33m         \u001b[0mself\u001b[0m\u001b[1;33m.\u001b[0m\u001b[0mclasses_\u001b[0m \u001b[1;33m=\u001b[0m \u001b[0munique_labels\u001b[0m\u001b[1;33m(\u001b[0m\u001b[0my\u001b[0m\u001b[1;33m)\u001b[0m\u001b[1;33m\u001b[0m\u001b[0m\n\u001b[0m\u001b[0;32m    285\u001b[0m         \u001b[1;32mreturn\u001b[0m \u001b[0mself\u001b[0m\u001b[1;33m\u001b[0m\u001b[0m\n\u001b[0;32m    286\u001b[0m \u001b[1;33m\u001b[0m\u001b[0m\n",
      "\u001b[1;32m~\\Anaconda3\\lib\\site-packages\\sklearn\\utils\\multiclass.py\u001b[0m in \u001b[0;36munique_labels\u001b[1;34m(*ys)\u001b[0m\n\u001b[0;32m     95\u001b[0m     \u001b[0m_unique_labels\u001b[0m \u001b[1;33m=\u001b[0m \u001b[0m_FN_UNIQUE_LABELS\u001b[0m\u001b[1;33m.\u001b[0m\u001b[0mget\u001b[0m\u001b[1;33m(\u001b[0m\u001b[0mlabel_type\u001b[0m\u001b[1;33m,\u001b[0m \u001b[1;32mNone\u001b[0m\u001b[1;33m)\u001b[0m\u001b[1;33m\u001b[0m\u001b[0m\n\u001b[0;32m     96\u001b[0m     \u001b[1;32mif\u001b[0m \u001b[1;32mnot\u001b[0m \u001b[0m_unique_labels\u001b[0m\u001b[1;33m:\u001b[0m\u001b[1;33m\u001b[0m\u001b[0m\n\u001b[1;32m---> 97\u001b[1;33m         \u001b[1;32mraise\u001b[0m \u001b[0mValueError\u001b[0m\u001b[1;33m(\u001b[0m\u001b[1;34m\"Unknown label type: %s\"\u001b[0m \u001b[1;33m%\u001b[0m \u001b[0mrepr\u001b[0m\u001b[1;33m(\u001b[0m\u001b[0mys\u001b[0m\u001b[1;33m)\u001b[0m\u001b[1;33m)\u001b[0m\u001b[1;33m\u001b[0m\u001b[0m\n\u001b[0m\u001b[0;32m     98\u001b[0m \u001b[1;33m\u001b[0m\u001b[0m\n\u001b[0;32m     99\u001b[0m     \u001b[0mys_labels\u001b[0m \u001b[1;33m=\u001b[0m \u001b[0mset\u001b[0m\u001b[1;33m(\u001b[0m\u001b[0mchain\u001b[0m\u001b[1;33m.\u001b[0m\u001b[0mfrom_iterable\u001b[0m\u001b[1;33m(\u001b[0m\u001b[0m_unique_labels\u001b[0m\u001b[1;33m(\u001b[0m\u001b[0my\u001b[0m\u001b[1;33m)\u001b[0m \u001b[1;32mfor\u001b[0m \u001b[0my\u001b[0m \u001b[1;32min\u001b[0m \u001b[0mys\u001b[0m\u001b[1;33m)\u001b[0m\u001b[1;33m)\u001b[0m\u001b[1;33m\u001b[0m\u001b[0m\n",
      "\u001b[1;31mValueError\u001b[0m: Unknown label type: (array([   4.69041576,    7.21110255,   13.74772708,    1.41421356,\n          2.44948974,   68.27151675,   14.4222051 ,   35.04283094,\n          5.29150262,   35.29872519,    7.14142843,    5.91607978,\n         11.13552873,   13.56465997,   63.82789359,  165.91564122,\n          1.41421356,   13.82027496,   23.83275058,    7.        ,\n          3.46410162,   18.08314132,   17.        ,    0.        ,\n         12.24744871,    4.58257569,   14.31782106,    7.87400787,\n          4.79583152,    3.74165739,    6.92820323,    8.54400375,\n         11.26942767,    0.        ,   13.15294644,    3.31662479,\n         33.3166625 ,    6.55743852,    8.66025404,    4.89897949,\n         12.24744871,   14.89966443,   28.        ,   20.14944168,\n         33.01514804,   30.4466747 ,    4.24264069,   30.33150178,\n         20.39607805,   12.72792206,    6.244998  ,    8.24621125,\n         17.66352173,   12.16552506,    9.8488578 ,   14.35270009,\n          0.        ,   15.71623365,   40.79215611,    8.30662386,\n        111.69153952,   10.72380529,   32.34192326,    2.        ,\n         29.10326442,   13.6381817 ,   27.58622845,    7.41619849,\n         36.31803959,    4.69041576,    9.21954446,   26.26785107,\n          4.58257569,    2.64575131,    6.55743852,   10.29563014,\n         20.174241  ,   29.71531592,   44.71017781,   34.43835072,\n         25.59296778,   42.87190222,    9.32737905,   21.21320344,\n         62.4899992 ,   14.73091986,    4.12310563,   17.57839583,\n          4.12310563,    4.69041576,    7.61577311,    0.        ,\n          4.24264069,   11.26942767,   22.56102835,    2.23606798,\n         22.64950331,   22.36067977,    9.74679434,    8.54400375,\n         15.23154621,   26.36285265,   20.88061302,    4.89897949,\n          3.        ,   38.79432948,   20.59126028,   11.74734012,\n          2.        ,    4.69041576,    8.24621125,   12.72792206,\n          5.29150262,   43.38202393,   14.59451952,    6.78232998,\n         10.63014581,   23.06512519,    6.164414  ,    0.        ,\n         13.41640786,    7.87400787,    5.38516481,   38.        ,\n         21.26029163,    2.44948974,    9.89949494,    0.        ,\n         14.2126704 ,    9.74679434,   12.20655562,    3.        ,\n         28.74021573,   24.87971061,   15.        ,   22.42766149,\n         21.63330765,   20.27313493,   41.64132563,    8.54400375,\n          3.74165739,   11.91637529,   29.51270913,   26.70205985,\n          6.4807407 ,   18.24828759,   17.43559577,    4.35889894,\n          4.35889894,    0.        ,   82.46211251,   14.93318452,\n         13.22875656,   49.989999  ,    5.19615242,   28.93095228,\n          4.69041576,    8.42614977,    4.89897949,    0.        ,\n          8.42614977,   29.59729717,   20.46948949,   32.51153641,\n         12.60952021,   29.24038303,   31.63858404,    3.87298335,\n         16.4924225 ,    3.16227766,   32.89376841,    3.16227766,\n          6.        ,   26.40075756,   17.11724277,   11.70469991,\n         13.89244399,    5.65685425,    2.        ,    1.73205081,\n         20.95232684,   12.80624847,    7.14142843,   15.84297952,\n          7.28010989,   23.74868417,    8.        ,   10.86278049,\n          4.89897949,   26.98147513,   14.76482306,    1.73205081,\n          0.        ,   14.76482306,   13.78404875,   28.74021573,\n          6.78232998,   20.63976744,   46.66904756,   26.60826939,\n         45.90206967,   17.        ,   52.33545643,   91.96738552,\n          4.12310563,    6.70820393,    1.        ,    1.73205081,\n         41.73727351,   28.63564213,   14.38749457,    9.79795897,\n          6.08276253,    7.87400787,   36.89173349,   21.04756518,\n         22.84731932,    7.07106781,   19.77371993,   11.09053651,\n          5.        ,    1.        ,    8.36660027,   34.14674216,\n          9.38083152,   35.42597917,    1.73205081,   23.40939982,\n          4.35889894,    6.40312424,    4.79583152,    8.48528137,\n          9.94987437,   42.46174749,    9.2736185 ,   26.64582519,\n         25.27844932,   12.64911064,    4.79583152,   64.90762667,\n          8.48528137,   11.09053651,    8.30662386,    2.82842712,\n         30.757113  ,   11.5758369 ,   11.74734012,    6.08276253,\n         25.27844932,    3.31662479,    4.79583152,   24.37211521,\n          8.88819442]),)"
     ]
    }
   ],
   "source": [
    "bnb = BernoulliNB()\n",
    "X_train, X_test, y_train, y_test = train_test_split(X, Y, test_size=0.2, random_state=20)\n",
    "bnb.fit(X, Y)\n",
    "print('With 20% Holdout: ' + str(bnb.fit(X_train, y_train).score(X_test, y_test)))\n",
    "print('Testing on Sample: ' + str(bnb.fit(XY).score(X, Y)))\n",
    "cross_val_score(bnb, X, Y, cv=10)"
   ]
  },
  {
   "cell_type": "code",
   "execution_count": 23,
   "metadata": {},
   "outputs": [
    {
     "name": "stdout",
     "output_type": "stream",
     "text": [
      "\n",
      "Coefficients: \n",
      " [[ 0.211015    2.51698854]]\n",
      "\n",
      "Intercept: \n",
      " [-2.86211885]\n",
      "\n",
      "R-squared:\n",
      "0.885860610811\n"
     ]
    }
   ],
   "source": [
    "# decided to remove the Rape2 feature because of the high pvalue and we will see the new results\n",
    "Y = new_data['PropCrime'].values.reshape(-1, 1)\n",
    "X = new_data[[\"Population\", \"Robbery\"]]\n",
    "regr.fit(X, Y)\n",
    "new_ed_pred = regr.predict(X).ravel()\n",
    "new_actual = new_data['PropCrime']\n",
    "# Calculate the error, also called the residual.\n",
    "new_ed_res = new_actual - new_ed_pred\n",
    "# Inspect the results.\n",
    "print('\\nCoefficients: \\n', regr.coef_)\n",
    "print('\\nIntercept: \\n', regr.intercept_)\n",
    "print('\\nR-squared:')\n",
    "print(regr.score(X, Y))"
   ]
  },
  {
   "cell_type": "code",
   "execution_count": 24,
   "metadata": {},
   "outputs": [
    {
     "data": {
      "image/png": "[encoded data removed]",
      "text/plain": [
       "<matplotlib.figure.Figure at 0x1c1c51f40f0>"
      ]
     },
     "metadata": {},
     "output_type": "display_data"
    }
   ],
   "source": [
    "plt.scatter(new_actual, new_ed_pred)\n",
    "plt.title('Have a Linear Relationship?')\n",
    "plt.xlabel('Actual Score')\n",
    "plt.ylabel('My Predicted')\n",
    "plt.show()"
   ]
  },
  {
   "cell_type": "code",
   "execution_count": 25,
   "metadata": {},
   "outputs": [
    {
     "data": {
      "image/png": "[encoded data removed]",
      "text/plain": [
       "<matplotlib.figure.Figure at 0x1c1c628a4a8>"
      ]
     },
     "metadata": {},
     "output_type": "display_data"
    }
   ],
   "source": [
    "plt.scatter(new_predicted, new_res)\n",
    "plt.xlabel('Predicted')\n",
    "plt.ylabel('Residual')\n",
    "plt.axhline(y=0)\n",
    "plt.title('Residual vs. Predicted')\n",
    "plt.show()"
   ]
  },
  {
   "cell_type": "code",
   "execution_count": 26,
   "metadata": {},
   "outputs": [
    {
     "data": {
      "text/html": [
       "<div>\n",
       "<style>\n",
       "    .dataframe thead tr:only-child th {\n",
       "        text-align: right;\n",
       "    }\n",
       "\n",
       "    .dataframe thead th {\n",
       "        text-align: left;\n",
       "    }\n",
       "\n",
       "    .dataframe tbody tr th {\n",
       "        vertical-align: top;\n",
       "    }\n",
       "</style>\n",
       "<table border=\"1\" class=\"dataframe\">\n",
       "  <thead>\n",
       "    <tr style=\"text-align: right;\">\n",
       "      <th></th>\n",
       "      <th>Population</th>\n",
       "      <th>Robbery</th>\n",
       "    </tr>\n",
       "  </thead>\n",
       "  <tbody>\n",
       "    <tr>\n",
       "      <th>Population</th>\n",
       "      <td>1.000</td>\n",
       "      <td>0.460</td>\n",
       "    </tr>\n",
       "    <tr>\n",
       "      <th>Robbery</th>\n",
       "      <td>0.460</td>\n",
       "      <td>1.000</td>\n",
       "    </tr>\n",
       "  </tbody>\n",
       "</table>\n",
       "</div>"
      ],
      "text/plain": [
       "            Population  Robbery\n",
       "Population       1.000    0.460\n",
       "Robbery          0.460    1.000"
      ]
     },
     "metadata": {},
     "output_type": "display_data"
    }
   ],
   "source": [
    "correlation_matrix = X.corr()\n",
    "display(correlation_matrix)"
   ]
  },
  {
   "cell_type": "code",
   "execution_count": 27,
   "metadata": {
    "collapsed": true
   },
   "outputs": [],
   "source": [
    "new_linear_formula = 'new_data.PropCrime ~ Population+Robbery'\n",
    "new_lm = smf.ols(formula= new_linear_formula, data=new_data).fit()"
   ]
  },
  {
   "cell_type": "code",
   "execution_count": 28,
   "metadata": {},
   "outputs": [
    {
     "data": {
      "text/plain": [
       "Intercept    -2.862\n",
       "Population    0.211\n",
       "Robbery       2.517\n",
       "dtype: float64"
      ]
     },
     "execution_count": 28,
     "metadata": {},
     "output_type": "execute_result"
    }
   ],
   "source": [
    "new_lm.params"
   ]
  },
  {
   "cell_type": "code",
   "execution_count": 29,
   "metadata": {},
   "outputs": [
    {
     "data": {
      "text/plain": [
       "Intercept    0.000\n",
       "Population   0.000\n",
       "Robbery      0.006\n",
       "dtype: float64"
      ]
     },
     "execution_count": 29,
     "metadata": {},
     "output_type": "execute_result"
    }
   ],
   "source": [
    "new_lm.pvalues"
   ]
  },
  {
   "cell_type": "code",
   "execution_count": 30,
   "metadata": {},
   "outputs": [
    {
     "data": {
      "text/plain": [
       "0.88586061081065159"
      ]
     },
     "execution_count": 30,
     "metadata": {},
     "output_type": "execute_result"
    }
   ],
   "source": [
    "new_lm.rsquared"
   ]
  },
  {
   "cell_type": "code",
   "execution_count": 31,
   "metadata": {},
   "outputs": [
    {
     "data": {
      "text/html": [
       "<div>\n",
       "<style>\n",
       "    .dataframe thead tr:only-child th {\n",
       "        text-align: right;\n",
       "    }\n",
       "\n",
       "    .dataframe thead th {\n",
       "        text-align: left;\n",
       "    }\n",
       "\n",
       "    .dataframe tbody tr th {\n",
       "        vertical-align: top;\n",
       "    }\n",
       "</style>\n",
       "<table border=\"1\" class=\"dataframe\">\n",
       "  <thead>\n",
       "    <tr style=\"text-align: right;\">\n",
       "      <th></th>\n",
       "      <th>0</th>\n",
       "      <th>1</th>\n",
       "    </tr>\n",
       "  </thead>\n",
       "  <tbody>\n",
       "    <tr>\n",
       "      <th>Intercept</th>\n",
       "      <td>-4.269</td>\n",
       "      <td>-1.565</td>\n",
       "    </tr>\n",
       "    <tr>\n",
       "      <th>Population</th>\n",
       "      <td>0.197</td>\n",
       "      <td>0.221</td>\n",
       "    </tr>\n",
       "    <tr>\n",
       "      <th>Rape2</th>\n",
       "      <td>-1.019</td>\n",
       "      <td>2.755</td>\n",
       "    </tr>\n",
       "    <tr>\n",
       "      <th>Robbery</th>\n",
       "      <td>0.335</td>\n",
       "      <td>4.141</td>\n",
       "    </tr>\n",
       "  </tbody>\n",
       "</table>\n",
       "</div>"
      ],
      "text/plain": [
       "                0      1\n",
       "Intercept  -4.269 -1.565\n",
       "Population  0.197  0.221\n",
       "Rape2      -1.019  2.755\n",
       "Robbery     0.335  4.141"
      ]
     },
     "execution_count": 31,
     "metadata": {},
     "output_type": "execute_result"
    }
   ],
   "source": [
    "lm.conf_int()"
   ]
  },
  {
   "cell_type": "code",
   "execution_count": 32,
   "metadata": {},
   "outputs": [
    {
     "data": {
      "image/png": "[encoded data removed]",
      "text/plain": [
       "<matplotlib.figure.Figure at 0x1c1c54ca240>"
      ]
     },
     "metadata": {},
     "output_type": "display_data"
    }
   ],
   "source": [
    "prstd, iv_l, iv_u = wls_prediction_std(new_lm)\n",
    "\n",
    "plt.figure()\n",
    "plt.plot(iv_u[0:30], 'o', color='r')\n",
    "plt.plot(iv_l[0:30], 'o', color='r')\n",
    "plt.plot(lm.fittedvalues[0:30], 'o', color='b')\n",
    "plt.title('blue: predicted, red: 95% CI')\n",
    "plt.show()"
   ]
  }
 ],
 "metadata": {
  "kernelspec": {
   "display_name": "Python 3",
   "language": "python",
   "name": "python3"
  },
  "language_info": {
   "codemirror_mode": {
    "name": "ipython",
    "version": 3
   },
   "file_extension": ".py",
   "mimetype": "text/x-python",
   "name": "python",
   "nbconvert_exporter": "python",
   "pygments_lexer": "ipython3",
   "version": "3.6.3"
  }
 },
 "nbformat": 4,
 "nbformat_minor": 2
}
