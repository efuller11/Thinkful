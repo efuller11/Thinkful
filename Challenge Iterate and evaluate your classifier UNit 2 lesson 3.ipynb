{
 "cells": [
  {
   "cell_type": "markdown",
   "metadata": {},
   "source": [
    "# Challenge: Iterate and evaluate your classifier"
   ]
  },
  {
   "cell_type": "code",
   "execution_count": 1,
   "metadata": {
    "collapsed": true
   },
   "outputs": [],
   "source": [
    "%matplotlib inline\n",
    "import numpy as np\n",
    "import pandas as pd\n",
    "import scipy\n",
    "import sklearn\n",
    "import matplotlib.pyplot as plt\n",
    "import seaborn as sns\n",
    "from nltk.corpus import gutenberg, stopwords\n",
    "from collections import Counter\n",
    "from sklearn.naive_bayes import BernoulliNB\n",
    "from sklearn.model_selection import train_test_split\n",
    "from sklearn.metrics import confusion_matrix\n",
    "from sklearn.feature_selection import RFE"
   ]
  },
  {
   "cell_type": "code",
   "execution_count": 2,
   "metadata": {
    "collapsed": true
   },
   "outputs": [],
   "source": [
    "data_path = ('yelp_labelled.txt')\n",
    "sms_raw = pd.read_csv(data_path, delimiter= '\\t', header=None)\n",
    "sms_raw.columns = ['message','like']"
   ]
  },
  {
   "cell_type": "code",
   "execution_count": 3,
   "metadata": {},
   "outputs": [],
   "source": [
    "sms_raw['message'] = sms_raw['message'].str.lower()\n",
    "sms_raw['message'] = sms_raw['message'].str.replace('!', '')\n",
    "sms_raw['message'] = sms_raw['message'].str.replace('\"', '')\n",
    "sms_raw['message'] = sms_raw['message'].str.replace('$', '')\n",
    "sms_raw['message'] = sms_raw['message'].str.replace(\"'\", '')\n",
    "sms_raw['message'] = sms_raw['message'].str.replace('%', '')\n",
    "sms_raw['message'] = sms_raw['message'].str.replace('&', '')\n",
    "sms_raw['message'] = sms_raw['message'].str.replace('(', '')\n",
    "sms_raw['message'] = sms_raw['message'].str.replace(')', '')\n",
    "sms_raw['message'] = sms_raw['message'].str.replace('*', '')\n",
    "sms_raw['message'] = sms_raw['message'].str.replace('+', '')\n",
    "sms_raw['message'] = sms_raw['message'].str.replace(',', '')\n",
    "sms_raw['message'] = sms_raw['message'].str.replace('-', '')\n",
    "sms_raw['message'] = sms_raw['message'].str.replace('.', '')\n",
    "sms_raw['message'] = sms_raw['message'].str.replace('/', '')\n",
    "sms_raw['message'] = sms_raw['message'].str.replace('0', '')\n",
    "sms_raw['message'] = sms_raw['message'].str.replace('1', '')\n",
    "sms_raw['message'] = sms_raw['message'].str.replace('2', '')\n",
    "sms_raw['message'] = sms_raw['message'].str.replace('3', '')\n",
    "sms_raw['message'] = sms_raw['message'].str.replace('4', '')\n",
    "sms_raw['message'] = sms_raw['message'].str.replace('5', '')\n",
    "sms_raw['message'] = sms_raw['message'].str.replace('6', '')\n",
    "sms_raw['message'] = sms_raw['message'].str.replace('7', '')\n",
    "sms_raw['message'] = sms_raw['message'].str.replace('8', '')\n",
    "sms_raw['message'] = sms_raw['message'].str.replace('9', '')\n",
    "sms_raw['message'] = sms_raw['message'].str.replace(':', '')\n",
    "sms_raw['message'] = sms_raw['message'].str.replace(';', '')\n",
    "sms_raw['message'] = sms_raw['message'].str.replace('?', '')"
   ]
  },
  {
   "cell_type": "code",
   "execution_count": 4,
   "metadata": {
    "collapsed": true
   },
   "outputs": [],
   "source": [
    "sms_raw1 = sms_raw.copy()\n",
    "sms_raw2 = sms_raw.copy()\n",
    "sms_raw3 = sms_raw.copy()\n",
    "sms_raw4 = sms_raw.copy()\n",
    "sms_raw5 = sms_raw.copy()\n",
    "sms_raw6 = sms_raw.copy()"
   ]
  },
  {
   "cell_type": "code",
   "execution_count": 5,
   "metadata": {
    "collapsed": true
   },
   "outputs": [],
   "source": [
    "new_keywords1 = ['nice', 'back', 'great', 'friendly', 'delicious', 'dont', 'never', 'would', 'good', 'nice', 'time', 'staff',\n",
    "            'restaurant', 'love', 'bad', 'amazing', 'disappointed', 'never', 'best', 'one', 'minutes', 'wont', 'wasnt',\n",
    "            'amazing', 'always', 'made', 'pretty', 'loved', 'menu', 'slow', 'definitely']\n",
    "new_keywords2 = ['restaurant', 'love', 'really', 'bad', 'amazing', 'disappointed', 'never', 'best', 'one', 'wont', 'wasnt',]\n",
    "new_keywords3 = ['great', 'food', 'place', 'service', 'friendly', 'delicious', 'back', 'nice']\n",
    "new_keywords4 = ['good', 'great', 'food', 'place', 'service', 'friendly', 'delicious', 'back', 'nice', 'like','go',\n",
    "                 'dont', 'never', 'would']\n",
    "new_keywords5 = ['food', 'place', 'back', 'service', 'like','go', 'dont', 'good', 'never', 'would']\n",
    "new_keywords6 = ['bad', 'menu', 'pretty', 'amazing', 'delicious', 'dont', 'never', 'would', 'wasnt', 'wont', 'minutes', 'one',\n",
    "                'never', 'disappointed', 'amazing', 'slow']\n",
    "def addkey(text, keywords):\n",
    "    for key in keywords:\n",
    "    # Note that we add spaces around the key so that we're getting the word,\n",
    "    # not just pattern matching.\n",
    "        text[str(key)] = text.message.str.contains(\n",
    "        ' ' + str(key) + ' ',\n",
    "        case=False\n",
    "    )"
   ]
  },
  {
   "cell_type": "code",
   "execution_count": 6,
   "metadata": {
    "collapsed": true
   },
   "outputs": [],
   "source": [
    "addkey(sms_raw1, new_keywords1)\n",
    "addkey(sms_raw2, new_keywords2)\n",
    "addkey(sms_raw3, new_keywords3)\n",
    "addkey(sms_raw4, new_keywords4)\n",
    "addkey(sms_raw5, new_keywords5)\n",
    "addkey(sms_raw6, new_keywords6)"
   ]
  },
  {
   "cell_type": "code",
   "execution_count": 7,
   "metadata": {},
   "outputs": [],
   "source": [
    "data1 = sms_raw1[new_keywords1]\n",
    "data2 = sms_raw2[new_keywords2]\n",
    "data3 = sms_raw3[new_keywords3]\n",
    "data4 = sms_raw4[new_keywords4]\n",
    "data5 = sms_raw5[new_keywords5]\n",
    "data6 = sms_raw6[new_keywords6]"
   ]
  },
  {
   "cell_type": "code",
   "execution_count": 8,
   "metadata": {},
   "outputs": [],
   "source": [
    "target = sms_raw['like']"
   ]
  },
  {
   "cell_type": "code",
   "execution_count": 9,
   "metadata": {},
   "outputs": [
    {
     "name": "stdout",
     "output_type": "stream",
     "text": [
      "With 20% Holdout: 0.63\n",
      "Testing on Sample: 0.651\n"
     ]
    }
   ],
   "source": [
    "bnb = BernoulliNB()\n",
    "X_train, X_test, y_train, y_test = train_test_split(data1, target, test_size=0.2, random_state=20)\n",
    "bnb.fit(data1, target)\n",
    "print('With 20% Holdout: ' + str(bnb.fit(X_train, y_train).score(X_test, y_test)))\n",
    "print('Testing on Sample: ' + str(bnb.fit(data1, target).score(data1, target)))"
   ]
  },
  {
   "cell_type": "code",
   "execution_count": 10,
   "metadata": {},
   "outputs": [
    {
     "data": {
      "text/plain": [
       "array([[465,  35],\n",
       "       [314, 186]], dtype=int64)"
      ]
     },
     "execution_count": 10,
     "metadata": {},
     "output_type": "execute_result"
    }
   ],
   "source": [
    "y_pred1 = bnb.predict(data1)\n",
    "confusion_matrix(target, y_pred1)"
   ]
  },
  {
   "cell_type": "code",
   "execution_count": 11,
   "metadata": {},
   "outputs": [
    {
     "name": "stdout",
     "output_type": "stream",
     "text": [
      "With 20% Holdout: 0.56\n",
      "Testing on Sample: 0.562\n"
     ]
    }
   ],
   "source": [
    "X_train, X_test, y_train, y_test = train_test_split(data2, target, test_size=0.2, random_state=20)\n",
    "bnb.fit(data2, target)\n",
    "print('With 20% Holdout: ' + str(bnb.fit(X_train, y_train).score(X_test, y_test)))\n",
    "print('Testing on Sample: ' + str(bnb.fit(data2, target).score(data2, target)))"
   ]
  },
  {
   "cell_type": "code",
   "execution_count": 12,
   "metadata": {},
   "outputs": [
    {
     "data": {
      "text/plain": [
       "array([[ 73, 427],\n",
       "       [ 11, 489]], dtype=int64)"
      ]
     },
     "execution_count": 12,
     "metadata": {},
     "output_type": "execute_result"
    }
   ],
   "source": [
    "y_pred2 = bnb.predict(data2)\n",
    "confusion_matrix(target, y_pred2)"
   ]
  },
  {
   "cell_type": "code",
   "execution_count": 13,
   "metadata": {},
   "outputs": [
    {
     "name": "stdout",
     "output_type": "stream",
     "text": [
      "With 20% Holdout: 0.575\n",
      "Testing on Sample: 0.572\n"
     ]
    }
   ],
   "source": [
    "X_train, X_test, y_train, y_test = train_test_split(data3, target, test_size=0.2, random_state=20)\n",
    "bnb.fit(data3, target)\n",
    "print('With 20% Holdout: ' + str(bnb.fit(X_train, y_train).score(X_test, y_test)))\n",
    "print('Testing on Sample: ' + str(bnb.fit(data3, target).score(data3, target)))"
   ]
  },
  {
   "cell_type": "code",
   "execution_count": 14,
   "metadata": {},
   "outputs": [
    {
     "data": {
      "text/plain": [
       "array([[495,   5],\n",
       "       [423,  77]], dtype=int64)"
      ]
     },
     "execution_count": 14,
     "metadata": {},
     "output_type": "execute_result"
    }
   ],
   "source": [
    "y_pred3 = bnb.predict(data3)\n",
    "confusion_matrix(target, y_pred3)"
   ]
  },
  {
   "cell_type": "code",
   "execution_count": 15,
   "metadata": {},
   "outputs": [
    {
     "name": "stdout",
     "output_type": "stream",
     "text": [
      "With 20% Holdout: 0.595\n",
      "Testing on Sample: 0.602\n"
     ]
    }
   ],
   "source": [
    "X_train, X_test, y_train, y_test = train_test_split(data4, target, test_size=0.2, random_state=20)\n",
    "bnb.fit(data4, target)\n",
    "print('With 20% Holdout: ' + str(bnb.fit(X_train, y_train).score(X_test, y_test)))\n",
    "print('Testing on Sample: ' + str(bnb.fit(data4, target).score(data4, target)))"
   ]
  },
  {
   "cell_type": "code",
   "execution_count": 16,
   "metadata": {},
   "outputs": [
    {
     "data": {
      "text/plain": [
       "array([[454,  46],\n",
       "       [352, 148]], dtype=int64)"
      ]
     },
     "execution_count": 16,
     "metadata": {},
     "output_type": "execute_result"
    }
   ],
   "source": [
    "y_pred4 = bnb.predict(data4)\n",
    "confusion_matrix(target, y_pred4)"
   ]
  },
  {
   "cell_type": "code",
   "execution_count": 17,
   "metadata": {},
   "outputs": [
    {
     "name": "stdout",
     "output_type": "stream",
     "text": [
      "With 20% Holdout: 0.52\n",
      "Testing on Sample: 0.555\n"
     ]
    }
   ],
   "source": [
    "X_train, X_test, y_train, y_test = train_test_split(data5, target, test_size=0.2, random_state=20)\n",
    "bnb.fit(data5, target)\n",
    "print('With 20% Holdout: ' + str(bnb.fit(X_train, y_train).score(X_test, y_test)))\n",
    "print('Testing on Sample: ' + str(bnb.fit(data5, target).score(data5, target)))"
   ]
  },
  {
   "cell_type": "code",
   "execution_count": 18,
   "metadata": {},
   "outputs": [
    {
     "data": {
      "text/plain": [
       "array([[103, 397],\n",
       "       [ 48, 452]], dtype=int64)"
      ]
     },
     "execution_count": 18,
     "metadata": {},
     "output_type": "execute_result"
    }
   ],
   "source": [
    "y_pred5 = bnb.predict(data5)\n",
    "confusion_matrix(target, y_pred5)"
   ]
  },
  {
   "cell_type": "markdown",
   "metadata": {},
   "source": [
    "#### Do any of your classifiers seem to overfit?"
   ]
  },
  {
   "cell_type": "markdown",
   "metadata": {},
   "source": [
    "No, their accuracy between test and train were all close"
   ]
  },
  {
   "cell_type": "markdown",
   "metadata": {},
   "source": [
    "#### Which seem to perform the best? Why?"
   ]
  },
  {
   "cell_type": "markdown",
   "metadata": {},
   "source": [
    "### data1 was my best classifier for this test it showed 63% accuracy in the training sample and over 65% with the test sample"
   ]
  },
  {
   "cell_type": "markdown",
   "metadata": {},
   "source": [
    "#### Which features seemed to be most impactful to performance?"
   ]
  },
  {
   "cell_type": "markdown",
   "metadata": {},
   "source": [
    "bad, menu, pretty, amazing, delicious, dont, never, would, wasnt, won't, minutes, one, never, disappointed, amazing, slow\n",
    "While good and great helped find a lot of positives reviews it also gave a lot false positives"
   ]
  },
  {
   "cell_type": "code",
   "execution_count": 19,
   "metadata": {},
   "outputs": [
    {
     "data": {
      "text/html": [
       "<div>\n",
       "<style>\n",
       "    .dataframe thead tr:only-child th {\n",
       "        text-align: right;\n",
       "    }\n",
       "\n",
       "    .dataframe thead th {\n",
       "        text-align: left;\n",
       "    }\n",
       "\n",
       "    .dataframe tbody tr th {\n",
       "        vertical-align: top;\n",
       "    }\n",
       "</style>\n",
       "<table border=\"1\" class=\"dataframe\">\n",
       "  <thead>\n",
       "    <tr style=\"text-align: right;\">\n",
       "      <th></th>\n",
       "      <th>Features</th>\n",
       "      <th>Ranking</th>\n",
       "    </tr>\n",
       "  </thead>\n",
       "  <tbody>\n",
       "    <tr>\n",
       "      <th>15</th>\n",
       "      <td>amazing</td>\n",
       "      <td>1</td>\n",
       "    </tr>\n",
       "    <tr>\n",
       "      <th>23</th>\n",
       "      <td>amazing</td>\n",
       "      <td>1</td>\n",
       "    </tr>\n",
       "    <tr>\n",
       "      <th>22</th>\n",
       "      <td>wasnt</td>\n",
       "      <td>1</td>\n",
       "    </tr>\n",
       "    <tr>\n",
       "      <th>21</th>\n",
       "      <td>wont</td>\n",
       "      <td>1</td>\n",
       "    </tr>\n",
       "    <tr>\n",
       "      <th>20</th>\n",
       "      <td>minutes</td>\n",
       "      <td>1</td>\n",
       "    </tr>\n",
       "    <tr>\n",
       "      <th>19</th>\n",
       "      <td>one</td>\n",
       "      <td>1</td>\n",
       "    </tr>\n",
       "    <tr>\n",
       "      <th>17</th>\n",
       "      <td>never</td>\n",
       "      <td>1</td>\n",
       "    </tr>\n",
       "    <tr>\n",
       "      <th>16</th>\n",
       "      <td>disappointed</td>\n",
       "      <td>1</td>\n",
       "    </tr>\n",
       "    <tr>\n",
       "      <th>29</th>\n",
       "      <td>slow</td>\n",
       "      <td>1</td>\n",
       "    </tr>\n",
       "    <tr>\n",
       "      <th>14</th>\n",
       "      <td>bad</td>\n",
       "      <td>1</td>\n",
       "    </tr>\n",
       "    <tr>\n",
       "      <th>30</th>\n",
       "      <td>definitely</td>\n",
       "      <td>1</td>\n",
       "    </tr>\n",
       "    <tr>\n",
       "      <th>4</th>\n",
       "      <td>delicious</td>\n",
       "      <td>1</td>\n",
       "    </tr>\n",
       "    <tr>\n",
       "      <th>5</th>\n",
       "      <td>dont</td>\n",
       "      <td>1</td>\n",
       "    </tr>\n",
       "    <tr>\n",
       "      <th>6</th>\n",
       "      <td>never</td>\n",
       "      <td>1</td>\n",
       "    </tr>\n",
       "    <tr>\n",
       "      <th>7</th>\n",
       "      <td>would</td>\n",
       "      <td>1</td>\n",
       "    </tr>\n",
       "    <tr>\n",
       "      <th>26</th>\n",
       "      <td>pretty</td>\n",
       "      <td>2</td>\n",
       "    </tr>\n",
       "    <tr>\n",
       "      <th>11</th>\n",
       "      <td>staff</td>\n",
       "      <td>3</td>\n",
       "    </tr>\n",
       "    <tr>\n",
       "      <th>27</th>\n",
       "      <td>loved</td>\n",
       "      <td>4</td>\n",
       "    </tr>\n",
       "    <tr>\n",
       "      <th>24</th>\n",
       "      <td>always</td>\n",
       "      <td>5</td>\n",
       "    </tr>\n",
       "    <tr>\n",
       "      <th>25</th>\n",
       "      <td>made</td>\n",
       "      <td>6</td>\n",
       "    </tr>\n",
       "    <tr>\n",
       "      <th>28</th>\n",
       "      <td>menu</td>\n",
       "      <td>7</td>\n",
       "    </tr>\n",
       "    <tr>\n",
       "      <th>12</th>\n",
       "      <td>restaurant</td>\n",
       "      <td>8</td>\n",
       "    </tr>\n",
       "    <tr>\n",
       "      <th>13</th>\n",
       "      <td>love</td>\n",
       "      <td>9</td>\n",
       "    </tr>\n",
       "    <tr>\n",
       "      <th>1</th>\n",
       "      <td>back</td>\n",
       "      <td>10</td>\n",
       "    </tr>\n",
       "    <tr>\n",
       "      <th>18</th>\n",
       "      <td>best</td>\n",
       "      <td>11</td>\n",
       "    </tr>\n",
       "    <tr>\n",
       "      <th>9</th>\n",
       "      <td>nice</td>\n",
       "      <td>12</td>\n",
       "    </tr>\n",
       "    <tr>\n",
       "      <th>0</th>\n",
       "      <td>nice</td>\n",
       "      <td>13</td>\n",
       "    </tr>\n",
       "    <tr>\n",
       "      <th>10</th>\n",
       "      <td>time</td>\n",
       "      <td>14</td>\n",
       "    </tr>\n",
       "    <tr>\n",
       "      <th>3</th>\n",
       "      <td>friendly</td>\n",
       "      <td>15</td>\n",
       "    </tr>\n",
       "    <tr>\n",
       "      <th>2</th>\n",
       "      <td>great</td>\n",
       "      <td>16</td>\n",
       "    </tr>\n",
       "    <tr>\n",
       "      <th>8</th>\n",
       "      <td>good</td>\n",
       "      <td>17</td>\n",
       "    </tr>\n",
       "  </tbody>\n",
       "</table>\n",
       "</div>"
      ],
      "text/plain": [
       "        Features  Ranking\n",
       "15       amazing        1\n",
       "23       amazing        1\n",
       "22         wasnt        1\n",
       "21          wont        1\n",
       "20       minutes        1\n",
       "19           one        1\n",
       "17         never        1\n",
       "16  disappointed        1\n",
       "29          slow        1\n",
       "14           bad        1\n",
       "30    definitely        1\n",
       "4      delicious        1\n",
       "5           dont        1\n",
       "6          never        1\n",
       "7          would        1\n",
       "26        pretty        2\n",
       "11         staff        3\n",
       "27         loved        4\n",
       "24        always        5\n",
       "25          made        6\n",
       "28          menu        7\n",
       "12    restaurant        8\n",
       "13          love        9\n",
       "1           back       10\n",
       "18          best       11\n",
       "9           nice       12\n",
       "0           nice       13\n",
       "10          time       14\n",
       "3       friendly       15\n",
       "2          great       16\n",
       "8           good       17"
      ]
     },
     "execution_count": 19,
     "metadata": {},
     "output_type": "execute_result"
    }
   ],
   "source": [
    "selectr1 = RFE(bnb)\n",
    "selector1 = selectr1.fit(data1, target)\n",
    "rankings1 = pd.DataFrame({'Features': data1.columns, 'Ranking' : selector1.ranking_})\n",
    "rankings1.sort_values('Ranking')"
   ]
  },
  {
   "cell_type": "code",
   "execution_count": 20,
   "metadata": {},
   "outputs": [
    {
     "name": "stdout",
     "output_type": "stream",
     "text": [
      "With 20% Holdout: 0.52\n",
      "Testing on Sample: 0.602\n"
     ]
    }
   ],
   "source": [
    "bnb.fit(data6, target)\n",
    "print('With 20% Holdout: ' + str(bnb.fit(X_train, y_train).score(X_test, y_test)))\n",
    "print('Testing on Sample: ' + str(bnb.fit(data6, target).score(data6, target)))"
   ]
  },
  {
   "cell_type": "code",
   "execution_count": 21,
   "metadata": {},
   "outputs": [
    {
     "data": {
      "text/plain": [
       "array([[124, 376],\n",
       "       [ 22, 478]], dtype=int64)"
      ]
     },
     "execution_count": 21,
     "metadata": {},
     "output_type": "execute_result"
    }
   ],
   "source": [
    "y_pred6 = bnb.predict(data6)\n",
    "confusion_matrix(target, y_pred6)"
   ]
  }
 ],
 "metadata": {
  "kernelspec": {
   "display_name": "Python 3",
   "language": "python",
   "name": "python3"
  },
  "language_info": {
   "codemirror_mode": {
    "name": "ipython",
    "version": 3
   },
   "file_extension": ".py",
   "mimetype": "text/x-python",
   "name": "python",
   "nbconvert_exporter": "python",
   "pygments_lexer": "ipython3",
   "version": "3.6.3"
  }
 },
 "nbformat": 4,
 "nbformat_minor": 2
}
