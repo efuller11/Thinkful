{
 "cells": [
  {
   "cell_type": "markdown",
   "metadata": {},
   "source": [
    "# Challenge Boston Marathon"
   ]
  },
  {
   "cell_type": "code",
   "execution_count": 1,
   "metadata": {},
   "outputs": [],
   "source": [
    "import numpy as np\n",
    "import pandas as pd\n",
    "import scipy\n",
    "import matplotlib.pyplot as plt\n",
    "import seaborn as sns\n",
    "%matplotlib inline\n",
    "from sklearn.cluster import KMeans\n",
    "from sklearn.preprocessing import normalize\n",
    "from sklearn.model_selection import train_test_split\n",
    "from sklearn.decomposition import PCA\n",
    "import itertools\n",
    "from sklearn import metrics\n",
    "from sklearn.metrics import pairwise_distances\n",
    "from sklearn.datasets.samples_generator import make_blobs\n",
    "from sklearn.cluster import MeanShift, estimate_bandwidth\n",
    "from sklearn.cluster import MiniBatchKMeans\n",
    "from scipy.spatial.distance import cdist, pdist"
   ]
  },
  {
   "cell_type": "markdown",
   "metadata": {},
   "source": [
    "## The Dataset"
   ]
  },
  {
   "cell_type": "code",
   "execution_count": 2,
   "metadata": {},
   "outputs": [],
   "source": [
    "df = pd.read_csv('https://raw.githubusercontent.com/llimllib/bostonmarathon/master/results/2012/results.csv', header=None, error_bad_lines=False)"
   ]
  },
  {
   "cell_type": "markdown",
   "metadata": {},
   "source": [
    "This is the data from Github and is that data from the 2012 Boston Marathon race. The URL is above. This race is 26 miles long"
   ]
  },
  {
   "cell_type": "markdown",
   "metadata": {},
   "source": [
    "## Explore"
   ]
  },
  {
   "cell_type": "code",
   "execution_count": 3,
   "metadata": {},
   "outputs": [
    {
     "data": {
      "text/html": [
       "<div>\n",
       "<style>\n",
       "    .dataframe thead tr:only-child th {\n",
       "        text-align: right;\n",
       "    }\n",
       "\n",
       "    .dataframe thead th {\n",
       "        text-align: left;\n",
       "    }\n",
       "\n",
       "    .dataframe tbody tr th {\n",
       "        vertical-align: top;\n",
       "    }\n",
       "</style>\n",
       "<table border=\"1\" class=\"dataframe\">\n",
       "  <thead>\n",
       "    <tr style=\"text-align: right;\">\n",
       "      <th></th>\n",
       "      <th>0</th>\n",
       "      <th>1</th>\n",
       "      <th>2</th>\n",
       "      <th>3</th>\n",
       "      <th>4</th>\n",
       "      <th>5</th>\n",
       "      <th>6</th>\n",
       "      <th>7</th>\n",
       "      <th>8</th>\n",
       "      <th>9</th>\n",
       "      <th>10</th>\n",
       "      <th>11</th>\n",
       "    </tr>\n",
       "  </thead>\n",
       "  <tbody>\n",
       "    <tr>\n",
       "      <th>count</th>\n",
       "      <td>21653</td>\n",
       "      <td>21653</td>\n",
       "      <td>21653</td>\n",
       "      <td>21653</td>\n",
       "      <td>21653</td>\n",
       "      <td>21653</td>\n",
       "      <td>21653</td>\n",
       "      <td>21653</td>\n",
       "      <td>19881</td>\n",
       "      <td>21653</td>\n",
       "      <td>21653</td>\n",
       "      <td>21653</td>\n",
       "    </tr>\n",
       "    <tr>\n",
       "      <th>unique</th>\n",
       "      <td>21653</td>\n",
       "      <td>21622</td>\n",
       "      <td>4976</td>\n",
       "      <td>3</td>\n",
       "      <td>66</td>\n",
       "      <td>9571</td>\n",
       "      <td>21653</td>\n",
       "      <td>21653</td>\n",
       "      <td>68</td>\n",
       "      <td>21653</td>\n",
       "      <td>9393</td>\n",
       "      <td>61</td>\n",
       "    </tr>\n",
       "    <tr>\n",
       "      <th>top</th>\n",
       "      <td>1081     / 4599</td>\n",
       "      <td>Sullivan, Michael P.</td>\n",
       "      <td>Boston</td>\n",
       "      <td>M</td>\n",
       "      <td>45</td>\n",
       "      <td>-</td>\n",
       "      <td>10395</td>\n",
       "      <td>1279     / 21616</td>\n",
       "      <td>MA</td>\n",
       "      <td>4735     / 8995</td>\n",
       "      <td>245.27</td>\n",
       "      <td>USA</td>\n",
       "    </tr>\n",
       "    <tr>\n",
       "      <th>freq</th>\n",
       "      <td>1</td>\n",
       "      <td>2</td>\n",
       "      <td>500</td>\n",
       "      <td>12648</td>\n",
       "      <td>905</td>\n",
       "      <td>76</td>\n",
       "      <td>1</td>\n",
       "      <td>1</td>\n",
       "      <td>4030</td>\n",
       "      <td>1</td>\n",
       "      <td>11</td>\n",
       "      <td>18064</td>\n",
       "    </tr>\n",
       "  </tbody>\n",
       "</table>\n",
       "</div>"
      ],
      "text/plain": [
       "                     0                     1       2      3      4      5   \\\n",
       "count             21653                 21653   21653  21653  21653  21653   \n",
       "unique            21653                 21622    4976      3     66   9571   \n",
       "top     1081     / 4599  Sullivan, Michael P.  Boston      M     45      -   \n",
       "freq                  1                     2     500  12648    905     76   \n",
       "\n",
       "           6                 7      8                9       10     11  \n",
       "count   21653             21653  19881            21653   21653  21653  \n",
       "unique  21653             21653     68            21653    9393     61  \n",
       "top     10395  1279     / 21616     MA  4735     / 8995  245.27    USA  \n",
       "freq        1                 1   4030                1      11  18064  "
      ]
     },
     "execution_count": 3,
     "metadata": {},
     "output_type": "execute_result"
    }
   ],
   "source": [
    "df.describe()"
   ]
  },
  {
   "cell_type": "code",
   "execution_count": 4,
   "metadata": {},
   "outputs": [
    {
     "data": {
      "text/html": [
       "<div>\n",
       "<style>\n",
       "    .dataframe thead tr:only-child th {\n",
       "        text-align: right;\n",
       "    }\n",
       "\n",
       "    .dataframe thead th {\n",
       "        text-align: left;\n",
       "    }\n",
       "\n",
       "    .dataframe tbody tr th {\n",
       "        vertical-align: top;\n",
       "    }\n",
       "</style>\n",
       "<table border=\"1\" class=\"dataframe\">\n",
       "  <thead>\n",
       "    <tr style=\"text-align: right;\">\n",
       "      <th></th>\n",
       "      <th>0</th>\n",
       "      <th>1</th>\n",
       "      <th>2</th>\n",
       "      <th>3</th>\n",
       "      <th>4</th>\n",
       "      <th>5</th>\n",
       "      <th>6</th>\n",
       "      <th>7</th>\n",
       "      <th>8</th>\n",
       "      <th>9</th>\n",
       "      <th>10</th>\n",
       "      <th>11</th>\n",
       "    </tr>\n",
       "  </thead>\n",
       "  <tbody>\n",
       "    <tr>\n",
       "      <th>0</th>\n",
       "      <td>division</td>\n",
       "      <td>name</td>\n",
       "      <td>city</td>\n",
       "      <td>gender</td>\n",
       "      <td>age</td>\n",
       "      <td>official</td>\n",
       "      <td>bib</td>\n",
       "      <td>overall</td>\n",
       "      <td>state</td>\n",
       "      <td>genderdiv</td>\n",
       "      <td>net</td>\n",
       "      <td>country</td>\n",
       "    </tr>\n",
       "    <tr>\n",
       "      <th>1</th>\n",
       "      <td>4        / 26</td>\n",
       "      <td>Soejima, Masazumi</td>\n",
       "      <td>Fukuoka City</td>\n",
       "      <td>M</td>\n",
       "      <td>41</td>\n",
       "      <td>83.45</td>\n",
       "      <td>W1</td>\n",
       "      <td>4        / 35</td>\n",
       "      <td>NaN</td>\n",
       "      <td>4        / 26</td>\n",
       "      <td>83.45</td>\n",
       "      <td>JPN</td>\n",
       "    </tr>\n",
       "    <tr>\n",
       "      <th>2</th>\n",
       "      <td>14       / 4335</td>\n",
       "      <td>Gebremariam, Gebregziabher</td>\n",
       "      <td>Tigray</td>\n",
       "      <td>M</td>\n",
       "      <td>27</td>\n",
       "      <td>142.93</td>\n",
       "      <td>2</td>\n",
       "      <td>14       / 21616</td>\n",
       "      <td>NaN</td>\n",
       "      <td>14       / 12621</td>\n",
       "      <td>142.93</td>\n",
       "      <td>ETH</td>\n",
       "    </tr>\n",
       "    <tr>\n",
       "      <th>3</th>\n",
       "      <td>6        / 26</td>\n",
       "      <td>Van Dyk, Ernst F.</td>\n",
       "      <td>Paarl</td>\n",
       "      <td>M</td>\n",
       "      <td>39</td>\n",
       "      <td>84.38</td>\n",
       "      <td>W2</td>\n",
       "      <td>6        / 35</td>\n",
       "      <td>NaN</td>\n",
       "      <td>6        / 26</td>\n",
       "      <td>84.38</td>\n",
       "      <td>RSA</td>\n",
       "    </tr>\n",
       "    <tr>\n",
       "      <th>4</th>\n",
       "      <td>2        / 26</td>\n",
       "      <td>Fearnley, Kurt H.</td>\n",
       "      <td>Hamilton</td>\n",
       "      <td>M</td>\n",
       "      <td>31</td>\n",
       "      <td>81.65</td>\n",
       "      <td>W3</td>\n",
       "      <td>2        / 35</td>\n",
       "      <td>NaN</td>\n",
       "      <td>2        / 26</td>\n",
       "      <td>81.65</td>\n",
       "      <td>AUS</td>\n",
       "    </tr>\n",
       "  </tbody>\n",
       "</table>\n",
       "</div>"
      ],
      "text/plain": [
       "                0                           1             2       3    4   \\\n",
       "0         division                        name          city  gender  age   \n",
       "1    4        / 26           Soejima, Masazumi  Fukuoka City       M   41   \n",
       "2  14       / 4335  Gebremariam, Gebregziabher        Tigray       M   27   \n",
       "3    6        / 26           Van Dyk, Ernst F.         Paarl       M   39   \n",
       "4    2        / 26           Fearnley, Kurt H.      Hamilton       M   31   \n",
       "\n",
       "         5    6                 7      8                 9       10       11  \n",
       "0  official  bib           overall  state         genderdiv     net  country  \n",
       "1     83.45   W1     4        / 35    NaN     4        / 26   83.45      JPN  \n",
       "2    142.93    2  14       / 21616    NaN  14       / 12621  142.93      ETH  \n",
       "3     84.38   W2     6        / 35    NaN     6        / 26   84.38      RSA  \n",
       "4     81.65   W3     2        / 35    NaN     2        / 26   81.65      AUS  "
      ]
     },
     "execution_count": 4,
     "metadata": {},
     "output_type": "execute_result"
    }
   ],
   "source": [
    "df.head()"
   ]
  },
  {
   "cell_type": "code",
   "execution_count": 5,
   "metadata": {},
   "outputs": [
    {
     "data": {
      "text/plain": [
       "Int64Index([0, 1, 2, 3, 4, 5, 6, 7, 8, 9, 10, 11], dtype='int64')"
      ]
     },
     "execution_count": 5,
     "metadata": {},
     "output_type": "execute_result"
    }
   ],
   "source": [
    "df.columns"
   ]
  },
  {
   "cell_type": "code",
   "execution_count": 6,
   "metadata": {},
   "outputs": [],
   "source": [
    "df.columns = ['0', '1', '2', '3', '4', '5', '6','7', '8', '9', '10', '11']"
   ]
  },
  {
   "cell_type": "code",
   "execution_count": 7,
   "metadata": {},
   "outputs": [],
   "source": [
    "# dropped all catagorical variables except gender and dropped net time because I had the offical time, these two features should be nearly identical\n",
    "race_df = df.drop(['6', '8', '11', '1', '2', '10'], 1)"
   ]
  },
  {
   "cell_type": "code",
   "execution_count": 8,
   "metadata": {},
   "outputs": [],
   "source": [
    "# Rename columns to better identify them later\n",
    "race_df.columns = ['Division', 'Gender', 'Age', 'Official', 'Overall', 'GenderDiv']"
   ]
  },
  {
   "cell_type": "code",
   "execution_count": 9,
   "metadata": {},
   "outputs": [
    {
     "data": {
      "text/plain": [
       "(21653, 6)"
      ]
     },
     "execution_count": 9,
     "metadata": {},
     "output_type": "execute_result"
    }
   ],
   "source": [
    "# Shape of dataset\n",
    "race_df.shape"
   ]
  },
  {
   "cell_type": "code",
   "execution_count": 10,
   "metadata": {},
   "outputs": [
    {
     "data": {
      "text/plain": [
       "Series([], dtype: int64)"
      ]
     },
     "execution_count": 10,
     "metadata": {},
     "output_type": "execute_result"
    }
   ],
   "source": [
    "# No Nulls\n",
    "null_count = race_df.isnull().sum()\n",
    "null_count[null_count>0]"
   ]
  },
  {
   "cell_type": "code",
   "execution_count": 11,
   "metadata": {},
   "outputs": [],
   "source": [
    "# Had a few things in the dataset that would error conversions\n",
    "race_df['Division'] = race_df['Division'].str.replace('/', '')\n",
    "race_df['Division'] = race_df['Division'].str.replace(' ', '')\n",
    "race_df['GenderDiv'] = race_df['GenderDiv'].str.replace('/', '')\n",
    "race_df['GenderDiv'] = race_df['GenderDiv'].str.replace(' ', '')\n",
    "race_df['Overall'] = race_df['Overall'].str.replace('/ 21616', '')\n",
    "race_df['Overall'] = race_df['Overall'].str.replace(' ', '')\n",
    "race_df['Overall'] = race_df['Overall'].str.replace('/35', '')\n",
    "race_df['Official'] = race_df['Official'].str.replace('-', '')\n",
    "race_df['Overall'] = race_df['Overall'].str.replace('/22', '')\n",
    "race_df['Overall'] = race_df['Overall'].str.replace('/21', '')"
   ]
  },
  {
   "cell_type": "code",
   "execution_count": 12,
   "metadata": {},
   "outputs": [],
   "source": [
    "race_df = race_df.dropna(how = 'any')"
   ]
  },
  {
   "cell_type": "code",
   "execution_count": 13,
   "metadata": {},
   "outputs": [],
   "source": [
    "#dropped the top row that should have been the column names\n",
    "race_df = race_df.drop(race_df.index[0])"
   ]
  },
  {
   "cell_type": "code",
   "execution_count": 14,
   "metadata": {},
   "outputs": [],
   "source": [
    "race_df['Official'] = pd.to_numeric(race_df['Official'], errors='coerce')"
   ]
  },
  {
   "cell_type": "code",
   "execution_count": 15,
   "metadata": {},
   "outputs": [],
   "source": [
    "race_df['Overall'] = race_df['Overall'].astype(int)\n",
    "race_df['Age'] = race_df['Age'].astype(int)\n",
    "race_df['Official'] = race_df['Official'].astype(float)\n",
    "race_df['Division'] = race_df['Division'].astype(int)\n",
    "race_df['GenderDiv'] = race_df['GenderDiv'].astype(int)"
   ]
  },
  {
   "cell_type": "code",
   "execution_count": 16,
   "metadata": {},
   "outputs": [
    {
     "data": {
      "text/html": [
       "<div>\n",
       "<style>\n",
       "    .dataframe thead tr:only-child th {\n",
       "        text-align: right;\n",
       "    }\n",
       "\n",
       "    .dataframe thead th {\n",
       "        text-align: left;\n",
       "    }\n",
       "\n",
       "    .dataframe tbody tr th {\n",
       "        vertical-align: top;\n",
       "    }\n",
       "</style>\n",
       "<table border=\"1\" class=\"dataframe\">\n",
       "  <thead>\n",
       "    <tr style=\"text-align: right;\">\n",
       "      <th></th>\n",
       "      <th>Division</th>\n",
       "      <th>Age</th>\n",
       "      <th>Official</th>\n",
       "      <th>Overall</th>\n",
       "      <th>GenderDiv</th>\n",
       "    </tr>\n",
       "  </thead>\n",
       "  <tbody>\n",
       "    <tr>\n",
       "      <th>count</th>\n",
       "      <td>2.165200e+04</td>\n",
       "      <td>21652.000000</td>\n",
       "      <td>21576.000000</td>\n",
       "      <td>21652.000000</td>\n",
       "      <td>2.165200e+04</td>\n",
       "    </tr>\n",
       "    <tr>\n",
       "      <th>mean</th>\n",
       "      <td>1.347936e+07</td>\n",
       "      <td>41.836135</td>\n",
       "      <td>262.798014</td>\n",
       "      <td>10790.559163</td>\n",
       "      <td>3.865670e+08</td>\n",
       "    </tr>\n",
       "    <tr>\n",
       "      <th>std</th>\n",
       "      <td>1.209416e+07</td>\n",
       "      <td>10.858308</td>\n",
       "      <td>50.383191</td>\n",
       "      <td>6250.436211</td>\n",
       "      <td>4.015488e+08</td>\n",
       "    </tr>\n",
       "    <tr>\n",
       "      <th>min</th>\n",
       "      <td>1.100000e+01</td>\n",
       "      <td>18.000000</td>\n",
       "      <td>78.420000</td>\n",
       "      <td>1.000000</td>\n",
       "      <td>1.900000e+01</td>\n",
       "    </tr>\n",
       "    <tr>\n",
       "      <th>25%</th>\n",
       "      <td>3.622196e+06</td>\n",
       "      <td>33.000000</td>\n",
       "      <td>228.645000</td>\n",
       "      <td>5377.750000</td>\n",
       "      <td>4.890650e+07</td>\n",
       "    </tr>\n",
       "    <tr>\n",
       "      <th>50%</th>\n",
       "      <td>1.039148e+07</td>\n",
       "      <td>42.000000</td>\n",
       "      <td>255.720000</td>\n",
       "      <td>10790.500000</td>\n",
       "      <td>1.795626e+08</td>\n",
       "    </tr>\n",
       "    <tr>\n",
       "      <th>75%</th>\n",
       "      <td>1.949440e+07</td>\n",
       "      <td>50.000000</td>\n",
       "      <td>290.630000</td>\n",
       "      <td>16203.250000</td>\n",
       "      <td>7.208376e+08</td>\n",
       "    </tr>\n",
       "    <tr>\n",
       "      <th>max</th>\n",
       "      <td>4.599460e+07</td>\n",
       "      <td>83.000000</td>\n",
       "      <td>475.320000</td>\n",
       "      <td>21616.000000</td>\n",
       "      <td>1.262113e+09</td>\n",
       "    </tr>\n",
       "  </tbody>\n",
       "</table>\n",
       "</div>"
      ],
      "text/plain": [
       "           Division           Age      Official       Overall     GenderDiv\n",
       "count  2.165200e+04  21652.000000  21576.000000  21652.000000  2.165200e+04\n",
       "mean   1.347936e+07     41.836135    262.798014  10790.559163  3.865670e+08\n",
       "std    1.209416e+07     10.858308     50.383191   6250.436211  4.015488e+08\n",
       "min    1.100000e+01     18.000000     78.420000      1.000000  1.900000e+01\n",
       "25%    3.622196e+06     33.000000    228.645000   5377.750000  4.890650e+07\n",
       "50%    1.039148e+07     42.000000    255.720000  10790.500000  1.795626e+08\n",
       "75%    1.949440e+07     50.000000    290.630000  16203.250000  7.208376e+08\n",
       "max    4.599460e+07     83.000000    475.320000  21616.000000  1.262113e+09"
      ]
     },
     "execution_count": 16,
     "metadata": {},
     "output_type": "execute_result"
    }
   ],
   "source": [
    "# much better\n",
    "race_df.describe()"
   ]
  },
  {
   "cell_type": "markdown",
   "metadata": {},
   "source": [
    "## Exploring with graphs"
   ]
  },
  {
   "cell_type": "code",
   "execution_count": 17,
   "metadata": {},
   "outputs": [
    {
     "data": {
      "image/png": "[encoded data removed]",
      "text/plain": [
       "<matplotlib.figure.Figure at 0x219f98fd2e8>"
      ]
     },
     "metadata": {},
     "output_type": "display_data"
    }
   ],
   "source": [
    "plt.figure(figsize=(12, 7))\n",
    "sns.distplot(race_df['Age'])\n",
    "plt.title('Age Distribution')\n",
    "plt.xlim(15, 83)\n",
    "plt.grid(True)\n",
    "plt.show()"
   ]
  },
  {
   "cell_type": "code",
   "execution_count": 18,
   "metadata": {},
   "outputs": [
    {
     "data": {
      "image/png": "[encoded data removed]",
      "text/plain": [
       "<matplotlib.figure.Figure at 0x219f98e5b70>"
      ]
     },
     "metadata": {},
     "output_type": "display_data"
    }
   ],
   "source": [
    "plt.figure(figsize=(12, 7))\n",
    "sns.countplot(race_df['Gender'])\n",
    "plt.title('Gender Split')\n",
    "plt.show()"
   ]
  },
  {
   "cell_type": "code",
   "execution_count": 19,
   "metadata": {},
   "outputs": [
    {
     "data": {
      "image/png": "[encoded data removed]",
      "text/plain": [
       "<matplotlib.figure.Figure at 0x219f80b0438>"
      ]
     },
     "metadata": {},
     "output_type": "display_data"
    }
   ],
   "source": [
    "plt.figure(figsize=(12, 7))\n",
    "sns.boxplot(race_df['Official'])\n",
    "plt.title('Offical times boxplot')\n",
    "plt.xlabel('Offical times')\n",
    "plt.show()"
   ]
  },
  {
   "cell_type": "code",
   "execution_count": 20,
   "metadata": {},
   "outputs": [
    {
     "data": {
      "image/png": "[encoded data removed]",
      "text/plain": [
       "<matplotlib.figure.Figure at 0x219f82260b8>"
      ]
     },
     "metadata": {},
     "output_type": "display_data"
    }
   ],
   "source": [
    "plt.figure(figsize=(12, 7))\n",
    "sns.boxplot(race_df['Overall'])\n",
    "plt.title('Offical times boxplot')\n",
    "plt.show()"
   ]
  },
  {
   "cell_type": "code",
   "execution_count": 21,
   "metadata": {},
   "outputs": [],
   "source": [
    "# In order to tranform Gender to use integers rather than strings\n",
    "race_df['Gender']= race_df['Gender'].apply(lambda x: 1 if x == 'M' else 0)"
   ]
  },
  {
   "cell_type": "code",
   "execution_count": 22,
   "metadata": {},
   "outputs": [],
   "source": [
    "# It makes the most sense to have Offical be the predicting factor, \n",
    "X= race_df.drop(['Official'], 1)\n",
    "y = race_df['Official']"
   ]
  },
  {
   "cell_type": "markdown",
   "metadata": {},
   "source": [
    "## Cluster models"
   ]
  },
  {
   "cell_type": "code",
   "execution_count": 23,
   "metadata": {},
   "outputs": [],
   "source": [
    "# function for finding the best cluster number\n",
    "def elbow(df, n):\n",
    "    kMeansVar = [KMeans(n_clusters=k).fit(df.values) for k in range(1, n)]\n",
    "    centroids = [X.cluster_centers_ for X in kMeansVar]\n",
    "    k_euclid = [cdist(df.values, cent) for cent in centroids]\n",
    "    dist = [np.min(ke, axis=1) for ke in k_euclid]\n",
    "    wcss = [sum(d**2) for d in dist]\n",
    "    tss = sum(pdist(df.values)**2)/df.values.shape[0]\n",
    "    bss = tss - wcss\n",
    "    plt.plot(bss)\n",
    "    plt.title('best cluster amount')\n",
    "    plt.grid(True)\n",
    "    plt.show()"
   ]
  },
  {
   "cell_type": "code",
   "execution_count": 25,
   "metadata": {},
   "outputs": [
    {
     "data": {
      "image/png": "[encoded data removed]",
      "text/plain": [
       "<matplotlib.figure.Figure at 0x219f8237898>"
      ]
     },
     "metadata": {},
     "output_type": "display_data"
    }
   ],
   "source": [
    "elbow(X, 10)"
   ]
  },
  {
   "cell_type": "markdown",
   "metadata": {},
   "source": [
    "The large bends are at 1 and 2, after 5 clusters the graph shows very little difference, we chose 3 for this project"
   ]
  },
  {
   "cell_type": "markdown",
   "metadata": {},
   "source": [
    "## KMeans"
   ]
  },
  {
   "cell_type": "code",
   "execution_count": 55,
   "metadata": {
    "collapsed": true
   },
   "outputs": [],
   "source": [
    "race_df['y_pred'] = KMeans(n_clusters=3).fit_predict(X)"
   ]
  },
  {
   "cell_type": "code",
   "execution_count": 59,
   "metadata": {},
   "outputs": [
    {
     "data": {
      "image/png": "[encoded data removed]",
      "text/plain": [
       "<matplotlib.figure.Figure at 0x219ff8fd0b8>"
      ]
     },
     "metadata": {},
     "output_type": "display_data"
    }
   ],
   "source": [
    "# Plotting Age and gender features with the clusters. Remember that for gender 1=male and 0=female\n",
    "sns.boxplot(x= X.values[:, 1], y= X.values[:, 2], hue= race_df['y_pred'])\n",
    "plt.xlabel('Gender')\n",
    "plt.ylabel('Age')\n",
    "plt.tight_layout()\n",
    "plt.title('Boxplots of the clusters, the age ranges, seperated by gender')\n",
    "plt.show()"
   ]
  },
  {
   "cell_type": "markdown",
   "metadata": {},
   "source": [
    "The orange group covers the lowest age range for men and all the women. The orange cluster for men also does not have any outliers."
   ]
  },
  {
   "cell_type": "code",
   "execution_count": 78,
   "metadata": {},
   "outputs": [
    {
     "data": {
      "image/png": "[encoded data removed]",
      "text/plain": [
       "<matplotlib.figure.Figure at 0x21a1bd88ef0>"
      ]
     },
     "metadata": {},
     "output_type": "display_data"
    }
   ],
   "source": [
    "# Plotting ranking and gender features with the clusters. Remember that for gender 1=male and 0=female\n",
    "sns.boxplot(x= X.values[:, 1], y= X.values[:, 3], hue= race_df['y_pred'])\n",
    "plt.xlabel('Gender')\n",
    "plt.ylabel('Overall')\n",
    "plt.title('Boxplots of the clusters, the overall ranking, seperated by gender')\n",
    "plt.show()"
   ]
  },
  {
   "cell_type": "markdown",
   "metadata": {},
   "source": [
    "## MiniBatch KMeans"
   ]
  },
  {
   "cell_type": "code",
   "execution_count": 71,
   "metadata": {},
   "outputs": [
    {
     "name": "stdout",
     "output_type": "stream",
     "text": [
      "Comparing k-means and mini batch k-means solutions:\n",
      "col_0      0     1     2\n",
      "row_0                   \n",
      "0          0     0  2917\n",
      "1          0  2159   569\n",
      "2      10716     0     0\n",
      "3       1415     0  1268\n",
      "4          0  2608     0\n"
     ]
    }
   ],
   "source": [
    "minibatchkmeans = MiniBatchKMeans(\n",
    "    init='random',\n",
    "    n_clusters=3,\n",
    "    batch_size=200)\n",
    "minibatchkmeans.fit(X)\n",
    "\n",
    "# Add the new predicted cluster memberships to the data frame.\n",
    "race_df['predict_mini'] = minibatchkmeans.predict(X)\n",
    "\n",
    "# Check the MiniBatch model against our earlier one.\n",
    "print('Comparing k-means and mini batch k-means solutions:')\n",
    "print(pd.crosstab(predict_mini, y_pred))"
   ]
  },
  {
   "cell_type": "code",
   "execution_count": 72,
   "metadata": {},
   "outputs": [
    {
     "data": {
      "image/png": "[encoded data removed]",
      "text/plain": [
       "<matplotlib.figure.Figure at 0x21a1bd6a828>"
      ]
     },
     "metadata": {},
     "output_type": "display_data"
    }
   ],
   "source": [
    "# Plotting Age and gender features with the clusters. Remember that for gender 1=male and 0=female\n",
    "sns.boxplot(x= X.values[:, 1], y= X.values[:, 2], hue= race_df['predict_mini'])\n",
    "plt.xlabel('Gender')\n",
    "plt.ylabel('Age')\n",
    "plt.tight_layout()\n",
    "plt.title('Boxplots of the clusters, the age ranges, seperated by gender')\n",
    "plt.show()"
   ]
  },
  {
   "cell_type": "code",
   "execution_count": 79,
   "metadata": {},
   "outputs": [
    {
     "data": {
      "image/png": "[encoded data removed]",
      "text/plain": [
       "<matplotlib.figure.Figure at 0x21a1d471630>"
      ]
     },
     "metadata": {},
     "output_type": "display_data"
    }
   ],
   "source": [
    "# Plotting ranking and gender features with the clusters. Remember that for gender 1=male and 0=female\n",
    "sns.boxplot(x= X.values[:, 1], y= X.values[:, 3], hue= race_df['predict_mini'])\n",
    "plt.xlabel('Gender')\n",
    "plt.ylabel('Overall')\n",
    "plt.title('Boxplots of the clusters, the overall ranking, seperated by gender')\n",
    "plt.show()"
   ]
  },
  {
   "cell_type": "markdown",
   "metadata": {},
   "source": [
    "The orange group covers the lowest age range for men and all the women. The orange cluster for men has outliers unlike the K-means group."
   ]
  },
  {
   "cell_type": "markdown",
   "metadata": {},
   "source": [
    "## MeanShift"
   ]
  },
  {
   "cell_type": "code",
   "execution_count": 69,
   "metadata": {},
   "outputs": [
    {
     "name": "stdout",
     "output_type": "stream",
     "text": [
      "Number of estimated clusters: 6\n"
     ]
    }
   ],
   "source": [
    "bandwidth = estimate_bandwidth(X, quantile=0.2, n_samples=500)\n",
    "ms = MeanShift(bandwidth=bandwidth, bin_seeding=True)\n",
    "ms.fit(X)\n",
    "\n",
    "# Extract cluster assignments for each data point.\n",
    "race_df['labels'] = ms.labels_\n",
    "\n",
    "# Coordinates of the cluster centers.\n",
    "cluster_centers = ms.cluster_centers_\n",
    "# Count our clusters.\n",
    "n_clusters_ = len(np.unique(labels))\n",
    "print(\"Number of estimated clusters: {}\".format(n_clusters_))"
   ]
  },
  {
   "cell_type": "code",
   "execution_count": 70,
   "metadata": {},
   "outputs": [
    {
     "data": {
      "image/png": "[encoded data removed]",
      "text/plain": [
       "<matplotlib.figure.Figure at 0x21a1bcd5f60>"
      ]
     },
     "metadata": {},
     "output_type": "display_data"
    }
   ],
   "source": [
    "# Plotting Age and gender features with the clusters. Remember that for gender 1=male and 0=female\n",
    "sns.boxplot(x= X.values[:, 1], y= X.values[:, 2], hue= race_df['labels'])\n",
    "plt.xlabel('Gender')\n",
    "plt.ylabel('Age')\n",
    "plt.tight_layout()\n",
    "plt.title('Boxplots of the clusters, the age ranges, seperated by gender')\n",
    "plt.show()"
   ]
  },
  {
   "cell_type": "markdown",
   "metadata": {},
   "source": [
    "The blue cluster covers the lowest age range for men and all the women, just like the orange clusters from earlier. The brown cluster covers a larger age range than the rest."
   ]
  },
  {
   "cell_type": "code",
   "execution_count": 80,
   "metadata": {},
   "outputs": [
    {
     "data": {
      "image/png": "[encoded data removed]",
      "text/plain": [
       "<matplotlib.figure.Figure at 0x21a1d5199e8>"
      ]
     },
     "metadata": {},
     "output_type": "display_data"
    }
   ],
   "source": [
    "# Plotting ranking and gender features with the clusters. Remember that for gender 1=male and 0=female\n",
    "sns.boxplot(x= X.values[:, 1], y= X.values[:, 3], hue= race_df['labels'])\n",
    "plt.xlabel('Gender')\n",
    "plt.ylabel('Overall')\n",
    "plt.title('Boxplots of the clusters, the overall ranking, seperated by gender')\n",
    "plt.show()"
   ]
  },
  {
   "cell_type": "markdown",
   "metadata": {},
   "source": [
    "## Conclusion"
   ]
  },
  {
   "cell_type": "markdown",
   "metadata": {},
   "source": [
    "Using the boxplots made the clusters much easier to read and understand than a scatterplot what was happening.  I can now see why my mentor recommended me try that. Even though they were all different methods of clustering I found they all had a preference to cluster the female group with the lowest age range of men. The three clustering methods all chose to do that. The female group was consistant in the same cluster with all three methods, even with meanshift which used 6 clusters rather than 3. The clusters show me the the men's group was more difficult to group into cluster than the female group, therefore the men were show in more clusters. I was debating on whether I should have thrown out the division features, but I had thought they might have grouped the divisions by skill/speed , but was unsure and didn't see it whether or not that was the case."
   ]
  }
 ],
 "metadata": {
  "kernelspec": {
   "display_name": "Python 3",
   "language": "python",
   "name": "python3"
  },
  "language_info": {
   "codemirror_mode": {
    "name": "ipython",
    "version": 3
   },
   "file_extension": ".py",
   "mimetype": "text/x-python",
   "name": "python",
   "nbconvert_exporter": "python",
   "pygments_lexer": "ipython3",
   "version": "3.6.3"
  }
 },
 "nbformat": 4,
 "nbformat_minor": 2
}
