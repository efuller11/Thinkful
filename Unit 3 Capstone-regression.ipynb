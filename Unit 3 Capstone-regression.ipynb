{
 "cells": [
  {
   "cell_type": "markdown",
   "metadata": {},
   "source": [
    "# Unit 3 Capstone "
   ]
  },
  {
   "cell_type": "code",
   "execution_count": 105,
   "metadata": {
    "collapsed": true
   },
   "outputs": [],
   "source": [
    "%matplotlib inline\n",
    "import numpy as np\n",
    "import pandas as pd\n",
    "import scipy\n",
    "import sklearn\n",
    "import matplotlib.pyplot as plt\n",
    "import seaborn as sns\n",
    "from sklearn.naive_bayes import BernoulliNB\n",
    "import matplotlib.patches as mpatches\n",
    "from sklearn.model_selection import cross_val_score\n",
    "from sklearn import ensemble\n",
    "from sklearn.decomposition import PCA\n",
    "from sklearn.svm import SVR\n",
    "from sklearn.metrics import confusion_matrix\n",
    "from sklearn.neighbors import KDTree\n",
    "from sklearn.neighbors import KNeighborsRegressor\n",
    "from sklearn.model_selection import GridSearchCV\n",
    "from sklearn.neighbors import KNeighborsClassifier\n",
    "from sklearn.linear_model import LogisticRegression"
   ]
  },
  {
   "cell_type": "markdown",
   "metadata": {},
   "source": [
    "## The Dataset"
   ]
  },
  {
   "cell_type": "markdown",
   "metadata": {},
   "source": [
    "This data can be found on Kaggle https://www.kaggle.com/passnyc/data-science-for-good#2016%20School%20Explorer.csv and was provided by PASSNYC. The dataset includes 1272 schools in the New York City area. The purpose for the data is to find the schools that need the most attention. The test scores are from a test called SHSAT, which is a high school admission examination given to student before acceptance into one of the city's specialized high schools among the eight that require this test. This test is only given to eighth and nineth grade students. Only students that wish to attend the more prestigious more specialized schools will have to take the SHSAT. I also one to mention that the definition used for rigorous instruction is a little different from how I would normally use it and I wanted to clarify their definition. The school dataset provider's definition for rigorous instruction is how well the students were engaged during the curriculum."
   ]
  },
  {
   "cell_type": "code",
   "execution_count": 2,
   "metadata": {
    "collapsed": true
   },
   "outputs": [],
   "source": [
    "df = pd.read_csv('2016 School Explorer.csv')"
   ]
  },
  {
   "cell_type": "markdown",
   "metadata": {},
   "source": [
    "## Exploring the dataset"
   ]
  },
  {
   "cell_type": "code",
   "execution_count": 3,
   "metadata": {},
   "outputs": [
    {
     "name": "stdout",
     "output_type": "stream",
     "text": [
      "'Adjusted Grade',\n",
      "'New?',\n",
      "'Other Location Code in LCGMS',\n",
      "'School Name',\n",
      "'SED Code',\n",
      "'Location Code',\n",
      "'District',\n",
      "'Latitude',\n",
      "'Longitude',\n",
      "'Address (Full)',\n",
      "'City',\n",
      "'Zip',\n",
      "'Grades',\n",
      "'Grade Low',\n",
      "'Grade High',\n",
      "'Community School?',\n",
      "'Economic Need Index',\n",
      "'School Income Estimate',\n",
      "'Percent ELL',\n",
      "'Percent Asian',\n",
      "'Percent Black',\n",
      "'Percent Hispanic',\n",
      "'Percent Black / Hispanic',\n",
      "'Percent White',\n",
      "'Student Attendance Rate',\n",
      "'Percent of Students Chronically Absent',\n",
      "'Rigorous Instruction %',\n",
      "'Rigorous Instruction Rating',\n",
      "'Collaborative Teachers %',\n",
      "'Collaborative Teachers Rating',\n",
      "'Supportive Environment %',\n",
      "'Supportive Environment Rating',\n",
      "'Effective School Leadership %',\n",
      "'Effective School Leadership Rating',\n",
      "'Strong Family-Community Ties %',\n",
      "'Strong Family-Community Ties Rating',\n",
      "'Trust %',\n",
      "'Trust Rating',\n",
      "'Student Achievement Rating',\n",
      "'Average ELA Proficiency',\n",
      "'Average Math Proficiency',\n",
      "'Grade 3 ELA - All Students Tested',\n",
      "'Grade 3 ELA 4s - All Students',\n",
      "'Grade 3 ELA 4s - American Indian or Alaska Native',\n",
      "'Grade 3 ELA 4s - Black or African American',\n",
      "'Grade 3 ELA 4s - Hispanic or Latino',\n",
      "'Grade 3 ELA 4s - Asian or Pacific Islander',\n",
      "'Grade 3 ELA 4s - White',\n",
      "'Grade 3 ELA 4s - Multiracial',\n",
      "'Grade 3 ELA 4s - Limited English Proficient',\n",
      "'Grade 3 ELA 4s - Economically Disadvantaged',\n",
      "'Grade 3 Math - All Students tested',\n",
      "'Grade 3 Math 4s - All Students',\n",
      "'Grade 3 Math 4s - American Indian or Alaska Native',\n",
      "'Grade 3 Math 4s - Black or African American',\n",
      "'Grade 3 Math 4s - Hispanic or Latino',\n",
      "'Grade 3 Math 4s - Asian or Pacific Islander',\n",
      "'Grade 3 Math 4s - White',\n",
      "'Grade 3 Math 4s - Multiracial',\n",
      "'Grade 3 Math 4s - Limited English Proficient',\n",
      "'Grade 3 Math 4s - Economically Disadvantaged',\n",
      "'Grade 4 ELA - All Students Tested',\n",
      "'Grade 4 ELA 4s - All Students',\n",
      "'Grade 4 ELA 4s - American Indian or Alaska Native',\n",
      "'Grade 4 ELA 4s - Black or African American',\n",
      "'Grade 4 ELA 4s - Hispanic or Latino',\n",
      "'Grade 4 ELA 4s - Asian or Pacific Islander',\n",
      "'Grade 4 ELA 4s - White',\n",
      "'Grade 4 ELA 4s - Multiracial',\n",
      "'Grade 4 ELA 4s - Limited English Proficient',\n",
      "'Grade 4 ELA 4s - Economically Disadvantaged',\n",
      "'Grade 4 Math - All Students Tested',\n",
      "'Grade 4 Math 4s - All Students',\n",
      "'Grade 4 Math 4s - American Indian or Alaska Native',\n",
      "'Grade 4 Math 4s - Black or African American',\n",
      "'Grade 4 Math 4s - Hispanic or Latino',\n",
      "'Grade 4 Math 4s - Asian or Pacific Islander',\n",
      "'Grade 4 Math 4s - White',\n",
      "'Grade 4 Math 4s - Multiracial',\n",
      "'Grade 4 Math 4s - Limited English Proficient',\n",
      "'Grade 4 Math 4s - Economically Disadvantaged',\n",
      "'Grade 5 ELA - All Students Tested',\n",
      "'Grade 5 ELA 4s - All Students',\n",
      "'Grade 5 ELA 4s - American Indian or Alaska Native',\n",
      "'Grade 5 ELA 4s - Black or African American',\n",
      "'Grade 5 ELA 4s - Hispanic or Latino',\n",
      "'Grade 5 ELA 4s - Asian or Pacific Islander',\n",
      "'Grade 5 ELA 4s - White',\n",
      "'Grade 5 ELA 4s - Multiracial',\n",
      "'Grade 5 ELA 4s - Limited English Proficient',\n",
      "'Grade 5 ELA 4s - Economically Disadvantaged',\n",
      "'Grade 5 Math - All Students Tested',\n",
      "'Grade 5 Math 4s - All Students',\n",
      "'Grade 5 Math 4s - American Indian or Alaska Native',\n",
      "'Grade 5 Math 4s - Black or African American',\n",
      "'Grade 5 Math 4s - Hispanic or Latino',\n",
      "'Grade 5 Math 4s - Asian or Pacific Islander',\n",
      "'Grade 5 Math 4s - White',\n",
      "'Grade 5 Math 4s - Multiracial',\n",
      "'Grade 5 Math 4s - Limited English Proficient',\n",
      "'Grade 5 Math 4s - Economically Disadvantaged',\n",
      "'Grade 6 ELA - All Students Tested',\n",
      "'Grade 6 ELA 4s - All Students',\n",
      "'Grade 6 ELA 4s - American Indian or Alaska Native',\n",
      "'Grade 6 ELA 4s - Black or African American',\n",
      "'Grade 6 ELA 4s - Hispanic or Latino',\n",
      "'Grade 6 ELA 4s - Asian or Pacific Islander',\n",
      "'Grade 6 ELA 4s - White',\n",
      "'Grade 6 ELA 4s - Multiracial',\n",
      "'Grade 6 ELA 4s - Limited English Proficient',\n",
      "'Grade 6 ELA 4s - Economically Disadvantaged',\n",
      "'Grade 6 Math - All Students Tested',\n",
      "'Grade 6 Math 4s - All Students',\n",
      "'Grade 6 Math 4s - American Indian or Alaska Native',\n",
      "'Grade 6 Math 4s - Black or African American',\n",
      "'Grade 6 Math 4s - Hispanic or Latino',\n",
      "'Grade 6 Math 4s - Asian or Pacific Islander',\n",
      "'Grade 6 Math 4s - White',\n",
      "'Grade 6 Math 4s - Multiracial',\n",
      "'Grade 6 Math 4s - Limited English Proficient',\n",
      "'Grade 6 Math 4s - Economically Disadvantaged',\n",
      "'Grade 7 ELA - All Students Tested',\n",
      "'Grade 7 ELA 4s - All Students',\n",
      "'Grade 7 ELA 4s - American Indian or Alaska Native',\n",
      "'Grade 7 ELA 4s - Black or African American',\n",
      "'Grade 7 ELA 4s - Hispanic or Latino',\n",
      "'Grade 7 ELA 4s - Asian or Pacific Islander',\n",
      "'Grade 7 ELA 4s - White',\n",
      "'Grade 7 ELA 4s - Multiracial',\n",
      "'Grade 7 ELA 4s - Limited English Proficient',\n",
      "'Grade 7 ELA 4s - Economically Disadvantaged',\n",
      "'Grade 7 Math - All Students Tested',\n",
      "'Grade 7 Math 4s - All Students',\n",
      "'Grade 7 Math 4s - American Indian or Alaska Native',\n",
      "'Grade 7 Math 4s - Black or African American',\n",
      "'Grade 7 Math 4s - Hispanic or Latino',\n",
      "'Grade 7 Math 4s - Asian or Pacific Islander',\n",
      "'Grade 7 Math 4s - White',\n",
      "'Grade 7 Math 4s - Multiracial',\n",
      "'Grade 7 Math 4s - Limited English Proficient',\n",
      "'Grade 7 Math 4s - Economically Disadvantaged',\n",
      "'Grade 8 ELA - All Students Tested',\n",
      "'Grade 8 ELA 4s - All Students',\n",
      "'Grade 8 ELA 4s - American Indian or Alaska Native',\n",
      "'Grade 8 ELA 4s - Black or African American',\n",
      "'Grade 8 ELA 4s - Hispanic or Latino',\n",
      "'Grade 8 ELA 4s - Asian or Pacific Islander',\n",
      "'Grade 8 ELA 4s - White',\n",
      "'Grade 8 ELA 4s - Multiracial',\n",
      "'Grade 8 ELA 4s - Limited English Proficient',\n",
      "'Grade 8 ELA 4s - Economically Disadvantaged',\n",
      "'Grade 8 Math - All Students Tested',\n",
      "'Grade 8 Math 4s - All Students',\n",
      "'Grade 8 Math 4s - American Indian or Alaska Native',\n",
      "'Grade 8 Math 4s - Black or African American',\n",
      "'Grade 8 Math 4s - Hispanic or Latino',\n",
      "'Grade 8 Math 4s - Asian or Pacific Islander',\n",
      "'Grade 8 Math 4s - White',\n",
      "'Grade 8 Math 4s - Multiracial',\n",
      "'Grade 8 Math 4s - Limited English Proficient',\n",
      "'Grade 8 Math 4s - Economically Disadvantaged',\n"
     ]
    }
   ],
   "source": [
    "for col in df.columns:\n",
    "    print(\"'\" + col + \"',\")"
   ]
  },
  {
   "cell_type": "code",
   "execution_count": 4,
   "metadata": {},
   "outputs": [
    {
     "data": {
      "text/plain": [
       "(1272, 161)"
      ]
     },
     "execution_count": 4,
     "metadata": {},
     "output_type": "execute_result"
    }
   ],
   "source": [
    "df.shape"
   ]
  },
  {
   "cell_type": "code",
   "execution_count": 5,
   "metadata": {},
   "outputs": [
    {
     "data": {
      "text/plain": [
       "45"
      ]
     },
     "execution_count": 5,
     "metadata": {},
     "output_type": "execute_result"
    }
   ],
   "source": [
    "len((df['City'].unique()))"
   ]
  },
  {
   "cell_type": "code",
   "execution_count": 6,
   "metadata": {},
   "outputs": [
    {
     "data": {
      "text/plain": [
       "169"
      ]
     },
     "execution_count": 6,
     "metadata": {},
     "output_type": "execute_result"
    }
   ],
   "source": [
    "len((df['Zip'].unique()))"
   ]
  },
  {
   "cell_type": "code",
   "execution_count": 7,
   "metadata": {},
   "outputs": [
    {
     "data": {
      "text/html": [
       "<div>\n",
       "<style>\n",
       "    .dataframe thead tr:only-child th {\n",
       "        text-align: right;\n",
       "    }\n",
       "\n",
       "    .dataframe thead th {\n",
       "        text-align: left;\n",
       "    }\n",
       "\n",
       "    .dataframe tbody tr th {\n",
       "        vertical-align: top;\n",
       "    }\n",
       "</style>\n",
       "<table border=\"1\" class=\"dataframe\">\n",
       "  <thead>\n",
       "    <tr style=\"text-align: right;\">\n",
       "      <th></th>\n",
       "      <th>Adjusted Grade</th>\n",
       "      <th>New?</th>\n",
       "      <th>Other Location Code in LCGMS</th>\n",
       "      <th>School Name</th>\n",
       "      <th>SED Code</th>\n",
       "      <th>Location Code</th>\n",
       "      <th>District</th>\n",
       "      <th>Latitude</th>\n",
       "      <th>Longitude</th>\n",
       "      <th>Address (Full)</th>\n",
       "      <th>...</th>\n",
       "      <th>Grade 8 Math - All Students Tested</th>\n",
       "      <th>Grade 8 Math 4s - All Students</th>\n",
       "      <th>Grade 8 Math 4s - American Indian or Alaska Native</th>\n",
       "      <th>Grade 8 Math 4s - Black or African American</th>\n",
       "      <th>Grade 8 Math 4s - Hispanic or Latino</th>\n",
       "      <th>Grade 8 Math 4s - Asian or Pacific Islander</th>\n",
       "      <th>Grade 8 Math 4s - White</th>\n",
       "      <th>Grade 8 Math 4s - Multiracial</th>\n",
       "      <th>Grade 8 Math 4s - Limited English Proficient</th>\n",
       "      <th>Grade 8 Math 4s - Economically Disadvantaged</th>\n",
       "    </tr>\n",
       "  </thead>\n",
       "  <tbody>\n",
       "    <tr>\n",
       "      <th>0</th>\n",
       "      <td>NaN</td>\n",
       "      <td>NaN</td>\n",
       "      <td>NaN</td>\n",
       "      <td>P.S. 015 ROBERTO CLEMENTE</td>\n",
       "      <td>310100010015</td>\n",
       "      <td>01M015</td>\n",
       "      <td>1</td>\n",
       "      <td>40.721834</td>\n",
       "      <td>-73.978766</td>\n",
       "      <td>333 E 4TH ST NEW YORK, NY 10009</td>\n",
       "      <td>...</td>\n",
       "      <td>0</td>\n",
       "      <td>0</td>\n",
       "      <td>0</td>\n",
       "      <td>0</td>\n",
       "      <td>0</td>\n",
       "      <td>0</td>\n",
       "      <td>0</td>\n",
       "      <td>0</td>\n",
       "      <td>0</td>\n",
       "      <td>0</td>\n",
       "    </tr>\n",
       "    <tr>\n",
       "      <th>1</th>\n",
       "      <td>NaN</td>\n",
       "      <td>NaN</td>\n",
       "      <td>NaN</td>\n",
       "      <td>P.S. 019 ASHER LEVY</td>\n",
       "      <td>310100010019</td>\n",
       "      <td>01M019</td>\n",
       "      <td>1</td>\n",
       "      <td>40.729892</td>\n",
       "      <td>-73.984231</td>\n",
       "      <td>185 1ST AVE NEW YORK, NY 10003</td>\n",
       "      <td>...</td>\n",
       "      <td>0</td>\n",
       "      <td>0</td>\n",
       "      <td>0</td>\n",
       "      <td>0</td>\n",
       "      <td>0</td>\n",
       "      <td>0</td>\n",
       "      <td>0</td>\n",
       "      <td>0</td>\n",
       "      <td>0</td>\n",
       "      <td>0</td>\n",
       "    </tr>\n",
       "    <tr>\n",
       "      <th>2</th>\n",
       "      <td>NaN</td>\n",
       "      <td>NaN</td>\n",
       "      <td>NaN</td>\n",
       "      <td>P.S. 020 ANNA SILVER</td>\n",
       "      <td>310100010020</td>\n",
       "      <td>01M020</td>\n",
       "      <td>1</td>\n",
       "      <td>40.721274</td>\n",
       "      <td>-73.986315</td>\n",
       "      <td>166 ESSEX ST NEW YORK, NY 10002</td>\n",
       "      <td>...</td>\n",
       "      <td>0</td>\n",
       "      <td>0</td>\n",
       "      <td>0</td>\n",
       "      <td>0</td>\n",
       "      <td>0</td>\n",
       "      <td>0</td>\n",
       "      <td>0</td>\n",
       "      <td>0</td>\n",
       "      <td>0</td>\n",
       "      <td>0</td>\n",
       "    </tr>\n",
       "    <tr>\n",
       "      <th>3</th>\n",
       "      <td>NaN</td>\n",
       "      <td>NaN</td>\n",
       "      <td>NaN</td>\n",
       "      <td>P.S. 034 FRANKLIN D. ROOSEVELT</td>\n",
       "      <td>310100010034</td>\n",
       "      <td>01M034</td>\n",
       "      <td>1</td>\n",
       "      <td>40.726147</td>\n",
       "      <td>-73.975043</td>\n",
       "      <td>730 E 12TH ST NEW YORK, NY 10009</td>\n",
       "      <td>...</td>\n",
       "      <td>48</td>\n",
       "      <td>1</td>\n",
       "      <td>0</td>\n",
       "      <td>0</td>\n",
       "      <td>0</td>\n",
       "      <td>0</td>\n",
       "      <td>0</td>\n",
       "      <td>0</td>\n",
       "      <td>0</td>\n",
       "      <td>0</td>\n",
       "    </tr>\n",
       "    <tr>\n",
       "      <th>4</th>\n",
       "      <td>NaN</td>\n",
       "      <td>NaN</td>\n",
       "      <td>NaN</td>\n",
       "      <td>THE STAR ACADEMY - P.S.63</td>\n",
       "      <td>310100010063</td>\n",
       "      <td>01M063</td>\n",
       "      <td>1</td>\n",
       "      <td>40.724404</td>\n",
       "      <td>-73.986360</td>\n",
       "      <td>121 E 3RD ST NEW YORK, NY 10009</td>\n",
       "      <td>...</td>\n",
       "      <td>0</td>\n",
       "      <td>0</td>\n",
       "      <td>0</td>\n",
       "      <td>0</td>\n",
       "      <td>0</td>\n",
       "      <td>0</td>\n",
       "      <td>0</td>\n",
       "      <td>0</td>\n",
       "      <td>0</td>\n",
       "      <td>0</td>\n",
       "    </tr>\n",
       "  </tbody>\n",
       "</table>\n",
       "<p>5 rows × 161 columns</p>\n",
       "</div>"
      ],
      "text/plain": [
       "  Adjusted Grade New? Other Location Code in LCGMS  \\\n",
       "0            NaN  NaN                          NaN   \n",
       "1            NaN  NaN                          NaN   \n",
       "2            NaN  NaN                          NaN   \n",
       "3            NaN  NaN                          NaN   \n",
       "4            NaN  NaN                          NaN   \n",
       "\n",
       "                      School Name      SED Code Location Code  District  \\\n",
       "0       P.S. 015 ROBERTO CLEMENTE  310100010015        01M015         1   \n",
       "1             P.S. 019 ASHER LEVY  310100010019        01M019         1   \n",
       "2            P.S. 020 ANNA SILVER  310100010020        01M020         1   \n",
       "3  P.S. 034 FRANKLIN D. ROOSEVELT  310100010034        01M034         1   \n",
       "4       THE STAR ACADEMY - P.S.63  310100010063        01M063         1   \n",
       "\n",
       "    Latitude  Longitude                    Address (Full)  \\\n",
       "0  40.721834 -73.978766   333 E 4TH ST NEW YORK, NY 10009   \n",
       "1  40.729892 -73.984231    185 1ST AVE NEW YORK, NY 10003   \n",
       "2  40.721274 -73.986315   166 ESSEX ST NEW YORK, NY 10002   \n",
       "3  40.726147 -73.975043  730 E 12TH ST NEW YORK, NY 10009   \n",
       "4  40.724404 -73.986360   121 E 3RD ST NEW YORK, NY 10009   \n",
       "\n",
       "                      ...                       \\\n",
       "0                     ...                        \n",
       "1                     ...                        \n",
       "2                     ...                        \n",
       "3                     ...                        \n",
       "4                     ...                        \n",
       "\n",
       "  Grade 8 Math - All Students Tested  Grade 8 Math 4s - All Students  \\\n",
       "0                                  0                               0   \n",
       "1                                  0                               0   \n",
       "2                                  0                               0   \n",
       "3                                 48                               1   \n",
       "4                                  0                               0   \n",
       "\n",
       "  Grade 8 Math 4s - American Indian or Alaska Native  \\\n",
       "0                                                  0   \n",
       "1                                                  0   \n",
       "2                                                  0   \n",
       "3                                                  0   \n",
       "4                                                  0   \n",
       "\n",
       "  Grade 8 Math 4s - Black or African American  \\\n",
       "0                                           0   \n",
       "1                                           0   \n",
       "2                                           0   \n",
       "3                                           0   \n",
       "4                                           0   \n",
       "\n",
       "  Grade 8 Math 4s - Hispanic or Latino  \\\n",
       "0                                    0   \n",
       "1                                    0   \n",
       "2                                    0   \n",
       "3                                    0   \n",
       "4                                    0   \n",
       "\n",
       "  Grade 8 Math 4s - Asian or Pacific Islander  Grade 8 Math 4s - White  \\\n",
       "0                                           0                        0   \n",
       "1                                           0                        0   \n",
       "2                                           0                        0   \n",
       "3                                           0                        0   \n",
       "4                                           0                        0   \n",
       "\n",
       "  Grade 8 Math 4s - Multiracial Grade 8 Math 4s - Limited English Proficient  \\\n",
       "0                             0                                            0   \n",
       "1                             0                                            0   \n",
       "2                             0                                            0   \n",
       "3                             0                                            0   \n",
       "4                             0                                            0   \n",
       "\n",
       "  Grade 8 Math 4s - Economically Disadvantaged  \n",
       "0                                            0  \n",
       "1                                            0  \n",
       "2                                            0  \n",
       "3                                            0  \n",
       "4                                            0  \n",
       "\n",
       "[5 rows x 161 columns]"
      ]
     },
     "execution_count": 7,
     "metadata": {},
     "output_type": "execute_result"
    }
   ],
   "source": [
    "df.head()"
   ]
  },
  {
   "cell_type": "code",
   "execution_count": 8,
   "metadata": {},
   "outputs": [
    {
     "data": {
      "text/plain": [
       "0             PK,0K,01,02,03,04,05\n",
       "1             PK,0K,01,02,03,04,05\n",
       "2             PK,0K,01,02,03,04,05\n",
       "3    PK,0K,01,02,03,04,05,06,07,08\n",
       "4             PK,0K,01,02,03,04,05\n",
       "Name: Grades, dtype: object"
      ]
     },
     "execution_count": 8,
     "metadata": {},
     "output_type": "execute_result"
    }
   ],
   "source": [
    "df['Grades'].head()"
   ]
  },
  {
   "cell_type": "code",
   "execution_count": 9,
   "metadata": {},
   "outputs": [
    {
     "data": {
      "text/plain": [
       "0    PK\n",
       "1    PK\n",
       "2    PK\n",
       "3    PK\n",
       "4    PK\n",
       "Name: Grade Low, dtype: object"
      ]
     },
     "execution_count": 9,
     "metadata": {},
     "output_type": "execute_result"
    }
   ],
   "source": [
    "df['Grade Low'].head()"
   ]
  },
  {
   "cell_type": "code",
   "execution_count": 10,
   "metadata": {},
   "outputs": [
    {
     "data": {
      "text/html": [
       "<div>\n",
       "<style>\n",
       "    .dataframe thead tr:only-child th {\n",
       "        text-align: right;\n",
       "    }\n",
       "\n",
       "    .dataframe thead th {\n",
       "        text-align: left;\n",
       "    }\n",
       "\n",
       "    .dataframe tbody tr th {\n",
       "        vertical-align: top;\n",
       "    }\n",
       "</style>\n",
       "<table border=\"1\" class=\"dataframe\">\n",
       "  <thead>\n",
       "    <tr style=\"text-align: right;\">\n",
       "      <th></th>\n",
       "      <th>Grade High</th>\n",
       "      <th>Average ELA Proficiency</th>\n",
       "      <th>Average Math Proficiency</th>\n",
       "    </tr>\n",
       "  </thead>\n",
       "  <tbody>\n",
       "    <tr>\n",
       "      <th>0</th>\n",
       "      <td>05</td>\n",
       "      <td>2.14</td>\n",
       "      <td>2.17</td>\n",
       "    </tr>\n",
       "    <tr>\n",
       "      <th>1</th>\n",
       "      <td>05</td>\n",
       "      <td>2.63</td>\n",
       "      <td>2.98</td>\n",
       "    </tr>\n",
       "    <tr>\n",
       "      <th>2</th>\n",
       "      <td>05</td>\n",
       "      <td>2.39</td>\n",
       "      <td>2.54</td>\n",
       "    </tr>\n",
       "    <tr>\n",
       "      <th>3</th>\n",
       "      <td>08</td>\n",
       "      <td>2.48</td>\n",
       "      <td>2.47</td>\n",
       "    </tr>\n",
       "    <tr>\n",
       "      <th>4</th>\n",
       "      <td>05</td>\n",
       "      <td>2.38</td>\n",
       "      <td>2.54</td>\n",
       "    </tr>\n",
       "  </tbody>\n",
       "</table>\n",
       "</div>"
      ],
      "text/plain": [
       "  Grade High  Average ELA Proficiency  Average Math Proficiency\n",
       "0         05                     2.14                      2.17\n",
       "1         05                     2.63                      2.98\n",
       "2         05                     2.39                      2.54\n",
       "3         08                     2.48                      2.47\n",
       "4         05                     2.38                      2.54"
      ]
     },
     "execution_count": 10,
     "metadata": {},
     "output_type": "execute_result"
    }
   ],
   "source": [
    "df[['Grade High', 'Average ELA Proficiency', 'Average Math Proficiency']].head()"
   ]
  },
  {
   "cell_type": "code",
   "execution_count": 11,
   "metadata": {},
   "outputs": [
    {
     "data": {
      "text/html": [
       "<div>\n",
       "<style>\n",
       "    .dataframe thead tr:only-child th {\n",
       "        text-align: right;\n",
       "    }\n",
       "\n",
       "    .dataframe thead th {\n",
       "        text-align: left;\n",
       "    }\n",
       "\n",
       "    .dataframe tbody tr th {\n",
       "        vertical-align: top;\n",
       "    }\n",
       "</style>\n",
       "<table border=\"1\" class=\"dataframe\">\n",
       "  <thead>\n",
       "    <tr style=\"text-align: right;\">\n",
       "      <th></th>\n",
       "      <th>SED Code</th>\n",
       "      <th>District</th>\n",
       "      <th>Latitude</th>\n",
       "      <th>Longitude</th>\n",
       "      <th>Zip</th>\n",
       "      <th>Economic Need Index</th>\n",
       "      <th>Average ELA Proficiency</th>\n",
       "      <th>Average Math Proficiency</th>\n",
       "      <th>Grade 3 ELA - All Students Tested</th>\n",
       "      <th>Grade 3 ELA 4s - All Students</th>\n",
       "      <th>...</th>\n",
       "      <th>Grade 8 Math - All Students Tested</th>\n",
       "      <th>Grade 8 Math 4s - All Students</th>\n",
       "      <th>Grade 8 Math 4s - American Indian or Alaska Native</th>\n",
       "      <th>Grade 8 Math 4s - Black or African American</th>\n",
       "      <th>Grade 8 Math 4s - Hispanic or Latino</th>\n",
       "      <th>Grade 8 Math 4s - Asian or Pacific Islander</th>\n",
       "      <th>Grade 8 Math 4s - White</th>\n",
       "      <th>Grade 8 Math 4s - Multiracial</th>\n",
       "      <th>Grade 8 Math 4s - Limited English Proficient</th>\n",
       "      <th>Grade 8 Math 4s - Economically Disadvantaged</th>\n",
       "    </tr>\n",
       "  </thead>\n",
       "  <tbody>\n",
       "    <tr>\n",
       "      <th>count</th>\n",
       "      <td>1.272000e+03</td>\n",
       "      <td>1272.00000</td>\n",
       "      <td>1272.000000</td>\n",
       "      <td>1272.000000</td>\n",
       "      <td>1272.000000</td>\n",
       "      <td>1247.000000</td>\n",
       "      <td>1217.000000</td>\n",
       "      <td>1217.000000</td>\n",
       "      <td>1272.000000</td>\n",
       "      <td>1272.000000</td>\n",
       "      <td>...</td>\n",
       "      <td>1272.000000</td>\n",
       "      <td>1272.000000</td>\n",
       "      <td>1272.000000</td>\n",
       "      <td>1272.000000</td>\n",
       "      <td>1272.000000</td>\n",
       "      <td>1272.000000</td>\n",
       "      <td>1272.000000</td>\n",
       "      <td>1272.000000</td>\n",
       "      <td>1272.000000</td>\n",
       "      <td>1272.000000</td>\n",
       "    </tr>\n",
       "    <tr>\n",
       "      <th>mean</th>\n",
       "      <td>3.286698e+11</td>\n",
       "      <td>16.13522</td>\n",
       "      <td>40.734537</td>\n",
       "      <td>-73.918347</td>\n",
       "      <td>10815.720912</td>\n",
       "      <td>0.672281</td>\n",
       "      <td>2.534215</td>\n",
       "      <td>2.668956</td>\n",
       "      <td>60.569182</td>\n",
       "      <td>4.952830</td>\n",
       "      <td>...</td>\n",
       "      <td>43.841195</td>\n",
       "      <td>4.911950</td>\n",
       "      <td>0.003145</td>\n",
       "      <td>0.610063</td>\n",
       "      <td>0.947327</td>\n",
       "      <td>1.984277</td>\n",
       "      <td>0.970912</td>\n",
       "      <td>0.002358</td>\n",
       "      <td>0.159591</td>\n",
       "      <td>2.992138</td>\n",
       "    </tr>\n",
       "    <tr>\n",
       "      <th>std</th>\n",
       "      <td>1.222022e+10</td>\n",
       "      <td>9.24527</td>\n",
       "      <td>0.086602</td>\n",
       "      <td>0.080576</td>\n",
       "      <td>529.588875</td>\n",
       "      <td>0.210959</td>\n",
       "      <td>0.363589</td>\n",
       "      <td>0.470470</td>\n",
       "      <td>57.872496</td>\n",
       "      <td>8.300568</td>\n",
       "      <td>...</td>\n",
       "      <td>82.878780</td>\n",
       "      <td>20.792371</td>\n",
       "      <td>0.068635</td>\n",
       "      <td>3.966083</td>\n",
       "      <td>4.056007</td>\n",
       "      <td>12.841333</td>\n",
       "      <td>6.880223</td>\n",
       "      <td>0.084116</td>\n",
       "      <td>1.321195</td>\n",
       "      <td>12.694124</td>\n",
       "    </tr>\n",
       "    <tr>\n",
       "      <th>min</th>\n",
       "      <td>3.075000e+11</td>\n",
       "      <td>1.00000</td>\n",
       "      <td>40.507803</td>\n",
       "      <td>-74.244025</td>\n",
       "      <td>10001.000000</td>\n",
       "      <td>0.049000</td>\n",
       "      <td>1.810000</td>\n",
       "      <td>1.830000</td>\n",
       "      <td>0.000000</td>\n",
       "      <td>0.000000</td>\n",
       "      <td>...</td>\n",
       "      <td>0.000000</td>\n",
       "      <td>0.000000</td>\n",
       "      <td>0.000000</td>\n",
       "      <td>0.000000</td>\n",
       "      <td>0.000000</td>\n",
       "      <td>0.000000</td>\n",
       "      <td>0.000000</td>\n",
       "      <td>0.000000</td>\n",
       "      <td>0.000000</td>\n",
       "      <td>0.000000</td>\n",
       "    </tr>\n",
       "    <tr>\n",
       "      <th>25%</th>\n",
       "      <td>3.208752e+11</td>\n",
       "      <td>9.00000</td>\n",
       "      <td>40.669499</td>\n",
       "      <td>-73.957057</td>\n",
       "      <td>10452.000000</td>\n",
       "      <td>0.550000</td>\n",
       "      <td>2.250000</td>\n",
       "      <td>2.300000</td>\n",
       "      <td>0.000000</td>\n",
       "      <td>0.000000</td>\n",
       "      <td>...</td>\n",
       "      <td>0.000000</td>\n",
       "      <td>0.000000</td>\n",
       "      <td>0.000000</td>\n",
       "      <td>0.000000</td>\n",
       "      <td>0.000000</td>\n",
       "      <td>0.000000</td>\n",
       "      <td>0.000000</td>\n",
       "      <td>0.000000</td>\n",
       "      <td>0.000000</td>\n",
       "      <td>0.000000</td>\n",
       "    </tr>\n",
       "    <tr>\n",
       "      <th>50%</th>\n",
       "      <td>3.315004e+11</td>\n",
       "      <td>15.00000</td>\n",
       "      <td>40.722995</td>\n",
       "      <td>-73.920571</td>\n",
       "      <td>11203.000000</td>\n",
       "      <td>0.731000</td>\n",
       "      <td>2.450000</td>\n",
       "      <td>2.580000</td>\n",
       "      <td>54.000000</td>\n",
       "      <td>1.000000</td>\n",
       "      <td>...</td>\n",
       "      <td>0.000000</td>\n",
       "      <td>0.000000</td>\n",
       "      <td>0.000000</td>\n",
       "      <td>0.000000</td>\n",
       "      <td>0.000000</td>\n",
       "      <td>0.000000</td>\n",
       "      <td>0.000000</td>\n",
       "      <td>0.000000</td>\n",
       "      <td>0.000000</td>\n",
       "      <td>0.000000</td>\n",
       "    </tr>\n",
       "    <tr>\n",
       "      <th>75%</th>\n",
       "      <td>3.424000e+11</td>\n",
       "      <td>24.00000</td>\n",
       "      <td>40.815632</td>\n",
       "      <td>-73.879264</td>\n",
       "      <td>11232.000000</td>\n",
       "      <td>0.841000</td>\n",
       "      <td>2.760000</td>\n",
       "      <td>2.980000</td>\n",
       "      <td>94.000000</td>\n",
       "      <td>7.000000</td>\n",
       "      <td>...</td>\n",
       "      <td>59.000000</td>\n",
       "      <td>1.000000</td>\n",
       "      <td>0.000000</td>\n",
       "      <td>0.000000</td>\n",
       "      <td>0.000000</td>\n",
       "      <td>0.000000</td>\n",
       "      <td>0.000000</td>\n",
       "      <td>0.000000</td>\n",
       "      <td>0.000000</td>\n",
       "      <td>0.000000</td>\n",
       "    </tr>\n",
       "    <tr>\n",
       "      <th>max</th>\n",
       "      <td>3.531009e+11</td>\n",
       "      <td>32.00000</td>\n",
       "      <td>40.903455</td>\n",
       "      <td>-73.708920</td>\n",
       "      <td>11694.000000</td>\n",
       "      <td>0.957000</td>\n",
       "      <td>3.930000</td>\n",
       "      <td>4.200000</td>\n",
       "      <td>356.000000</td>\n",
       "      <td>55.000000</td>\n",
       "      <td>...</td>\n",
       "      <td>652.000000</td>\n",
       "      <td>312.000000</td>\n",
       "      <td>2.000000</td>\n",
       "      <td>107.000000</td>\n",
       "      <td>71.000000</td>\n",
       "      <td>246.000000</td>\n",
       "      <td>126.000000</td>\n",
       "      <td>3.000000</td>\n",
       "      <td>33.000000</td>\n",
       "      <td>196.000000</td>\n",
       "    </tr>\n",
       "  </tbody>\n",
       "</table>\n",
       "<p>8 rows × 128 columns</p>\n",
       "</div>"
      ],
      "text/plain": [
       "           SED Code    District     Latitude    Longitude           Zip  \\\n",
       "count  1.272000e+03  1272.00000  1272.000000  1272.000000   1272.000000   \n",
       "mean   3.286698e+11    16.13522    40.734537   -73.918347  10815.720912   \n",
       "std    1.222022e+10     9.24527     0.086602     0.080576    529.588875   \n",
       "min    3.075000e+11     1.00000    40.507803   -74.244025  10001.000000   \n",
       "25%    3.208752e+11     9.00000    40.669499   -73.957057  10452.000000   \n",
       "50%    3.315004e+11    15.00000    40.722995   -73.920571  11203.000000   \n",
       "75%    3.424000e+11    24.00000    40.815632   -73.879264  11232.000000   \n",
       "max    3.531009e+11    32.00000    40.903455   -73.708920  11694.000000   \n",
       "\n",
       "       Economic Need Index  Average ELA Proficiency  Average Math Proficiency  \\\n",
       "count          1247.000000              1217.000000               1217.000000   \n",
       "mean              0.672281                 2.534215                  2.668956   \n",
       "std               0.210959                 0.363589                  0.470470   \n",
       "min               0.049000                 1.810000                  1.830000   \n",
       "25%               0.550000                 2.250000                  2.300000   \n",
       "50%               0.731000                 2.450000                  2.580000   \n",
       "75%               0.841000                 2.760000                  2.980000   \n",
       "max               0.957000                 3.930000                  4.200000   \n",
       "\n",
       "       Grade 3 ELA - All Students Tested  Grade 3 ELA 4s - All Students  \\\n",
       "count                        1272.000000                    1272.000000   \n",
       "mean                           60.569182                       4.952830   \n",
       "std                            57.872496                       8.300568   \n",
       "min                             0.000000                       0.000000   \n",
       "25%                             0.000000                       0.000000   \n",
       "50%                            54.000000                       1.000000   \n",
       "75%                            94.000000                       7.000000   \n",
       "max                           356.000000                      55.000000   \n",
       "\n",
       "                           ...                       \\\n",
       "count                      ...                        \n",
       "mean                       ...                        \n",
       "std                        ...                        \n",
       "min                        ...                        \n",
       "25%                        ...                        \n",
       "50%                        ...                        \n",
       "75%                        ...                        \n",
       "max                        ...                        \n",
       "\n",
       "       Grade 8 Math - All Students Tested  Grade 8 Math 4s - All Students  \\\n",
       "count                         1272.000000                     1272.000000   \n",
       "mean                            43.841195                        4.911950   \n",
       "std                             82.878780                       20.792371   \n",
       "min                              0.000000                        0.000000   \n",
       "25%                              0.000000                        0.000000   \n",
       "50%                              0.000000                        0.000000   \n",
       "75%                             59.000000                        1.000000   \n",
       "max                            652.000000                      312.000000   \n",
       "\n",
       "       Grade 8 Math 4s - American Indian or Alaska Native  \\\n",
       "count                                        1272.000000    \n",
       "mean                                            0.003145    \n",
       "std                                             0.068635    \n",
       "min                                             0.000000    \n",
       "25%                                             0.000000    \n",
       "50%                                             0.000000    \n",
       "75%                                             0.000000    \n",
       "max                                             2.000000    \n",
       "\n",
       "       Grade 8 Math 4s - Black or African American  \\\n",
       "count                                  1272.000000   \n",
       "mean                                      0.610063   \n",
       "std                                       3.966083   \n",
       "min                                       0.000000   \n",
       "25%                                       0.000000   \n",
       "50%                                       0.000000   \n",
       "75%                                       0.000000   \n",
       "max                                     107.000000   \n",
       "\n",
       "       Grade 8 Math 4s - Hispanic or Latino  \\\n",
       "count                           1272.000000   \n",
       "mean                               0.947327   \n",
       "std                                4.056007   \n",
       "min                                0.000000   \n",
       "25%                                0.000000   \n",
       "50%                                0.000000   \n",
       "75%                                0.000000   \n",
       "max                               71.000000   \n",
       "\n",
       "       Grade 8 Math 4s - Asian or Pacific Islander  Grade 8 Math 4s - White  \\\n",
       "count                                  1272.000000              1272.000000   \n",
       "mean                                      1.984277                 0.970912   \n",
       "std                                      12.841333                 6.880223   \n",
       "min                                       0.000000                 0.000000   \n",
       "25%                                       0.000000                 0.000000   \n",
       "50%                                       0.000000                 0.000000   \n",
       "75%                                       0.000000                 0.000000   \n",
       "max                                     246.000000               126.000000   \n",
       "\n",
       "       Grade 8 Math 4s - Multiracial  \\\n",
       "count                    1272.000000   \n",
       "mean                        0.002358   \n",
       "std                         0.084116   \n",
       "min                         0.000000   \n",
       "25%                         0.000000   \n",
       "50%                         0.000000   \n",
       "75%                         0.000000   \n",
       "max                         3.000000   \n",
       "\n",
       "       Grade 8 Math 4s - Limited English Proficient  \\\n",
       "count                                   1272.000000   \n",
       "mean                                       0.159591   \n",
       "std                                        1.321195   \n",
       "min                                        0.000000   \n",
       "25%                                        0.000000   \n",
       "50%                                        0.000000   \n",
       "75%                                        0.000000   \n",
       "max                                       33.000000   \n",
       "\n",
       "       Grade 8 Math 4s - Economically Disadvantaged  \n",
       "count                                   1272.000000  \n",
       "mean                                       2.992138  \n",
       "std                                       12.694124  \n",
       "min                                        0.000000  \n",
       "25%                                        0.000000  \n",
       "50%                                        0.000000  \n",
       "75%                                        0.000000  \n",
       "max                                      196.000000  \n",
       "\n",
       "[8 rows x 128 columns]"
      ]
     },
     "execution_count": 11,
     "metadata": {},
     "output_type": "execute_result"
    }
   ],
   "source": [
    "df.describe()"
   ]
  },
  {
   "cell_type": "code",
   "execution_count": 12,
   "metadata": {},
   "outputs": [
    {
     "data": {
      "text/plain": [
       "Adjusted Grade                            1270\n",
       "New?                                      1245\n",
       "Other Location Code in LCGMS              1271\n",
       "Economic Need Index                         25\n",
       "School Income Estimate                     396\n",
       "Student Attendance Rate                     25\n",
       "Percent of Students Chronically Absent      25\n",
       "Rigorous Instruction %                      25\n",
       "Rigorous Instruction Rating                 76\n",
       "Collaborative Teachers %                    25\n",
       "Collaborative Teachers Rating               76\n",
       "Supportive Environment %                    25\n",
       "Supportive Environment Rating               80\n",
       "Effective School Leadership %               25\n",
       "Effective School Leadership Rating          73\n",
       "Strong Family-Community Ties %              25\n",
       "Strong Family-Community Ties Rating         73\n",
       "Trust %                                     25\n",
       "Trust Rating                                73\n",
       "Student Achievement Rating                  86\n",
       "Average ELA Proficiency                     55\n",
       "Average Math Proficiency                    55\n",
       "dtype: int64"
      ]
     },
     "execution_count": 12,
     "metadata": {},
     "output_type": "execute_result"
    }
   ],
   "source": [
    "null_count = df.isnull().sum()\n",
    "null_count[null_count>0]"
   ]
  },
  {
   "cell_type": "code",
   "execution_count": 13,
   "metadata": {
    "collapsed": true
   },
   "outputs": [],
   "source": [
    "selected_columns = ['Zip',\n",
    "'Grades',\n",
    "'Community School?',\n",
    "'Economic Need Index',\n",
    "'Percent ELL',\n",
    "'Percent Asian',\n",
    "'Percent Black',\n",
    "'Percent Hispanic',\n",
    "'Percent Black / Hispanic',\n",
    "'Percent White',\n",
    "'Student Attendance Rate',\n",
    "'Percent of Students Chronically Absent',\n",
    "'Rigorous Instruction %',\n",
    "'Rigorous Instruction Rating',\n",
    "'Collaborative Teachers %',\n",
    "'Collaborative Teachers Rating',\n",
    "'Supportive Environment %',\n",
    "'Supportive Environment Rating',\n",
    "'Effective School Leadership %',\n",
    "'Effective School Leadership Rating',\n",
    "'Strong Family-Community Ties %',\n",
    "'Strong Family-Community Ties Rating',\n",
    "'Trust %',\n",
    "'Trust Rating',\n",
    "'Student Achievement Rating',\n",
    "'Average ELA Proficiency',\n",
    "'Average Math Proficiency',\n",
    "'Grade 3 ELA - All Students Tested',\n",
    "'Grade 3 Math - All Students tested',\n",
    "'Grade 4 ELA - All Students Tested',\n",
    "'Grade 4 Math - All Students Tested',\n",
    "'Grade 5 ELA - All Students Tested',\n",
    "'Grade 5 Math - All Students Tested',\n",
    "'Grade 6 ELA - All Students Tested',\n",
    "'Grade 6 Math - All Students Tested',\n",
    "'Grade 7 ELA - All Students Tested',\n",
    "'Grade 7 Math - All Students Tested',\n",
    "'Grade 8 ELA - All Students Tested',\n",
    "'Grade 8 Math - All Students Tested']"
   ]
  },
  {
   "cell_type": "code",
   "execution_count": 14,
   "metadata": {
    "collapsed": true
   },
   "outputs": [],
   "source": [
    "new_df = df[selected_columns]"
   ]
  },
  {
   "cell_type": "code",
   "execution_count": 15,
   "metadata": {
    "collapsed": true
   },
   "outputs": [],
   "source": [
    "school_df = new_df.dropna(how = 'any')"
   ]
  },
  {
   "cell_type": "code",
   "execution_count": 16,
   "metadata": {},
   "outputs": [
    {
     "data": {
      "text/html": [
       "<div>\n",
       "<style>\n",
       "    .dataframe thead tr:only-child th {\n",
       "        text-align: right;\n",
       "    }\n",
       "\n",
       "    .dataframe thead th {\n",
       "        text-align: left;\n",
       "    }\n",
       "\n",
       "    .dataframe tbody tr th {\n",
       "        vertical-align: top;\n",
       "    }\n",
       "</style>\n",
       "<table border=\"1\" class=\"dataframe\">\n",
       "  <thead>\n",
       "    <tr style=\"text-align: right;\">\n",
       "      <th></th>\n",
       "      <th>Zip</th>\n",
       "      <th>Economic Need Index</th>\n",
       "      <th>Average ELA Proficiency</th>\n",
       "      <th>Average Math Proficiency</th>\n",
       "      <th>Grade 3 ELA - All Students Tested</th>\n",
       "      <th>Grade 3 Math - All Students tested</th>\n",
       "      <th>Grade 4 ELA - All Students Tested</th>\n",
       "      <th>Grade 4 Math - All Students Tested</th>\n",
       "      <th>Grade 5 ELA - All Students Tested</th>\n",
       "      <th>Grade 5 Math - All Students Tested</th>\n",
       "      <th>Grade 6 ELA - All Students Tested</th>\n",
       "      <th>Grade 6 Math - All Students Tested</th>\n",
       "      <th>Grade 7 ELA - All Students Tested</th>\n",
       "      <th>Grade 7 Math - All Students Tested</th>\n",
       "      <th>Grade 8 ELA - All Students Tested</th>\n",
       "      <th>Grade 8 Math - All Students Tested</th>\n",
       "    </tr>\n",
       "  </thead>\n",
       "  <tbody>\n",
       "    <tr>\n",
       "      <th>count</th>\n",
       "      <td>1167.000000</td>\n",
       "      <td>1167.000000</td>\n",
       "      <td>1167.000000</td>\n",
       "      <td>1167.000000</td>\n",
       "      <td>1167.000000</td>\n",
       "      <td>1167.000000</td>\n",
       "      <td>1167.000000</td>\n",
       "      <td>1167.000000</td>\n",
       "      <td>1167.000000</td>\n",
       "      <td>1167.000000</td>\n",
       "      <td>1167.000000</td>\n",
       "      <td>1167.000000</td>\n",
       "      <td>1167.000000</td>\n",
       "      <td>1167.000000</td>\n",
       "      <td>1167.000000</td>\n",
       "      <td>1167.000000</td>\n",
       "    </tr>\n",
       "    <tr>\n",
       "      <th>mean</th>\n",
       "      <td>10822.582691</td>\n",
       "      <td>0.671889</td>\n",
       "      <td>2.530566</td>\n",
       "      <td>2.661140</td>\n",
       "      <td>61.431877</td>\n",
       "      <td>62.547558</td>\n",
       "      <td>60.284490</td>\n",
       "      <td>61.329906</td>\n",
       "      <td>59.706941</td>\n",
       "      <td>60.693231</td>\n",
       "      <td>56.857755</td>\n",
       "      <td>57.784919</td>\n",
       "      <td>56.472151</td>\n",
       "      <td>57.194516</td>\n",
       "      <td>55.565553</td>\n",
       "      <td>46.921165</td>\n",
       "    </tr>\n",
       "    <tr>\n",
       "      <th>std</th>\n",
       "      <td>527.119519</td>\n",
       "      <td>0.211649</td>\n",
       "      <td>0.359010</td>\n",
       "      <td>0.462522</td>\n",
       "      <td>59.090043</td>\n",
       "      <td>60.478616</td>\n",
       "      <td>58.179452</td>\n",
       "      <td>59.508132</td>\n",
       "      <td>55.606602</td>\n",
       "      <td>56.855178</td>\n",
       "      <td>94.608475</td>\n",
       "      <td>96.407623</td>\n",
       "      <td>97.597789</td>\n",
       "      <td>99.221917</td>\n",
       "      <td>97.034709</td>\n",
       "      <td>85.047009</td>\n",
       "    </tr>\n",
       "    <tr>\n",
       "      <th>min</th>\n",
       "      <td>10001.000000</td>\n",
       "      <td>0.059000</td>\n",
       "      <td>1.810000</td>\n",
       "      <td>1.830000</td>\n",
       "      <td>0.000000</td>\n",
       "      <td>0.000000</td>\n",
       "      <td>0.000000</td>\n",
       "      <td>0.000000</td>\n",
       "      <td>0.000000</td>\n",
       "      <td>0.000000</td>\n",
       "      <td>0.000000</td>\n",
       "      <td>0.000000</td>\n",
       "      <td>0.000000</td>\n",
       "      <td>0.000000</td>\n",
       "      <td>0.000000</td>\n",
       "      <td>0.000000</td>\n",
       "    </tr>\n",
       "    <tr>\n",
       "      <th>25%</th>\n",
       "      <td>10453.000000</td>\n",
       "      <td>0.549000</td>\n",
       "      <td>2.250000</td>\n",
       "      <td>2.300000</td>\n",
       "      <td>0.000000</td>\n",
       "      <td>0.000000</td>\n",
       "      <td>0.000000</td>\n",
       "      <td>0.000000</td>\n",
       "      <td>0.000000</td>\n",
       "      <td>0.000000</td>\n",
       "      <td>0.000000</td>\n",
       "      <td>0.000000</td>\n",
       "      <td>0.000000</td>\n",
       "      <td>0.000000</td>\n",
       "      <td>0.000000</td>\n",
       "      <td>0.000000</td>\n",
       "    </tr>\n",
       "    <tr>\n",
       "      <th>50%</th>\n",
       "      <td>11203.000000</td>\n",
       "      <td>0.732000</td>\n",
       "      <td>2.450000</td>\n",
       "      <td>2.570000</td>\n",
       "      <td>55.000000</td>\n",
       "      <td>55.000000</td>\n",
       "      <td>55.000000</td>\n",
       "      <td>55.000000</td>\n",
       "      <td>56.000000</td>\n",
       "      <td>57.000000</td>\n",
       "      <td>0.000000</td>\n",
       "      <td>0.000000</td>\n",
       "      <td>0.000000</td>\n",
       "      <td>0.000000</td>\n",
       "      <td>0.000000</td>\n",
       "      <td>0.000000</td>\n",
       "    </tr>\n",
       "    <tr>\n",
       "      <th>75%</th>\n",
       "      <td>11232.500000</td>\n",
       "      <td>0.842000</td>\n",
       "      <td>2.750000</td>\n",
       "      <td>2.980000</td>\n",
       "      <td>96.500000</td>\n",
       "      <td>97.500000</td>\n",
       "      <td>94.000000</td>\n",
       "      <td>96.000000</td>\n",
       "      <td>92.500000</td>\n",
       "      <td>93.500000</td>\n",
       "      <td>84.000000</td>\n",
       "      <td>85.000000</td>\n",
       "      <td>80.000000</td>\n",
       "      <td>81.000000</td>\n",
       "      <td>80.500000</td>\n",
       "      <td>66.000000</td>\n",
       "    </tr>\n",
       "    <tr>\n",
       "      <th>max</th>\n",
       "      <td>11694.000000</td>\n",
       "      <td>0.957000</td>\n",
       "      <td>3.930000</td>\n",
       "      <td>4.190000</td>\n",
       "      <td>356.000000</td>\n",
       "      <td>365.000000</td>\n",
       "      <td>330.000000</td>\n",
       "      <td>332.000000</td>\n",
       "      <td>333.000000</td>\n",
       "      <td>337.000000</td>\n",
       "      <td>631.000000</td>\n",
       "      <td>646.000000</td>\n",
       "      <td>698.000000</td>\n",
       "      <td>715.000000</td>\n",
       "      <td>743.000000</td>\n",
       "      <td>652.000000</td>\n",
       "    </tr>\n",
       "  </tbody>\n",
       "</table>\n",
       "</div>"
      ],
      "text/plain": [
       "                Zip  Economic Need Index  Average ELA Proficiency  \\\n",
       "count   1167.000000          1167.000000              1167.000000   \n",
       "mean   10822.582691             0.671889                 2.530566   \n",
       "std      527.119519             0.211649                 0.359010   \n",
       "min    10001.000000             0.059000                 1.810000   \n",
       "25%    10453.000000             0.549000                 2.250000   \n",
       "50%    11203.000000             0.732000                 2.450000   \n",
       "75%    11232.500000             0.842000                 2.750000   \n",
       "max    11694.000000             0.957000                 3.930000   \n",
       "\n",
       "       Average Math Proficiency  Grade 3 ELA - All Students Tested  \\\n",
       "count               1167.000000                        1167.000000   \n",
       "mean                   2.661140                          61.431877   \n",
       "std                    0.462522                          59.090043   \n",
       "min                    1.830000                           0.000000   \n",
       "25%                    2.300000                           0.000000   \n",
       "50%                    2.570000                          55.000000   \n",
       "75%                    2.980000                          96.500000   \n",
       "max                    4.190000                         356.000000   \n",
       "\n",
       "       Grade 3 Math - All Students tested  Grade 4 ELA - All Students Tested  \\\n",
       "count                         1167.000000                        1167.000000   \n",
       "mean                            62.547558                          60.284490   \n",
       "std                             60.478616                          58.179452   \n",
       "min                              0.000000                           0.000000   \n",
       "25%                              0.000000                           0.000000   \n",
       "50%                             55.000000                          55.000000   \n",
       "75%                             97.500000                          94.000000   \n",
       "max                            365.000000                         330.000000   \n",
       "\n",
       "       Grade 4 Math - All Students Tested  Grade 5 ELA - All Students Tested  \\\n",
       "count                         1167.000000                        1167.000000   \n",
       "mean                            61.329906                          59.706941   \n",
       "std                             59.508132                          55.606602   \n",
       "min                              0.000000                           0.000000   \n",
       "25%                              0.000000                           0.000000   \n",
       "50%                             55.000000                          56.000000   \n",
       "75%                             96.000000                          92.500000   \n",
       "max                            332.000000                         333.000000   \n",
       "\n",
       "       Grade 5 Math - All Students Tested  Grade 6 ELA - All Students Tested  \\\n",
       "count                         1167.000000                        1167.000000   \n",
       "mean                            60.693231                          56.857755   \n",
       "std                             56.855178                          94.608475   \n",
       "min                              0.000000                           0.000000   \n",
       "25%                              0.000000                           0.000000   \n",
       "50%                             57.000000                           0.000000   \n",
       "75%                             93.500000                          84.000000   \n",
       "max                            337.000000                         631.000000   \n",
       "\n",
       "       Grade 6 Math - All Students Tested  Grade 7 ELA - All Students Tested  \\\n",
       "count                         1167.000000                        1167.000000   \n",
       "mean                            57.784919                          56.472151   \n",
       "std                             96.407623                          97.597789   \n",
       "min                              0.000000                           0.000000   \n",
       "25%                              0.000000                           0.000000   \n",
       "50%                              0.000000                           0.000000   \n",
       "75%                             85.000000                          80.000000   \n",
       "max                            646.000000                         698.000000   \n",
       "\n",
       "       Grade 7 Math - All Students Tested  Grade 8 ELA - All Students Tested  \\\n",
       "count                         1167.000000                        1167.000000   \n",
       "mean                            57.194516                          55.565553   \n",
       "std                             99.221917                          97.034709   \n",
       "min                              0.000000                           0.000000   \n",
       "25%                              0.000000                           0.000000   \n",
       "50%                              0.000000                           0.000000   \n",
       "75%                             81.000000                          80.500000   \n",
       "max                            715.000000                         743.000000   \n",
       "\n",
       "       Grade 8 Math - All Students Tested  \n",
       "count                         1167.000000  \n",
       "mean                            46.921165  \n",
       "std                             85.047009  \n",
       "min                              0.000000  \n",
       "25%                              0.000000  \n",
       "50%                              0.000000  \n",
       "75%                             66.000000  \n",
       "max                            652.000000  "
      ]
     },
     "execution_count": 16,
     "metadata": {},
     "output_type": "execute_result"
    }
   ],
   "source": [
    "# Just to make sure we did not lose too many schools \n",
    "school_df.describe()"
   ]
  },
  {
   "cell_type": "markdown",
   "metadata": {},
   "source": [
    "## Exploring continued with graphs"
   ]
  },
  {
   "cell_type": "code",
   "execution_count": 133,
   "metadata": {},
   "outputs": [
    {
     "data": {
      "image/png": "[encoded data removed]",
      "text/plain": [
       "<matplotlib.figure.Figure at 0x192b69ca940>"
      ]
     },
     "metadata": {},
     "output_type": "display_data"
    }
   ],
   "source": [
    "plt.figure(figsize=(12, 10))\n",
    "sns.distplot(school_df['Average ELA Proficiency'], color = 'red')\n",
    "plt.title('The distribution of the two proficiencies among the New York schools')\n",
    "sns.distplot(school_df['Average Math Proficiency'], color = 'blue')\n",
    "plt.xlabel('Proficiency')\n",
    "ela_label = mpatches.Patch(color='red', label='ELA')\n",
    "math_label = mpatches.Patch(color='blue', label='Math')\n",
    "\n",
    "plt.legend(handles=[ela_label, math_label])\n",
    "plt.show()"
   ]
  },
  {
   "cell_type": "code",
   "execution_count": null,
   "metadata": {},
   "outputs": [],
   "source": [
    "plt.figure(figsize=(25, 10))\n",
    "plt.title(\"Each District's proficiency\")\n",
    "sns.violinplot(school_df['Zip'], school_df['Average ELA Proficiency'])\n",
    "plt.xticks(rotation = 90)\n",
    "\n",
    "plt.show()"
   ]
  },
  {
   "cell_type": "code",
   "execution_count": null,
   "metadata": {},
   "outputs": [],
   "source": [
    "plt.figure(figsize=(25, 10))\n",
    "plt.title(\"Each District's proficiency\")\n",
    "sns.violinplot(school_df['Zip'], school_df['Average Math Proficiency'])\n",
    "plt.xticks(rotation = 90)\n",
    "plt.show()"
   ]
  },
  {
   "cell_type": "code",
   "execution_count": null,
   "metadata": {},
   "outputs": [],
   "source": [
    "plt.figure(figsize=(20, 45))\n",
    "plt.subplot(6,2,1)\n",
    "plt.title(\"Each Economical Need proficiency\")\n",
    "plt.scatter(school_df['Economic Need Index'], school_df['Average ELA Proficiency'])\n",
    "plt.xticks(rotation = 90)\n",
    "\n",
    "\n",
    "plt.subplot(6,2,2)\n",
    "plt.title(\"The Student attendence rate compared with proficiency\")\n",
    "sns.violinplot(school_df['Student Attendance Rate'], school_df['Average ELA Proficiency'])\n",
    "plt.xticks(rotation = 90)\n",
    "\n",
    "plt.subplot(6,2,3)\n",
    "plt.title(\"School's percentage of chronically absent students and their proficiency\")\n",
    "sns.violinplot(school_df['Percent of Students Chronically Absent'], school_df['Average ELA Proficiency'])\n",
    "plt.xticks(rotation = 90)\n",
    "\n",
    "plt.subplot(6,2,4)\n",
    "plt.title(\"School's supportive environment rating and their proficiency\")\n",
    "sns.violinplot(school_df['Supportive Environment Rating'], school_df['Average ELA Proficiency'])\n",
    "\n",
    "plt.subplot(6,2,5)\n",
    "sns.violinplot(school_df['Supportive Environment %'], school_df['Average ELA Proficiency'])\n",
    "plt.xticks(rotation = 90)\n",
    "\n",
    "plt.subplot(6,2,6)\n",
    "plt.title(\"School's percentage of rigorous instruction and their proficiency\")\n",
    "sns.violinplot(school_df['Rigorous Instruction %'], school_df['Average ELA Proficiency'])\n",
    "plt.xticks(rotation = 90)\n",
    "\n",
    "plt.subplot(6,2,7)\n",
    "plt.title(\"School's rigorous instruction rating and their proficiency\")\n",
    "sns.violinplot(school_df['Rigorous Instruction Rating'], school_df['Average ELA Proficiency'])\n",
    "\n",
    "plt.subplot(6,2,8)\n",
    "plt.title(\"School's Collaborative teaching rating and their proficiency\")\n",
    "sns.violinplot(school_df['Collaborative Teachers Rating'], school_df['Average ELA Proficiency'])\n",
    "\n",
    "plt.subplot(6,2, 9)\n",
    "plt.title(\"School's Collaborative teaching percentage and their proficiency\")\n",
    "sns.violinplot(school_df['Collaborative Teachers %'], school_df['Average ELA Proficiency'])\n",
    "plt.xticks(rotation = 90)\n",
    "\n",
    "plt.subplot(6,2, 10)\n",
    "plt.title(\"School's Leadership rating and their proficiency\")\n",
    "sns.violinplot(school_df['Effective School Leadership Rating'], school_df['Average ELA Proficiency'])\n",
    "\n",
    "plt.subplot(6,2,11)\n",
    "plt.title(\"School's Leadership percentage and their proficiency\")\n",
    "sns.violinplot(school_df['Effective School Leadership %'], school_df['Average ELA Proficiency'])\n",
    "plt.xticks(rotation = 90)\n",
    "\n",
    "plt.show()"
   ]
  },
  {
   "cell_type": "code",
   "execution_count": null,
   "metadata": {},
   "outputs": [],
   "source": [
    "plt.figure(figsize=(20, 45))\n",
    "plt.subplot(6,2,1)\n",
    "plt.title(\"Each Economical Need proficiency\")\n",
    "plt.scatter(school_df['Grade 3 ELA - All Students Tested'], school_df['Average ELA Proficiency'])\n",
    "plt.xticks(rotation = 90)\n",
    "\n",
    "plt.subplot(6,2,2)\n",
    "plt.title(\"The Student attendence rate compared with proficiency\")\n",
    "plt.scatter(school_df['Grade 3 Math - All Students tested'], school_df['Average Math Proficiency'])\n",
    "plt.xticks(rotation = 90)\n",
    "\n",
    "plt.subplot(6,2,3)\n",
    "plt.title(\"School's percentage of chronically absent students and their proficiency\")\n",
    "plt.scatter(school_df['Grade 4 ELA - All Students Tested'], school_df['Average ELA Proficiency'])\n",
    "plt.xticks(rotation = 90)\n",
    "\n",
    "plt.subplot(6,2,4)\n",
    "plt.title(\"School's supportive environment rating and their proficiency\")\n",
    "plt.scatter(school_df['Grade 4 Math - All Students Tested'], school_df['Average Math Proficiency'])\n",
    "plt.xticks(rotation = 90)\n",
    "\n",
    "plt.subplot(6,2,5)\n",
    "plt.scatter(school_df['Grade 5 ELA - All Students Tested'], school_df['Average ELA Proficiency'])\n",
    "plt.xticks(rotation = 90)\n",
    "\n",
    "plt.subplot(6,2,6)\n",
    "plt.title(\"School's percentage of rigorous instruction and their proficiency\")\n",
    "plt.scatter(school_df['Grade 5 Math - All Students Tested'], school_df['Average Math Proficiency'])\n",
    "plt.xticks(rotation = 90)\n",
    "\n",
    "plt.subplot(6,2,7)\n",
    "plt.title(\"School's rigorous instruction rating and their proficiency\")\n",
    "plt.scatter(school_df['Grade 6 ELA - All Students Tested'], school_df['Average ELA Proficiency'])\n",
    "plt.xticks(rotation = 90)\n",
    "\n",
    "plt.subplot(6,2,8)\n",
    "plt.title(\"School's Collaborative teaching rating and their proficiency\")\n",
    "plt.scatter(school_df['Grade 6 Math - All Students Tested'], school_df['Average Math Proficiency'])\n",
    "plt.xticks(rotation = 90)\n",
    "\n",
    "plt.subplot(6,2, 9)\n",
    "plt.title(\"School's Collaborative teaching percentage and their proficiency\")\n",
    "plt.scatter(school_df['Grade 7 ELA - All Students Tested'], school_df['Average ELA Proficiency'])\n",
    "plt.xticks(rotation = 90)\n",
    "\n",
    "plt.subplot(6,2, 10)\n",
    "plt.title(\"School's Leadership rating and their proficiency\")\n",
    "plt.scatter(school_df['Grade 7 Math - All Students Tested'], school_df['Average Math Proficiency'])\n",
    "plt.xticks(rotation = 90)\n",
    "\n",
    "plt.subplot(6,2,11)\n",
    "plt.title(\"School's Leadership percentage and their proficiency\")\n",
    "plt.scatter(school_df['Grade 8 ELA - All Students Tested'], school_df['Average ELA Proficiency'])\n",
    "plt.xticks(rotation = 90)\n",
    "\n",
    "plt.subplot(6,2,12)\n",
    "plt.title(\"School's Leadership percentage and their proficiency\")\n",
    "plt.scatter(school_df['Grade 8 Math - All Students Tested'], school_df['Average Math Proficiency'])\n",
    "plt.xticks(rotation = 90)\n",
    "\n",
    "plt.show()"
   ]
  },
  {
   "cell_type": "code",
   "execution_count": null,
   "metadata": {},
   "outputs": [],
   "source": [
    "plt.figure(figsize=(20, 45))\n",
    "plt.subplot(6,2,1)\n",
    "plt.title(\"Each Economical Need proficiency\")\n",
    "plt.scatter(school_df['Economic Need Index'], school_df['Average ELA Proficiency'])\n",
    "plt.xticks(rotation = 90)\n",
    "\n",
    "plt.subplot(6,2,2)\n",
    "plt.title(\"The Student attendence rate compared with proficiency\")\n",
    "sns.violinplot(school_df['Student Attendance Rate'], school_df['Average ELA Proficiency'])\n",
    "plt.xticks(rotation = 90)\n",
    "\n",
    "plt.subplot(6,2,3)\n",
    "plt.title(\"School's percentage of chronically absent students and their proficiency\")\n",
    "sns.violinplot(school_df['Percent of Students Chronically Absent'], school_df['Average ELA Proficiency'])\n",
    "plt.xticks(rotation = 90)\n",
    "\n",
    "plt.subplot(6,2,4)\n",
    "plt.title(\"School's supportive environment rating and their proficiency\")\n",
    "sns.violinplot(school_df['Supportive Environment Rating'], school_df['Average ELA Proficiency'])\n",
    "\n",
    "plt.subplot(6,2,5)\n",
    "sns.violinplot(school_df['Supportive Environment %'], school_df['Average ELA Proficiency'])\n",
    "plt.xticks(rotation = 90)\n",
    "\n",
    "plt.subplot(6,2,6)\n",
    "plt.title(\"School's percentage of rigorous instruction and their proficiency\")\n",
    "sns.violinplot(school_df['Rigorous Instruction %'], school_df['Average ELA Proficiency'])\n",
    "plt.xticks(rotation = 90)\n",
    "\n",
    "plt.subplot(6,2,7)\n",
    "plt.title(\"School's rigorous instruction rating and their proficiency\")\n",
    "sns.violinplot(school_df['Rigorous Instruction Rating'], school_df['Average ELA Proficiency'])\n",
    "\n",
    "plt.subplot(6,2,8)\n",
    "plt.title(\"School's Collaborative teaching rating and their proficiency\")\n",
    "sns.violinplot(school_df['Collaborative Teachers Rating'], school_df['Average ELA Proficiency'])\n",
    "\n",
    "plt.subplot(6,2, 9)\n",
    "plt.title(\"School's Collaborative teaching percentage and their proficiency\")\n",
    "sns.violinplot(school_df['Collaborative Teachers %'], school_df['Average ELA Proficiency'])\n",
    "plt.xticks(rotation = 90)\n",
    "\n",
    "plt.subplot(6,2, 10)\n",
    "plt.title(\"School's Leadership rating and their proficiency\")\n",
    "sns.violinplot(school_df['Effective School Leadership Rating'], school_df['Average ELA Proficiency'])\n",
    "\n",
    "plt.subplot(6,2,11)\n",
    "plt.title(\"School's Leadership percentage and their proficiency\")\n",
    "sns.violinplot(school_df['Effective School Leadership %'], school_df['Average ELA Proficiency'])\n",
    "plt.xticks(rotation = 90)\n",
    "\n",
    "plt.show()"
   ]
  },
  {
   "cell_type": "code",
   "execution_count": null,
   "metadata": {},
   "outputs": [],
   "source": [
    "plt.figure(figsize=(20, 25))\n",
    "plt.subplot(3,2,1)\n",
    "plt.title(\"Each Economical Need proficiency\")\n",
    "plt.scatter(school_df['Grades'], school_df['Average ELA Proficiency'])\n",
    "plt.xticks(rotation = 90)\n",
    "\n",
    "plt.subplot(3,2,2)\n",
    "plt.title(\"The Student attendence rate compared with proficiency\")\n",
    "plt.scatter(school_df['Grades'], school_df['Average Math Proficiency'])\n",
    "plt.xticks(rotation = 90)\n",
    "\n",
    "plt.subplot(3,2,3)\n",
    "plt.title(\"School's percentage of chronically absent students and their proficiency\")\n",
    "plt.scatter(school_df['Community School?'], school_df['Average ELA Proficiency'])\n",
    "plt.xticks(rotation = 90)\n",
    "\n",
    "plt.subplot(3,2,4)\n",
    "plt.title(\"School's supportive environment rating and their proficiency\")\n",
    "plt.scatter(school_df['Community School?'], school_df['Average Math Proficiency'])\n",
    "plt.xticks(rotation = 90)\n",
    "\n",
    "plt.subplot(3,2,5)\n",
    "plt.scatter(school_df['Economic Need Index'], school_df['Average ELA Proficiency'])\n",
    "plt.xticks(rotation = 90)\n",
    "\n",
    "plt.subplot(3,2,6)\n",
    "plt.title(\"School's percentage of rigorous instruction and their proficiency\")\n",
    "plt.scatter(school_df['Economic Need Index'], school_df['Average Math Proficiency'])\n",
    "plt.xticks(rotation = 90)\n",
    "\n",
    "plt.show()"
   ]
  },
  {
   "cell_type": "code",
   "execution_count": 17,
   "metadata": {},
   "outputs": [
    {
     "name": "stderr",
     "output_type": "stream",
     "text": [
      "C:\\Users\\blindside\\Anaconda3\\lib\\site-packages\\ipykernel_launcher.py:1: SettingWithCopyWarning: \n",
      "A value is trying to be set on a copy of a slice from a DataFrame.\n",
      "Try using .loc[row_indexer,col_indexer] = value instead\n",
      "\n",
      "See the caveats in the documentation: http://pandas.pydata.org/pandas-docs/stable/indexing.html#indexing-view-versus-copy\n",
      "  \"\"\"Entry point for launching an IPython kernel.\n",
      "C:\\Users\\blindside\\Anaconda3\\lib\\site-packages\\ipykernel_launcher.py:2: SettingWithCopyWarning: \n",
      "A value is trying to be set on a copy of a slice from a DataFrame.\n",
      "Try using .loc[row_indexer,col_indexer] = value instead\n",
      "\n",
      "See the caveats in the documentation: http://pandas.pydata.org/pandas-docs/stable/indexing.html#indexing-view-versus-copy\n",
      "  \n",
      "C:\\Users\\blindside\\Anaconda3\\lib\\site-packages\\ipykernel_launcher.py:3: SettingWithCopyWarning: \n",
      "A value is trying to be set on a copy of a slice from a DataFrame.\n",
      "Try using .loc[row_indexer,col_indexer] = value instead\n",
      "\n",
      "See the caveats in the documentation: http://pandas.pydata.org/pandas-docs/stable/indexing.html#indexing-view-versus-copy\n",
      "  This is separate from the ipykernel package so we can avoid doing imports until\n",
      "C:\\Users\\blindside\\Anaconda3\\lib\\site-packages\\ipykernel_launcher.py:4: SettingWithCopyWarning: \n",
      "A value is trying to be set on a copy of a slice from a DataFrame.\n",
      "Try using .loc[row_indexer,col_indexer] = value instead\n",
      "\n",
      "See the caveats in the documentation: http://pandas.pydata.org/pandas-docs/stable/indexing.html#indexing-view-versus-copy\n",
      "  after removing the cwd from sys.path.\n",
      "C:\\Users\\blindside\\Anaconda3\\lib\\site-packages\\ipykernel_launcher.py:5: SettingWithCopyWarning: \n",
      "A value is trying to be set on a copy of a slice from a DataFrame.\n",
      "Try using .loc[row_indexer,col_indexer] = value instead\n",
      "\n",
      "See the caveats in the documentation: http://pandas.pydata.org/pandas-docs/stable/indexing.html#indexing-view-versus-copy\n",
      "  \"\"\"\n",
      "C:\\Users\\blindside\\Anaconda3\\lib\\site-packages\\ipykernel_launcher.py:6: SettingWithCopyWarning: \n",
      "A value is trying to be set on a copy of a slice from a DataFrame.\n",
      "Try using .loc[row_indexer,col_indexer] = value instead\n",
      "\n",
      "See the caveats in the documentation: http://pandas.pydata.org/pandas-docs/stable/indexing.html#indexing-view-versus-copy\n",
      "  \n",
      "C:\\Users\\blindside\\Anaconda3\\lib\\site-packages\\ipykernel_launcher.py:7: SettingWithCopyWarning: \n",
      "A value is trying to be set on a copy of a slice from a DataFrame.\n",
      "Try using .loc[row_indexer,col_indexer] = value instead\n",
      "\n",
      "See the caveats in the documentation: http://pandas.pydata.org/pandas-docs/stable/indexing.html#indexing-view-versus-copy\n",
      "  import sys\n",
      "C:\\Users\\blindside\\Anaconda3\\lib\\site-packages\\ipykernel_launcher.py:8: SettingWithCopyWarning: \n",
      "A value is trying to be set on a copy of a slice from a DataFrame.\n",
      "Try using .loc[row_indexer,col_indexer] = value instead\n",
      "\n",
      "See the caveats in the documentation: http://pandas.pydata.org/pandas-docs/stable/indexing.html#indexing-view-versus-copy\n",
      "  \n",
      "C:\\Users\\blindside\\Anaconda3\\lib\\site-packages\\ipykernel_launcher.py:9: SettingWithCopyWarning: \n",
      "A value is trying to be set on a copy of a slice from a DataFrame.\n",
      "Try using .loc[row_indexer,col_indexer] = value instead\n",
      "\n",
      "See the caveats in the documentation: http://pandas.pydata.org/pandas-docs/stable/indexing.html#indexing-view-versus-copy\n",
      "  if __name__ == '__main__':\n",
      "C:\\Users\\blindside\\Anaconda3\\lib\\site-packages\\ipykernel_launcher.py:10: SettingWithCopyWarning: \n",
      "A value is trying to be set on a copy of a slice from a DataFrame.\n",
      "Try using .loc[row_indexer,col_indexer] = value instead\n",
      "\n",
      "See the caveats in the documentation: http://pandas.pydata.org/pandas-docs/stable/indexing.html#indexing-view-versus-copy\n",
      "  # Remove the CWD from sys.path while we load stuff.\n",
      "C:\\Users\\blindside\\Anaconda3\\lib\\site-packages\\ipykernel_launcher.py:11: SettingWithCopyWarning: \n",
      "A value is trying to be set on a copy of a slice from a DataFrame.\n",
      "Try using .loc[row_indexer,col_indexer] = value instead\n",
      "\n",
      "See the caveats in the documentation: http://pandas.pydata.org/pandas-docs/stable/indexing.html#indexing-view-versus-copy\n",
      "  # This is added back by InteractiveShellApp.init_path()\n",
      "C:\\Users\\blindside\\Anaconda3\\lib\\site-packages\\ipykernel_launcher.py:12: SettingWithCopyWarning: \n",
      "A value is trying to be set on a copy of a slice from a DataFrame.\n",
      "Try using .loc[row_indexer,col_indexer] = value instead\n",
      "\n",
      "See the caveats in the documentation: http://pandas.pydata.org/pandas-docs/stable/indexing.html#indexing-view-versus-copy\n",
      "  if sys.path[0] == '':\n",
      "C:\\Users\\blindside\\Anaconda3\\lib\\site-packages\\ipykernel_launcher.py:13: SettingWithCopyWarning: \n",
      "A value is trying to be set on a copy of a slice from a DataFrame.\n",
      "Try using .loc[row_indexer,col_indexer] = value instead\n",
      "\n",
      "See the caveats in the documentation: http://pandas.pydata.org/pandas-docs/stable/indexing.html#indexing-view-versus-copy\n",
      "  del sys.path[0]\n",
      "C:\\Users\\blindside\\Anaconda3\\lib\\site-packages\\ipykernel_launcher.py:14: SettingWithCopyWarning: \n",
      "A value is trying to be set on a copy of a slice from a DataFrame.\n",
      "Try using .loc[row_indexer,col_indexer] = value instead\n",
      "\n",
      "See the caveats in the documentation: http://pandas.pydata.org/pandas-docs/stable/indexing.html#indexing-view-versus-copy\n",
      "  \n",
      "C:\\Users\\blindside\\Anaconda3\\lib\\site-packages\\ipykernel_launcher.py:15: SettingWithCopyWarning: \n",
      "A value is trying to be set on a copy of a slice from a DataFrame.\n",
      "Try using .loc[row_indexer,col_indexer] = value instead\n",
      "\n",
      "See the caveats in the documentation: http://pandas.pydata.org/pandas-docs/stable/indexing.html#indexing-view-versus-copy\n",
      "  from ipykernel import kernelapp as app\n",
      "C:\\Users\\blindside\\Anaconda3\\lib\\site-packages\\ipykernel_launcher.py:16: SettingWithCopyWarning: \n",
      "A value is trying to be set on a copy of a slice from a DataFrame.\n",
      "Try using .loc[row_indexer,col_indexer] = value instead\n",
      "\n",
      "See the caveats in the documentation: http://pandas.pydata.org/pandas-docs/stable/indexing.html#indexing-view-versus-copy\n",
      "  app.launch_new_instance()\n",
      "C:\\Users\\blindside\\Anaconda3\\lib\\site-packages\\ipykernel_launcher.py:17: SettingWithCopyWarning: \n",
      "A value is trying to be set on a copy of a slice from a DataFrame.\n",
      "Try using .loc[row_indexer,col_indexer] = value instead\n",
      "\n",
      "See the caveats in the documentation: http://pandas.pydata.org/pandas-docs/stable/indexing.html#indexing-view-versus-copy\n",
      "C:\\Users\\blindside\\Anaconda3\\lib\\site-packages\\ipykernel_launcher.py:18: SettingWithCopyWarning: \n",
      "A value is trying to be set on a copy of a slice from a DataFrame.\n",
      "Try using .loc[row_indexer,col_indexer] = value instead\n",
      "\n",
      "See the caveats in the documentation: http://pandas.pydata.org/pandas-docs/stable/indexing.html#indexing-view-versus-copy\n",
      "C:\\Users\\blindside\\Anaconda3\\lib\\site-packages\\ipykernel_launcher.py:19: SettingWithCopyWarning: \n",
      "A value is trying to be set on a copy of a slice from a DataFrame.\n",
      "Try using .loc[row_indexer,col_indexer] = value instead\n",
      "\n",
      "See the caveats in the documentation: http://pandas.pydata.org/pandas-docs/stable/indexing.html#indexing-view-versus-copy\n",
      "C:\\Users\\blindside\\Anaconda3\\lib\\site-packages\\ipykernel_launcher.py:20: SettingWithCopyWarning: \n",
      "A value is trying to be set on a copy of a slice from a DataFrame.\n",
      "Try using .loc[row_indexer,col_indexer] = value instead\n",
      "\n",
      "See the caveats in the documentation: http://pandas.pydata.org/pandas-docs/stable/indexing.html#indexing-view-versus-copy\n",
      "C:\\Users\\blindside\\Anaconda3\\lib\\site-packages\\ipykernel_launcher.py:21: SettingWithCopyWarning: \n",
      "A value is trying to be set on a copy of a slice from a DataFrame.\n",
      "Try using .loc[row_indexer,col_indexer] = value instead\n",
      "\n",
      "See the caveats in the documentation: http://pandas.pydata.org/pandas-docs/stable/indexing.html#indexing-view-versus-copy\n",
      "C:\\Users\\blindside\\Anaconda3\\lib\\site-packages\\ipykernel_launcher.py:22: SettingWithCopyWarning: \n",
      "A value is trying to be set on a copy of a slice from a DataFrame.\n",
      "Try using .loc[row_indexer,col_indexer] = value instead\n",
      "\n",
      "See the caveats in the documentation: http://pandas.pydata.org/pandas-docs/stable/indexing.html#indexing-view-versus-copy\n",
      "C:\\Users\\blindside\\Anaconda3\\lib\\site-packages\\ipykernel_launcher.py:23: SettingWithCopyWarning: \n",
      "A value is trying to be set on a copy of a slice from a DataFrame.\n",
      "Try using .loc[row_indexer,col_indexer] = value instead\n",
      "\n",
      "See the caveats in the documentation: http://pandas.pydata.org/pandas-docs/stable/indexing.html#indexing-view-versus-copy\n",
      "C:\\Users\\blindside\\Anaconda3\\lib\\site-packages\\ipykernel_launcher.py:24: SettingWithCopyWarning: \n",
      "A value is trying to be set on a copy of a slice from a DataFrame.\n",
      "Try using .loc[row_indexer,col_indexer] = value instead\n",
      "\n",
      "See the caveats in the documentation: http://pandas.pydata.org/pandas-docs/stable/indexing.html#indexing-view-versus-copy\n",
      "C:\\Users\\blindside\\Anaconda3\\lib\\site-packages\\ipykernel_launcher.py:25: SettingWithCopyWarning: \n",
      "A value is trying to be set on a copy of a slice from a DataFrame.\n",
      "Try using .loc[row_indexer,col_indexer] = value instead\n",
      "\n",
      "See the caveats in the documentation: http://pandas.pydata.org/pandas-docs/stable/indexing.html#indexing-view-versus-copy\n",
      "C:\\Users\\blindside\\Anaconda3\\lib\\site-packages\\ipykernel_launcher.py:26: SettingWithCopyWarning: \n",
      "A value is trying to be set on a copy of a slice from a DataFrame.\n",
      "Try using .loc[row_indexer,col_indexer] = value instead\n",
      "\n",
      "See the caveats in the documentation: http://pandas.pydata.org/pandas-docs/stable/indexing.html#indexing-view-versus-copy\n"
     ]
    },
    {
     "name": "stderr",
     "output_type": "stream",
     "text": [
      "C:\\Users\\blindside\\Anaconda3\\lib\\site-packages\\ipykernel_launcher.py:27: SettingWithCopyWarning: \n",
      "A value is trying to be set on a copy of a slice from a DataFrame.\n",
      "Try using .loc[row_indexer,col_indexer] = value instead\n",
      "\n",
      "See the caveats in the documentation: http://pandas.pydata.org/pandas-docs/stable/indexing.html#indexing-view-versus-copy\n",
      "C:\\Users\\blindside\\Anaconda3\\lib\\site-packages\\ipykernel_launcher.py:28: SettingWithCopyWarning: \n",
      "A value is trying to be set on a copy of a slice from a DataFrame.\n",
      "Try using .loc[row_indexer,col_indexer] = value instead\n",
      "\n",
      "See the caveats in the documentation: http://pandas.pydata.org/pandas-docs/stable/indexing.html#indexing-view-versus-copy\n",
      "C:\\Users\\blindside\\Anaconda3\\lib\\site-packages\\ipykernel_launcher.py:29: SettingWithCopyWarning: \n",
      "A value is trying to be set on a copy of a slice from a DataFrame.\n",
      "Try using .loc[row_indexer,col_indexer] = value instead\n",
      "\n",
      "See the caveats in the documentation: http://pandas.pydata.org/pandas-docs/stable/indexing.html#indexing-view-versus-copy\n",
      "C:\\Users\\blindside\\Anaconda3\\lib\\site-packages\\ipykernel_launcher.py:30: SettingWithCopyWarning: \n",
      "A value is trying to be set on a copy of a slice from a DataFrame.\n",
      "Try using .loc[row_indexer,col_indexer] = value instead\n",
      "\n",
      "See the caveats in the documentation: http://pandas.pydata.org/pandas-docs/stable/indexing.html#indexing-view-versus-copy\n",
      "C:\\Users\\blindside\\Anaconda3\\lib\\site-packages\\ipykernel_launcher.py:31: SettingWithCopyWarning: \n",
      "A value is trying to be set on a copy of a slice from a DataFrame.\n",
      "Try using .loc[row_indexer,col_indexer] = value instead\n",
      "\n",
      "See the caveats in the documentation: http://pandas.pydata.org/pandas-docs/stable/indexing.html#indexing-view-versus-copy\n",
      "C:\\Users\\blindside\\Anaconda3\\lib\\site-packages\\ipykernel_launcher.py:32: SettingWithCopyWarning: \n",
      "A value is trying to be set on a copy of a slice from a DataFrame.\n",
      "Try using .loc[row_indexer,col_indexer] = value instead\n",
      "\n",
      "See the caveats in the documentation: http://pandas.pydata.org/pandas-docs/stable/indexing.html#indexing-view-versus-copy\n",
      "C:\\Users\\blindside\\Anaconda3\\lib\\site-packages\\ipykernel_launcher.py:33: SettingWithCopyWarning: \n",
      "A value is trying to be set on a copy of a slice from a DataFrame.\n",
      "Try using .loc[row_indexer,col_indexer] = value instead\n",
      "\n",
      "See the caveats in the documentation: http://pandas.pydata.org/pandas-docs/stable/indexing.html#indexing-view-versus-copy\n",
      "C:\\Users\\blindside\\Anaconda3\\lib\\site-packages\\ipykernel_launcher.py:34: SettingWithCopyWarning: \n",
      "A value is trying to be set on a copy of a slice from a DataFrame.\n",
      "Try using .loc[row_indexer,col_indexer] = value instead\n",
      "\n",
      "See the caveats in the documentation: http://pandas.pydata.org/pandas-docs/stable/indexing.html#indexing-view-versus-copy\n",
      "C:\\Users\\blindside\\Anaconda3\\lib\\site-packages\\ipykernel_launcher.py:35: SettingWithCopyWarning: \n",
      "A value is trying to be set on a copy of a slice from a DataFrame.\n",
      "Try using .loc[row_indexer,col_indexer] = value instead\n",
      "\n",
      "See the caveats in the documentation: http://pandas.pydata.org/pandas-docs/stable/indexing.html#indexing-view-versus-copy\n",
      "C:\\Users\\blindside\\Anaconda3\\lib\\site-packages\\ipykernel_launcher.py:36: SettingWithCopyWarning: \n",
      "A value is trying to be set on a copy of a slice from a DataFrame.\n",
      "Try using .loc[row_indexer,col_indexer] = value instead\n",
      "\n",
      "See the caveats in the documentation: http://pandas.pydata.org/pandas-docs/stable/indexing.html#indexing-view-versus-copy\n",
      "C:\\Users\\blindside\\Anaconda3\\lib\\site-packages\\ipykernel_launcher.py:37: SettingWithCopyWarning: \n",
      "A value is trying to be set on a copy of a slice from a DataFrame.\n",
      "Try using .loc[row_indexer,col_indexer] = value instead\n",
      "\n",
      "See the caveats in the documentation: http://pandas.pydata.org/pandas-docs/stable/indexing.html#indexing-view-versus-copy\n"
     ]
    }
   ],
   "source": [
    "school_df['Rigorous Instruction %'] = school_df['Rigorous Instruction %'].str.replace(\"%\", \"\")\n",
    "school_df['Collaborative Teachers %'] = school_df['Collaborative Teachers %'].str.replace(\"%\", \"\")\n",
    "school_df['Supportive Environment %'] = school_df['Supportive Environment %'].str.replace(\"%\", \"\")\n",
    "school_df['Effective School Leadership %'] = school_df['Effective School Leadership %'].str.replace(\"%\", \"\")\n",
    "school_df['Strong Family-Community Ties %'] = school_df['Strong Family-Community Ties %'].str.replace(\"%\", \"\")\n",
    "school_df['Effective School Leadership %'] = school_df['Effective School Leadership %'].str.replace(\"%\", \"\")\n",
    "school_df['Trust %'] = school_df['Trust %'].str.replace(\"%\", \"\")\n",
    "school_df['Student Attendance Rate'] = school_df['Student Attendance Rate'].str.replace(\"%\", \"\")\n",
    "school_df['Percent of Students Chronically Absent'] = school_df['Percent of Students Chronically Absent'].str.replace(\"%\", \"\")\n",
    "school_df['Percent ELL'] = school_df['Percent ELL'].str.replace(\"%\", \"\")\n",
    "school_df['Percent Asian'] = school_df['Percent Asian'].str.replace(\"%\", \"\")\n",
    "school_df['Percent Black'] = school_df['Percent Black'].str.replace(\"%\", \"\")\n",
    "school_df['Percent Hispanic'] = school_df['Percent Hispanic'].str.replace(\"%\", \"\")\n",
    "school_df['Percent Black / Hispanic'] = school_df['Percent Black / Hispanic'].str.replace(\"%\", \"\")\n",
    "school_df['Percent White'] = school_df['Percent White'].str.replace(\"%\", \"\")\n",
    "school_df['Community School?'] = school_df['Community School?'].str.replace(\"Yes\", '1')\n",
    "school_df['Community School?'] = school_df['Community School?'].str.replace(\"No\", '0')\n",
    "school_df['Average ELA Proficiency'] = school_df['Average ELA Proficiency'].astype(int)\n",
    "school_df['Average Math Proficiency'] = school_df['Average Math Proficiency'].astype(int)\n",
    "school_df['Zip'] = school_df['Zip'].astype(int)\n",
    "school_df['Economic Need Index'] = school_df['Economic Need Index'].astype(int)\n",
    "school_df['Rigorous Instruction %'] = school_df['Rigorous Instruction %'].astype(int)\n",
    "school_df['Collaborative Teachers %'] = school_df['Collaborative Teachers %'].astype(int)\n",
    "school_df['Supportive Environment %'] = school_df['Supportive Environment %'].astype(int)\n",
    "school_df['Effective School Leadership %'] = school_df['Effective School Leadership %'].astype(int)\n",
    "school_df['Strong Family-Community Ties %'] = school_df['Strong Family-Community Ties %'].astype(int)\n",
    "school_df['Effective School Leadership %'] = school_df['Effective School Leadership %'].astype(int)\n",
    "school_df['Trust %'] = school_df['Trust %'].astype(int)\n",
    "school_df['Student Attendance Rate'] = school_df['Student Attendance Rate'].astype(int)\n",
    "school_df['Percent of Students Chronically Absent'] = school_df['Percent of Students Chronically Absent'].astype(int)\n",
    "school_df['Percent ELL'] = school_df['Percent ELL'].astype(int)\n",
    "school_df['Percent Asian'] = school_df['Percent Asian'].astype(int)\n",
    "school_df['Percent Black'] = school_df['Percent Black'].astype(int)\n",
    "school_df['Percent Hispanic'] = school_df['Percent Hispanic'].astype(int)\n",
    "school_df['Percent Black / Hispanic'] = school_df['Percent Black / Hispanic'].astype(int)\n",
    "school_df['Percent White'] = school_df['Percent White'].astype(int)\n",
    "school_df['Community School?'] = school_df['Community School?'].astype(int)"
   ]
  },
  {
   "cell_type": "code",
   "execution_count": 18,
   "metadata": {
    "collapsed": true
   },
   "outputs": [],
   "source": [
    "#Making dummy variables\n",
    "dummy_RigInstuctRating = pd.get_dummies(school_df['Rigorous Instruction Rating'])\n",
    "dummy_ColTeachRating = pd.get_dummies(school_df['Collaborative Teachers Rating'])\n",
    "dummy_SupEnvRating = pd.get_dummies(school_df['Supportive Environment Rating'])\n",
    "dummy_EffLeadRating = pd.get_dummies(school_df['Effective School Leadership Rating'])\n",
    "dummy_StrFamRating = pd.get_dummies(school_df['Strong Family-Community Ties Rating'])\n",
    "dummy_StuAchRating = pd.get_dummies(school_df['Student Achievement Rating'])\n",
    "dummy_TrustRating = pd.get_dummies(school_df['Trust Rating'])"
   ]
  },
  {
   "cell_type": "code",
   "execution_count": 19,
   "metadata": {
    "collapsed": true
   },
   "outputs": [],
   "source": [
    "school_df = pd.concat([school_df, dummy_RigInstuctRating], axis = 1)\n",
    "school_df = pd.concat([school_df, dummy_ColTeachRating], axis = 1)\n",
    "school_df = pd.concat([school_df, dummy_SupEnvRating], axis = 1)\n",
    "school_df = pd.concat([school_df, dummy_EffLeadRating], axis = 1)\n",
    "school_df = pd.concat([school_df, dummy_StrFamRating], axis = 1)\n",
    "school_df = pd.concat([school_df, dummy_StuAchRating], axis = 1)\n",
    "school_df = pd.concat([school_df, dummy_TrustRating], axis = 1)"
   ]
  },
  {
   "cell_type": "code",
   "execution_count": 20,
   "metadata": {
    "collapsed": true
   },
   "outputs": [],
   "source": [
    "school_df = school_df.drop(['Rigorous Instruction Rating', 'Collaborative Teachers Rating', 'Supportive Environment Rating',\n",
    "                          'Effective School Leadership Rating', 'Strong Family-Community Ties Rating', 'Student Achievement Rating',\n",
    "                          'Trust Rating'], 1)"
   ]
  },
  {
   "cell_type": "code",
   "execution_count": 21,
   "metadata": {
    "collapsed": true
   },
   "outputs": [],
   "source": [
    "school_df.columns = ['Zip', 'Grades', 'Community School?', 'Economic Need Index',\n",
    "       'Percent ELL', 'Percent Asian', 'Percent Black', 'Percent Hispanic',\n",
    "       'Percent Black / Hispanic', 'Percent White', 'Student Attendance Rate',\n",
    "       'Percent of Students Chronically Absent', 'Rigorous Instruction %',\n",
    "       'Collaborative Teachers %', 'Supportive Environment %',\n",
    "       'Effective School Leadership %', 'Strong Family-Community Ties %',\n",
    "       'Trust %', 'Average ELA Proficiency', 'Average Math Proficiency',\n",
    "       'Grade 3 ELA - All Students Tested',\n",
    "       'Grade 3 Math - All Students tested',\n",
    "       'Grade 4 ELA - All Students Tested',\n",
    "       'Grade 4 Math - All Students Tested',\n",
    "       'Grade 5 ELA - All Students Tested',\n",
    "       'Grade 5 Math - All Students Tested',\n",
    "       'Grade 6 ELA - All Students Tested',\n",
    "       'Grade 6 Math - All Students Tested',\n",
    "       'Grade 7 ELA - All Students Tested',\n",
    "       'Grade 7 Math - All Students Tested',\n",
    "       'Grade 8 ELA - All Students Tested',\n",
    "       'Grade 8 Math - All Students Tested', 'Rig_Approaching Target',\n",
    "       'Rig_Exceeding Target', 'Rig_Meeting Target', 'Rig_Not Meeting Target',\n",
    "       'ColTeach_Approaching Target', 'ColTeach_Exceeding Target', 'ColTeach_Meeting Target',\n",
    "       'ColTeach_Not Meeting Target', 'SupEnv_Approaching Target', 'SupEnv_Exceeding Target',\n",
    "       'SupEnv_Meeting Target', 'SupEnv_Not Meeting Target', 'EffLead_Approaching Target',\n",
    "       'EffLead_Exceeding Target', 'EffLead_Meeting Target', 'EffLead_Not Meeting Target',\n",
    "       'StrFam_Approaching Target', 'StrFam_Exceeding Target', 'StrFam_Meeting Target',\n",
    "       'StrFam_Not Meeting Target', 'StuAch_Approaching Target', 'StuAch_Exceeding Target',\n",
    "       'StuAch_Meeting Target', 'StuAch_Not Meeting Target', 'Trust_Approaching Target',\n",
    "       'Trust_Exceeding Target', 'Trust_Meeting Target', 'Trust_Not Meeting Target']"
   ]
  },
  {
   "cell_type": "code",
   "execution_count": 22,
   "metadata": {
    "collapsed": true
   },
   "outputs": [],
   "source": [
    "school_df['Rig_Approaching Target'] = school_df['Rig_Approaching Target'].astype(int)\n",
    "school_df['Rig_Exceeding Target'] = school_df['Rig_Exceeding Target'].astype(int)\n",
    "school_df['Rig_Meeting Target'] = school_df['Rig_Meeting Target'].astype(int)\n",
    "school_df['Rig_Not Meeting Target'] = school_df['Rig_Not Meeting Target'].astype(int)\n",
    "school_df['ColTeach_Approaching Target'] = school_df['ColTeach_Approaching Target'].astype(int)\n",
    "school_df['ColTeach_Exceeding Target'] = school_df['ColTeach_Exceeding Target'].astype(int)\n",
    "school_df['ColTeach_Meeting Target'] = school_df['ColTeach_Approaching Target'].astype(int)\n",
    "school_df['ColTeach_Not Meeting Target'] = school_df['ColTeach_Not Meeting Target'].astype(int)\n",
    "school_df['SupEnv_Approaching Target'] = school_df['SupEnv_Approaching Target'].astype(int)\n",
    "school_df['SupEnv_Exceeding Target'] = school_df['SupEnv_Exceeding Target'].astype(int)\n",
    "school_df['SupEnv_Meeting Target'] = school_df['SupEnv_Meeting Target'].astype(int)\n",
    "school_df['SupEnv_Not Meeting Target'] = school_df['SupEnv_Not Meeting Target'].astype(int)\n",
    "school_df['EffLead_Approaching Target'] = school_df['EffLead_Approaching Target'].astype(int)\n",
    "school_df['EffLead_Exceeding Target'] = school_df['EffLead_Exceeding Target'].astype(int)\n",
    "school_df['EffLead_Meeting Target'] = school_df['EffLead_Meeting Target'].astype(int)\n",
    "school_df['EffLead_Not Meeting Target'] = school_df['EffLead_Not Meeting Target'].astype(int)\n",
    "school_df['StrFam_Approaching Target'] = school_df['StrFam_Approaching Target'].astype(int)\n",
    "school_df['StrFam_Exceeding Target'] = school_df['StrFam_Exceeding Target'].astype(int)\n",
    "school_df['StrFam_Meeting Target'] = school_df['StrFam_Meeting Target'].astype(int)\n",
    "school_df['StrFam_Not Meeting Target'] = school_df['StrFam_Not Meeting Target'].astype(int)\n",
    "school_df['StuAch_Approaching Target'] = school_df['StuAch_Approaching Target'].astype(int)\n",
    "school_df['StuAch_Exceeding Target'] = school_df['StuAch_Exceeding Target'].astype(int)\n",
    "school_df['StuAch_Meeting Target'] = school_df['StuAch_Meeting Target'].astype(int)\n",
    "school_df['StuAch_Not Meeting Target'] = school_df['StuAch_Not Meeting Target'].astype(int)\n",
    "school_df['Trust_Approaching Target'] = school_df['Trust_Approaching Target'].astype(int)\n",
    "school_df['Trust_Exceeding Target'] = school_df['Trust_Exceeding Target'].astype(int)\n",
    "school_df['Trust_Meeting Target'] = school_df['Trust_Meeting Target'].astype(int)\n",
    "school_df['Trust_Not Meeting Target'] = school_df['Trust_Not Meeting Target'].astype(int)"
   ]
  },
  {
   "cell_type": "markdown",
   "metadata": {},
   "source": [
    "## Random Forest default settings"
   ]
  },
  {
   "cell_type": "markdown",
   "metadata": {},
   "source": [
    "Before I started diving in and start tuning I wanted to get an idea on how well random forest would perform without any tuning or any more feature selection."
   ]
  },
  {
   "cell_type": "code",
   "execution_count": 23,
   "metadata": {
    "collapsed": true
   },
   "outputs": [],
   "source": [
    "X = school_df.drop(['Average Math Proficiency', 'Average ELA Proficiency', 'Grades'], 1)\n",
    "y = school_df['Average Math Proficiency']"
   ]
  },
  {
   "cell_type": "code",
   "execution_count": 24,
   "metadata": {
    "collapsed": true
   },
   "outputs": [],
   "source": [
    "X1 = school_df.drop(['Average Math Proficiency', 'Average ELA Proficiency', 'Grades'], 1)\n",
    "y1 = school_df['Average ELA Proficiency']"
   ]
  },
  {
   "cell_type": "code",
   "execution_count": 25,
   "metadata": {},
   "outputs": [
    {
     "data": {
      "text/plain": [
       "array([ 0.84641638,  0.86348123,  0.83848797,  0.76896552])"
      ]
     },
     "execution_count": 25,
     "metadata": {},
     "output_type": "execute_result"
    }
   ],
   "source": [
    "rfc = ensemble.RandomForestClassifier()\n",
    "cross_val_score(rfc, X, y, cv=4)"
   ]
  },
  {
   "cell_type": "code",
   "execution_count": 26,
   "metadata": {},
   "outputs": [
    {
     "data": {
      "text/plain": [
       "array([ 0.95221843,  0.90784983,  0.86254296,  0.9       ])"
      ]
     },
     "execution_count": 26,
     "metadata": {},
     "output_type": "execute_result"
    }
   ],
   "source": [
    "cross_val_score(rfc, X1, y1, cv=4)"
   ]
  },
  {
   "cell_type": "markdown",
   "metadata": {},
   "source": [
    "## PCA"
   ]
  },
  {
   "cell_type": "code",
   "execution_count": null,
   "metadata": {},
   "outputs": [],
   "source": [
    "X.shape"
   ]
  },
  {
   "cell_type": "code",
   "execution_count": 27,
   "metadata": {},
   "outputs": [
    {
     "data": {
      "image/png": "[encoded data removed]",
      "text/plain": [
       "<matplotlib.figure.Figure at 0x192b46498d0>"
      ]
     },
     "metadata": {},
     "output_type": "display_data"
    }
   ],
   "source": [
    "# Finding the best PCA component amount for the job\n",
    "plt.figure(figsize=(12, 7))\n",
    "pca_cnty = PCA(n_components=X.shape[1])\n",
    "pca_cnty_transform = pca_cnty.fit(X)\n",
    "plt.plot(pca_cnty_transform.explained_variance_[1:10])\n",
    "plt.title(\"Best PCA\")\n",
    "plt.xlabel(\"Number of components\")\n",
    "plt.grid(True)\n",
    "plt.show()"
   ]
  },
  {
   "cell_type": "code",
   "execution_count": 28,
   "metadata": {
    "collapsed": true
   },
   "outputs": [],
   "source": [
    "pca = PCA(n_components=2)\n",
    "pca.fit(X)\n",
    "X_pca = pca.transform(X);"
   ]
  },
  {
   "cell_type": "markdown",
   "metadata": {},
   "source": [
    "## KNN "
   ]
  },
  {
   "cell_type": "code",
   "execution_count": 57,
   "metadata": {
    "collapsed": true
   },
   "outputs": [],
   "source": [
    "knn_params = {'n_neighbors':range(1, 60,1),\n",
    "         'weights': ('uniform', 'distance')}"
   ]
  },
  {
   "cell_type": "code",
   "execution_count": 58,
   "metadata": {},
   "outputs": [
    {
     "name": "stdout",
     "output_type": "stream",
     "text": [
      "{'n_neighbors': 36, 'weights': 'distance'}\n"
     ]
    }
   ],
   "source": [
    "neighbors = KNeighborsRegressor()\n",
    "gs_knn = GridSearchCV(neighbors, knn_params, return_train_score=True, n_jobs =-1)\n",
    "gs_knn.fit(X,y)\n",
    "\n",
    "print(gs_knn.best_params_)"
   ]
  },
  {
   "cell_type": "code",
   "execution_count": 63,
   "metadata": {},
   "outputs": [
    {
     "data": {
      "text/plain": [
       "array([ 0.17925647,  0.22656803,  0.21348675, -0.0834331 ])"
      ]
     },
     "execution_count": 63,
     "metadata": {},
     "output_type": "execute_result"
    }
   ],
   "source": [
    "neighbors = KNeighborsRegressor(n_neighbors = 36, weights ='distance')\n",
    "cross_val_score(neighbors, X, y, cv=4)"
   ]
  },
  {
   "cell_type": "markdown",
   "metadata": {},
   "source": [
    "## With PCA"
   ]
  },
  {
   "cell_type": "code",
   "execution_count": 64,
   "metadata": {},
   "outputs": [
    {
     "name": "stdout",
     "output_type": "stream",
     "text": [
      "{'n_neighbors': 59, 'weights': 'distance'}\n"
     ]
    }
   ],
   "source": [
    "neighbors = KNeighborsRegressor()\n",
    "gs_knn = GridSearchCV(neighbors, knn_params, return_train_score=True, n_jobs =-1)\n",
    "gs_knn.fit(X_pca,y)\n",
    "\n",
    "print(gs_knn.best_params_)"
   ]
  },
  {
   "cell_type": "code",
   "execution_count": 65,
   "metadata": {},
   "outputs": [
    {
     "data": {
      "text/plain": [
       "array([ 0.15288824,  0.22228634,  0.1717831 , -0.12900914])"
      ]
     },
     "execution_count": 65,
     "metadata": {},
     "output_type": "execute_result"
    }
   ],
   "source": [
    "neighbors = KNeighborsRegressor(n_neighbors = 59, weights ='distance')\n",
    "cross_val_score(neighbors, X, y, cv=4)"
   ]
  },
  {
   "cell_type": "markdown",
   "metadata": {},
   "source": [
    "## Logistic regression"
   ]
  },
  {
   "cell_type": "code",
   "execution_count": 107,
   "metadata": {},
   "outputs": [],
   "source": [
    "lr_params = {'C':np.arange(0.1, 10, .01)}"
   ]
  },
  {
   "cell_type": "code",
   "execution_count": 108,
   "metadata": {},
   "outputs": [
    {
     "name": "stdout",
     "output_type": "stream",
     "text": [
      "{'C': 2.6699999999999986}\n"
     ]
    }
   ],
   "source": [
    "lr = LogisticRegression()\n",
    "gs_lr = GridSearchCV(lr, lr_params, return_train_score=True, n_jobs =-1)\n",
    "gs_lr.fit(X,y)\n",
    "\n",
    "print(gs_lr.best_params_)"
   ]
  },
  {
   "cell_type": "code",
   "execution_count": 109,
   "metadata": {},
   "outputs": [
    {
     "data": {
      "text/plain": [
       "array([ 0.85665529,  0.84982935,  0.84536082,  0.72413793])"
      ]
     },
     "execution_count": 109,
     "metadata": {},
     "output_type": "execute_result"
    }
   ],
   "source": [
    "lr = LogisticRegression(C= 2.6699999999999986)\n",
    "cross_val_score(lr, X, y, cv=4)"
   ]
  },
  {
   "cell_type": "code",
   "execution_count": 148,
   "metadata": {},
   "outputs": [],
   "source": [
    "def printStuff(reg):\n",
    "# Get results\n",
    "    print('Coefficient')\n",
    "    fit = reg.fit(X, y)\n",
    "    coef = fit.coef_\n",
    "    print(coef)\n",
    "    print(fit.intercept_)\n",
    "\n",
    "    # Get predictions\n",
    "    pred_y = reg.predict(X)\n",
    "\n",
    "    print('\\nAccuracy')\n",
    "    print(pd.crosstab(pred_y, y))\n",
    "\n",
    "    scores = cross_val_score(reg, X, y, cv=5)\n",
    "    print('\\nPercentage accuracy')\n",
    "    print(scores)\n",
    "    print('Mean:', scores.mean())"
   ]
  },
  {
   "cell_type": "code",
   "execution_count": 149,
   "metadata": {},
   "outputs": [
    {
     "name": "stdout",
     "output_type": "stream",
     "text": [
      "Coefficient\n",
      "[[  6.14754310e-05   1.17845043e+00   0.00000000e+00   8.00101955e-02\n",
      "   -1.32277006e-01  -2.32340989e-01  -2.42174894e-01   2.49678676e-01\n",
      "   -8.39353100e-02   3.19215960e-02   1.24671574e-01  -1.00437705e-01\n",
      "    9.42468553e-02  -2.18415997e-02  -1.31578664e-02  -1.66924150e-01\n",
      "    6.75703974e-02  -4.52631979e-01   4.43227560e-01   5.53870210e-01\n",
      "   -5.53566150e-01  -2.04361458e-01   1.44112260e-01  -9.07537187e-02\n",
      "    7.83822077e-02   1.22241607e-01  -1.32311297e-01   8.68497314e-03\n",
      "   -3.01573755e-03   3.48749397e-01  -2.54417677e-01   9.56558434e-02\n",
      "   -1.90322840e-01  -1.08654922e-01  -3.56710093e-01  -1.08654922e-01\n",
      "   -5.81903757e-02  -3.05895390e-02  -2.86443458e-01   1.77087847e-01\n",
      "    1.39609872e-01   4.70185389e-01   1.01801591e-01  -9.70482209e-01\n",
      "    3.98159951e-01  -4.96583850e-01   1.29941440e-01   4.33792190e-01\n",
      "   -6.74850569e-02   1.08075846e+00  -4.61637151e-01  -1.41089212e+00\n",
      "    7.91435538e-01  -2.33102423e-02   2.84113002e-01  -2.35546364e-01\n",
      "   -2.55916729e-02]\n",
      " [  1.59728841e-04  -7.23336373e-01   0.00000000e+00   3.04800566e-02\n",
      "   -1.36864714e-01   1.81126151e-01   1.86001612e-01  -2.56914780e-01\n",
      "   -1.25717005e-01   5.59608830e-02   1.88014230e-02   4.75541285e-02\n",
      "    2.57941000e-02  -1.73986788e-02  -4.35036084e-02  -3.61345223e-02\n",
      "    3.66613309e-02  -6.10064634e-02   5.10029702e-02  -8.71527842e-02\n",
      "    9.47234736e-02   8.28722812e-02  -7.99871460e-02   1.02492381e-01\n",
      "   -1.09449533e-01  -8.39453461e-02   8.48531799e-02   7.76152817e-03\n",
      "    7.39632181e-04   1.85067100e-01  -3.40811690e-01   2.82316623e-01\n",
      "   -1.58953286e-01   1.71463452e-02   5.75905937e-02   1.71463452e-02\n",
      "   -1.08906708e-01  -1.44166329e-01  -2.04955773e-01   3.62066073e-01\n",
      "   -4.53252231e-02  -4.58476914e-02   4.45371260e-02   2.94550050e-01\n",
      "   -3.25620736e-01   9.86049699e-02   3.35800804e-02  -1.93078547e-01\n",
      "    2.85122447e-02   2.97201394e-01  -7.49664844e-01   5.53895323e-01\n",
      "   -1.33813125e-01  -8.19497024e-02   1.88502496e-01  -4.26221200e-02\n",
      "   -9.63119257e-02]\n",
      " [ -2.02857545e-04  -8.67914089e-02   0.00000000e+00  -1.07255129e-01\n",
      "    1.16897026e-01  -2.71698699e-01  -2.73145637e-01   3.21092339e-01\n",
      "    9.21333788e-02  -1.78677461e-01  -1.56713433e-01   1.52836858e-02\n",
      "   -7.94986970e-03   5.13015236e-02   1.56368407e-03   1.19526254e-01\n",
      "   -1.42299097e-02  -6.01636056e-02   7.44788957e-02  -1.40576297e-02\n",
      "    4.31017418e-03  -1.17042024e-01   1.11349905e-01  -3.45968471e-02\n",
      "    5.16260570e-02  -6.80588161e-03   4.63396007e-03  -1.91504272e-02\n",
      "    4.12099813e-03  -3.97511246e-01   4.64589013e-01  -1.96498643e-01\n",
      "    1.86968350e-01   3.10673790e-02  -1.31043396e-03   3.10673790e-02\n",
      "    5.11110780e-02   4.35291705e-01  -2.72184645e-01  -1.05228498e-01\n",
      "   -3.31088500e-04  -2.15594378e-02  -4.50230271e-04  -1.59364339e-01\n",
      "    2.38921481e-01   4.07975557e-01  -4.74123864e-01   2.25876131e-01\n",
      "   -1.02180350e-01  -1.86650386e+00   1.85283500e+00   8.96106563e-02\n",
      "   -1.83943213e-02   3.75040487e-01  -2.58404528e-01  -2.27399891e-02\n",
      "   -3.63484953e-02]\n",
      " [ -4.32768594e-03  -2.10401055e-05   0.00000000e+00  -8.51439980e-01\n",
      "    3.75074941e-01  -3.44660685e-02   2.61782339e-01   1.69820980e-02\n",
      "    2.35825222e-01   4.55213204e-01  -9.55660765e-01  -5.66113776e-02\n",
      "   -5.85397657e-01  -1.80540292e-01   1.38193623e-01   6.11642015e-01\n",
      "   -2.17244685e-01   4.77990067e-02  -4.95988367e-02   6.67619482e-02\n",
      "   -4.23132031e-02   9.89220867e-03  -2.79437013e-03  -9.29664965e-03\n",
      "   -1.00700978e-01   1.39928817e-01  -2.01663922e-02   9.57710267e-03\n",
      "    7.11316105e-03  -1.47641764e-02   2.23468959e-01  -2.07559755e-01\n",
      "   -3.29171673e-06   4.84093842e-02   4.46481600e-03   4.84093842e-02\n",
      "   -1.01967312e-02  -1.56503777e-02   3.79186513e-02  -2.11261710e-02\n",
      "   -3.67205258e-07   5.78197654e-03  -8.69210651e-02   9.19629268e-02\n",
      "   -9.68210280e-03   1.91307597e-02   8.74628902e-02  -1.23771751e-01\n",
      "    1.83198366e-02  -1.08037857e-02   5.99060569e-02  -4.79590379e-02\n",
      "   -1.49790369e-06  -2.32722612e-02  -7.35019991e-02   9.21451198e-02\n",
      "    5.77087584e-03]]\n",
      "[-0.00033528 -0.03238125  0.05754747  0.00114174]\n",
      "\n",
      "Accuracy\n",
      "Average Math Proficiency   1    2    3  4\n",
      "row_0                                    \n",
      "1                          7    0    0  0\n",
      "2                         31  812   61  0\n",
      "3                          0   38  214  3\n",
      "4                          0    0    0  1\n"
     ]
    },
    {
     "name": "stderr",
     "output_type": "stream",
     "text": [
      "C:\\Users\\blindside\\Anaconda3\\lib\\site-packages\\sklearn\\model_selection\\_split.py:605: Warning: The least populated class in y has only 4 members, which is too few. The minimum number of members in any class cannot be less than n_splits=5.\n",
      "  % (min_groups, self.n_splits)), Warning)\n"
     ]
    },
    {
     "name": "stdout",
     "output_type": "stream",
     "text": [
      "\n",
      "Percentage accuracy\n",
      "[ 0.9017094   0.86752137  0.85470085  0.82403433  0.69396552]\n",
      "Mean: 0.828386295187\n"
     ]
    }
   ],
   "source": [
    "lr = LogisticRegression(C= 2.6699999999999986)\n",
    "printStuff(lr)"
   ]
  },
  {
   "cell_type": "markdown",
   "metadata": {},
   "source": [
    "## Logistic regression for ELA"
   ]
  },
  {
   "cell_type": "code",
   "execution_count": 153,
   "metadata": {
    "collapsed": true
   },
   "outputs": [],
   "source": [
    "lr_params = {'C':np.arange(0.1, 10, .01)}"
   ]
  },
  {
   "cell_type": "code",
   "execution_count": 154,
   "metadata": {},
   "outputs": [
    {
     "name": "stdout",
     "output_type": "stream",
     "text": [
      "{'C': 0.10000000000000001}\n"
     ]
    }
   ],
   "source": [
    "lr = LogisticRegression()\n",
    "gs_lr = GridSearchCV(lr, lr_params, return_train_score=True, n_jobs =-1)\n",
    "gs_lr.fit(X,y1)\n",
    "\n",
    "print(gs_lr.best_params_)"
   ]
  },
  {
   "cell_type": "code",
   "execution_count": null,
   "metadata": {
    "collapsed": true
   },
   "outputs": [],
   "source": [
    "lr = LogisticRegression(C= 2.6699999999999986)\n",
    "cross_val_score(lr, X, y1, cv=4)"
   ]
  },
  {
   "cell_type": "markdown",
   "metadata": {},
   "source": [
    "## With PCA"
   ]
  },
  {
   "cell_type": "code",
   "execution_count": 110,
   "metadata": {},
   "outputs": [
    {
     "name": "stdout",
     "output_type": "stream",
     "text": [
      "{'C': 0.10000000000000001}\n"
     ]
    }
   ],
   "source": [
    "lr = LogisticRegression()\n",
    "gs_lr = GridSearchCV(lr, lr_params, return_train_score=True, n_jobs =-1)\n",
    "gs_lr.fit(X_pca,y)\n",
    "\n",
    "print(gs_lr.best_params_)"
   ]
  },
  {
   "cell_type": "code",
   "execution_count": 152,
   "metadata": {},
   "outputs": [
    {
     "data": {
      "text/plain": [
       "(1167, 57)"
      ]
     },
     "execution_count": 152,
     "metadata": {},
     "output_type": "execute_result"
    }
   ],
   "source": [
    "X.shape"
   ]
  },
  {
   "cell_type": "code",
   "execution_count": 111,
   "metadata": {},
   "outputs": [
    {
     "data": {
      "text/plain": [
       "array([ 0.86006826,  0.85324232,  0.82817869,  0.76551724])"
      ]
     },
     "execution_count": 111,
     "metadata": {},
     "output_type": "execute_result"
    }
   ],
   "source": [
    "lr = LogisticRegression(C= 0.10000000000000001)\n",
    "cross_val_score(lr, X, y, cv=4)"
   ]
  },
  {
   "cell_type": "markdown",
   "metadata": {},
   "source": [
    "#### Ridge Regression "
   ]
  },
  {
   "cell_type": "code",
   "execution_count": 131,
   "metadata": {},
   "outputs": [],
   "source": [
    "lr_ridge = LogisticRegression(penalty ='l1')\n",
    "lr_ridge_params = {'C':np.arange(0.1, 10, .01)}"
   ]
  },
  {
   "cell_type": "code",
   "execution_count": 132,
   "metadata": {},
   "outputs": [
    {
     "name": "stdout",
     "output_type": "stream",
     "text": [
      "{'C': 0.30999999999999994}\n"
     ]
    }
   ],
   "source": [
    "gs_lr_ridge = GridSearchCV(lr_ridge, lr_ridge_params, return_train_score=True, n_jobs =-1)\n",
    "gs_lr_ridge.fit(X,y)\n",
    "\n",
    "print(gs_lr_ridge.best_params_)"
   ]
  },
  {
   "cell_type": "code",
   "execution_count": 134,
   "metadata": {},
   "outputs": [
    {
     "data": {
      "text/plain": [
       "array([ 0.84982935,  0.84300341,  0.8419244 ,  0.75517241])"
      ]
     },
     "execution_count": 134,
     "metadata": {},
     "output_type": "execute_result"
    }
   ],
   "source": [
    "lr_ridge = LogisticRegression(C= 0.30999999999999994)\n",
    "cross_val_score(lr_ridge, X, y, cv=4)"
   ]
  },
  {
   "cell_type": "code",
   "execution_count": 150,
   "metadata": {},
   "outputs": [
    {
     "name": "stdout",
     "output_type": "stream",
     "text": [
      "Coefficient\n",
      "[[ -1.35361579e-04   7.61965588e-01   0.00000000e+00   7.70381977e-02\n",
      "   -8.14576534e-02  -1.21606997e-01  -1.34371158e-01   1.68793383e-01\n",
      "   -6.63200261e-02   2.35916539e-02   1.16688827e-01  -7.58715358e-02\n",
      "    9.56732540e-02  -5.21945203e-02  -3.99277263e-02  -1.24814305e-01\n",
      "    6.36354359e-02  -3.15356064e-01   3.20852678e-01   3.61669604e-01\n",
      "   -3.80089052e-01  -1.57878094e-01   1.03251929e-01  -5.44921445e-02\n",
      "    3.89689914e-02   1.09475071e-01  -1.10191493e-01   2.63371705e-03\n",
      "   -1.22350327e-03   2.47502228e-01  -1.61065894e-01   1.25165986e-02\n",
      "   -1.00265732e-01  -6.95983533e-02  -2.11090786e-01  -6.95983533e-02\n",
      "   -1.78641031e-02  -4.44179996e-02  -1.61420819e-01   1.10792904e-01\n",
      "    9.37331146e-02   2.49481351e-01   7.60423062e-02  -5.81084115e-01\n",
      "    2.54247658e-01  -3.52250694e-01   6.65104288e-02   3.18869906e-01\n",
      "   -3.44424404e-02   8.01676435e-01  -2.63796733e-01  -9.77866986e-01\n",
      "    4.38674484e-01   2.20508166e-02   1.90345885e-01  -1.88584580e-01\n",
      "   -2.51249211e-02]\n",
      " [  1.60442238e-04  -5.45778684e-01   0.00000000e+00   3.42703500e-02\n",
      "   -1.56505664e-01   1.30613883e-01   1.34620623e-01  -2.25015154e-01\n",
      "   -1.42872975e-01   7.78259273e-02   2.76345552e-02   6.61446272e-02\n",
      "    1.52859380e-02  -2.47530429e-02  -2.49443743e-02  -3.63661105e-02\n",
      "    1.45677719e-02  -5.96074510e-02   4.91410036e-02  -8.58560582e-02\n",
      "    9.39754375e-02   8.03545260e-02  -7.70410622e-02   9.55143065e-02\n",
      "   -1.02197371e-01  -8.39836283e-02   8.38151108e-02   8.66499143e-03\n",
      "    6.05235978e-04   1.39255153e-01  -3.08093829e-01   2.67598795e-01\n",
      "   -1.22781386e-01   1.46735209e-02   2.12774164e-02   1.46735209e-02\n",
      "   -8.26457850e-02  -1.26163890e-01  -2.04985987e-01   3.40968817e-01\n",
      "   -3.38402072e-02  -3.65190688e-02   1.13028920e-02   2.47834846e-01\n",
      "   -2.46639937e-01   9.36545741e-02   3.23085834e-02  -1.70809129e-01\n",
      "    2.08247038e-02   2.29675985e-01  -6.62688225e-01   5.07982013e-01\n",
      "   -9.89910400e-02  -6.06396367e-02   1.35799720e-01  -2.64414981e-02\n",
      "   -7.27398528e-02]\n",
      " [ -1.48829149e-04  -2.49384346e-02   0.00000000e+00  -9.02623274e-02\n",
      "    9.95406840e-02  -1.17057456e-01  -1.17779828e-01   1.54815259e-01\n",
      "    7.66983695e-02  -1.50690880e-01  -1.34761330e-01   3.40034116e-02\n",
      "   -4.75297937e-03   5.74241647e-02  -4.35951252e-03   8.28696806e-02\n",
      "   -2.83924553e-02  -2.67569204e-02   4.10917732e-02   3.12448627e-03\n",
      "   -1.31944712e-02  -1.03168965e-01   9.99613678e-02  -4.97232742e-02\n",
      "    6.54676271e-02   1.73058540e-02  -1.97933362e-02  -1.48190669e-02\n",
      "    2.03439203e-03  -1.67592121e-01   3.31216467e-01  -2.00137065e-01\n",
      "    5.30732824e-02   1.11151934e-03   4.98776418e-02   1.11151934e-03\n",
      "    5.59216118e-03   1.12571872e-01  -3.35790557e-02  -6.22675594e-02\n",
      "   -1.64693066e-04  -8.14418479e-03   3.65963865e-02  -9.12976495e-02\n",
      "    7.94060117e-02   1.20192705e-01  -1.96082906e-01   1.25623217e-01\n",
      "   -3.31724523e-02  -9.02310938e-01   1.07631704e+00  -1.53324703e-01\n",
      "   -4.12083851e-03   1.24034258e-01  -1.28760659e-01   4.52770359e-02\n",
      "   -2.39900708e-02]\n",
      " [ -2.23439834e-03  -6.84172166e-06   0.00000000e+00  -4.64753251e-01\n",
      "    1.96298303e-01  -1.18275643e-02   9.22027115e-02  -1.48765604e-02\n",
      "    1.29498199e-01   2.44404193e-01  -5.15820018e-01  -5.77093180e-02\n",
      "   -3.06162627e-01  -6.35222913e-02   5.05502700e-02   3.13223400e-01\n",
      "   -1.02529193e-01   1.77812310e-02  -3.49591775e-02   4.91868357e-02\n",
      "   -8.91397256e-03  -3.16853313e-03  -7.77459085e-03  -1.73041770e-02\n",
      "   -5.49410623e-02   4.88754802e-02  -5.90320437e-03   4.76142239e-02\n",
      "   -6.35553181e-03  -9.27291239e-03   1.17015750e-01  -1.06990916e-01\n",
      "   -1.07044248e-06   2.87349771e-02   2.77711508e-03   2.87349771e-02\n",
      "   -6.98797593e-03  -9.11544787e-03   1.93313799e-02  -9.46496164e-03\n",
      "   -1.19243720e-07  -2.48054747e-03  -3.74287642e-02   4.13688927e-02\n",
      "   -7.08730001e-04   1.32273016e-02   4.32452076e-02  -6.57726193e-02\n",
      "    1.00509613e-02  -7.25504254e-03   3.52492477e-02  -2.72428611e-02\n",
      "   -4.92962667e-07  -1.41739703e-02  -3.17052929e-02   3.85774910e-02\n",
      "    8.05262329e-03]]\n",
      "[-0.0013128  -0.02402127  0.01656056  0.00075085]\n",
      "\n",
      "Accuracy\n",
      "Average Math Proficiency   1    2    3  4\n",
      "row_0                                    \n",
      "1                          3    0    0  0\n",
      "2                         35  810   65  0\n",
      "3                          0   40  210  3\n",
      "4                          0    0    0  1\n"
     ]
    },
    {
     "name": "stderr",
     "output_type": "stream",
     "text": [
      "C:\\Users\\blindside\\Anaconda3\\lib\\site-packages\\sklearn\\model_selection\\_split.py:605: Warning: The least populated class in y has only 4 members, which is too few. The minimum number of members in any class cannot be less than n_splits=5.\n",
      "  % (min_groups, self.n_splits)), Warning)\n"
     ]
    },
    {
     "name": "stdout",
     "output_type": "stream",
     "text": [
      "\n",
      "Percentage accuracy\n",
      "[ 0.9017094   0.86752137  0.86324786  0.81545064  0.71551724]\n",
      "Mean: 0.832689303527\n"
     ]
    }
   ],
   "source": [
    "lr_ridge = LogisticRegression(C= 0.30999999999999994)\n",
    "printStuff(lr_ridge)"
   ]
  },
  {
   "cell_type": "markdown",
   "metadata": {},
   "source": [
    "#### RIDGE FOR ELA"
   ]
  },
  {
   "cell_type": "code",
   "execution_count": 155,
   "metadata": {
    "collapsed": true
   },
   "outputs": [],
   "source": [
    "lr_ridge = LogisticRegression(penalty ='l1')\n",
    "lr_ridge_params = {'C':np.arange(0.1, 5, .01)}"
   ]
  },
  {
   "cell_type": "code",
   "execution_count": 156,
   "metadata": {},
   "outputs": [
    {
     "name": "stdout",
     "output_type": "stream",
     "text": [
      "{'C': 0.10000000000000001}\n"
     ]
    }
   ],
   "source": [
    "gs_lr_ridge = GridSearchCV(lr_ridge, lr_ridge_params, return_train_score=True, n_jobs =-1)\n",
    "gs_lr_ridge.fit(X,y1)\n",
    "\n",
    "print(gs_lr_ridge.best_params_)"
   ]
  },
  {
   "cell_type": "code",
   "execution_count": null,
   "metadata": {
    "collapsed": true
   },
   "outputs": [],
   "source": [
    "lr_ridge = LogisticRegression(C= 0.10000000000000001)\n",
    "cross_val_score(lr_ridge, X, y1, cv=4)"
   ]
  },
  {
   "cell_type": "markdown",
   "metadata": {},
   "source": [
    "#### With PCA"
   ]
  },
  {
   "cell_type": "code",
   "execution_count": 135,
   "metadata": {
    "collapsed": true
   },
   "outputs": [],
   "source": [
    "lr_ridge = LogisticRegression(penalty ='l1')\n",
    "lr_ridge_params = {'C':np.arange(0.1, 5, .01)}"
   ]
  },
  {
   "cell_type": "code",
   "execution_count": 136,
   "metadata": {},
   "outputs": [
    {
     "name": "stdout",
     "output_type": "stream",
     "text": [
      "{'C': 0.10000000000000001}\n"
     ]
    }
   ],
   "source": [
    "gs_lr_ridge = GridSearchCV(lr_ridge, lr_ridge_params, return_train_score=True, n_jobs =-1)\n",
    "gs_lr_ridge.fit(X_pca ,y)\n",
    "\n",
    "print(gs_lr_ridge.best_params_)"
   ]
  },
  {
   "cell_type": "code",
   "execution_count": 137,
   "metadata": {},
   "outputs": [
    {
     "data": {
      "text/plain": [
       "array([ 0.72696246,  0.72696246,  0.72852234,  0.73103448])"
      ]
     },
     "execution_count": 137,
     "metadata": {},
     "output_type": "execute_result"
    }
   ],
   "source": [
    "lr_ridge = LogisticRegression(C= 0.10000000000000001)\n",
    "cross_val_score(lr_ridge, X_pca, y, cv=4)"
   ]
  },
  {
   "cell_type": "markdown",
   "metadata": {},
   "source": [
    "#### Lasso"
   ]
  },
  {
   "cell_type": "code",
   "execution_count": 138,
   "metadata": {
    "collapsed": true
   },
   "outputs": [],
   "source": [
    "lr_lasso = LogisticRegression(penalty ='l2')\n",
    "lr_lasso_params = {'C':np.arange(0.1, 5, .01)}"
   ]
  },
  {
   "cell_type": "code",
   "execution_count": 139,
   "metadata": {},
   "outputs": [
    {
     "name": "stdout",
     "output_type": "stream",
     "text": [
      "{'C': 2.6699999999999986}\n"
     ]
    }
   ],
   "source": [
    "gs_lr_lasso = GridSearchCV(lr_lasso, lr_lasso_params, return_train_score=True, n_jobs =-1)\n",
    "gs_lr_lasso.fit(X ,y)\n",
    "\n",
    "print(gs_lr_lasso.best_params_)"
   ]
  },
  {
   "cell_type": "code",
   "execution_count": 140,
   "metadata": {},
   "outputs": [
    {
     "data": {
      "text/plain": [
       "array([ 0.85665529,  0.84982935,  0.84536082,  0.72413793])"
      ]
     },
     "execution_count": 140,
     "metadata": {},
     "output_type": "execute_result"
    }
   ],
   "source": [
    "lr_lasso = LogisticRegression(C= 2.6699999999999986)\n",
    "cross_val_score(lr_lasso, X, y, cv=4)"
   ]
  },
  {
   "cell_type": "code",
   "execution_count": 151,
   "metadata": {},
   "outputs": [
    {
     "name": "stdout",
     "output_type": "stream",
     "text": [
      "Coefficient\n",
      "[[  6.14754310e-05   1.17845043e+00   0.00000000e+00   8.00101955e-02\n",
      "   -1.32277006e-01  -2.32340989e-01  -2.42174894e-01   2.49678676e-01\n",
      "   -8.39353100e-02   3.19215960e-02   1.24671574e-01  -1.00437705e-01\n",
      "    9.42468553e-02  -2.18415997e-02  -1.31578664e-02  -1.66924150e-01\n",
      "    6.75703974e-02  -4.52631979e-01   4.43227560e-01   5.53870210e-01\n",
      "   -5.53566150e-01  -2.04361458e-01   1.44112260e-01  -9.07537187e-02\n",
      "    7.83822077e-02   1.22241607e-01  -1.32311297e-01   8.68497314e-03\n",
      "   -3.01573755e-03   3.48749397e-01  -2.54417677e-01   9.56558434e-02\n",
      "   -1.90322840e-01  -1.08654922e-01  -3.56710093e-01  -1.08654922e-01\n",
      "   -5.81903757e-02  -3.05895390e-02  -2.86443458e-01   1.77087847e-01\n",
      "    1.39609872e-01   4.70185389e-01   1.01801591e-01  -9.70482209e-01\n",
      "    3.98159951e-01  -4.96583850e-01   1.29941440e-01   4.33792190e-01\n",
      "   -6.74850569e-02   1.08075846e+00  -4.61637151e-01  -1.41089212e+00\n",
      "    7.91435538e-01  -2.33102423e-02   2.84113002e-01  -2.35546364e-01\n",
      "   -2.55916729e-02]\n",
      " [  1.59728841e-04  -7.23336373e-01   0.00000000e+00   3.04800566e-02\n",
      "   -1.36864714e-01   1.81126151e-01   1.86001612e-01  -2.56914780e-01\n",
      "   -1.25717005e-01   5.59608830e-02   1.88014230e-02   4.75541285e-02\n",
      "    2.57941000e-02  -1.73986788e-02  -4.35036084e-02  -3.61345223e-02\n",
      "    3.66613309e-02  -6.10064634e-02   5.10029702e-02  -8.71527842e-02\n",
      "    9.47234736e-02   8.28722812e-02  -7.99871460e-02   1.02492381e-01\n",
      "   -1.09449533e-01  -8.39453461e-02   8.48531799e-02   7.76152817e-03\n",
      "    7.39632181e-04   1.85067100e-01  -3.40811690e-01   2.82316623e-01\n",
      "   -1.58953286e-01   1.71463452e-02   5.75905937e-02   1.71463452e-02\n",
      "   -1.08906708e-01  -1.44166329e-01  -2.04955773e-01   3.62066073e-01\n",
      "   -4.53252231e-02  -4.58476914e-02   4.45371260e-02   2.94550050e-01\n",
      "   -3.25620736e-01   9.86049699e-02   3.35800804e-02  -1.93078547e-01\n",
      "    2.85122447e-02   2.97201394e-01  -7.49664844e-01   5.53895323e-01\n",
      "   -1.33813125e-01  -8.19497024e-02   1.88502496e-01  -4.26221200e-02\n",
      "   -9.63119257e-02]\n",
      " [ -2.02857545e-04  -8.67914089e-02   0.00000000e+00  -1.07255129e-01\n",
      "    1.16897026e-01  -2.71698699e-01  -2.73145637e-01   3.21092339e-01\n",
      "    9.21333788e-02  -1.78677461e-01  -1.56713433e-01   1.52836858e-02\n",
      "   -7.94986970e-03   5.13015236e-02   1.56368407e-03   1.19526254e-01\n",
      "   -1.42299097e-02  -6.01636056e-02   7.44788957e-02  -1.40576297e-02\n",
      "    4.31017418e-03  -1.17042024e-01   1.11349905e-01  -3.45968471e-02\n",
      "    5.16260570e-02  -6.80588161e-03   4.63396007e-03  -1.91504272e-02\n",
      "    4.12099813e-03  -3.97511246e-01   4.64589013e-01  -1.96498643e-01\n",
      "    1.86968350e-01   3.10673790e-02  -1.31043396e-03   3.10673790e-02\n",
      "    5.11110780e-02   4.35291705e-01  -2.72184645e-01  -1.05228498e-01\n",
      "   -3.31088500e-04  -2.15594378e-02  -4.50230271e-04  -1.59364339e-01\n",
      "    2.38921481e-01   4.07975557e-01  -4.74123864e-01   2.25876131e-01\n",
      "   -1.02180350e-01  -1.86650386e+00   1.85283500e+00   8.96106563e-02\n",
      "   -1.83943213e-02   3.75040487e-01  -2.58404528e-01  -2.27399891e-02\n",
      "   -3.63484953e-02]\n",
      " [ -4.32768594e-03  -2.10401055e-05   0.00000000e+00  -8.51439980e-01\n",
      "    3.75074941e-01  -3.44660685e-02   2.61782339e-01   1.69820980e-02\n",
      "    2.35825222e-01   4.55213204e-01  -9.55660765e-01  -5.66113776e-02\n",
      "   -5.85397657e-01  -1.80540292e-01   1.38193623e-01   6.11642015e-01\n",
      "   -2.17244685e-01   4.77990067e-02  -4.95988367e-02   6.67619482e-02\n",
      "   -4.23132031e-02   9.89220867e-03  -2.79437013e-03  -9.29664965e-03\n",
      "   -1.00700978e-01   1.39928817e-01  -2.01663922e-02   9.57710267e-03\n",
      "    7.11316105e-03  -1.47641764e-02   2.23468959e-01  -2.07559755e-01\n",
      "   -3.29171673e-06   4.84093842e-02   4.46481600e-03   4.84093842e-02\n",
      "   -1.01967312e-02  -1.56503777e-02   3.79186513e-02  -2.11261710e-02\n",
      "   -3.67205258e-07   5.78197654e-03  -8.69210651e-02   9.19629268e-02\n",
      "   -9.68210280e-03   1.91307597e-02   8.74628902e-02  -1.23771751e-01\n",
      "    1.83198366e-02  -1.08037857e-02   5.99060569e-02  -4.79590379e-02\n",
      "   -1.49790369e-06  -2.32722612e-02  -7.35019991e-02   9.21451198e-02\n",
      "    5.77087584e-03]]\n",
      "[-0.00033528 -0.03238125  0.05754747  0.00114174]\n",
      "\n",
      "Accuracy\n",
      "Average Math Proficiency   1    2    3  4\n",
      "row_0                                    \n",
      "1                          7    0    0  0\n",
      "2                         31  812   61  0\n",
      "3                          0   38  214  3\n",
      "4                          0    0    0  1\n"
     ]
    },
    {
     "name": "stderr",
     "output_type": "stream",
     "text": [
      "C:\\Users\\blindside\\Anaconda3\\lib\\site-packages\\sklearn\\model_selection\\_split.py:605: Warning: The least populated class in y has only 4 members, which is too few. The minimum number of members in any class cannot be less than n_splits=5.\n",
      "  % (min_groups, self.n_splits)), Warning)\n"
     ]
    },
    {
     "name": "stdout",
     "output_type": "stream",
     "text": [
      "\n",
      "Percentage accuracy\n",
      "[ 0.9017094   0.86752137  0.85470085  0.82403433  0.69396552]\n",
      "Mean: 0.828386295187\n"
     ]
    }
   ],
   "source": [
    "lr_lasso = LogisticRegression(C= 2.6699999999999986)\n",
    "printStuff(lr_lasso)"
   ]
  },
  {
   "cell_type": "markdown",
   "metadata": {},
   "source": [
    "#### LASSO FOR ELA"
   ]
  },
  {
   "cell_type": "code",
   "execution_count": null,
   "metadata": {
    "collapsed": true
   },
   "outputs": [],
   "source": [
    "lr_lasso = LogisticRegression(penalty ='l2')\n",
    "lr_lasso_params = {'C':np.arange(0.1, 5, .01)}"
   ]
  },
  {
   "cell_type": "code",
   "execution_count": null,
   "metadata": {
    "collapsed": true
   },
   "outputs": [],
   "source": [
    "gs_lr_lasso = GridSearchCV(lr_lasso, lr_lasso_params, return_train_score=True, n_jobs =-1)\n",
    "gs_lr_lasso.fit(X ,y)\n",
    "\n",
    "print(gs_lr_lasso.best_params_)"
   ]
  },
  {
   "cell_type": "code",
   "execution_count": null,
   "metadata": {
    "collapsed": true
   },
   "outputs": [],
   "source": [
    "lr_lasso = LogisticRegression(C= 2.6699999999999986)\n",
    "cross_val_score(lr_lasso, X, y, cv=4)"
   ]
  },
  {
   "cell_type": "markdown",
   "metadata": {},
   "source": [
    "#### With PCA"
   ]
  },
  {
   "cell_type": "code",
   "execution_count": 141,
   "metadata": {
    "collapsed": true
   },
   "outputs": [],
   "source": [
    "lr_lasso = LogisticRegression(penalty ='l1')\n",
    "lr_lasso_params = {'C':np.arange(0.1, 10, .01)}"
   ]
  },
  {
   "cell_type": "code",
   "execution_count": 142,
   "metadata": {},
   "outputs": [
    {
     "name": "stdout",
     "output_type": "stream",
     "text": [
      "{'C': 0.10000000000000001}\n"
     ]
    }
   ],
   "source": [
    "gs_lr_lasso = GridSearchCV(lr_lasso, lr_lasso_params, return_train_score=True, n_jobs =-1)\n",
    "gs_lr_lasso.fit(X_pca ,y)\n",
    "\n",
    "print(gs_lr_lasso.best_params_)"
   ]
  },
  {
   "cell_type": "code",
   "execution_count": 143,
   "metadata": {},
   "outputs": [
    {
     "data": {
      "text/plain": [
       "array([ 0.72696246,  0.72696246,  0.72852234,  0.73103448])"
      ]
     },
     "execution_count": 143,
     "metadata": {},
     "output_type": "execute_result"
    }
   ],
   "source": [
    "lr_lasso = LogisticRegression(C= 0.10000000000000001)\n",
    "cross_val_score(lr_lasso, X_pca, y, cv=4)"
   ]
  },
  {
   "cell_type": "markdown",
   "metadata": {},
   "source": [
    "## SVR"
   ]
  },
  {
   "cell_type": "code",
   "execution_count": 69,
   "metadata": {},
   "outputs": [],
   "source": [
    "svr_params = {'kernel': ('rbf', 'poly', 'linear', 'sigmoid'),\n",
    "         'max_iter': range(1, 10)}"
   ]
  },
  {
   "cell_type": "code",
   "execution_count": 71,
   "metadata": {},
   "outputs": [
    {
     "name": "stdout",
     "output_type": "stream",
     "text": [
      "{'kernel': 'rbf', 'max_iter': 8}\n"
     ]
    },
    {
     "name": "stderr",
     "output_type": "stream",
     "text": [
      "C:\\Users\\blindside\\Anaconda3\\lib\\site-packages\\sklearn\\svm\\base.py:218: ConvergenceWarning: Solver terminated early (max_iter=8).  Consider pre-processing your data with StandardScaler or MinMaxScaler.\n",
      "  % self.max_iter, ConvergenceWarning)\n"
     ]
    }
   ],
   "source": [
    "svr = SVR()\n",
    "gs_svr = GridSearchCV(svr, svr_params, return_train_score=True, n_jobs =-1)\n",
    "gs_svr.fit(X,y)\n",
    "\n",
    "print(gs_svr.best_params_)"
   ]
  },
  {
   "cell_type": "code",
   "execution_count": 72,
   "metadata": {},
   "outputs": [
    {
     "data": {
      "text/plain": [
       "array([ 0.15288824,  0.22228634,  0.1717831 , -0.12900914])"
      ]
     },
     "execution_count": 72,
     "metadata": {},
     "output_type": "execute_result"
    }
   ],
   "source": [
    "svr = SVR(kernel= 'rbf', max_iter =8)\n",
    "cross_val_score(neighbors, X, y, cv=4)"
   ]
  },
  {
   "cell_type": "markdown",
   "metadata": {},
   "source": [
    "## SVR for ELA"
   ]
  },
  {
   "cell_type": "code",
   "execution_count": 157,
   "metadata": {
    "collapsed": true
   },
   "outputs": [],
   "source": [
    "svr_params = {'kernel': ('rbf', 'poly', 'linear', 'sigmoid'),\n",
    "         'max_iter': range(1, 10)}"
   ]
  },
  {
   "cell_type": "code",
   "execution_count": 158,
   "metadata": {},
   "outputs": [
    {
     "name": "stdout",
     "output_type": "stream",
     "text": [
      "{'kernel': 'rbf', 'max_iter': 4}\n"
     ]
    },
    {
     "name": "stderr",
     "output_type": "stream",
     "text": [
      "C:\\Users\\blindside\\Anaconda3\\lib\\site-packages\\sklearn\\svm\\base.py:218: ConvergenceWarning: Solver terminated early (max_iter=4).  Consider pre-processing your data with StandardScaler or MinMaxScaler.\n",
      "  % self.max_iter, ConvergenceWarning)\n"
     ]
    }
   ],
   "source": [
    "svr = SVR()\n",
    "gs_svr = GridSearchCV(svr, svr_params, return_train_score=True, n_jobs =-1)\n",
    "gs_svr.fit(X,y1)\n",
    "\n",
    "print(gs_svr.best_params_)"
   ]
  },
  {
   "cell_type": "code",
   "execution_count": 159,
   "metadata": {},
   "outputs": [
    {
     "data": {
      "text/plain": [
       "array([ 0.04936296,  0.11905793,  0.04359813, -0.05655694])"
      ]
     },
     "execution_count": 159,
     "metadata": {},
     "output_type": "execute_result"
    }
   ],
   "source": [
    "svr = SVR(kernel= 'rbf', max_iter =4)\n",
    "cross_val_score(neighbors, X, y1, cv=4)"
   ]
  },
  {
   "cell_type": "markdown",
   "metadata": {},
   "source": [
    "## With PCA"
   ]
  },
  {
   "cell_type": "code",
   "execution_count": 73,
   "metadata": {},
   "outputs": [
    {
     "name": "stdout",
     "output_type": "stream",
     "text": [
      "{'kernel': 'rbf', 'max_iter': 3}\n"
     ]
    },
    {
     "name": "stderr",
     "output_type": "stream",
     "text": [
      "C:\\Users\\blindside\\Anaconda3\\lib\\site-packages\\sklearn\\svm\\base.py:218: ConvergenceWarning: Solver terminated early (max_iter=3).  Consider pre-processing your data with StandardScaler or MinMaxScaler.\n",
      "  % self.max_iter, ConvergenceWarning)\n"
     ]
    }
   ],
   "source": [
    "svr = SVR()\n",
    "gs_svr = GridSearchCV(svr, svr_params, return_train_score=True, n_jobs =-1)\n",
    "gs_svr.fit(X_pca,y)\n",
    "\n",
    "print(gs_svr.best_params_)"
   ]
  },
  {
   "cell_type": "code",
   "execution_count": 94,
   "metadata": {},
   "outputs": [
    {
     "data": {
      "text/plain": [
       "array([ 0.08215153,  0.12464766,  0.07105634, -0.27254791])"
      ]
     },
     "execution_count": 94,
     "metadata": {},
     "output_type": "execute_result"
    }
   ],
   "source": [
    "svr = SVR(kernel= 'rbf', max_iter =3)\n",
    "cross_val_score(neighbors, X_pca, y, cv=4)"
   ]
  },
  {
   "cell_type": "markdown",
   "metadata": {},
   "source": [
    "## Random Forest"
   ]
  },
  {
   "cell_type": "code",
   "execution_count": 90,
   "metadata": {},
   "outputs": [],
   "source": [
    "rfr_params = {'n_estimators':range(1, 60,1),\n",
    "         'max_depth': range(2, 10),\n",
    "         'criterion': ('mse', 'mae')}"
   ]
  },
  {
   "cell_type": "code",
   "execution_count": 91,
   "metadata": {},
   "outputs": [
    {
     "name": "stdout",
     "output_type": "stream",
     "text": [
      "{'criterion': 'mse', 'max_depth': 6, 'n_estimators': 32}\n"
     ]
    }
   ],
   "source": [
    "rfr = ensemble.RandomForestRegressor()\n",
    "rfr_gs = GridSearchCV(rfr, rfr_params, return_train_score=True, n_jobs =-1)\n",
    "rfr_gs.fit(X,y)\n",
    "\n",
    "print(rfr_gs.best_params_)"
   ]
  },
  {
   "cell_type": "code",
   "execution_count": 92,
   "metadata": {},
   "outputs": [
    {
     "data": {
      "text/plain": [
       "array([ 0.64446311,  0.42206957,  0.67511509,  0.23605642])"
      ]
     },
     "execution_count": 92,
     "metadata": {},
     "output_type": "execute_result"
    }
   ],
   "source": [
    "rfr = ensemble.RandomForestRegressor(criterion= 'mse', max_depth= 6, n_estimators= 32)\n",
    "cross_val_score(rfr, X, y, cv=4)"
   ]
  },
  {
   "cell_type": "markdown",
   "metadata": {},
   "source": [
    "#### Random Forest for  ELA"
   ]
  },
  {
   "cell_type": "code",
   "execution_count": 160,
   "metadata": {
    "collapsed": true
   },
   "outputs": [],
   "source": [
    "rfr_params = {'n_estimators':range(1, 60,1),\n",
    "         'max_depth': range(2, 10),\n",
    "         'criterion': ('mse', 'mae')}"
   ]
  },
  {
   "cell_type": "code",
   "execution_count": 161,
   "metadata": {},
   "outputs": [
    {
     "name": "stdout",
     "output_type": "stream",
     "text": [
      "{'criterion': 'mse', 'max_depth': 4, 'n_estimators': 49}\n"
     ]
    }
   ],
   "source": [
    "rfr = ensemble.RandomForestRegressor()\n",
    "rfr_gs = GridSearchCV(rfr, rfr_params, return_train_score=True, n_jobs =-1)\n",
    "rfr_gs.fit(X,y1)\n",
    "\n",
    "print(rfr_gs.best_params_)"
   ]
  },
  {
   "cell_type": "code",
   "execution_count": 165,
   "metadata": {},
   "outputs": [
    {
     "data": {
      "text/plain": [
       "array([ 0.57009929,  0.55231628,  0.33954998, -0.15594952])"
      ]
     },
     "execution_count": 165,
     "metadata": {},
     "output_type": "execute_result"
    }
   ],
   "source": [
    "rfr = ensemble.RandomForestRegressor(criterion= 'mse', max_depth= 4, n_estimators= 49)\n",
    "cross_val_score(rfr, X, y1, cv=4)"
   ]
  },
  {
   "cell_type": "markdown",
   "metadata": {},
   "source": [
    "## With PCA"
   ]
  },
  {
   "cell_type": "code",
   "execution_count": 93,
   "metadata": {},
   "outputs": [
    {
     "name": "stdout",
     "output_type": "stream",
     "text": [
      "{'criterion': 'mse', 'max_depth': 6, 'n_estimators': 12}\n"
     ]
    }
   ],
   "source": [
    "rfr = ensemble.RandomForestRegressor()\n",
    "rfr_gs = GridSearchCV(rfr, rfr_params, return_train_score=True, n_jobs =-1)\n",
    "rfr_gs.fit(X_pca,y)\n",
    "\n",
    "print(rfr_gs.best_params_)"
   ]
  },
  {
   "cell_type": "code",
   "execution_count": 95,
   "metadata": {},
   "outputs": [
    {
     "data": {
      "text/plain": [
       "array([-0.02247273, -0.00490895, -0.0055996 , -0.17325328])"
      ]
     },
     "execution_count": 95,
     "metadata": {},
     "output_type": "execute_result"
    }
   ],
   "source": [
    "rfr = ensemble.RandomForestRegressor(criterion= 'mse',max_depth= 6, n_estimators= 12)\n",
    "cross_val_score(rfr, X_pca, y, cv=4)"
   ]
  },
  {
   "cell_type": "markdown",
   "metadata": {},
   "source": [
    "## Gradient Boosting"
   ]
  },
  {
   "cell_type": "code",
   "execution_count": 78,
   "metadata": {},
   "outputs": [],
   "source": [
    "params = {'n_estimators':range(1, 60,1),\n",
    "         'max_depth': range(2, 10)}"
   ]
  },
  {
   "cell_type": "code",
   "execution_count": 56,
   "metadata": {},
   "outputs": [
    {
     "name": "stdout",
     "output_type": "stream",
     "text": [
      "{'max_depth': 2, 'n_estimators': 16}\n"
     ]
    }
   ],
   "source": [
    "gb = ensemble.GradientBoostingClassifier()\n",
    "gs = GridSearchCV(gb, params, return_train_score=True, n_jobs =-1)\n",
    "gs.fit(X,y)\n",
    "\n",
    "print(gs.best_params_)"
   ]
  },
  {
   "cell_type": "code",
   "execution_count": 61,
   "metadata": {},
   "outputs": [
    {
     "data": {
      "text/plain": [
       "array([ 0.86348123,  0.89078498,  0.84879725,  0.77586207])"
      ]
     },
     "execution_count": 61,
     "metadata": {},
     "output_type": "execute_result"
    }
   ],
   "source": [
    "gb = ensemble.GradientBoostingClassifier(max_depth= 2, n_estimators= 16)\n",
    "cross_val_score(gb, X, y, cv=4)"
   ]
  },
  {
   "cell_type": "markdown",
   "metadata": {},
   "source": [
    "## Gradient Boosting for ELA"
   ]
  },
  {
   "cell_type": "code",
   "execution_count": 162,
   "metadata": {
    "collapsed": true
   },
   "outputs": [],
   "source": [
    "params = {'n_estimators':range(1, 60,1),\n",
    "         'max_depth': range(2, 10)}"
   ]
  },
  {
   "cell_type": "code",
   "execution_count": 163,
   "metadata": {},
   "outputs": [
    {
     "name": "stdout",
     "output_type": "stream",
     "text": [
      "{'max_depth': 3, 'n_estimators': 35}\n"
     ]
    }
   ],
   "source": [
    "gb = ensemble.GradientBoostingClassifier()\n",
    "gs = GridSearchCV(gb, params, return_train_score=True, n_jobs =-1)\n",
    "gs.fit(X,y1)\n",
    "\n",
    "print(gs.best_params_)"
   ]
  },
  {
   "cell_type": "code",
   "execution_count": 164,
   "metadata": {},
   "outputs": [
    {
     "data": {
      "text/plain": [
       "array([ 0.93174061,  0.93515358,  0.87285223,  0.9       ])"
      ]
     },
     "execution_count": 164,
     "metadata": {},
     "output_type": "execute_result"
    }
   ],
   "source": [
    "gb = ensemble.GradientBoostingClassifier(max_depth= 3, n_estimators=35)\n",
    "cross_val_score(gb, X, y1, cv=4)"
   ]
  },
  {
   "cell_type": "markdown",
   "metadata": {},
   "source": [
    "# With PCA"
   ]
  },
  {
   "cell_type": "code",
   "execution_count": 82,
   "metadata": {},
   "outputs": [
    {
     "name": "stdout",
     "output_type": "stream",
     "text": [
      "{'max_depth': 2, 'n_estimators': 1}\n"
     ]
    }
   ],
   "source": [
    "gb = ensemble.GradientBoostingClassifier()\n",
    "gs = GridSearchCV(gb, params, return_train_score=True, n_jobs =-1)\n",
    "gs.fit(X_pca,y)\n",
    "\n",
    "print(gs.best_params_)"
   ]
  },
  {
   "cell_type": "code",
   "execution_count": 87,
   "metadata": {},
   "outputs": [
    {
     "data": {
      "text/plain": [
       "array([ 0.72696246,  0.72696246,  0.72852234,  0.73103448])"
      ]
     },
     "execution_count": 87,
     "metadata": {},
     "output_type": "execute_result"
    }
   ],
   "source": [
    "gb = ensemble.GradientBoostingClassifier(max_depth= 2, n_estimators= 1)\n",
    "cross_val_score(gb, X_pca, y, cv=4)"
   ]
  }
 ],
 "metadata": {
  "kernelspec": {
   "display_name": "Python 3",
   "language": "python",
   "name": "python3"
  },
  "language_info": {
   "codemirror_mode": {
    "name": "ipython",
    "version": 3
   },
   "file_extension": ".py",
   "mimetype": "text/x-python",
   "name": "python",
   "nbconvert_exporter": "python",
   "pygments_lexer": "ipython3",
   "version": "3.6.3"
  }
 },
 "nbformat": 4,
 "nbformat_minor": 2
}
