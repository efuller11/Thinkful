{
 "cells": [
  {
   "cell_type": "markdown",
   "metadata": {},
   "source": [
    "# Unit 3 Capstone "
   ]
  },
  {
   "cell_type": "code",
   "execution_count": 453,
   "metadata": {},
   "outputs": [],
   "source": [
    "%matplotlib inline\n",
    "import numpy as np\n",
    "import pandas as pd\n",
    "import scipy\n",
    "import sklearn\n",
    "import matplotlib.pyplot as plt\n",
    "import seaborn as sns\n",
    "import matplotlib.patches as mpatches\n",
    "from sklearn.model_selection import cross_val_score\n",
    "from sklearn import ensemble\n",
    "from sklearn.decomposition import PCA\n",
    "from sklearn.svm import SVC\n",
    "from sklearn.metrics import confusion_matrix\n",
    "from sklearn.neighbors import KDTree\n",
    "from sklearn.neighbors import KNeighborsRegressor\n",
    "from sklearn.model_selection import GridSearchCV\n",
    "from sklearn.neighbors import KNeighborsClassifier\n",
    "from sklearn.linear_model import LinearRegression"
   ]
  },
  {
   "cell_type": "markdown",
   "metadata": {},
   "source": [
    "## The Dataset"
   ]
  },
  {
   "cell_type": "markdown",
   "metadata": {},
   "source": [
    "This data can be found on Kaggle https://www.kaggle.com/passnyc/data-science-for-good#2016%20School%20Explorer.csv and was provided by PASSNYC. The dataset includes 1272 schools in the New York City area. The purpose for the data is to find the schools that need the most attention. The test scores are from a test called SHSAT, which is a high school admission examination given to student before acceptance into one of the city's specialized high schools among the eight that require this test. This test is only given to eighth and nineth grade students. Only students that wish to attend the more prestigious more specialized schools will have to take the SHSAT. I also one to mention that the definition used for rigorous instruction is a little different from how I would normally use it and I wanted to clarify their definition. The school dataset provider's definition for rigorous instruction is how well the students were engaged during the curriculum."
   ]
  },
  {
   "cell_type": "code",
   "execution_count": 2,
   "metadata": {
    "collapsed": true
   },
   "outputs": [],
   "source": [
    "df = pd.read_csv('2016 School Explorer.csv')"
   ]
  },
  {
   "cell_type": "markdown",
   "metadata": {},
   "source": [
    "## Exploring the dataset"
   ]
  },
  {
   "cell_type": "code",
   "execution_count": 3,
   "metadata": {},
   "outputs": [
    {
     "name": "stdout",
     "output_type": "stream",
     "text": [
      "'Adjusted Grade',\n",
      "'New?',\n",
      "'Other Location Code in LCGMS',\n",
      "'School Name',\n",
      "'SED Code',\n",
      "'Location Code',\n",
      "'District',\n",
      "'Latitude',\n",
      "'Longitude',\n",
      "'Address (Full)',\n",
      "'City',\n",
      "'Zip',\n",
      "'Grades',\n",
      "'Grade Low',\n",
      "'Grade High',\n",
      "'Community School?',\n",
      "'Economic Need Index',\n",
      "'School Income Estimate',\n",
      "'Percent ELL',\n",
      "'Percent Asian',\n",
      "'Percent Black',\n",
      "'Percent Hispanic',\n",
      "'Percent Black / Hispanic',\n",
      "'Percent White',\n",
      "'Student Attendance Rate',\n",
      "'Percent of Students Chronically Absent',\n",
      "'Rigorous Instruction %',\n",
      "'Rigorous Instruction Rating',\n",
      "'Collaborative Teachers %',\n",
      "'Collaborative Teachers Rating',\n",
      "'Supportive Environment %',\n",
      "'Supportive Environment Rating',\n",
      "'Effective School Leadership %',\n",
      "'Effective School Leadership Rating',\n",
      "'Strong Family-Community Ties %',\n",
      "'Strong Family-Community Ties Rating',\n",
      "'Trust %',\n",
      "'Trust Rating',\n",
      "'Student Achievement Rating',\n",
      "'Average ELA Proficiency',\n",
      "'Average Math Proficiency',\n",
      "'Grade 3 ELA - All Students Tested',\n",
      "'Grade 3 ELA 4s - All Students',\n",
      "'Grade 3 ELA 4s - American Indian or Alaska Native',\n",
      "'Grade 3 ELA 4s - Black or African American',\n",
      "'Grade 3 ELA 4s - Hispanic or Latino',\n",
      "'Grade 3 ELA 4s - Asian or Pacific Islander',\n",
      "'Grade 3 ELA 4s - White',\n",
      "'Grade 3 ELA 4s - Multiracial',\n",
      "'Grade 3 ELA 4s - Limited English Proficient',\n",
      "'Grade 3 ELA 4s - Economically Disadvantaged',\n",
      "'Grade 3 Math - All Students tested',\n",
      "'Grade 3 Math 4s - All Students',\n",
      "'Grade 3 Math 4s - American Indian or Alaska Native',\n",
      "'Grade 3 Math 4s - Black or African American',\n",
      "'Grade 3 Math 4s - Hispanic or Latino',\n",
      "'Grade 3 Math 4s - Asian or Pacific Islander',\n",
      "'Grade 3 Math 4s - White',\n",
      "'Grade 3 Math 4s - Multiracial',\n",
      "'Grade 3 Math 4s - Limited English Proficient',\n",
      "'Grade 3 Math 4s - Economically Disadvantaged',\n",
      "'Grade 4 ELA - All Students Tested',\n",
      "'Grade 4 ELA 4s - All Students',\n",
      "'Grade 4 ELA 4s - American Indian or Alaska Native',\n",
      "'Grade 4 ELA 4s - Black or African American',\n",
      "'Grade 4 ELA 4s - Hispanic or Latino',\n",
      "'Grade 4 ELA 4s - Asian or Pacific Islander',\n",
      "'Grade 4 ELA 4s - White',\n",
      "'Grade 4 ELA 4s - Multiracial',\n",
      "'Grade 4 ELA 4s - Limited English Proficient',\n",
      "'Grade 4 ELA 4s - Economically Disadvantaged',\n",
      "'Grade 4 Math - All Students Tested',\n",
      "'Grade 4 Math 4s - All Students',\n",
      "'Grade 4 Math 4s - American Indian or Alaska Native',\n",
      "'Grade 4 Math 4s - Black or African American',\n",
      "'Grade 4 Math 4s - Hispanic or Latino',\n",
      "'Grade 4 Math 4s - Asian or Pacific Islander',\n",
      "'Grade 4 Math 4s - White',\n",
      "'Grade 4 Math 4s - Multiracial',\n",
      "'Grade 4 Math 4s - Limited English Proficient',\n",
      "'Grade 4 Math 4s - Economically Disadvantaged',\n",
      "'Grade 5 ELA - All Students Tested',\n",
      "'Grade 5 ELA 4s - All Students',\n",
      "'Grade 5 ELA 4s - American Indian or Alaska Native',\n",
      "'Grade 5 ELA 4s - Black or African American',\n",
      "'Grade 5 ELA 4s - Hispanic or Latino',\n",
      "'Grade 5 ELA 4s - Asian or Pacific Islander',\n",
      "'Grade 5 ELA 4s - White',\n",
      "'Grade 5 ELA 4s - Multiracial',\n",
      "'Grade 5 ELA 4s - Limited English Proficient',\n",
      "'Grade 5 ELA 4s - Economically Disadvantaged',\n",
      "'Grade 5 Math - All Students Tested',\n",
      "'Grade 5 Math 4s - All Students',\n",
      "'Grade 5 Math 4s - American Indian or Alaska Native',\n",
      "'Grade 5 Math 4s - Black or African American',\n",
      "'Grade 5 Math 4s - Hispanic or Latino',\n",
      "'Grade 5 Math 4s - Asian or Pacific Islander',\n",
      "'Grade 5 Math 4s - White',\n",
      "'Grade 5 Math 4s - Multiracial',\n",
      "'Grade 5 Math 4s - Limited English Proficient',\n",
      "'Grade 5 Math 4s - Economically Disadvantaged',\n",
      "'Grade 6 ELA - All Students Tested',\n",
      "'Grade 6 ELA 4s - All Students',\n",
      "'Grade 6 ELA 4s - American Indian or Alaska Native',\n",
      "'Grade 6 ELA 4s - Black or African American',\n",
      "'Grade 6 ELA 4s - Hispanic or Latino',\n",
      "'Grade 6 ELA 4s - Asian or Pacific Islander',\n",
      "'Grade 6 ELA 4s - White',\n",
      "'Grade 6 ELA 4s - Multiracial',\n",
      "'Grade 6 ELA 4s - Limited English Proficient',\n",
      "'Grade 6 ELA 4s - Economically Disadvantaged',\n",
      "'Grade 6 Math - All Students Tested',\n",
      "'Grade 6 Math 4s - All Students',\n",
      "'Grade 6 Math 4s - American Indian or Alaska Native',\n",
      "'Grade 6 Math 4s - Black or African American',\n",
      "'Grade 6 Math 4s - Hispanic or Latino',\n",
      "'Grade 6 Math 4s - Asian or Pacific Islander',\n",
      "'Grade 6 Math 4s - White',\n",
      "'Grade 6 Math 4s - Multiracial',\n",
      "'Grade 6 Math 4s - Limited English Proficient',\n",
      "'Grade 6 Math 4s - Economically Disadvantaged',\n",
      "'Grade 7 ELA - All Students Tested',\n",
      "'Grade 7 ELA 4s - All Students',\n",
      "'Grade 7 ELA 4s - American Indian or Alaska Native',\n",
      "'Grade 7 ELA 4s - Black or African American',\n",
      "'Grade 7 ELA 4s - Hispanic or Latino',\n",
      "'Grade 7 ELA 4s - Asian or Pacific Islander',\n",
      "'Grade 7 ELA 4s - White',\n",
      "'Grade 7 ELA 4s - Multiracial',\n",
      "'Grade 7 ELA 4s - Limited English Proficient',\n",
      "'Grade 7 ELA 4s - Economically Disadvantaged',\n",
      "'Grade 7 Math - All Students Tested',\n",
      "'Grade 7 Math 4s - All Students',\n",
      "'Grade 7 Math 4s - American Indian or Alaska Native',\n",
      "'Grade 7 Math 4s - Black or African American',\n",
      "'Grade 7 Math 4s - Hispanic or Latino',\n",
      "'Grade 7 Math 4s - Asian or Pacific Islander',\n",
      "'Grade 7 Math 4s - White',\n",
      "'Grade 7 Math 4s - Multiracial',\n",
      "'Grade 7 Math 4s - Limited English Proficient',\n",
      "'Grade 7 Math 4s - Economically Disadvantaged',\n",
      "'Grade 8 ELA - All Students Tested',\n",
      "'Grade 8 ELA 4s - All Students',\n",
      "'Grade 8 ELA 4s - American Indian or Alaska Native',\n",
      "'Grade 8 ELA 4s - Black or African American',\n",
      "'Grade 8 ELA 4s - Hispanic or Latino',\n",
      "'Grade 8 ELA 4s - Asian or Pacific Islander',\n",
      "'Grade 8 ELA 4s - White',\n",
      "'Grade 8 ELA 4s - Multiracial',\n",
      "'Grade 8 ELA 4s - Limited English Proficient',\n",
      "'Grade 8 ELA 4s - Economically Disadvantaged',\n",
      "'Grade 8 Math - All Students Tested',\n",
      "'Grade 8 Math 4s - All Students',\n",
      "'Grade 8 Math 4s - American Indian or Alaska Native',\n",
      "'Grade 8 Math 4s - Black or African American',\n",
      "'Grade 8 Math 4s - Hispanic or Latino',\n",
      "'Grade 8 Math 4s - Asian or Pacific Islander',\n",
      "'Grade 8 Math 4s - White',\n",
      "'Grade 8 Math 4s - Multiracial',\n",
      "'Grade 8 Math 4s - Limited English Proficient',\n",
      "'Grade 8 Math 4s - Economically Disadvantaged',\n"
     ]
    }
   ],
   "source": [
    "for col in df.columns:\n",
    "    print(\"'\" + col + \"',\")"
   ]
  },
  {
   "cell_type": "code",
   "execution_count": 4,
   "metadata": {},
   "outputs": [
    {
     "data": {
      "text/plain": [
       "(1272, 161)"
      ]
     },
     "execution_count": 4,
     "metadata": {},
     "output_type": "execute_result"
    }
   ],
   "source": [
    "df.shape"
   ]
  },
  {
   "cell_type": "code",
   "execution_count": 5,
   "metadata": {},
   "outputs": [
    {
     "data": {
      "text/plain": [
       "45"
      ]
     },
     "execution_count": 5,
     "metadata": {},
     "output_type": "execute_result"
    }
   ],
   "source": [
    "len((df['City'].unique()))"
   ]
  },
  {
   "cell_type": "code",
   "execution_count": 6,
   "metadata": {},
   "outputs": [
    {
     "data": {
      "text/plain": [
       "169"
      ]
     },
     "execution_count": 6,
     "metadata": {},
     "output_type": "execute_result"
    }
   ],
   "source": [
    "len((df['Zip'].unique()))"
   ]
  },
  {
   "cell_type": "code",
   "execution_count": 7,
   "metadata": {},
   "outputs": [
    {
     "data": {
      "text/html": [
       "<div>\n",
       "<style>\n",
       "    .dataframe thead tr:only-child th {\n",
       "        text-align: right;\n",
       "    }\n",
       "\n",
       "    .dataframe thead th {\n",
       "        text-align: left;\n",
       "    }\n",
       "\n",
       "    .dataframe tbody tr th {\n",
       "        vertical-align: top;\n",
       "    }\n",
       "</style>\n",
       "<table border=\"1\" class=\"dataframe\">\n",
       "  <thead>\n",
       "    <tr style=\"text-align: right;\">\n",
       "      <th></th>\n",
       "      <th>Adjusted Grade</th>\n",
       "      <th>New?</th>\n",
       "      <th>Other Location Code in LCGMS</th>\n",
       "      <th>School Name</th>\n",
       "      <th>SED Code</th>\n",
       "      <th>Location Code</th>\n",
       "      <th>District</th>\n",
       "      <th>Latitude</th>\n",
       "      <th>Longitude</th>\n",
       "      <th>Address (Full)</th>\n",
       "      <th>...</th>\n",
       "      <th>Grade 8 Math - All Students Tested</th>\n",
       "      <th>Grade 8 Math 4s - All Students</th>\n",
       "      <th>Grade 8 Math 4s - American Indian or Alaska Native</th>\n",
       "      <th>Grade 8 Math 4s - Black or African American</th>\n",
       "      <th>Grade 8 Math 4s - Hispanic or Latino</th>\n",
       "      <th>Grade 8 Math 4s - Asian or Pacific Islander</th>\n",
       "      <th>Grade 8 Math 4s - White</th>\n",
       "      <th>Grade 8 Math 4s - Multiracial</th>\n",
       "      <th>Grade 8 Math 4s - Limited English Proficient</th>\n",
       "      <th>Grade 8 Math 4s - Economically Disadvantaged</th>\n",
       "    </tr>\n",
       "  </thead>\n",
       "  <tbody>\n",
       "    <tr>\n",
       "      <th>0</th>\n",
       "      <td>NaN</td>\n",
       "      <td>NaN</td>\n",
       "      <td>NaN</td>\n",
       "      <td>P.S. 015 ROBERTO CLEMENTE</td>\n",
       "      <td>310100010015</td>\n",
       "      <td>01M015</td>\n",
       "      <td>1</td>\n",
       "      <td>40.721834</td>\n",
       "      <td>-73.978766</td>\n",
       "      <td>333 E 4TH ST NEW YORK, NY 10009</td>\n",
       "      <td>...</td>\n",
       "      <td>0</td>\n",
       "      <td>0</td>\n",
       "      <td>0</td>\n",
       "      <td>0</td>\n",
       "      <td>0</td>\n",
       "      <td>0</td>\n",
       "      <td>0</td>\n",
       "      <td>0</td>\n",
       "      <td>0</td>\n",
       "      <td>0</td>\n",
       "    </tr>\n",
       "    <tr>\n",
       "      <th>1</th>\n",
       "      <td>NaN</td>\n",
       "      <td>NaN</td>\n",
       "      <td>NaN</td>\n",
       "      <td>P.S. 019 ASHER LEVY</td>\n",
       "      <td>310100010019</td>\n",
       "      <td>01M019</td>\n",
       "      <td>1</td>\n",
       "      <td>40.729892</td>\n",
       "      <td>-73.984231</td>\n",
       "      <td>185 1ST AVE NEW YORK, NY 10003</td>\n",
       "      <td>...</td>\n",
       "      <td>0</td>\n",
       "      <td>0</td>\n",
       "      <td>0</td>\n",
       "      <td>0</td>\n",
       "      <td>0</td>\n",
       "      <td>0</td>\n",
       "      <td>0</td>\n",
       "      <td>0</td>\n",
       "      <td>0</td>\n",
       "      <td>0</td>\n",
       "    </tr>\n",
       "    <tr>\n",
       "      <th>2</th>\n",
       "      <td>NaN</td>\n",
       "      <td>NaN</td>\n",
       "      <td>NaN</td>\n",
       "      <td>P.S. 020 ANNA SILVER</td>\n",
       "      <td>310100010020</td>\n",
       "      <td>01M020</td>\n",
       "      <td>1</td>\n",
       "      <td>40.721274</td>\n",
       "      <td>-73.986315</td>\n",
       "      <td>166 ESSEX ST NEW YORK, NY 10002</td>\n",
       "      <td>...</td>\n",
       "      <td>0</td>\n",
       "      <td>0</td>\n",
       "      <td>0</td>\n",
       "      <td>0</td>\n",
       "      <td>0</td>\n",
       "      <td>0</td>\n",
       "      <td>0</td>\n",
       "      <td>0</td>\n",
       "      <td>0</td>\n",
       "      <td>0</td>\n",
       "    </tr>\n",
       "    <tr>\n",
       "      <th>3</th>\n",
       "      <td>NaN</td>\n",
       "      <td>NaN</td>\n",
       "      <td>NaN</td>\n",
       "      <td>P.S. 034 FRANKLIN D. ROOSEVELT</td>\n",
       "      <td>310100010034</td>\n",
       "      <td>01M034</td>\n",
       "      <td>1</td>\n",
       "      <td>40.726147</td>\n",
       "      <td>-73.975043</td>\n",
       "      <td>730 E 12TH ST NEW YORK, NY 10009</td>\n",
       "      <td>...</td>\n",
       "      <td>48</td>\n",
       "      <td>1</td>\n",
       "      <td>0</td>\n",
       "      <td>0</td>\n",
       "      <td>0</td>\n",
       "      <td>0</td>\n",
       "      <td>0</td>\n",
       "      <td>0</td>\n",
       "      <td>0</td>\n",
       "      <td>0</td>\n",
       "    </tr>\n",
       "    <tr>\n",
       "      <th>4</th>\n",
       "      <td>NaN</td>\n",
       "      <td>NaN</td>\n",
       "      <td>NaN</td>\n",
       "      <td>THE STAR ACADEMY - P.S.63</td>\n",
       "      <td>310100010063</td>\n",
       "      <td>01M063</td>\n",
       "      <td>1</td>\n",
       "      <td>40.724404</td>\n",
       "      <td>-73.986360</td>\n",
       "      <td>121 E 3RD ST NEW YORK, NY 10009</td>\n",
       "      <td>...</td>\n",
       "      <td>0</td>\n",
       "      <td>0</td>\n",
       "      <td>0</td>\n",
       "      <td>0</td>\n",
       "      <td>0</td>\n",
       "      <td>0</td>\n",
       "      <td>0</td>\n",
       "      <td>0</td>\n",
       "      <td>0</td>\n",
       "      <td>0</td>\n",
       "    </tr>\n",
       "  </tbody>\n",
       "</table>\n",
       "<p>5 rows × 161 columns</p>\n",
       "</div>"
      ],
      "text/plain": [
       "  Adjusted Grade New? Other Location Code in LCGMS  \\\n",
       "0            NaN  NaN                          NaN   \n",
       "1            NaN  NaN                          NaN   \n",
       "2            NaN  NaN                          NaN   \n",
       "3            NaN  NaN                          NaN   \n",
       "4            NaN  NaN                          NaN   \n",
       "\n",
       "                      School Name      SED Code Location Code  District  \\\n",
       "0       P.S. 015 ROBERTO CLEMENTE  310100010015        01M015         1   \n",
       "1             P.S. 019 ASHER LEVY  310100010019        01M019         1   \n",
       "2            P.S. 020 ANNA SILVER  310100010020        01M020         1   \n",
       "3  P.S. 034 FRANKLIN D. ROOSEVELT  310100010034        01M034         1   \n",
       "4       THE STAR ACADEMY - P.S.63  310100010063        01M063         1   \n",
       "\n",
       "    Latitude  Longitude                    Address (Full)  \\\n",
       "0  40.721834 -73.978766   333 E 4TH ST NEW YORK, NY 10009   \n",
       "1  40.729892 -73.984231    185 1ST AVE NEW YORK, NY 10003   \n",
       "2  40.721274 -73.986315   166 ESSEX ST NEW YORK, NY 10002   \n",
       "3  40.726147 -73.975043  730 E 12TH ST NEW YORK, NY 10009   \n",
       "4  40.724404 -73.986360   121 E 3RD ST NEW YORK, NY 10009   \n",
       "\n",
       "                      ...                       \\\n",
       "0                     ...                        \n",
       "1                     ...                        \n",
       "2                     ...                        \n",
       "3                     ...                        \n",
       "4                     ...                        \n",
       "\n",
       "  Grade 8 Math - All Students Tested  Grade 8 Math 4s - All Students  \\\n",
       "0                                  0                               0   \n",
       "1                                  0                               0   \n",
       "2                                  0                               0   \n",
       "3                                 48                               1   \n",
       "4                                  0                               0   \n",
       "\n",
       "  Grade 8 Math 4s - American Indian or Alaska Native  \\\n",
       "0                                                  0   \n",
       "1                                                  0   \n",
       "2                                                  0   \n",
       "3                                                  0   \n",
       "4                                                  0   \n",
       "\n",
       "  Grade 8 Math 4s - Black or African American  \\\n",
       "0                                           0   \n",
       "1                                           0   \n",
       "2                                           0   \n",
       "3                                           0   \n",
       "4                                           0   \n",
       "\n",
       "  Grade 8 Math 4s - Hispanic or Latino  \\\n",
       "0                                    0   \n",
       "1                                    0   \n",
       "2                                    0   \n",
       "3                                    0   \n",
       "4                                    0   \n",
       "\n",
       "  Grade 8 Math 4s - Asian or Pacific Islander  Grade 8 Math 4s - White  \\\n",
       "0                                           0                        0   \n",
       "1                                           0                        0   \n",
       "2                                           0                        0   \n",
       "3                                           0                        0   \n",
       "4                                           0                        0   \n",
       "\n",
       "  Grade 8 Math 4s - Multiracial Grade 8 Math 4s - Limited English Proficient  \\\n",
       "0                             0                                            0   \n",
       "1                             0                                            0   \n",
       "2                             0                                            0   \n",
       "3                             0                                            0   \n",
       "4                             0                                            0   \n",
       "\n",
       "  Grade 8 Math 4s - Economically Disadvantaged  \n",
       "0                                            0  \n",
       "1                                            0  \n",
       "2                                            0  \n",
       "3                                            0  \n",
       "4                                            0  \n",
       "\n",
       "[5 rows x 161 columns]"
      ]
     },
     "execution_count": 7,
     "metadata": {},
     "output_type": "execute_result"
    }
   ],
   "source": [
    "df.head()"
   ]
  },
  {
   "cell_type": "code",
   "execution_count": 8,
   "metadata": {},
   "outputs": [
    {
     "data": {
      "text/plain": [
       "0             PK,0K,01,02,03,04,05\n",
       "1             PK,0K,01,02,03,04,05\n",
       "2             PK,0K,01,02,03,04,05\n",
       "3    PK,0K,01,02,03,04,05,06,07,08\n",
       "4             PK,0K,01,02,03,04,05\n",
       "Name: Grades, dtype: object"
      ]
     },
     "execution_count": 8,
     "metadata": {},
     "output_type": "execute_result"
    }
   ],
   "source": [
    "df['Grades'].head()"
   ]
  },
  {
   "cell_type": "code",
   "execution_count": 9,
   "metadata": {},
   "outputs": [
    {
     "data": {
      "text/plain": [
       "0    PK\n",
       "1    PK\n",
       "2    PK\n",
       "3    PK\n",
       "4    PK\n",
       "Name: Grade Low, dtype: object"
      ]
     },
     "execution_count": 9,
     "metadata": {},
     "output_type": "execute_result"
    }
   ],
   "source": [
    "df['Grade Low'].head()"
   ]
  },
  {
   "cell_type": "code",
   "execution_count": 10,
   "metadata": {},
   "outputs": [
    {
     "data": {
      "text/html": [
       "<div>\n",
       "<style>\n",
       "    .dataframe thead tr:only-child th {\n",
       "        text-align: right;\n",
       "    }\n",
       "\n",
       "    .dataframe thead th {\n",
       "        text-align: left;\n",
       "    }\n",
       "\n",
       "    .dataframe tbody tr th {\n",
       "        vertical-align: top;\n",
       "    }\n",
       "</style>\n",
       "<table border=\"1\" class=\"dataframe\">\n",
       "  <thead>\n",
       "    <tr style=\"text-align: right;\">\n",
       "      <th></th>\n",
       "      <th>Grade High</th>\n",
       "      <th>Average ELA Proficiency</th>\n",
       "      <th>Average Math Proficiency</th>\n",
       "    </tr>\n",
       "  </thead>\n",
       "  <tbody>\n",
       "    <tr>\n",
       "      <th>0</th>\n",
       "      <td>05</td>\n",
       "      <td>2.14</td>\n",
       "      <td>2.17</td>\n",
       "    </tr>\n",
       "    <tr>\n",
       "      <th>1</th>\n",
       "      <td>05</td>\n",
       "      <td>2.63</td>\n",
       "      <td>2.98</td>\n",
       "    </tr>\n",
       "    <tr>\n",
       "      <th>2</th>\n",
       "      <td>05</td>\n",
       "      <td>2.39</td>\n",
       "      <td>2.54</td>\n",
       "    </tr>\n",
       "    <tr>\n",
       "      <th>3</th>\n",
       "      <td>08</td>\n",
       "      <td>2.48</td>\n",
       "      <td>2.47</td>\n",
       "    </tr>\n",
       "    <tr>\n",
       "      <th>4</th>\n",
       "      <td>05</td>\n",
       "      <td>2.38</td>\n",
       "      <td>2.54</td>\n",
       "    </tr>\n",
       "  </tbody>\n",
       "</table>\n",
       "</div>"
      ],
      "text/plain": [
       "  Grade High  Average ELA Proficiency  Average Math Proficiency\n",
       "0         05                     2.14                      2.17\n",
       "1         05                     2.63                      2.98\n",
       "2         05                     2.39                      2.54\n",
       "3         08                     2.48                      2.47\n",
       "4         05                     2.38                      2.54"
      ]
     },
     "execution_count": 10,
     "metadata": {},
     "output_type": "execute_result"
    }
   ],
   "source": [
    "df[['Grade High', 'Average ELA Proficiency', 'Average Math Proficiency']].head()"
   ]
  },
  {
   "cell_type": "code",
   "execution_count": 11,
   "metadata": {},
   "outputs": [
    {
     "data": {
      "text/html": [
       "<div>\n",
       "<style>\n",
       "    .dataframe thead tr:only-child th {\n",
       "        text-align: right;\n",
       "    }\n",
       "\n",
       "    .dataframe thead th {\n",
       "        text-align: left;\n",
       "    }\n",
       "\n",
       "    .dataframe tbody tr th {\n",
       "        vertical-align: top;\n",
       "    }\n",
       "</style>\n",
       "<table border=\"1\" class=\"dataframe\">\n",
       "  <thead>\n",
       "    <tr style=\"text-align: right;\">\n",
       "      <th></th>\n",
       "      <th>SED Code</th>\n",
       "      <th>District</th>\n",
       "      <th>Latitude</th>\n",
       "      <th>Longitude</th>\n",
       "      <th>Zip</th>\n",
       "      <th>Economic Need Index</th>\n",
       "      <th>Average ELA Proficiency</th>\n",
       "      <th>Average Math Proficiency</th>\n",
       "      <th>Grade 3 ELA - All Students Tested</th>\n",
       "      <th>Grade 3 ELA 4s - All Students</th>\n",
       "      <th>...</th>\n",
       "      <th>Grade 8 Math - All Students Tested</th>\n",
       "      <th>Grade 8 Math 4s - All Students</th>\n",
       "      <th>Grade 8 Math 4s - American Indian or Alaska Native</th>\n",
       "      <th>Grade 8 Math 4s - Black or African American</th>\n",
       "      <th>Grade 8 Math 4s - Hispanic or Latino</th>\n",
       "      <th>Grade 8 Math 4s - Asian or Pacific Islander</th>\n",
       "      <th>Grade 8 Math 4s - White</th>\n",
       "      <th>Grade 8 Math 4s - Multiracial</th>\n",
       "      <th>Grade 8 Math 4s - Limited English Proficient</th>\n",
       "      <th>Grade 8 Math 4s - Economically Disadvantaged</th>\n",
       "    </tr>\n",
       "  </thead>\n",
       "  <tbody>\n",
       "    <tr>\n",
       "      <th>count</th>\n",
       "      <td>1.272000e+03</td>\n",
       "      <td>1272.00000</td>\n",
       "      <td>1272.000000</td>\n",
       "      <td>1272.000000</td>\n",
       "      <td>1272.000000</td>\n",
       "      <td>1247.000000</td>\n",
       "      <td>1217.000000</td>\n",
       "      <td>1217.000000</td>\n",
       "      <td>1272.000000</td>\n",
       "      <td>1272.000000</td>\n",
       "      <td>...</td>\n",
       "      <td>1272.000000</td>\n",
       "      <td>1272.000000</td>\n",
       "      <td>1272.000000</td>\n",
       "      <td>1272.000000</td>\n",
       "      <td>1272.000000</td>\n",
       "      <td>1272.000000</td>\n",
       "      <td>1272.000000</td>\n",
       "      <td>1272.000000</td>\n",
       "      <td>1272.000000</td>\n",
       "      <td>1272.000000</td>\n",
       "    </tr>\n",
       "    <tr>\n",
       "      <th>mean</th>\n",
       "      <td>3.286698e+11</td>\n",
       "      <td>16.13522</td>\n",
       "      <td>40.734537</td>\n",
       "      <td>-73.918347</td>\n",
       "      <td>10815.720912</td>\n",
       "      <td>0.672281</td>\n",
       "      <td>2.534215</td>\n",
       "      <td>2.668956</td>\n",
       "      <td>60.569182</td>\n",
       "      <td>4.952830</td>\n",
       "      <td>...</td>\n",
       "      <td>43.841195</td>\n",
       "      <td>4.911950</td>\n",
       "      <td>0.003145</td>\n",
       "      <td>0.610063</td>\n",
       "      <td>0.947327</td>\n",
       "      <td>1.984277</td>\n",
       "      <td>0.970912</td>\n",
       "      <td>0.002358</td>\n",
       "      <td>0.159591</td>\n",
       "      <td>2.992138</td>\n",
       "    </tr>\n",
       "    <tr>\n",
       "      <th>std</th>\n",
       "      <td>1.222022e+10</td>\n",
       "      <td>9.24527</td>\n",
       "      <td>0.086602</td>\n",
       "      <td>0.080576</td>\n",
       "      <td>529.588875</td>\n",
       "      <td>0.210959</td>\n",
       "      <td>0.363589</td>\n",
       "      <td>0.470470</td>\n",
       "      <td>57.872496</td>\n",
       "      <td>8.300568</td>\n",
       "      <td>...</td>\n",
       "      <td>82.878780</td>\n",
       "      <td>20.792371</td>\n",
       "      <td>0.068635</td>\n",
       "      <td>3.966083</td>\n",
       "      <td>4.056007</td>\n",
       "      <td>12.841333</td>\n",
       "      <td>6.880223</td>\n",
       "      <td>0.084116</td>\n",
       "      <td>1.321195</td>\n",
       "      <td>12.694124</td>\n",
       "    </tr>\n",
       "    <tr>\n",
       "      <th>min</th>\n",
       "      <td>3.075000e+11</td>\n",
       "      <td>1.00000</td>\n",
       "      <td>40.507803</td>\n",
       "      <td>-74.244025</td>\n",
       "      <td>10001.000000</td>\n",
       "      <td>0.049000</td>\n",
       "      <td>1.810000</td>\n",
       "      <td>1.830000</td>\n",
       "      <td>0.000000</td>\n",
       "      <td>0.000000</td>\n",
       "      <td>...</td>\n",
       "      <td>0.000000</td>\n",
       "      <td>0.000000</td>\n",
       "      <td>0.000000</td>\n",
       "      <td>0.000000</td>\n",
       "      <td>0.000000</td>\n",
       "      <td>0.000000</td>\n",
       "      <td>0.000000</td>\n",
       "      <td>0.000000</td>\n",
       "      <td>0.000000</td>\n",
       "      <td>0.000000</td>\n",
       "    </tr>\n",
       "    <tr>\n",
       "      <th>25%</th>\n",
       "      <td>3.208752e+11</td>\n",
       "      <td>9.00000</td>\n",
       "      <td>40.669499</td>\n",
       "      <td>-73.957057</td>\n",
       "      <td>10452.000000</td>\n",
       "      <td>0.550000</td>\n",
       "      <td>2.250000</td>\n",
       "      <td>2.300000</td>\n",
       "      <td>0.000000</td>\n",
       "      <td>0.000000</td>\n",
       "      <td>...</td>\n",
       "      <td>0.000000</td>\n",
       "      <td>0.000000</td>\n",
       "      <td>0.000000</td>\n",
       "      <td>0.000000</td>\n",
       "      <td>0.000000</td>\n",
       "      <td>0.000000</td>\n",
       "      <td>0.000000</td>\n",
       "      <td>0.000000</td>\n",
       "      <td>0.000000</td>\n",
       "      <td>0.000000</td>\n",
       "    </tr>\n",
       "    <tr>\n",
       "      <th>50%</th>\n",
       "      <td>3.315004e+11</td>\n",
       "      <td>15.00000</td>\n",
       "      <td>40.722995</td>\n",
       "      <td>-73.920571</td>\n",
       "      <td>11203.000000</td>\n",
       "      <td>0.731000</td>\n",
       "      <td>2.450000</td>\n",
       "      <td>2.580000</td>\n",
       "      <td>54.000000</td>\n",
       "      <td>1.000000</td>\n",
       "      <td>...</td>\n",
       "      <td>0.000000</td>\n",
       "      <td>0.000000</td>\n",
       "      <td>0.000000</td>\n",
       "      <td>0.000000</td>\n",
       "      <td>0.000000</td>\n",
       "      <td>0.000000</td>\n",
       "      <td>0.000000</td>\n",
       "      <td>0.000000</td>\n",
       "      <td>0.000000</td>\n",
       "      <td>0.000000</td>\n",
       "    </tr>\n",
       "    <tr>\n",
       "      <th>75%</th>\n",
       "      <td>3.424000e+11</td>\n",
       "      <td>24.00000</td>\n",
       "      <td>40.815632</td>\n",
       "      <td>-73.879264</td>\n",
       "      <td>11232.000000</td>\n",
       "      <td>0.841000</td>\n",
       "      <td>2.760000</td>\n",
       "      <td>2.980000</td>\n",
       "      <td>94.000000</td>\n",
       "      <td>7.000000</td>\n",
       "      <td>...</td>\n",
       "      <td>59.000000</td>\n",
       "      <td>1.000000</td>\n",
       "      <td>0.000000</td>\n",
       "      <td>0.000000</td>\n",
       "      <td>0.000000</td>\n",
       "      <td>0.000000</td>\n",
       "      <td>0.000000</td>\n",
       "      <td>0.000000</td>\n",
       "      <td>0.000000</td>\n",
       "      <td>0.000000</td>\n",
       "    </tr>\n",
       "    <tr>\n",
       "      <th>max</th>\n",
       "      <td>3.531009e+11</td>\n",
       "      <td>32.00000</td>\n",
       "      <td>40.903455</td>\n",
       "      <td>-73.708920</td>\n",
       "      <td>11694.000000</td>\n",
       "      <td>0.957000</td>\n",
       "      <td>3.930000</td>\n",
       "      <td>4.200000</td>\n",
       "      <td>356.000000</td>\n",
       "      <td>55.000000</td>\n",
       "      <td>...</td>\n",
       "      <td>652.000000</td>\n",
       "      <td>312.000000</td>\n",
       "      <td>2.000000</td>\n",
       "      <td>107.000000</td>\n",
       "      <td>71.000000</td>\n",
       "      <td>246.000000</td>\n",
       "      <td>126.000000</td>\n",
       "      <td>3.000000</td>\n",
       "      <td>33.000000</td>\n",
       "      <td>196.000000</td>\n",
       "    </tr>\n",
       "  </tbody>\n",
       "</table>\n",
       "<p>8 rows × 128 columns</p>\n",
       "</div>"
      ],
      "text/plain": [
       "           SED Code    District     Latitude    Longitude           Zip  \\\n",
       "count  1.272000e+03  1272.00000  1272.000000  1272.000000   1272.000000   \n",
       "mean   3.286698e+11    16.13522    40.734537   -73.918347  10815.720912   \n",
       "std    1.222022e+10     9.24527     0.086602     0.080576    529.588875   \n",
       "min    3.075000e+11     1.00000    40.507803   -74.244025  10001.000000   \n",
       "25%    3.208752e+11     9.00000    40.669499   -73.957057  10452.000000   \n",
       "50%    3.315004e+11    15.00000    40.722995   -73.920571  11203.000000   \n",
       "75%    3.424000e+11    24.00000    40.815632   -73.879264  11232.000000   \n",
       "max    3.531009e+11    32.00000    40.903455   -73.708920  11694.000000   \n",
       "\n",
       "       Economic Need Index  Average ELA Proficiency  Average Math Proficiency  \\\n",
       "count          1247.000000              1217.000000               1217.000000   \n",
       "mean              0.672281                 2.534215                  2.668956   \n",
       "std               0.210959                 0.363589                  0.470470   \n",
       "min               0.049000                 1.810000                  1.830000   \n",
       "25%               0.550000                 2.250000                  2.300000   \n",
       "50%               0.731000                 2.450000                  2.580000   \n",
       "75%               0.841000                 2.760000                  2.980000   \n",
       "max               0.957000                 3.930000                  4.200000   \n",
       "\n",
       "       Grade 3 ELA - All Students Tested  Grade 3 ELA 4s - All Students  \\\n",
       "count                        1272.000000                    1272.000000   \n",
       "mean                           60.569182                       4.952830   \n",
       "std                            57.872496                       8.300568   \n",
       "min                             0.000000                       0.000000   \n",
       "25%                             0.000000                       0.000000   \n",
       "50%                            54.000000                       1.000000   \n",
       "75%                            94.000000                       7.000000   \n",
       "max                           356.000000                      55.000000   \n",
       "\n",
       "                           ...                       \\\n",
       "count                      ...                        \n",
       "mean                       ...                        \n",
       "std                        ...                        \n",
       "min                        ...                        \n",
       "25%                        ...                        \n",
       "50%                        ...                        \n",
       "75%                        ...                        \n",
       "max                        ...                        \n",
       "\n",
       "       Grade 8 Math - All Students Tested  Grade 8 Math 4s - All Students  \\\n",
       "count                         1272.000000                     1272.000000   \n",
       "mean                            43.841195                        4.911950   \n",
       "std                             82.878780                       20.792371   \n",
       "min                              0.000000                        0.000000   \n",
       "25%                              0.000000                        0.000000   \n",
       "50%                              0.000000                        0.000000   \n",
       "75%                             59.000000                        1.000000   \n",
       "max                            652.000000                      312.000000   \n",
       "\n",
       "       Grade 8 Math 4s - American Indian or Alaska Native  \\\n",
       "count                                        1272.000000    \n",
       "mean                                            0.003145    \n",
       "std                                             0.068635    \n",
       "min                                             0.000000    \n",
       "25%                                             0.000000    \n",
       "50%                                             0.000000    \n",
       "75%                                             0.000000    \n",
       "max                                             2.000000    \n",
       "\n",
       "       Grade 8 Math 4s - Black or African American  \\\n",
       "count                                  1272.000000   \n",
       "mean                                      0.610063   \n",
       "std                                       3.966083   \n",
       "min                                       0.000000   \n",
       "25%                                       0.000000   \n",
       "50%                                       0.000000   \n",
       "75%                                       0.000000   \n",
       "max                                     107.000000   \n",
       "\n",
       "       Grade 8 Math 4s - Hispanic or Latino  \\\n",
       "count                           1272.000000   \n",
       "mean                               0.947327   \n",
       "std                                4.056007   \n",
       "min                                0.000000   \n",
       "25%                                0.000000   \n",
       "50%                                0.000000   \n",
       "75%                                0.000000   \n",
       "max                               71.000000   \n",
       "\n",
       "       Grade 8 Math 4s - Asian or Pacific Islander  Grade 8 Math 4s - White  \\\n",
       "count                                  1272.000000              1272.000000   \n",
       "mean                                      1.984277                 0.970912   \n",
       "std                                      12.841333                 6.880223   \n",
       "min                                       0.000000                 0.000000   \n",
       "25%                                       0.000000                 0.000000   \n",
       "50%                                       0.000000                 0.000000   \n",
       "75%                                       0.000000                 0.000000   \n",
       "max                                     246.000000               126.000000   \n",
       "\n",
       "       Grade 8 Math 4s - Multiracial  \\\n",
       "count                    1272.000000   \n",
       "mean                        0.002358   \n",
       "std                         0.084116   \n",
       "min                         0.000000   \n",
       "25%                         0.000000   \n",
       "50%                         0.000000   \n",
       "75%                         0.000000   \n",
       "max                         3.000000   \n",
       "\n",
       "       Grade 8 Math 4s - Limited English Proficient  \\\n",
       "count                                   1272.000000   \n",
       "mean                                       0.159591   \n",
       "std                                        1.321195   \n",
       "min                                        0.000000   \n",
       "25%                                        0.000000   \n",
       "50%                                        0.000000   \n",
       "75%                                        0.000000   \n",
       "max                                       33.000000   \n",
       "\n",
       "       Grade 8 Math 4s - Economically Disadvantaged  \n",
       "count                                   1272.000000  \n",
       "mean                                       2.992138  \n",
       "std                                       12.694124  \n",
       "min                                        0.000000  \n",
       "25%                                        0.000000  \n",
       "50%                                        0.000000  \n",
       "75%                                        0.000000  \n",
       "max                                      196.000000  \n",
       "\n",
       "[8 rows x 128 columns]"
      ]
     },
     "execution_count": 11,
     "metadata": {},
     "output_type": "execute_result"
    }
   ],
   "source": [
    "df.describe()"
   ]
  },
  {
   "cell_type": "code",
   "execution_count": 12,
   "metadata": {},
   "outputs": [
    {
     "data": {
      "text/plain": [
       "Adjusted Grade                            1270\n",
       "New?                                      1245\n",
       "Other Location Code in LCGMS              1271\n",
       "Economic Need Index                         25\n",
       "School Income Estimate                     396\n",
       "Student Attendance Rate                     25\n",
       "Percent of Students Chronically Absent      25\n",
       "Rigorous Instruction %                      25\n",
       "Rigorous Instruction Rating                 76\n",
       "Collaborative Teachers %                    25\n",
       "Collaborative Teachers Rating               76\n",
       "Supportive Environment %                    25\n",
       "Supportive Environment Rating               80\n",
       "Effective School Leadership %               25\n",
       "Effective School Leadership Rating          73\n",
       "Strong Family-Community Ties %              25\n",
       "Strong Family-Community Ties Rating         73\n",
       "Trust %                                     25\n",
       "Trust Rating                                73\n",
       "Student Achievement Rating                  86\n",
       "Average ELA Proficiency                     55\n",
       "Average Math Proficiency                    55\n",
       "dtype: int64"
      ]
     },
     "execution_count": 12,
     "metadata": {},
     "output_type": "execute_result"
    }
   ],
   "source": [
    "null_count = df.isnull().sum()\n",
    "null_count[null_count>0]"
   ]
  },
  {
   "cell_type": "code",
   "execution_count": 13,
   "metadata": {
    "collapsed": true
   },
   "outputs": [],
   "source": [
    "selected_columns = ['Zip',\n",
    "'Grades',\n",
    "'Community School?',\n",
    "'Economic Need Index',\n",
    "'Percent ELL',\n",
    "'Percent Asian',\n",
    "'Percent Black',\n",
    "'Percent Hispanic',\n",
    "'Percent Black / Hispanic',\n",
    "'Percent White',\n",
    "'Student Attendance Rate',\n",
    "'Percent of Students Chronically Absent',\n",
    "'Rigorous Instruction %',\n",
    "'Rigorous Instruction Rating',\n",
    "'Collaborative Teachers %',\n",
    "'Collaborative Teachers Rating',\n",
    "'Supportive Environment %',\n",
    "'Supportive Environment Rating',\n",
    "'Effective School Leadership %',\n",
    "'Effective School Leadership Rating',\n",
    "'Strong Family-Community Ties %',\n",
    "'Strong Family-Community Ties Rating',\n",
    "'Trust %',\n",
    "'Trust Rating',\n",
    "'Student Achievement Rating',\n",
    "'Average ELA Proficiency',\n",
    "'Average Math Proficiency',\n",
    "'Grade 3 ELA - All Students Tested',\n",
    "'Grade 3 Math - All Students tested',\n",
    "'Grade 4 ELA - All Students Tested',\n",
    "'Grade 4 Math - All Students Tested',\n",
    "'Grade 5 ELA - All Students Tested',\n",
    "'Grade 5 Math - All Students Tested',\n",
    "'Grade 6 ELA - All Students Tested',\n",
    "'Grade 6 Math - All Students Tested',\n",
    "'Grade 7 ELA - All Students Tested',\n",
    "'Grade 7 Math - All Students Tested',\n",
    "'Grade 8 ELA - All Students Tested',\n",
    "'Grade 8 Math - All Students Tested']"
   ]
  },
  {
   "cell_type": "code",
   "execution_count": 14,
   "metadata": {
    "collapsed": true
   },
   "outputs": [],
   "source": [
    "new_df = df[selected_columns]"
   ]
  },
  {
   "cell_type": "code",
   "execution_count": 15,
   "metadata": {
    "collapsed": true
   },
   "outputs": [],
   "source": [
    "school_df = new_df.dropna(how = 'any')"
   ]
  },
  {
   "cell_type": "code",
   "execution_count": 16,
   "metadata": {},
   "outputs": [
    {
     "data": {
      "text/html": [
       "<div>\n",
       "<style>\n",
       "    .dataframe thead tr:only-child th {\n",
       "        text-align: right;\n",
       "    }\n",
       "\n",
       "    .dataframe thead th {\n",
       "        text-align: left;\n",
       "    }\n",
       "\n",
       "    .dataframe tbody tr th {\n",
       "        vertical-align: top;\n",
       "    }\n",
       "</style>\n",
       "<table border=\"1\" class=\"dataframe\">\n",
       "  <thead>\n",
       "    <tr style=\"text-align: right;\">\n",
       "      <th></th>\n",
       "      <th>Zip</th>\n",
       "      <th>Economic Need Index</th>\n",
       "      <th>Average ELA Proficiency</th>\n",
       "      <th>Average Math Proficiency</th>\n",
       "      <th>Grade 3 ELA - All Students Tested</th>\n",
       "      <th>Grade 3 Math - All Students tested</th>\n",
       "      <th>Grade 4 ELA - All Students Tested</th>\n",
       "      <th>Grade 4 Math - All Students Tested</th>\n",
       "      <th>Grade 5 ELA - All Students Tested</th>\n",
       "      <th>Grade 5 Math - All Students Tested</th>\n",
       "      <th>Grade 6 ELA - All Students Tested</th>\n",
       "      <th>Grade 6 Math - All Students Tested</th>\n",
       "      <th>Grade 7 ELA - All Students Tested</th>\n",
       "      <th>Grade 7 Math - All Students Tested</th>\n",
       "      <th>Grade 8 ELA - All Students Tested</th>\n",
       "      <th>Grade 8 Math - All Students Tested</th>\n",
       "    </tr>\n",
       "  </thead>\n",
       "  <tbody>\n",
       "    <tr>\n",
       "      <th>count</th>\n",
       "      <td>1167.000000</td>\n",
       "      <td>1167.000000</td>\n",
       "      <td>1167.000000</td>\n",
       "      <td>1167.000000</td>\n",
       "      <td>1167.000000</td>\n",
       "      <td>1167.000000</td>\n",
       "      <td>1167.000000</td>\n",
       "      <td>1167.000000</td>\n",
       "      <td>1167.000000</td>\n",
       "      <td>1167.000000</td>\n",
       "      <td>1167.000000</td>\n",
       "      <td>1167.000000</td>\n",
       "      <td>1167.000000</td>\n",
       "      <td>1167.000000</td>\n",
       "      <td>1167.000000</td>\n",
       "      <td>1167.000000</td>\n",
       "    </tr>\n",
       "    <tr>\n",
       "      <th>mean</th>\n",
       "      <td>10822.582691</td>\n",
       "      <td>0.671889</td>\n",
       "      <td>2.530566</td>\n",
       "      <td>2.661140</td>\n",
       "      <td>61.431877</td>\n",
       "      <td>62.547558</td>\n",
       "      <td>60.284490</td>\n",
       "      <td>61.329906</td>\n",
       "      <td>59.706941</td>\n",
       "      <td>60.693231</td>\n",
       "      <td>56.857755</td>\n",
       "      <td>57.784919</td>\n",
       "      <td>56.472151</td>\n",
       "      <td>57.194516</td>\n",
       "      <td>55.565553</td>\n",
       "      <td>46.921165</td>\n",
       "    </tr>\n",
       "    <tr>\n",
       "      <th>std</th>\n",
       "      <td>527.119519</td>\n",
       "      <td>0.211649</td>\n",
       "      <td>0.359010</td>\n",
       "      <td>0.462522</td>\n",
       "      <td>59.090043</td>\n",
       "      <td>60.478616</td>\n",
       "      <td>58.179452</td>\n",
       "      <td>59.508132</td>\n",
       "      <td>55.606602</td>\n",
       "      <td>56.855178</td>\n",
       "      <td>94.608475</td>\n",
       "      <td>96.407623</td>\n",
       "      <td>97.597789</td>\n",
       "      <td>99.221917</td>\n",
       "      <td>97.034709</td>\n",
       "      <td>85.047009</td>\n",
       "    </tr>\n",
       "    <tr>\n",
       "      <th>min</th>\n",
       "      <td>10001.000000</td>\n",
       "      <td>0.059000</td>\n",
       "      <td>1.810000</td>\n",
       "      <td>1.830000</td>\n",
       "      <td>0.000000</td>\n",
       "      <td>0.000000</td>\n",
       "      <td>0.000000</td>\n",
       "      <td>0.000000</td>\n",
       "      <td>0.000000</td>\n",
       "      <td>0.000000</td>\n",
       "      <td>0.000000</td>\n",
       "      <td>0.000000</td>\n",
       "      <td>0.000000</td>\n",
       "      <td>0.000000</td>\n",
       "      <td>0.000000</td>\n",
       "      <td>0.000000</td>\n",
       "    </tr>\n",
       "    <tr>\n",
       "      <th>25%</th>\n",
       "      <td>10453.000000</td>\n",
       "      <td>0.549000</td>\n",
       "      <td>2.250000</td>\n",
       "      <td>2.300000</td>\n",
       "      <td>0.000000</td>\n",
       "      <td>0.000000</td>\n",
       "      <td>0.000000</td>\n",
       "      <td>0.000000</td>\n",
       "      <td>0.000000</td>\n",
       "      <td>0.000000</td>\n",
       "      <td>0.000000</td>\n",
       "      <td>0.000000</td>\n",
       "      <td>0.000000</td>\n",
       "      <td>0.000000</td>\n",
       "      <td>0.000000</td>\n",
       "      <td>0.000000</td>\n",
       "    </tr>\n",
       "    <tr>\n",
       "      <th>50%</th>\n",
       "      <td>11203.000000</td>\n",
       "      <td>0.732000</td>\n",
       "      <td>2.450000</td>\n",
       "      <td>2.570000</td>\n",
       "      <td>55.000000</td>\n",
       "      <td>55.000000</td>\n",
       "      <td>55.000000</td>\n",
       "      <td>55.000000</td>\n",
       "      <td>56.000000</td>\n",
       "      <td>57.000000</td>\n",
       "      <td>0.000000</td>\n",
       "      <td>0.000000</td>\n",
       "      <td>0.000000</td>\n",
       "      <td>0.000000</td>\n",
       "      <td>0.000000</td>\n",
       "      <td>0.000000</td>\n",
       "    </tr>\n",
       "    <tr>\n",
       "      <th>75%</th>\n",
       "      <td>11232.500000</td>\n",
       "      <td>0.842000</td>\n",
       "      <td>2.750000</td>\n",
       "      <td>2.980000</td>\n",
       "      <td>96.500000</td>\n",
       "      <td>97.500000</td>\n",
       "      <td>94.000000</td>\n",
       "      <td>96.000000</td>\n",
       "      <td>92.500000</td>\n",
       "      <td>93.500000</td>\n",
       "      <td>84.000000</td>\n",
       "      <td>85.000000</td>\n",
       "      <td>80.000000</td>\n",
       "      <td>81.000000</td>\n",
       "      <td>80.500000</td>\n",
       "      <td>66.000000</td>\n",
       "    </tr>\n",
       "    <tr>\n",
       "      <th>max</th>\n",
       "      <td>11694.000000</td>\n",
       "      <td>0.957000</td>\n",
       "      <td>3.930000</td>\n",
       "      <td>4.190000</td>\n",
       "      <td>356.000000</td>\n",
       "      <td>365.000000</td>\n",
       "      <td>330.000000</td>\n",
       "      <td>332.000000</td>\n",
       "      <td>333.000000</td>\n",
       "      <td>337.000000</td>\n",
       "      <td>631.000000</td>\n",
       "      <td>646.000000</td>\n",
       "      <td>698.000000</td>\n",
       "      <td>715.000000</td>\n",
       "      <td>743.000000</td>\n",
       "      <td>652.000000</td>\n",
       "    </tr>\n",
       "  </tbody>\n",
       "</table>\n",
       "</div>"
      ],
      "text/plain": [
       "                Zip  Economic Need Index  Average ELA Proficiency  \\\n",
       "count   1167.000000          1167.000000              1167.000000   \n",
       "mean   10822.582691             0.671889                 2.530566   \n",
       "std      527.119519             0.211649                 0.359010   \n",
       "min    10001.000000             0.059000                 1.810000   \n",
       "25%    10453.000000             0.549000                 2.250000   \n",
       "50%    11203.000000             0.732000                 2.450000   \n",
       "75%    11232.500000             0.842000                 2.750000   \n",
       "max    11694.000000             0.957000                 3.930000   \n",
       "\n",
       "       Average Math Proficiency  Grade 3 ELA - All Students Tested  \\\n",
       "count               1167.000000                        1167.000000   \n",
       "mean                   2.661140                          61.431877   \n",
       "std                    0.462522                          59.090043   \n",
       "min                    1.830000                           0.000000   \n",
       "25%                    2.300000                           0.000000   \n",
       "50%                    2.570000                          55.000000   \n",
       "75%                    2.980000                          96.500000   \n",
       "max                    4.190000                         356.000000   \n",
       "\n",
       "       Grade 3 Math - All Students tested  Grade 4 ELA - All Students Tested  \\\n",
       "count                         1167.000000                        1167.000000   \n",
       "mean                            62.547558                          60.284490   \n",
       "std                             60.478616                          58.179452   \n",
       "min                              0.000000                           0.000000   \n",
       "25%                              0.000000                           0.000000   \n",
       "50%                             55.000000                          55.000000   \n",
       "75%                             97.500000                          94.000000   \n",
       "max                            365.000000                         330.000000   \n",
       "\n",
       "       Grade 4 Math - All Students Tested  Grade 5 ELA - All Students Tested  \\\n",
       "count                         1167.000000                        1167.000000   \n",
       "mean                            61.329906                          59.706941   \n",
       "std                             59.508132                          55.606602   \n",
       "min                              0.000000                           0.000000   \n",
       "25%                              0.000000                           0.000000   \n",
       "50%                             55.000000                          56.000000   \n",
       "75%                             96.000000                          92.500000   \n",
       "max                            332.000000                         333.000000   \n",
       "\n",
       "       Grade 5 Math - All Students Tested  Grade 6 ELA - All Students Tested  \\\n",
       "count                         1167.000000                        1167.000000   \n",
       "mean                            60.693231                          56.857755   \n",
       "std                             56.855178                          94.608475   \n",
       "min                              0.000000                           0.000000   \n",
       "25%                              0.000000                           0.000000   \n",
       "50%                             57.000000                           0.000000   \n",
       "75%                             93.500000                          84.000000   \n",
       "max                            337.000000                         631.000000   \n",
       "\n",
       "       Grade 6 Math - All Students Tested  Grade 7 ELA - All Students Tested  \\\n",
       "count                         1167.000000                        1167.000000   \n",
       "mean                            57.784919                          56.472151   \n",
       "std                             96.407623                          97.597789   \n",
       "min                              0.000000                           0.000000   \n",
       "25%                              0.000000                           0.000000   \n",
       "50%                              0.000000                           0.000000   \n",
       "75%                             85.000000                          80.000000   \n",
       "max                            646.000000                         698.000000   \n",
       "\n",
       "       Grade 7 Math - All Students Tested  Grade 8 ELA - All Students Tested  \\\n",
       "count                         1167.000000                        1167.000000   \n",
       "mean                            57.194516                          55.565553   \n",
       "std                             99.221917                          97.034709   \n",
       "min                              0.000000                           0.000000   \n",
       "25%                              0.000000                           0.000000   \n",
       "50%                              0.000000                           0.000000   \n",
       "75%                             81.000000                          80.500000   \n",
       "max                            715.000000                         743.000000   \n",
       "\n",
       "       Grade 8 Math - All Students Tested  \n",
       "count                         1167.000000  \n",
       "mean                            46.921165  \n",
       "std                             85.047009  \n",
       "min                              0.000000  \n",
       "25%                              0.000000  \n",
       "50%                              0.000000  \n",
       "75%                             66.000000  \n",
       "max                            652.000000  "
      ]
     },
     "execution_count": 16,
     "metadata": {},
     "output_type": "execute_result"
    }
   ],
   "source": [
    "# Just to make sure we did not lose too many schools \n",
    "school_df.describe()"
   ]
  },
  {
   "cell_type": "markdown",
   "metadata": {},
   "source": [
    "## Exploring continued with graphs"
   ]
  },
  {
   "cell_type": "code",
   "execution_count": 133,
   "metadata": {},
   "outputs": [
    {
     "data": {
      "image/png": "[encoded data removed]",
      "text/plain": [
       "<matplotlib.figure.Figure at 0x192b69ca940>"
      ]
     },
     "metadata": {},
     "output_type": "display_data"
    }
   ],
   "source": [
    "plt.figure(figsize=(12, 10))\n",
    "sns.distplot(school_df['Average ELA Proficiency'], color = 'red')\n",
    "plt.title('The distribution of the two proficiencies among the New York schools')\n",
    "sns.distplot(school_df['Average Math Proficiency'], color = 'blue')\n",
    "plt.xlabel('Proficiency')\n",
    "ela_label = mpatches.Patch(color='red', label='ELA')\n",
    "math_label = mpatches.Patch(color='blue', label='Math')\n",
    "\n",
    "plt.legend(handles=[ela_label, math_label])\n",
    "plt.show()"
   ]
  },
  {
   "cell_type": "code",
   "execution_count": null,
   "metadata": {},
   "outputs": [],
   "source": [
    "plt.figure(figsize=(25, 10))\n",
    "plt.title(\"Each District's proficiency\")\n",
    "sns.violinplot(school_df['Zip'], school_df['Average ELA Proficiency'])\n",
    "plt.xticks(rotation = 90)\n",
    "\n",
    "plt.show()"
   ]
  },
  {
   "cell_type": "code",
   "execution_count": null,
   "metadata": {},
   "outputs": [],
   "source": [
    "plt.figure(figsize=(25, 10))\n",
    "plt.title(\"Each District's proficiency\")\n",
    "sns.violinplot(school_df['Zip'], school_df['Average Math Proficiency'])\n",
    "plt.xticks(rotation = 90)\n",
    "plt.show()"
   ]
  },
  {
   "cell_type": "code",
   "execution_count": null,
   "metadata": {},
   "outputs": [],
   "source": [
    "plt.figure(figsize=(20, 45))\n",
    "plt.subplot(6,2,1)\n",
    "plt.title(\"Each Economical Need proficiency\")\n",
    "plt.scatter(school_df['Economic Need Index'], school_df['Average ELA Proficiency'])\n",
    "plt.xticks(rotation = 90)\n",
    "\n",
    "\n",
    "plt.subplot(6,2,2)\n",
    "plt.title(\"The Student attendence rate compared with proficiency\")\n",
    "sns.violinplot(school_df['Student Attendance Rate'], school_df['Average ELA Proficiency'])\n",
    "plt.xticks(rotation = 90)\n",
    "\n",
    "plt.subplot(6,2,3)\n",
    "plt.title(\"School's percentage of chronically absent students and their proficiency\")\n",
    "sns.violinplot(school_df['Percent of Students Chronically Absent'], school_df['Average ELA Proficiency'])\n",
    "plt.xticks(rotation = 90)\n",
    "\n",
    "plt.subplot(6,2,4)\n",
    "plt.title(\"School's supportive environment rating and their proficiency\")\n",
    "sns.violinplot(school_df['Supportive Environment Rating'], school_df['Average ELA Proficiency'])\n",
    "\n",
    "plt.subplot(6,2,5)\n",
    "sns.violinplot(school_df['Supportive Environment %'], school_df['Average ELA Proficiency'])\n",
    "plt.xticks(rotation = 90)\n",
    "\n",
    "plt.subplot(6,2,6)\n",
    "plt.title(\"School's percentage of rigorous instruction and their proficiency\")\n",
    "sns.violinplot(school_df['Rigorous Instruction %'], school_df['Average ELA Proficiency'])\n",
    "plt.xticks(rotation = 90)\n",
    "\n",
    "plt.subplot(6,2,7)\n",
    "plt.title(\"School's rigorous instruction rating and their proficiency\")\n",
    "sns.violinplot(school_df['Rigorous Instruction Rating'], school_df['Average ELA Proficiency'])\n",
    "\n",
    "plt.subplot(6,2,8)\n",
    "plt.title(\"School's Collaborative teaching rating and their proficiency\")\n",
    "sns.violinplot(school_df['Collaborative Teachers Rating'], school_df['Average ELA Proficiency'])\n",
    "\n",
    "plt.subplot(6,2, 9)\n",
    "plt.title(\"School's Collaborative teaching percentage and their proficiency\")\n",
    "sns.violinplot(school_df['Collaborative Teachers %'], school_df['Average ELA Proficiency'])\n",
    "plt.xticks(rotation = 90)\n",
    "\n",
    "plt.subplot(6,2, 10)\n",
    "plt.title(\"School's Leadership rating and their proficiency\")\n",
    "sns.violinplot(school_df['Effective School Leadership Rating'], school_df['Average ELA Proficiency'])\n",
    "\n",
    "plt.subplot(6,2,11)\n",
    "plt.title(\"School's Leadership percentage and their proficiency\")\n",
    "sns.violinplot(school_df['Effective School Leadership %'], school_df['Average ELA Proficiency'])\n",
    "plt.xticks(rotation = 90)\n",
    "\n",
    "plt.show()"
   ]
  },
  {
   "cell_type": "code",
   "execution_count": null,
   "metadata": {},
   "outputs": [],
   "source": [
    "plt.figure(figsize=(20, 45))\n",
    "plt.subplot(6,2,1)\n",
    "plt.title(\"Each Economical Need proficiency\")\n",
    "plt.scatter(school_df['Grade 3 ELA - All Students Tested'], school_df['Average ELA Proficiency'])\n",
    "plt.xticks(rotation = 90)\n",
    "\n",
    "plt.subplot(6,2,2)\n",
    "plt.title(\"The Student attendence rate compared with proficiency\")\n",
    "plt.scatter(school_df['Grade 3 Math - All Students tested'], school_df['Average Math Proficiency'])\n",
    "plt.xticks(rotation = 90)\n",
    "\n",
    "plt.subplot(6,2,3)\n",
    "plt.title(\"School's percentage of chronically absent students and their proficiency\")\n",
    "plt.scatter(school_df['Grade 4 ELA - All Students Tested'], school_df['Average ELA Proficiency'])\n",
    "plt.xticks(rotation = 90)\n",
    "\n",
    "plt.subplot(6,2,4)\n",
    "plt.title(\"School's supportive environment rating and their proficiency\")\n",
    "plt.scatter(school_df['Grade 4 Math - All Students Tested'], school_df['Average Math Proficiency'])\n",
    "plt.xticks(rotation = 90)\n",
    "\n",
    "plt.subplot(6,2,5)\n",
    "plt.scatter(school_df['Grade 5 ELA - All Students Tested'], school_df['Average ELA Proficiency'])\n",
    "plt.xticks(rotation = 90)\n",
    "\n",
    "plt.subplot(6,2,6)\n",
    "plt.title(\"School's percentage of rigorous instruction and their proficiency\")\n",
    "plt.scatter(school_df['Grade 5 Math - All Students Tested'], school_df['Average Math Proficiency'])\n",
    "plt.xticks(rotation = 90)\n",
    "\n",
    "plt.subplot(6,2,7)\n",
    "plt.title(\"School's rigorous instruction rating and their proficiency\")\n",
    "plt.scatter(school_df['Grade 6 ELA - All Students Tested'], school_df['Average ELA Proficiency'])\n",
    "plt.xticks(rotation = 90)\n",
    "\n",
    "plt.subplot(6,2,8)\n",
    "plt.title(\"School's Collaborative teaching rating and their proficiency\")\n",
    "plt.scatter(school_df['Grade 6 Math - All Students Tested'], school_df['Average Math Proficiency'])\n",
    "plt.xticks(rotation = 90)\n",
    "\n",
    "plt.subplot(6,2, 9)\n",
    "plt.title(\"School's Collaborative teaching percentage and their proficiency\")\n",
    "plt.scatter(school_df['Grade 7 ELA - All Students Tested'], school_df['Average ELA Proficiency'])\n",
    "plt.xticks(rotation = 90)\n",
    "\n",
    "plt.subplot(6,2, 10)\n",
    "plt.title(\"School's Leadership rating and their proficiency\")\n",
    "plt.scatter(school_df['Grade 7 Math - All Students Tested'], school_df['Average Math Proficiency'])\n",
    "plt.xticks(rotation = 90)\n",
    "\n",
    "plt.subplot(6,2,11)\n",
    "plt.title(\"School's Leadership percentage and their proficiency\")\n",
    "plt.scatter(school_df['Grade 8 ELA - All Students Tested'], school_df['Average ELA Proficiency'])\n",
    "plt.xticks(rotation = 90)\n",
    "\n",
    "plt.subplot(6,2,12)\n",
    "plt.title(\"School's Leadership percentage and their proficiency\")\n",
    "plt.scatter(school_df['Grade 8 Math - All Students Tested'], school_df['Average Math Proficiency'])\n",
    "plt.xticks(rotation = 90)\n",
    "\n",
    "plt.show()"
   ]
  },
  {
   "cell_type": "code",
   "execution_count": null,
   "metadata": {},
   "outputs": [],
   "source": [
    "plt.figure(figsize=(20, 45))\n",
    "plt.subplot(6,2,1)\n",
    "plt.title(\"Each Economical Need proficiency\")\n",
    "plt.scatter(school_df['Economic Need Index'], school_df['Average ELA Proficiency'])\n",
    "plt.xticks(rotation = 90)\n",
    "\n",
    "plt.subplot(6,2,2)\n",
    "plt.title(\"The Student attendence rate compared with proficiency\")\n",
    "sns.violinplot(school_df['Student Attendance Rate'], school_df['Average ELA Proficiency'])\n",
    "plt.xticks(rotation = 90)\n",
    "\n",
    "plt.subplot(6,2,3)\n",
    "plt.title(\"School's percentage of chronically absent students and their proficiency\")\n",
    "sns.violinplot(school_df['Percent of Students Chronically Absent'], school_df['Average ELA Proficiency'])\n",
    "plt.xticks(rotation = 90)\n",
    "\n",
    "plt.subplot(6,2,4)\n",
    "plt.title(\"School's supportive environment rating and their proficiency\")\n",
    "sns.violinplot(school_df['Supportive Environment Rating'], school_df['Average ELA Proficiency'])\n",
    "\n",
    "plt.subplot(6,2,5)\n",
    "sns.violinplot(school_df['Supportive Environment %'], school_df['Average ELA Proficiency'])\n",
    "plt.xticks(rotation = 90)\n",
    "\n",
    "plt.subplot(6,2,6)\n",
    "plt.title(\"School's percentage of rigorous instruction and their proficiency\")\n",
    "sns.violinplot(school_df['Rigorous Instruction %'], school_df['Average ELA Proficiency'])\n",
    "plt.xticks(rotation = 90)\n",
    "\n",
    "plt.subplot(6,2,7)\n",
    "plt.title(\"School's rigorous instruction rating and their proficiency\")\n",
    "sns.violinplot(school_df['Rigorous Instruction Rating'], school_df['Average ELA Proficiency'])\n",
    "\n",
    "plt.subplot(6,2,8)\n",
    "plt.title(\"School's Collaborative teaching rating and their proficiency\")\n",
    "sns.violinplot(school_df['Collaborative Teachers Rating'], school_df['Average ELA Proficiency'])\n",
    "\n",
    "plt.subplot(6,2, 9)\n",
    "plt.title(\"School's Collaborative teaching percentage and their proficiency\")\n",
    "sns.violinplot(school_df['Collaborative Teachers %'], school_df['Average ELA Proficiency'])\n",
    "plt.xticks(rotation = 90)\n",
    "\n",
    "plt.subplot(6,2, 10)\n",
    "plt.title(\"School's Leadership rating and their proficiency\")\n",
    "sns.violinplot(school_df['Effective School Leadership Rating'], school_df['Average ELA Proficiency'])\n",
    "\n",
    "plt.subplot(6,2,11)\n",
    "plt.title(\"School's Leadership percentage and their proficiency\")\n",
    "sns.violinplot(school_df['Effective School Leadership %'], school_df['Average ELA Proficiency'])\n",
    "plt.xticks(rotation = 90)\n",
    "\n",
    "plt.show()"
   ]
  },
  {
   "cell_type": "code",
   "execution_count": null,
   "metadata": {},
   "outputs": [],
   "source": [
    "plt.figure(figsize=(20, 25))\n",
    "plt.subplot(3,2,1)\n",
    "plt.title(\"Each Economical Need proficiency\")\n",
    "plt.scatter(school_df['Grades'], school_df['Average ELA Proficiency'])\n",
    "plt.xticks(rotation = 90)\n",
    "\n",
    "plt.subplot(3,2,2)\n",
    "plt.title(\"The Student attendence rate compared with proficiency\")\n",
    "plt.scatter(school_df['Grades'], school_df['Average Math Proficiency'])\n",
    "plt.xticks(rotation = 90)\n",
    "\n",
    "plt.subplot(3,2,3)\n",
    "plt.title(\"School's percentage of chronically absent students and their proficiency\")\n",
    "plt.scatter(school_df['Community School?'], school_df['Average ELA Proficiency'])\n",
    "plt.xticks(rotation = 90)\n",
    "\n",
    "plt.subplot(3,2,4)\n",
    "plt.title(\"School's supportive environment rating and their proficiency\")\n",
    "plt.scatter(school_df['Community School?'], school_df['Average Math Proficiency'])\n",
    "plt.xticks(rotation = 90)\n",
    "\n",
    "plt.subplot(3,2,5)\n",
    "plt.scatter(school_df['Economic Need Index'], school_df['Average ELA Proficiency'])\n",
    "plt.xticks(rotation = 90)\n",
    "\n",
    "plt.subplot(3,2,6)\n",
    "plt.title(\"School's percentage of rigorous instruction and their proficiency\")\n",
    "plt.scatter(school_df['Economic Need Index'], school_df['Average Math Proficiency'])\n",
    "plt.xticks(rotation = 90)\n",
    "\n",
    "plt.show()"
   ]
  },
  {
   "cell_type": "code",
   "execution_count": 17,
   "metadata": {},
   "outputs": [
    {
     "name": "stderr",
     "output_type": "stream",
     "text": [
      "C:\\Users\\blindside\\Anaconda3\\lib\\site-packages\\ipykernel_launcher.py:1: SettingWithCopyWarning: \n",
      "A value is trying to be set on a copy of a slice from a DataFrame.\n",
      "Try using .loc[row_indexer,col_indexer] = value instead\n",
      "\n",
      "See the caveats in the documentation: http://pandas.pydata.org/pandas-docs/stable/indexing.html#indexing-view-versus-copy\n",
      "  \"\"\"Entry point for launching an IPython kernel.\n",
      "C:\\Users\\blindside\\Anaconda3\\lib\\site-packages\\ipykernel_launcher.py:2: SettingWithCopyWarning: \n",
      "A value is trying to be set on a copy of a slice from a DataFrame.\n",
      "Try using .loc[row_indexer,col_indexer] = value instead\n",
      "\n",
      "See the caveats in the documentation: http://pandas.pydata.org/pandas-docs/stable/indexing.html#indexing-view-versus-copy\n",
      "  \n",
      "C:\\Users\\blindside\\Anaconda3\\lib\\site-packages\\ipykernel_launcher.py:3: SettingWithCopyWarning: \n",
      "A value is trying to be set on a copy of a slice from a DataFrame.\n",
      "Try using .loc[row_indexer,col_indexer] = value instead\n",
      "\n",
      "See the caveats in the documentation: http://pandas.pydata.org/pandas-docs/stable/indexing.html#indexing-view-versus-copy\n",
      "  This is separate from the ipykernel package so we can avoid doing imports until\n",
      "C:\\Users\\blindside\\Anaconda3\\lib\\site-packages\\ipykernel_launcher.py:4: SettingWithCopyWarning: \n",
      "A value is trying to be set on a copy of a slice from a DataFrame.\n",
      "Try using .loc[row_indexer,col_indexer] = value instead\n",
      "\n",
      "See the caveats in the documentation: http://pandas.pydata.org/pandas-docs/stable/indexing.html#indexing-view-versus-copy\n",
      "  after removing the cwd from sys.path.\n",
      "C:\\Users\\blindside\\Anaconda3\\lib\\site-packages\\ipykernel_launcher.py:5: SettingWithCopyWarning: \n",
      "A value is trying to be set on a copy of a slice from a DataFrame.\n",
      "Try using .loc[row_indexer,col_indexer] = value instead\n",
      "\n",
      "See the caveats in the documentation: http://pandas.pydata.org/pandas-docs/stable/indexing.html#indexing-view-versus-copy\n",
      "  \"\"\"\n",
      "C:\\Users\\blindside\\Anaconda3\\lib\\site-packages\\ipykernel_launcher.py:6: SettingWithCopyWarning: \n",
      "A value is trying to be set on a copy of a slice from a DataFrame.\n",
      "Try using .loc[row_indexer,col_indexer] = value instead\n",
      "\n",
      "See the caveats in the documentation: http://pandas.pydata.org/pandas-docs/stable/indexing.html#indexing-view-versus-copy\n",
      "  \n",
      "C:\\Users\\blindside\\Anaconda3\\lib\\site-packages\\ipykernel_launcher.py:7: SettingWithCopyWarning: \n",
      "A value is trying to be set on a copy of a slice from a DataFrame.\n",
      "Try using .loc[row_indexer,col_indexer] = value instead\n",
      "\n",
      "See the caveats in the documentation: http://pandas.pydata.org/pandas-docs/stable/indexing.html#indexing-view-versus-copy\n",
      "  import sys\n",
      "C:\\Users\\blindside\\Anaconda3\\lib\\site-packages\\ipykernel_launcher.py:8: SettingWithCopyWarning: \n",
      "A value is trying to be set on a copy of a slice from a DataFrame.\n",
      "Try using .loc[row_indexer,col_indexer] = value instead\n",
      "\n",
      "See the caveats in the documentation: http://pandas.pydata.org/pandas-docs/stable/indexing.html#indexing-view-versus-copy\n",
      "  \n",
      "C:\\Users\\blindside\\Anaconda3\\lib\\site-packages\\ipykernel_launcher.py:9: SettingWithCopyWarning: \n",
      "A value is trying to be set on a copy of a slice from a DataFrame.\n",
      "Try using .loc[row_indexer,col_indexer] = value instead\n",
      "\n",
      "See the caveats in the documentation: http://pandas.pydata.org/pandas-docs/stable/indexing.html#indexing-view-versus-copy\n",
      "  if __name__ == '__main__':\n",
      "C:\\Users\\blindside\\Anaconda3\\lib\\site-packages\\ipykernel_launcher.py:10: SettingWithCopyWarning: \n",
      "A value is trying to be set on a copy of a slice from a DataFrame.\n",
      "Try using .loc[row_indexer,col_indexer] = value instead\n",
      "\n",
      "See the caveats in the documentation: http://pandas.pydata.org/pandas-docs/stable/indexing.html#indexing-view-versus-copy\n",
      "  # Remove the CWD from sys.path while we load stuff.\n",
      "C:\\Users\\blindside\\Anaconda3\\lib\\site-packages\\ipykernel_launcher.py:11: SettingWithCopyWarning: \n",
      "A value is trying to be set on a copy of a slice from a DataFrame.\n",
      "Try using .loc[row_indexer,col_indexer] = value instead\n",
      "\n",
      "See the caveats in the documentation: http://pandas.pydata.org/pandas-docs/stable/indexing.html#indexing-view-versus-copy\n",
      "  # This is added back by InteractiveShellApp.init_path()\n",
      "C:\\Users\\blindside\\Anaconda3\\lib\\site-packages\\ipykernel_launcher.py:12: SettingWithCopyWarning: \n",
      "A value is trying to be set on a copy of a slice from a DataFrame.\n",
      "Try using .loc[row_indexer,col_indexer] = value instead\n",
      "\n",
      "See the caveats in the documentation: http://pandas.pydata.org/pandas-docs/stable/indexing.html#indexing-view-versus-copy\n",
      "  if sys.path[0] == '':\n",
      "C:\\Users\\blindside\\Anaconda3\\lib\\site-packages\\ipykernel_launcher.py:13: SettingWithCopyWarning: \n",
      "A value is trying to be set on a copy of a slice from a DataFrame.\n",
      "Try using .loc[row_indexer,col_indexer] = value instead\n",
      "\n",
      "See the caveats in the documentation: http://pandas.pydata.org/pandas-docs/stable/indexing.html#indexing-view-versus-copy\n",
      "  del sys.path[0]\n",
      "C:\\Users\\blindside\\Anaconda3\\lib\\site-packages\\ipykernel_launcher.py:14: SettingWithCopyWarning: \n",
      "A value is trying to be set on a copy of a slice from a DataFrame.\n",
      "Try using .loc[row_indexer,col_indexer] = value instead\n",
      "\n",
      "See the caveats in the documentation: http://pandas.pydata.org/pandas-docs/stable/indexing.html#indexing-view-versus-copy\n",
      "  \n",
      "C:\\Users\\blindside\\Anaconda3\\lib\\site-packages\\ipykernel_launcher.py:15: SettingWithCopyWarning: \n",
      "A value is trying to be set on a copy of a slice from a DataFrame.\n",
      "Try using .loc[row_indexer,col_indexer] = value instead\n",
      "\n",
      "See the caveats in the documentation: http://pandas.pydata.org/pandas-docs/stable/indexing.html#indexing-view-versus-copy\n",
      "  from ipykernel import kernelapp as app\n",
      "C:\\Users\\blindside\\Anaconda3\\lib\\site-packages\\ipykernel_launcher.py:16: SettingWithCopyWarning: \n",
      "A value is trying to be set on a copy of a slice from a DataFrame.\n",
      "Try using .loc[row_indexer,col_indexer] = value instead\n",
      "\n",
      "See the caveats in the documentation: http://pandas.pydata.org/pandas-docs/stable/indexing.html#indexing-view-versus-copy\n",
      "  app.launch_new_instance()\n",
      "C:\\Users\\blindside\\Anaconda3\\lib\\site-packages\\ipykernel_launcher.py:17: SettingWithCopyWarning: \n",
      "A value is trying to be set on a copy of a slice from a DataFrame.\n",
      "Try using .loc[row_indexer,col_indexer] = value instead\n",
      "\n",
      "See the caveats in the documentation: http://pandas.pydata.org/pandas-docs/stable/indexing.html#indexing-view-versus-copy\n",
      "C:\\Users\\blindside\\Anaconda3\\lib\\site-packages\\ipykernel_launcher.py:18: SettingWithCopyWarning: \n",
      "A value is trying to be set on a copy of a slice from a DataFrame.\n",
      "Try using .loc[row_indexer,col_indexer] = value instead\n",
      "\n",
      "See the caveats in the documentation: http://pandas.pydata.org/pandas-docs/stable/indexing.html#indexing-view-versus-copy\n",
      "C:\\Users\\blindside\\Anaconda3\\lib\\site-packages\\ipykernel_launcher.py:19: SettingWithCopyWarning: \n",
      "A value is trying to be set on a copy of a slice from a DataFrame.\n",
      "Try using .loc[row_indexer,col_indexer] = value instead\n",
      "\n",
      "See the caveats in the documentation: http://pandas.pydata.org/pandas-docs/stable/indexing.html#indexing-view-versus-copy\n",
      "C:\\Users\\blindside\\Anaconda3\\lib\\site-packages\\ipykernel_launcher.py:20: SettingWithCopyWarning: \n",
      "A value is trying to be set on a copy of a slice from a DataFrame.\n",
      "Try using .loc[row_indexer,col_indexer] = value instead\n",
      "\n",
      "See the caveats in the documentation: http://pandas.pydata.org/pandas-docs/stable/indexing.html#indexing-view-versus-copy\n",
      "C:\\Users\\blindside\\Anaconda3\\lib\\site-packages\\ipykernel_launcher.py:21: SettingWithCopyWarning: \n",
      "A value is trying to be set on a copy of a slice from a DataFrame.\n",
      "Try using .loc[row_indexer,col_indexer] = value instead\n",
      "\n",
      "See the caveats in the documentation: http://pandas.pydata.org/pandas-docs/stable/indexing.html#indexing-view-versus-copy\n",
      "C:\\Users\\blindside\\Anaconda3\\lib\\site-packages\\ipykernel_launcher.py:22: SettingWithCopyWarning: \n",
      "A value is trying to be set on a copy of a slice from a DataFrame.\n",
      "Try using .loc[row_indexer,col_indexer] = value instead\n",
      "\n",
      "See the caveats in the documentation: http://pandas.pydata.org/pandas-docs/stable/indexing.html#indexing-view-versus-copy\n",
      "C:\\Users\\blindside\\Anaconda3\\lib\\site-packages\\ipykernel_launcher.py:23: SettingWithCopyWarning: \n",
      "A value is trying to be set on a copy of a slice from a DataFrame.\n",
      "Try using .loc[row_indexer,col_indexer] = value instead\n",
      "\n",
      "See the caveats in the documentation: http://pandas.pydata.org/pandas-docs/stable/indexing.html#indexing-view-versus-copy\n",
      "C:\\Users\\blindside\\Anaconda3\\lib\\site-packages\\ipykernel_launcher.py:24: SettingWithCopyWarning: \n",
      "A value is trying to be set on a copy of a slice from a DataFrame.\n",
      "Try using .loc[row_indexer,col_indexer] = value instead\n",
      "\n",
      "See the caveats in the documentation: http://pandas.pydata.org/pandas-docs/stable/indexing.html#indexing-view-versus-copy\n",
      "C:\\Users\\blindside\\Anaconda3\\lib\\site-packages\\ipykernel_launcher.py:25: SettingWithCopyWarning: \n",
      "A value is trying to be set on a copy of a slice from a DataFrame.\n",
      "Try using .loc[row_indexer,col_indexer] = value instead\n",
      "\n",
      "See the caveats in the documentation: http://pandas.pydata.org/pandas-docs/stable/indexing.html#indexing-view-versus-copy\n",
      "C:\\Users\\blindside\\Anaconda3\\lib\\site-packages\\ipykernel_launcher.py:26: SettingWithCopyWarning: \n",
      "A value is trying to be set on a copy of a slice from a DataFrame.\n",
      "Try using .loc[row_indexer,col_indexer] = value instead\n",
      "\n",
      "See the caveats in the documentation: http://pandas.pydata.org/pandas-docs/stable/indexing.html#indexing-view-versus-copy\n"
     ]
    },
    {
     "name": "stderr",
     "output_type": "stream",
     "text": [
      "C:\\Users\\blindside\\Anaconda3\\lib\\site-packages\\ipykernel_launcher.py:27: SettingWithCopyWarning: \n",
      "A value is trying to be set on a copy of a slice from a DataFrame.\n",
      "Try using .loc[row_indexer,col_indexer] = value instead\n",
      "\n",
      "See the caveats in the documentation: http://pandas.pydata.org/pandas-docs/stable/indexing.html#indexing-view-versus-copy\n",
      "C:\\Users\\blindside\\Anaconda3\\lib\\site-packages\\ipykernel_launcher.py:28: SettingWithCopyWarning: \n",
      "A value is trying to be set on a copy of a slice from a DataFrame.\n",
      "Try using .loc[row_indexer,col_indexer] = value instead\n",
      "\n",
      "See the caveats in the documentation: http://pandas.pydata.org/pandas-docs/stable/indexing.html#indexing-view-versus-copy\n",
      "C:\\Users\\blindside\\Anaconda3\\lib\\site-packages\\ipykernel_launcher.py:29: SettingWithCopyWarning: \n",
      "A value is trying to be set on a copy of a slice from a DataFrame.\n",
      "Try using .loc[row_indexer,col_indexer] = value instead\n",
      "\n",
      "See the caveats in the documentation: http://pandas.pydata.org/pandas-docs/stable/indexing.html#indexing-view-versus-copy\n",
      "C:\\Users\\blindside\\Anaconda3\\lib\\site-packages\\ipykernel_launcher.py:30: SettingWithCopyWarning: \n",
      "A value is trying to be set on a copy of a slice from a DataFrame.\n",
      "Try using .loc[row_indexer,col_indexer] = value instead\n",
      "\n",
      "See the caveats in the documentation: http://pandas.pydata.org/pandas-docs/stable/indexing.html#indexing-view-versus-copy\n",
      "C:\\Users\\blindside\\Anaconda3\\lib\\site-packages\\ipykernel_launcher.py:31: SettingWithCopyWarning: \n",
      "A value is trying to be set on a copy of a slice from a DataFrame.\n",
      "Try using .loc[row_indexer,col_indexer] = value instead\n",
      "\n",
      "See the caveats in the documentation: http://pandas.pydata.org/pandas-docs/stable/indexing.html#indexing-view-versus-copy\n",
      "C:\\Users\\blindside\\Anaconda3\\lib\\site-packages\\ipykernel_launcher.py:32: SettingWithCopyWarning: \n",
      "A value is trying to be set on a copy of a slice from a DataFrame.\n",
      "Try using .loc[row_indexer,col_indexer] = value instead\n",
      "\n",
      "See the caveats in the documentation: http://pandas.pydata.org/pandas-docs/stable/indexing.html#indexing-view-versus-copy\n",
      "C:\\Users\\blindside\\Anaconda3\\lib\\site-packages\\ipykernel_launcher.py:33: SettingWithCopyWarning: \n",
      "A value is trying to be set on a copy of a slice from a DataFrame.\n",
      "Try using .loc[row_indexer,col_indexer] = value instead\n",
      "\n",
      "See the caveats in the documentation: http://pandas.pydata.org/pandas-docs/stable/indexing.html#indexing-view-versus-copy\n",
      "C:\\Users\\blindside\\Anaconda3\\lib\\site-packages\\ipykernel_launcher.py:34: SettingWithCopyWarning: \n",
      "A value is trying to be set on a copy of a slice from a DataFrame.\n",
      "Try using .loc[row_indexer,col_indexer] = value instead\n",
      "\n",
      "See the caveats in the documentation: http://pandas.pydata.org/pandas-docs/stable/indexing.html#indexing-view-versus-copy\n",
      "C:\\Users\\blindside\\Anaconda3\\lib\\site-packages\\ipykernel_launcher.py:35: SettingWithCopyWarning: \n",
      "A value is trying to be set on a copy of a slice from a DataFrame.\n",
      "Try using .loc[row_indexer,col_indexer] = value instead\n",
      "\n",
      "See the caveats in the documentation: http://pandas.pydata.org/pandas-docs/stable/indexing.html#indexing-view-versus-copy\n",
      "C:\\Users\\blindside\\Anaconda3\\lib\\site-packages\\ipykernel_launcher.py:36: SettingWithCopyWarning: \n",
      "A value is trying to be set on a copy of a slice from a DataFrame.\n",
      "Try using .loc[row_indexer,col_indexer] = value instead\n",
      "\n",
      "See the caveats in the documentation: http://pandas.pydata.org/pandas-docs/stable/indexing.html#indexing-view-versus-copy\n",
      "C:\\Users\\blindside\\Anaconda3\\lib\\site-packages\\ipykernel_launcher.py:37: SettingWithCopyWarning: \n",
      "A value is trying to be set on a copy of a slice from a DataFrame.\n",
      "Try using .loc[row_indexer,col_indexer] = value instead\n",
      "\n",
      "See the caveats in the documentation: http://pandas.pydata.org/pandas-docs/stable/indexing.html#indexing-view-versus-copy\n"
     ]
    }
   ],
   "source": [
    "school_df['Rigorous Instruction %'] = school_df['Rigorous Instruction %'].str.replace(\"%\", \"\")\n",
    "school_df['Collaborative Teachers %'] = school_df['Collaborative Teachers %'].str.replace(\"%\", \"\")\n",
    "school_df['Supportive Environment %'] = school_df['Supportive Environment %'].str.replace(\"%\", \"\")\n",
    "school_df['Effective School Leadership %'] = school_df['Effective School Leadership %'].str.replace(\"%\", \"\")\n",
    "school_df['Strong Family-Community Ties %'] = school_df['Strong Family-Community Ties %'].str.replace(\"%\", \"\")\n",
    "school_df['Effective School Leadership %'] = school_df['Effective School Leadership %'].str.replace(\"%\", \"\")\n",
    "school_df['Trust %'] = school_df['Trust %'].str.replace(\"%\", \"\")\n",
    "school_df['Student Attendance Rate'] = school_df['Student Attendance Rate'].str.replace(\"%\", \"\")\n",
    "school_df['Percent of Students Chronically Absent'] = school_df['Percent of Students Chronically Absent'].str.replace(\"%\", \"\")\n",
    "school_df['Percent ELL'] = school_df['Percent ELL'].str.replace(\"%\", \"\")\n",
    "school_df['Percent Asian'] = school_df['Percent Asian'].str.replace(\"%\", \"\")\n",
    "school_df['Percent Black'] = school_df['Percent Black'].str.replace(\"%\", \"\")\n",
    "school_df['Percent Hispanic'] = school_df['Percent Hispanic'].str.replace(\"%\", \"\")\n",
    "school_df['Percent Black / Hispanic'] = school_df['Percent Black / Hispanic'].str.replace(\"%\", \"\")\n",
    "school_df['Percent White'] = school_df['Percent White'].str.replace(\"%\", \"\")\n",
    "school_df['Community School?'] = school_df['Community School?'].str.replace(\"Yes\", '1')\n",
    "school_df['Community School?'] = school_df['Community School?'].str.replace(\"No\", '0')\n",
    "school_df['Average ELA Proficiency'] = school_df['Average ELA Proficiency'].astype(int)\n",
    "school_df['Average Math Proficiency'] = school_df['Average Math Proficiency'].astype(int)\n",
    "school_df['Zip'] = school_df['Zip'].astype(int)\n",
    "school_df['Economic Need Index'] = school_df['Economic Need Index'].astype(int)\n",
    "school_df['Rigorous Instruction %'] = school_df['Rigorous Instruction %'].astype(int)\n",
    "school_df['Collaborative Teachers %'] = school_df['Collaborative Teachers %'].astype(int)\n",
    "school_df['Supportive Environment %'] = school_df['Supportive Environment %'].astype(int)\n",
    "school_df['Effective School Leadership %'] = school_df['Effective School Leadership %'].astype(int)\n",
    "school_df['Strong Family-Community Ties %'] = school_df['Strong Family-Community Ties %'].astype(int)\n",
    "school_df['Effective School Leadership %'] = school_df['Effective School Leadership %'].astype(int)\n",
    "school_df['Trust %'] = school_df['Trust %'].astype(int)\n",
    "school_df['Student Attendance Rate'] = school_df['Student Attendance Rate'].astype(int)\n",
    "school_df['Percent of Students Chronically Absent'] = school_df['Percent of Students Chronically Absent'].astype(int)\n",
    "school_df['Percent ELL'] = school_df['Percent ELL'].astype(int)\n",
    "school_df['Percent Asian'] = school_df['Percent Asian'].astype(int)\n",
    "school_df['Percent Black'] = school_df['Percent Black'].astype(int)\n",
    "school_df['Percent Hispanic'] = school_df['Percent Hispanic'].astype(int)\n",
    "school_df['Percent Black / Hispanic'] = school_df['Percent Black / Hispanic'].astype(int)\n",
    "school_df['Percent White'] = school_df['Percent White'].astype(int)\n",
    "school_df['Community School?'] = school_df['Community School?'].astype(int)"
   ]
  },
  {
   "cell_type": "code",
   "execution_count": 542,
   "metadata": {},
   "outputs": [
    {
     "data": {
      "image/png": "[encoded data removed]",
      "text/plain": [
       "<matplotlib.figure.Figure at 0x192bc4ac588>"
      ]
     },
     "metadata": {},
     "output_type": "display_data"
    }
   ],
   "source": [
    "plt.figure(figsize=(12, 9))\n",
    "sns.heatmap(X1.corr())\n",
    "plt.title(\"heatmap\")\n",
    "plt.show()"
   ]
  },
  {
   "cell_type": "code",
   "execution_count": 18,
   "metadata": {
    "collapsed": true
   },
   "outputs": [],
   "source": [
    "#Making dummy variables\n",
    "dummy_RigInstuctRating = pd.get_dummies(school_df['Rigorous Instruction Rating'])\n",
    "dummy_ColTeachRating = pd.get_dummies(school_df['Collaborative Teachers Rating'])\n",
    "dummy_SupEnvRating = pd.get_dummies(school_df['Supportive Environment Rating'])\n",
    "dummy_EffLeadRating = pd.get_dummies(school_df['Effective School Leadership Rating'])\n",
    "dummy_StrFamRating = pd.get_dummies(school_df['Strong Family-Community Ties Rating'])\n",
    "dummy_StuAchRating = pd.get_dummies(school_df['Student Achievement Rating'])\n",
    "dummy_TrustRating = pd.get_dummies(school_df['Trust Rating'])"
   ]
  },
  {
   "cell_type": "code",
   "execution_count": 19,
   "metadata": {
    "collapsed": true
   },
   "outputs": [],
   "source": [
    "school_df = pd.concat([school_df, dummy_RigInstuctRating], axis = 1)\n",
    "school_df = pd.concat([school_df, dummy_ColTeachRating], axis = 1)\n",
    "school_df = pd.concat([school_df, dummy_SupEnvRating], axis = 1)\n",
    "school_df = pd.concat([school_df, dummy_EffLeadRating], axis = 1)\n",
    "school_df = pd.concat([school_df, dummy_StrFamRating], axis = 1)\n",
    "school_df = pd.concat([school_df, dummy_StuAchRating], axis = 1)\n",
    "school_df = pd.concat([school_df, dummy_TrustRating], axis = 1)"
   ]
  },
  {
   "cell_type": "code",
   "execution_count": 20,
   "metadata": {
    "collapsed": true
   },
   "outputs": [],
   "source": [
    "school_df = school_df.drop(['Rigorous Instruction Rating', 'Collaborative Teachers Rating', 'Supportive Environment Rating',\n",
    "                          'Effective School Leadership Rating', 'Strong Family-Community Ties Rating', 'Student Achievement Rating',\n",
    "                          'Trust Rating'], 1)"
   ]
  },
  {
   "cell_type": "code",
   "execution_count": 21,
   "metadata": {
    "collapsed": true
   },
   "outputs": [],
   "source": [
    "school_df.columns = ['Zip', 'Grades', 'Community School?', 'Economic Need Index',\n",
    "       'Percent ELL', 'Percent Asian', 'Percent Black', 'Percent Hispanic',\n",
    "       'Percent Black / Hispanic', 'Percent White', 'Student Attendance Rate',\n",
    "       'Percent of Students Chronically Absent', 'Rigorous Instruction %',\n",
    "       'Collaborative Teachers %', 'Supportive Environment %',\n",
    "       'Effective School Leadership %', 'Strong Family-Community Ties %',\n",
    "       'Trust %', 'Average ELA Proficiency', 'Average Math Proficiency',\n",
    "       'Grade 3 ELA - All Students Tested',\n",
    "       'Grade 3 Math - All Students tested',\n",
    "       'Grade 4 ELA - All Students Tested',\n",
    "       'Grade 4 Math - All Students Tested',\n",
    "       'Grade 5 ELA - All Students Tested',\n",
    "       'Grade 5 Math - All Students Tested',\n",
    "       'Grade 6 ELA - All Students Tested',\n",
    "       'Grade 6 Math - All Students Tested',\n",
    "       'Grade 7 ELA - All Students Tested',\n",
    "       'Grade 7 Math - All Students Tested',\n",
    "       'Grade 8 ELA - All Students Tested',\n",
    "       'Grade 8 Math - All Students Tested', 'Rig_Approaching Target',\n",
    "       'Rig_Exceeding Target', 'Rig_Meeting Target', 'Rig_Not Meeting Target',\n",
    "       'ColTeach_Approaching Target', 'ColTeach_Exceeding Target', 'ColTeach_Meeting Target',\n",
    "       'ColTeach_Not Meeting Target', 'SupEnv_Approaching Target', 'SupEnv_Exceeding Target',\n",
    "       'SupEnv_Meeting Target', 'SupEnv_Not Meeting Target', 'EffLead_Approaching Target',\n",
    "       'EffLead_Exceeding Target', 'EffLead_Meeting Target', 'EffLead_Not Meeting Target',\n",
    "       'StrFam_Approaching Target', 'StrFam_Exceeding Target', 'StrFam_Meeting Target',\n",
    "       'StrFam_Not Meeting Target', 'StuAch_Approaching Target', 'StuAch_Exceeding Target',\n",
    "       'StuAch_Meeting Target', 'StuAch_Not Meeting Target', 'Trust_Approaching Target',\n",
    "       'Trust_Exceeding Target', 'Trust_Meeting Target', 'Trust_Not Meeting Target']"
   ]
  },
  {
   "cell_type": "code",
   "execution_count": 22,
   "metadata": {
    "collapsed": true
   },
   "outputs": [],
   "source": [
    "school_df['Rig_Approaching Target'] = school_df['Rig_Approaching Target'].astype(int)\n",
    "school_df['Rig_Exceeding Target'] = school_df['Rig_Exceeding Target'].astype(int)\n",
    "school_df['Rig_Meeting Target'] = school_df['Rig_Meeting Target'].astype(int)\n",
    "school_df['Rig_Not Meeting Target'] = school_df['Rig_Not Meeting Target'].astype(int)\n",
    "school_df['ColTeach_Approaching Target'] = school_df['ColTeach_Approaching Target'].astype(int)\n",
    "school_df['ColTeach_Exceeding Target'] = school_df['ColTeach_Exceeding Target'].astype(int)\n",
    "school_df['ColTeach_Meeting Target'] = school_df['ColTeach_Approaching Target'].astype(int)\n",
    "school_df['ColTeach_Not Meeting Target'] = school_df['ColTeach_Not Meeting Target'].astype(int)\n",
    "school_df['SupEnv_Approaching Target'] = school_df['SupEnv_Approaching Target'].astype(int)\n",
    "school_df['SupEnv_Exceeding Target'] = school_df['SupEnv_Exceeding Target'].astype(int)\n",
    "school_df['SupEnv_Meeting Target'] = school_df['SupEnv_Meeting Target'].astype(int)\n",
    "school_df['SupEnv_Not Meeting Target'] = school_df['SupEnv_Not Meeting Target'].astype(int)\n",
    "school_df['EffLead_Approaching Target'] = school_df['EffLead_Approaching Target'].astype(int)\n",
    "school_df['EffLead_Exceeding Target'] = school_df['EffLead_Exceeding Target'].astype(int)\n",
    "school_df['EffLead_Meeting Target'] = school_df['EffLead_Meeting Target'].astype(int)\n",
    "school_df['EffLead_Not Meeting Target'] = school_df['EffLead_Not Meeting Target'].astype(int)\n",
    "school_df['StrFam_Approaching Target'] = school_df['StrFam_Approaching Target'].astype(int)\n",
    "school_df['StrFam_Exceeding Target'] = school_df['StrFam_Exceeding Target'].astype(int)\n",
    "school_df['StrFam_Meeting Target'] = school_df['StrFam_Meeting Target'].astype(int)\n",
    "school_df['StrFam_Not Meeting Target'] = school_df['StrFam_Not Meeting Target'].astype(int)\n",
    "school_df['StuAch_Approaching Target'] = school_df['StuAch_Approaching Target'].astype(int)\n",
    "school_df['StuAch_Exceeding Target'] = school_df['StuAch_Exceeding Target'].astype(int)\n",
    "school_df['StuAch_Meeting Target'] = school_df['StuAch_Meeting Target'].astype(int)\n",
    "school_df['StuAch_Not Meeting Target'] = school_df['StuAch_Not Meeting Target'].astype(int)\n",
    "school_df['Trust_Approaching Target'] = school_df['Trust_Approaching Target'].astype(int)\n",
    "school_df['Trust_Exceeding Target'] = school_df['Trust_Exceeding Target'].astype(int)\n",
    "school_df['Trust_Meeting Target'] = school_df['Trust_Meeting Target'].astype(int)\n",
    "school_df['Trust_Not Meeting Target'] = school_df['Trust_Not Meeting Target'].astype(int)"
   ]
  },
  {
   "cell_type": "markdown",
   "metadata": {},
   "source": [
    "## Random Forest default settings"
   ]
  },
  {
   "cell_type": "code",
   "execution_count": 161,
   "metadata": {},
   "outputs": [
    {
     "name": "stdout",
     "output_type": "stream",
     "text": [
      "{'criterion': 'mse', 'max_depth': 4, 'n_estimators': 49}\n"
     ]
    }
   ],
   "source": [
    "rfr = ensemble.RandomForestClassifier()\n",
    "rfr_gs = GridSearchCV(rfr, rfr_params, return_train_score=True, n_jobs =-1)\n",
    "rfr_gs.fit(X,y1)\n",
    "\n",
    "print(rfr_gs.best_params_)"
   ]
  },
  {
   "cell_type": "markdown",
   "metadata": {},
   "source": [
    "Before I started diving in and start tuning I wanted to get an idea on how well random forest would perform without any tuning or any more feature selection."
   ]
  },
  {
   "cell_type": "code",
   "execution_count": 23,
   "metadata": {
    "collapsed": true
   },
   "outputs": [],
   "source": [
    "X = school_df.drop(['Average Math Proficiency', 'Average ELA Proficiency', 'Grades'], 1)\n",
    "y = school_df['Average Math Proficiency']"
   ]
  },
  {
   "cell_type": "code",
   "execution_count": 24,
   "metadata": {
    "collapsed": true
   },
   "outputs": [],
   "source": [
    "X1 = school_df.drop(['Average Math Proficiency', 'Average ELA Proficiency', 'Grades'], 1)\n",
    "y1 = school_df['Average ELA Proficiency']"
   ]
  },
  {
   "cell_type": "code",
   "execution_count": 25,
   "metadata": {},
   "outputs": [
    {
     "data": {
      "text/plain": [
       "array([ 0.84641638,  0.86348123,  0.83848797,  0.76896552])"
      ]
     },
     "execution_count": 25,
     "metadata": {},
     "output_type": "execute_result"
    }
   ],
   "source": [
    "rfc = ensemble.RandomForestClassifier()\n",
    "cross_val_score(rfc, X, y, cv=4)"
   ]
  },
  {
   "cell_type": "code",
   "execution_count": 26,
   "metadata": {},
   "outputs": [
    {
     "data": {
      "text/plain": [
       "array([ 0.95221843,  0.90784983,  0.86254296,  0.9       ])"
      ]
     },
     "execution_count": 26,
     "metadata": {},
     "output_type": "execute_result"
    }
   ],
   "source": [
    "cross_val_score(rfc, X1, y1, cv=4)"
   ]
  },
  {
   "cell_type": "code",
   "execution_count": 177,
   "metadata": {},
   "outputs": [
    {
     "data": {
      "text/plain": [
       "array([ 0.65889381,  0.30586684,  0.52717491,  0.65506117,  0.12297753])"
      ]
     },
     "execution_count": 177,
     "metadata": {},
     "output_type": "execute_result"
    }
   ],
   "source": [
    "rfc = ensemble.RandomForestRegressor()\n",
    "cross_val_score(rfc, X, y, cv=5)"
   ]
  },
  {
   "cell_type": "markdown",
   "metadata": {},
   "source": [
    "## PCA"
   ]
  },
  {
   "cell_type": "code",
   "execution_count": 27,
   "metadata": {},
   "outputs": [
    {
     "data": {
      "image/png": "[encoded data removed]",
      "text/plain": [
       "<matplotlib.figure.Figure at 0x192b46498d0>"
      ]
     },
     "metadata": {},
     "output_type": "display_data"
    }
   ],
   "source": [
    "# Finding the best PCA component amount for the job\n",
    "plt.figure(figsize=(12, 7))\n",
    "pca_cnty = PCA(n_components=X.shape[1])\n",
    "pca_cnty_transform = pca_cnty.fit(X)\n",
    "plt.plot(pca_cnty_transform.explained_variance_[1:10])\n",
    "plt.title(\"Best PCA\")\n",
    "plt.xlabel(\"Number of components\")\n",
    "plt.grid(True)\n",
    "plt.show()"
   ]
  },
  {
   "cell_type": "code",
   "execution_count": 28,
   "metadata": {
    "collapsed": true
   },
   "outputs": [],
   "source": [
    "pca = PCA(n_components=2)\n",
    "pca.fit(X)\n",
    "X_pca = pca.transform(X);"
   ]
  },
  {
   "cell_type": "markdown",
   "metadata": {},
   "source": [
    "## Random Forest"
   ]
  },
  {
   "cell_type": "code",
   "execution_count": 336,
   "metadata": {},
   "outputs": [],
   "source": [
    "rfr_params = {'n_estimators':range(1, 100,1),\n",
    "         'max_depth': range(2, 20),\n",
    "         'criterion': ('gini', 'entropy'),\n",
    "         'max_features': ('sqrt', 'log2') }"
   ]
  },
  {
   "cell_type": "code",
   "execution_count": 339,
   "metadata": {},
   "outputs": [
    {
     "name": "stdout",
     "output_type": "stream",
     "text": [
      "{'criterion': 'entropy', 'max_depth': 4, 'max_features': 'sqrt', 'n_estimators': 5}\n"
     ]
    }
   ],
   "source": [
    "rfr = ensemble.RandomForestClassifier()\n",
    "rfr_gs = GridSearchCV(rfr, rfr_params, return_train_score=True, n_jobs =-1)\n",
    "rfr_gs.fit(X,y)\n",
    "\n",
    "print(rfr_gs.best_params_)"
   ]
  },
  {
   "cell_type": "code",
   "execution_count": 340,
   "metadata": {},
   "outputs": [
    {
     "name": "stderr",
     "output_type": "stream",
     "text": [
      "C:\\Users\\blindside\\Anaconda3\\lib\\site-packages\\sklearn\\model_selection\\_split.py:605: Warning: The least populated class in y has only 4 members, which is too few. The minimum number of members in any class cannot be less than n_splits=5.\n",
      "  % (min_groups, self.n_splits)), Warning)\n"
     ]
    },
    {
     "data": {
      "text/plain": [
       "array([ 0.91025641,  0.85470085,  0.9017094 ,  0.84549356,  0.72413793])"
      ]
     },
     "execution_count": 340,
     "metadata": {},
     "output_type": "execute_result"
    }
   ],
   "source": [
    "rfr = ensemble.RandomForestClassifier(criterion= 'entropy', max_depth= 4, n_estimators= 5, max_features = 'sqrt')\n",
    "cross_val_score(rfr, X, y, cv=5)"
   ]
  },
  {
   "cell_type": "code",
   "execution_count": 344,
   "metadata": {},
   "outputs": [
    {
     "name": "stdout",
     "output_type": "stream",
     "text": [
      "Feature ranking:\n",
      "1. feature 8 (0.330165)\n",
      "2. feature 7 (0.138595)\n",
      "3. feature 6 (0.083380)\n",
      "4. feature 9 (0.081304)\n",
      "5. feature 3 (0.062852)\n",
      "6. feature 26 (0.030411)\n",
      "7. feature 4 (0.029243)\n",
      "8. feature 17 (0.028295)\n",
      "9. feature 2 (0.020661)\n",
      "10. feature 49 (0.020402)\n",
      "11. feature 1 (0.019918)\n",
      "12. feature 10 (0.018373)\n",
      "13. feature 24 (0.013841)\n",
      "14. feature 19 (0.013828)\n",
      "15. feature 21 (0.013761)\n",
      "16. feature 5 (0.011004)\n",
      "17. feature 48 (0.009521)\n",
      "18. feature 29 (0.007339)\n",
      "19. feature 12 (0.007337)\n",
      "20. feature 44 (0.006965)\n",
      "21. feature 23 (0.006774)\n",
      "22. feature 22 (0.006303)\n",
      "23. feature 13 (0.004750)\n",
      "24. feature 37 (0.004390)\n",
      "25. feature 28 (0.004076)\n",
      "26. feature 45 (0.003806)\n",
      "27. feature 43 (0.003324)\n",
      "28. feature 11 (0.003028)\n",
      "29. feature 51 (0.002857)\n",
      "30. feature 33 (0.002560)\n",
      "31. feature 16 (0.002438)\n",
      "32. feature 40 (0.002028)\n",
      "33. feature 0 (0.001930)\n",
      "34. feature 55 (0.001903)\n",
      "35. feature 15 (0.001332)\n",
      "36. feature 25 (0.001306)\n",
      "37. feature 38 (0.000000)\n",
      "38. feature 53 (0.000000)\n",
      "39. feature 52 (0.000000)\n",
      "40. feature 50 (0.000000)\n",
      "41. feature 47 (0.000000)\n",
      "42. feature 46 (0.000000)\n",
      "43. feature 42 (0.000000)\n",
      "44. feature 41 (0.000000)\n",
      "45. feature 39 (0.000000)\n",
      "46. feature 36 (0.000000)\n",
      "47. feature 20 (0.000000)\n",
      "48. feature 35 (0.000000)\n",
      "49. feature 34 (0.000000)\n",
      "50. feature 32 (0.000000)\n",
      "51. feature 14 (0.000000)\n",
      "52. feature 31 (0.000000)\n",
      "53. feature 30 (0.000000)\n",
      "54. feature 18 (0.000000)\n",
      "55. feature 54 (0.000000)\n",
      "56. feature 27 (0.000000)\n"
     ]
    }
   ],
   "source": [
    "rfr.fit(X,y)\n",
    "importances = rfr.feature_importances_\n",
    "std = np.std([tree.feature_importances_ for tree in rfr.estimators_],\n",
    "             axis=0)\n",
    "indices = np.argsort(importances)[::-1]\n",
    "\n",
    "# Print the feature ranking\n",
    "print(\"Feature ranking:\")\n",
    "\n",
    "for f in range(X.shape[1]):\n",
    "    print(\"%d. feature %d (%f)\" % (f + 1, indices[f], importances[indices[f]]))"
   ]
  },
  {
   "cell_type": "code",
   "execution_count": 346,
   "metadata": {
    "collapsed": true
   },
   "outputs": [],
   "source": [
    "X1 = school_df.drop(['Average Math Proficiency', 'Average ELA Proficiency', 'Grades', 'Effective School Leadership %',\n",
    "                    'Grade 3 Math - All Students tested', 'Grade 4 Math - All Students Tested','Grade 8 ELA - All Students Tested',\n",
    "                    'Rig_Meeting Target', 'Rig_Meeting Target', 'Rig_Not Meeting Target', 'ColTeach_Exceeding Target',\n",
    "                     'SupEnv_Approaching Target', 'ColTeach_Not Meeting Target', 'EffLead_Approaching Target',\n",
    "                     'EffLead_Exceeding Target', 'StrFam_Exceeding Target', 'StrFam_Meeting Target', 'StuAch_Meeting Target',\n",
    "                    'Trust_Approaching Target', 'Trust_Exceeding Target'], 1)\n",
    "y = school_df['Average Math Proficiency']"
   ]
  },
  {
   "cell_type": "code",
   "execution_count": 355,
   "metadata": {
    "collapsed": true
   },
   "outputs": [],
   "source": [
    "rfr_params = {'n_estimators':range(1, 100,1),\n",
    "         'max_depth': range(2, 50),\n",
    "         'criterion': ('gini', 'entropy'),\n",
    "         'max_features': ('sqrt', 'log2') }"
   ]
  },
  {
   "cell_type": "code",
   "execution_count": 356,
   "metadata": {},
   "outputs": [
    {
     "name": "stdout",
     "output_type": "stream",
     "text": [
      "{'criterion': 'entropy', 'max_depth': 30, 'max_features': 'log2', 'n_estimators': 12}\n"
     ]
    }
   ],
   "source": [
    "rfr = ensemble.RandomForestClassifier()\n",
    "rfr_gs = GridSearchCV(rfr, rfr_params, return_train_score=True, n_jobs =-1)\n",
    "rfr_gs.fit(X1,y)\n",
    "\n",
    "print(rfr_gs.best_params_)"
   ]
  },
  {
   "cell_type": "code",
   "execution_count": 357,
   "metadata": {},
   "outputs": [
    {
     "name": "stderr",
     "output_type": "stream",
     "text": [
      "C:\\Users\\blindside\\Anaconda3\\lib\\site-packages\\sklearn\\model_selection\\_split.py:605: Warning: The least populated class in y has only 4 members, which is too few. The minimum number of members in any class cannot be less than n_splits=5.\n",
      "  % (min_groups, self.n_splits)), Warning)\n"
     ]
    },
    {
     "data": {
      "text/plain": [
       "array([ 0.91452991,  0.84615385,  0.85470085,  0.84978541,  0.76293103])"
      ]
     },
     "execution_count": 357,
     "metadata": {},
     "output_type": "execute_result"
    }
   ],
   "source": [
    "rfr = ensemble.RandomForestClassifier(criterion= 'entropy', max_depth= 30, n_estimators= 12, max_features = 'log2')\n",
    "cross_val_score(rfr, X1, y, cv=5)"
   ]
  },
  {
   "cell_type": "code",
   "execution_count": 506,
   "metadata": {},
   "outputs": [],
   "source": [
    "def rfr_important(x, y, model):\n",
    "    model.fit(x,y)\n",
    "    importances = model.feature_importances_\n",
    "    std = np.std([tree.feature_importances_ for tree in rfr.estimators_],\n",
    "                 axis=0)\n",
    "    indices = np.argsort(importances)[::-1]\n",
    "\n",
    "    # Print the feature ranking\n",
    "    print(\"Feature ranking:\")\n",
    "\n",
    "    for f in range(x.shape[1]):\n",
    "        print(\"%d. feature %d (%f)\" % (f + 1, indices[f], importances[indices[f]]))"
   ]
  },
  {
   "cell_type": "code",
   "execution_count": 361,
   "metadata": {
    "collapsed": true
   },
   "outputs": [],
   "source": [
    "X1 = school_df.drop(['Average Math Proficiency', 'Average ELA Proficiency', 'Grades', 'Effective School Leadership %',\n",
    "                    'Grade 3 Math - All Students tested', 'Grade 4 Math - All Students Tested','Grade 8 ELA - All Students Tested',\n",
    "                    'Rig_Meeting Target', 'Rig_Meeting Target', 'Rig_Not Meeting Target', 'ColTeach_Exceeding Target',\n",
    "                     'SupEnv_Approaching Target', 'ColTeach_Not Meeting Target', 'EffLead_Approaching Target',\n",
    "                     'EffLead_Exceeding Target', 'StrFam_Exceeding Target', 'StrFam_Meeting Target', 'StuAch_Meeting Target',\n",
    "                    'Trust_Approaching Target', 'Trust_Exceeding Target', 'Community School?', 'ColTeach_Approaching Target',\n",
    "                    'SupEnv_Meeting Target', 'StrFam_Approaching Target'], 1)"
   ]
  },
  {
   "cell_type": "code",
   "execution_count": 362,
   "metadata": {
    "collapsed": true
   },
   "outputs": [],
   "source": [
    "rfr_params = {'n_estimators':range(1, 100,1),\n",
    "         'max_depth': range(2, 50),\n",
    "         'criterion': ('gini', 'entropy'),\n",
    "         'max_features': ('sqrt', 'log2') }"
   ]
  },
  {
   "cell_type": "code",
   "execution_count": 363,
   "metadata": {},
   "outputs": [
    {
     "name": "stdout",
     "output_type": "stream",
     "text": [
      "{'criterion': 'entropy', 'max_depth': 7, 'max_features': 'sqrt', 'n_estimators': 16}\n"
     ]
    }
   ],
   "source": [
    "rfr = ensemble.RandomForestClassifier()\n",
    "rfr_gs = GridSearchCV(rfr, rfr_params, return_train_score=True, n_jobs =-1)\n",
    "rfr_gs.fit(X1,y)\n",
    "\n",
    "print(rfr_gs.best_params_)"
   ]
  },
  {
   "cell_type": "code",
   "execution_count": 365,
   "metadata": {},
   "outputs": [
    {
     "name": "stderr",
     "output_type": "stream",
     "text": [
      "C:\\Users\\blindside\\Anaconda3\\lib\\site-packages\\sklearn\\model_selection\\_split.py:605: Warning: The least populated class in y has only 4 members, which is too few. The minimum number of members in any class cannot be less than n_splits=5.\n",
      "  % (min_groups, self.n_splits)), Warning)\n"
     ]
    },
    {
     "data": {
      "text/plain": [
       "array([ 0.88461538,  0.88034188,  0.88461538,  0.83690987,  0.76293103])"
      ]
     },
     "execution_count": 365,
     "metadata": {},
     "output_type": "execute_result"
    }
   ],
   "source": [
    "rfr = ensemble.RandomForestClassifier(criterion= 'entropy', max_depth= 7, n_estimators= 16, max_features = 'sqrt')\n",
    "cross_val_score(rfr, X1, y, cv=5)"
   ]
  },
  {
   "cell_type": "code",
   "execution_count": 503,
   "metadata": {},
   "outputs": [
    {
     "data": {
      "text/plain": [
       "Index(['Zip', 'Percent ELL', 'Percent Asian', 'Percent Black',\n",
       "       'Percent Hispanic', 'Percent Black / Hispanic', 'Percent White',\n",
       "       'Student Attendance Rate', 'Percent of Students Chronically Absent',\n",
       "       'Rigorous Instruction %', 'Collaborative Teachers %',\n",
       "       'Supportive Environment %', 'Strong Family-Community Ties %', 'Trust %',\n",
       "       'Grade 3 ELA - All Students Tested',\n",
       "       'Grade 4 ELA - All Students Tested',\n",
       "       'Grade 5 ELA - All Students Tested',\n",
       "       'Grade 5 Math - All Students Tested',\n",
       "       'Grade 6 ELA - All Students Tested',\n",
       "       'Grade 6 Math - All Students Tested',\n",
       "       'Grade 7 ELA - All Students Tested',\n",
       "       'Grade 7 Math - All Students Tested',\n",
       "       'Grade 8 Math - All Students Tested', 'Rig_Approaching Target',\n",
       "       'Rig_Exceeding Target', 'ColTeach_Meeting Target',\n",
       "       'SupEnv_Exceeding Target', 'SupEnv_Not Meeting Target',\n",
       "       'EffLead_Meeting Target', 'EffLead_Not Meeting Target',\n",
       "       'StrFam_Not Meeting Target', 'StuAch_Approaching Target',\n",
       "       'StuAch_Exceeding Target', 'StuAch_Not Meeting Target',\n",
       "       'Trust_Meeting Target', 'Trust_Not Meeting Target'],\n",
       "      dtype='object')"
      ]
     },
     "execution_count": 503,
     "metadata": {},
     "output_type": "execute_result"
    }
   ],
   "source": [
    "X1.columns"
   ]
  },
  {
   "cell_type": "code",
   "execution_count": 368,
   "metadata": {},
   "outputs": [
    {
     "name": "stdout",
     "output_type": "stream",
     "text": [
      "Feature ranking:\n",
      "1. feature 6 (0.141011)\n",
      "2. feature 8 (0.116120)\n",
      "3. feature 9 (0.115221)\n",
      "4. feature 7 (0.079007)\n",
      "5. feature 4 (0.055021)\n",
      "6. feature 33 (0.040623)\n",
      "7. feature 2 (0.039520)\n",
      "8. feature 5 (0.036935)\n",
      "9. feature 3 (0.027346)\n",
      "10. feature 25 (0.024194)\n",
      "11. feature 13 (0.024013)\n",
      "12. feature 27 (0.022550)\n",
      "13. feature 12 (0.021998)\n",
      "14. feature 32 (0.020924)\n",
      "15. feature 0 (0.020625)\n",
      "16. feature 20 (0.020159)\n",
      "17. feature 16 (0.019936)\n",
      "18. feature 15 (0.019357)\n",
      "19. feature 10 (0.019006)\n",
      "20. feature 17 (0.018184)\n",
      "21. feature 23 (0.017751)\n",
      "22. feature 11 (0.017623)\n",
      "23. feature 18 (0.016437)\n",
      "24. feature 21 (0.015909)\n",
      "25. feature 19 (0.013807)\n",
      "26. feature 22 (0.013795)\n",
      "27. feature 14 (0.012481)\n",
      "28. feature 24 (0.003171)\n",
      "29. feature 26 (0.002436)\n",
      "30. feature 31 (0.001224)\n",
      "31. feature 29 (0.001188)\n",
      "32. feature 34 (0.000960)\n",
      "33. feature 35 (0.000612)\n",
      "34. feature 30 (0.000593)\n",
      "35. feature 36 (0.000263)\n",
      "36. feature 28 (0.000000)\n",
      "37. feature 1 (0.000000)\n"
     ]
    }
   ],
   "source": [
    "rfr_important(X1, rfr)"
   ]
  },
  {
   "cell_type": "code",
   "execution_count": 512,
   "metadata": {
    "collapsed": true
   },
   "outputs": [],
   "source": [
    "X1 = school_df.drop(['Average Math Proficiency', 'Average ELA Proficiency', 'Grades', 'Effective School Leadership %',\n",
    "                    'Grade 3 Math - All Students tested', 'Grade 4 Math - All Students Tested','Grade 8 ELA - All Students Tested',\n",
    "                    'Rig_Meeting Target', 'Rig_Meeting Target', 'Rig_Not Meeting Target', 'ColTeach_Exceeding Target',\n",
    "                     'SupEnv_Approaching Target', 'ColTeach_Not Meeting Target', 'EffLead_Approaching Target',\n",
    "                     'EffLead_Exceeding Target', 'StrFam_Exceeding Target', 'StrFam_Meeting Target', 'StuAch_Meeting Target',\n",
    "                    'Trust_Approaching Target', 'Trust_Exceeding Target', 'Community School?', 'ColTeach_Approaching Target',\n",
    "                    'SupEnv_Meeting Target', 'StrFam_Approaching Target', 'Economic Need Index', 'Trust_Meeting Target', 'SupEnv_Exceeding Target'], 1)"
   ]
  },
  {
   "cell_type": "code",
   "execution_count": 513,
   "metadata": {
    "collapsed": true
   },
   "outputs": [],
   "source": [
    "rfr_params = {'n_estimators':range(1, 100,1),\n",
    "         'max_depth': range(2, 50),\n",
    "         'criterion': ('gini', 'entropy'),\n",
    "         'max_features': ('sqrt', 'log2') }"
   ]
  },
  {
   "cell_type": "code",
   "execution_count": 514,
   "metadata": {},
   "outputs": [
    {
     "name": "stdout",
     "output_type": "stream",
     "text": [
      "{'criterion': 'entropy', 'max_depth': 23, 'max_features': 'log2', 'n_estimators': 49}\n"
     ]
    }
   ],
   "source": [
    "rfr = ensemble.RandomForestClassifier()\n",
    "rfr_gs = GridSearchCV(rfr, rfr_params, return_train_score=True, n_jobs =-1)\n",
    "rfr_gs.fit(X1,y)\n",
    "\n",
    "print(rfr_gs.best_params_)"
   ]
  },
  {
   "cell_type": "code",
   "execution_count": 504,
   "metadata": {},
   "outputs": [
    {
     "name": "stderr",
     "output_type": "stream",
     "text": [
      "C:\\Users\\blindside\\Anaconda3\\lib\\site-packages\\sklearn\\model_selection\\_split.py:605: Warning: The least populated class in y has only 4 members, which is too few. The minimum number of members in any class cannot be less than n_splits=5.\n",
      "  % (min_groups, self.n_splits)), Warning)\n"
     ]
    },
    {
     "data": {
      "text/plain": [
       "array([ 0.89316239,  0.86752137,  0.88888889,  0.83261803,  0.78017241])"
      ]
     },
     "execution_count": 504,
     "metadata": {},
     "output_type": "execute_result"
    }
   ],
   "source": [
    "rfr = ensemble.RandomForestClassifier(criterion= 'entropy', max_depth= 38, n_estimators= 34, max_features = 'sqrt')\n",
    "cross_val_score(rfr, X1, y, cv=5)"
   ]
  },
  {
   "cell_type": "code",
   "execution_count": 511,
   "metadata": {},
   "outputs": [
    {
     "data": {
      "text/plain": [
       "Index(['Zip', 'Percent ELL', 'Percent Asian', 'Percent Black',\n",
       "       'Percent Hispanic', 'Percent Black / Hispanic', 'Percent White',\n",
       "       'Student Attendance Rate', 'Percent of Students Chronically Absent',\n",
       "       'Rigorous Instruction %', 'Collaborative Teachers %',\n",
       "       'Supportive Environment %', 'Strong Family-Community Ties %', 'Trust %',\n",
       "       'Grade 3 ELA - All Students Tested',\n",
       "       'Grade 4 ELA - All Students Tested',\n",
       "       'Grade 5 ELA - All Students Tested',\n",
       "       'Grade 5 Math - All Students Tested',\n",
       "       'Grade 6 ELA - All Students Tested',\n",
       "       'Grade 6 Math - All Students Tested',\n",
       "       'Grade 7 ELA - All Students Tested',\n",
       "       'Grade 7 Math - All Students Tested',\n",
       "       'Grade 8 Math - All Students Tested', 'Rig_Approaching Target',\n",
       "       'Rig_Exceeding Target', 'ColTeach_Meeting Target',\n",
       "       'SupEnv_Exceeding Target', 'SupEnv_Not Meeting Target',\n",
       "       'EffLead_Meeting Target', 'EffLead_Not Meeting Target',\n",
       "       'StrFam_Not Meeting Target', 'StuAch_Approaching Target',\n",
       "       'StuAch_Exceeding Target', 'StuAch_Not Meeting Target',\n",
       "       'Trust_Meeting Target', 'Trust_Not Meeting Target'],\n",
       "      dtype='object')"
      ]
     },
     "execution_count": 511,
     "metadata": {},
     "output_type": "execute_result"
    }
   ],
   "source": [
    "X1.columns"
   ]
  },
  {
   "cell_type": "code",
   "execution_count": 507,
   "metadata": {},
   "outputs": [
    {
     "name": "stdout",
     "output_type": "stream",
     "text": [
      "Feature ranking:\n",
      "1. feature 8 (0.136568)\n",
      "2. feature 5 (0.132291)\n",
      "3. feature 7 (0.072366)\n",
      "4. feature 6 (0.066638)\n",
      "5. feature 2 (0.043870)\n",
      "6. feature 4 (0.043195)\n",
      "7. feature 1 (0.039016)\n",
      "8. feature 3 (0.034869)\n",
      "9. feature 32 (0.034757)\n",
      "10. feature 14 (0.031335)\n",
      "11. feature 31 (0.030110)\n",
      "12. feature 0 (0.026116)\n",
      "13. feature 11 (0.025503)\n",
      "14. feature 24 (0.024014)\n",
      "15. feature 15 (0.023335)\n",
      "16. feature 19 (0.021718)\n",
      "17. feature 9 (0.021074)\n",
      "18. feature 12 (0.020561)\n",
      "19. feature 16 (0.019923)\n",
      "20. feature 17 (0.019567)\n",
      "21. feature 10 (0.017967)\n",
      "22. feature 18 (0.017549)\n",
      "23. feature 21 (0.016999)\n",
      "24. feature 20 (0.015987)\n",
      "25. feature 13 (0.015508)\n",
      "26. feature 22 (0.015059)\n",
      "27. feature 26 (0.011637)\n",
      "28. feature 23 (0.005734)\n",
      "29. feature 34 (0.003627)\n",
      "30. feature 28 (0.003120)\n",
      "31. feature 33 (0.002585)\n",
      "32. feature 29 (0.002060)\n",
      "33. feature 25 (0.002000)\n",
      "34. feature 30 (0.001537)\n",
      "35. feature 35 (0.000910)\n",
      "36. feature 27 (0.000894)\n"
     ]
    }
   ],
   "source": [
    "rfr_important(X1, y, rfr)"
   ]
  },
  {
   "cell_type": "code",
   "execution_count": 530,
   "metadata": {
    "scrolled": true
   },
   "outputs": [
    {
     "data": {
      "image/png": "[encoded data removed]",
      "text/plain": [
       "<matplotlib.figure.Figure at 0x192b48c7f98>"
      ]
     },
     "metadata": {},
     "output_type": "display_data"
    }
   ],
   "source": [
    "forest_features = pd.DataFrame()\n",
    "forest_features['importance'] = rfr.feature_importances_\n",
    "forest_features['features'] = X1.columns\n",
    "sorted_forest = forest_features.sort_values('importance', ascending=False)\n",
    "\n",
    "# Plot\n",
    "plt.figure(figsize=(10, 5))\n",
    "sns.set_style('darkgrid')\n",
    "sns.barplot(x=sorted_forest['features'] , y=sorted_forest['importance'], color='teal')\n",
    "plt.title('Random Forest Feature Importance')\n",
    "plt.xticks(rotation=90)\n",
    "plt.show()"
   ]
  },
  {
   "cell_type": "code",
   "execution_count": 531,
   "metadata": {},
   "outputs": [
    {
     "data": {
      "text/plain": [
       "Index(['Zip', 'Percent ELL', 'Percent Asian', 'Percent Black',\n",
       "       'Percent Hispanic', 'Percent Black / Hispanic', 'Percent White',\n",
       "       'Student Attendance Rate', 'Percent of Students Chronically Absent',\n",
       "       'Rigorous Instruction %', 'Collaborative Teachers %',\n",
       "       'Supportive Environment %', 'Strong Family-Community Ties %', 'Trust %',\n",
       "       'Grade 3 ELA - All Students Tested',\n",
       "       'Grade 4 ELA - All Students Tested',\n",
       "       'Grade 5 ELA - All Students Tested',\n",
       "       'Grade 5 Math - All Students Tested',\n",
       "       'Grade 6 ELA - All Students Tested',\n",
       "       'Grade 6 Math - All Students Tested',\n",
       "       'Grade 7 ELA - All Students Tested',\n",
       "       'Grade 7 Math - All Students Tested',\n",
       "       'Grade 8 Math - All Students Tested', 'Rig_Approaching Target',\n",
       "       'Rig_Exceeding Target', 'ColTeach_Meeting Target',\n",
       "       'SupEnv_Not Meeting Target', 'EffLead_Meeting Target',\n",
       "       'EffLead_Not Meeting Target', 'StrFam_Not Meeting Target',\n",
       "       'StuAch_Approaching Target', 'StuAch_Exceeding Target',\n",
       "       'StuAch_Not Meeting Target', 'Trust_Not Meeting Target'],\n",
       "      dtype='object')"
      ]
     },
     "execution_count": 531,
     "metadata": {},
     "output_type": "execute_result"
    }
   ],
   "source": [
    "X1.columns"
   ]
  },
  {
   "cell_type": "markdown",
   "metadata": {},
   "source": [
    "#### Random Forest for  ELA"
   ]
  },
  {
   "cell_type": "code",
   "execution_count": 386,
   "metadata": {
    "collapsed": true
   },
   "outputs": [],
   "source": [
    "rfr_params = {'n_estimators':range(1, 100,1),\n",
    "         'max_depth': range(2, 20),\n",
    "         'criterion': ('gini', 'entropy'),\n",
    "         'max_features': ('sqrt', 'log2') }"
   ]
  },
  {
   "cell_type": "code",
   "execution_count": 387,
   "metadata": {},
   "outputs": [
    {
     "name": "stdout",
     "output_type": "stream",
     "text": [
      "{'criterion': 'gini', 'max_depth': 17, 'max_features': 'log2', 'n_estimators': 44}\n"
     ]
    }
   ],
   "source": [
    "rfr = ensemble.RandomForestClassifier()\n",
    "rfr_gs = GridSearchCV(rfr, rfr_params, return_train_score=True, n_jobs =-1)\n",
    "rfr_gs.fit(X1,y1)\n",
    "\n",
    "print(rfr_gs.best_params_)"
   ]
  },
  {
   "cell_type": "code",
   "execution_count": 532,
   "metadata": {},
   "outputs": [
    {
     "data": {
      "text/plain": [
       "array([ 0.95299145,  0.94444444,  0.9055794 ,  0.90128755,  0.89699571])"
      ]
     },
     "execution_count": 532,
     "metadata": {},
     "output_type": "execute_result"
    }
   ],
   "source": [
    "rfr1 = ensemble.RandomForestClassifier(criterion= 'gini', max_depth= 17, n_estimators= 44, max_features = 'log2')\n",
    "cross_val_score(rfr, X1, y1, cv=5)"
   ]
  },
  {
   "cell_type": "code",
   "execution_count": 534,
   "metadata": {
    "scrolled": true
   },
   "outputs": [
    {
     "data": {
      "image/png": "[encoded data removed]",
      "text/plain": [
       "<matplotlib.figure.Figure at 0x192b48c7080>"
      ]
     },
     "metadata": {},
     "output_type": "display_data"
    }
   ],
   "source": [
    "rfr1.fit(X1, y1)\n",
    "forest_features = pd.DataFrame()\n",
    "forest_features['importance'] = rfr1.feature_importances_\n",
    "forest_features['features'] = X1.columns\n",
    "sorted_forest = forest_features.sort_values('importance', ascending=False)\n",
    "\n",
    "# Plot\n",
    "plt.figure(figsize=(10, 5))\n",
    "sns.set_style('darkgrid')\n",
    "sns.barplot(x=sorted_forest['features'] , y=sorted_forest['importance'], color='teal')\n",
    "plt.title('Random Forest Feature Importance')\n",
    "plt.xticks(rotation=90)\n",
    "plt.show()"
   ]
  },
  {
   "cell_type": "code",
   "execution_count": 510,
   "metadata": {},
   "outputs": [
    {
     "data": {
      "text/plain": [
       "Index(['Zip', 'Percent ELL', 'Percent Asian', 'Percent Black',\n",
       "       'Percent Hispanic', 'Percent Black / Hispanic', 'Percent White',\n",
       "       'Student Attendance Rate', 'Percent of Students Chronically Absent',\n",
       "       'Rigorous Instruction %', 'Collaborative Teachers %',\n",
       "       'Supportive Environment %', 'Strong Family-Community Ties %', 'Trust %',\n",
       "       'Grade 3 ELA - All Students Tested',\n",
       "       'Grade 4 ELA - All Students Tested',\n",
       "       'Grade 5 ELA - All Students Tested',\n",
       "       'Grade 5 Math - All Students Tested',\n",
       "       'Grade 6 ELA - All Students Tested',\n",
       "       'Grade 6 Math - All Students Tested',\n",
       "       'Grade 7 ELA - All Students Tested',\n",
       "       'Grade 7 Math - All Students Tested',\n",
       "       'Grade 8 Math - All Students Tested', 'Rig_Approaching Target',\n",
       "       'Rig_Exceeding Target', 'ColTeach_Meeting Target',\n",
       "       'SupEnv_Exceeding Target', 'SupEnv_Not Meeting Target',\n",
       "       'EffLead_Meeting Target', 'EffLead_Not Meeting Target',\n",
       "       'StrFam_Not Meeting Target', 'StuAch_Approaching Target',\n",
       "       'StuAch_Exceeding Target', 'StuAch_Not Meeting Target',\n",
       "       'Trust_Meeting Target', 'Trust_Not Meeting Target'],\n",
       "      dtype='object')"
      ]
     },
     "execution_count": 510,
     "metadata": {},
     "output_type": "execute_result"
    }
   ],
   "source": [
    "X1.columns"
   ]
  },
  {
   "cell_type": "code",
   "execution_count": 515,
   "metadata": {},
   "outputs": [
    {
     "name": "stdout",
     "output_type": "stream",
     "text": [
      "Feature ranking:\n",
      "1. feature 8 (0.116807)\n",
      "2. feature 6 (0.107517)\n",
      "3. feature 5 (0.096924)\n",
      "4. feature 1 (0.080048)\n",
      "5. feature 7 (0.075692)\n",
      "6. feature 0 (0.058947)\n",
      "7. feature 4 (0.050153)\n",
      "8. feature 12 (0.041702)\n",
      "9. feature 11 (0.037585)\n",
      "10. feature 2 (0.035156)\n",
      "11. feature 3 (0.033725)\n",
      "12. feature 10 (0.031671)\n",
      "13. feature 24 (0.023135)\n",
      "14. feature 9 (0.022828)\n",
      "15. feature 16 (0.022047)\n",
      "16. feature 31 (0.019954)\n",
      "17. feature 18 (0.019872)\n",
      "18. feature 22 (0.019801)\n",
      "19. feature 13 (0.018460)\n",
      "20. feature 17 (0.015257)\n",
      "21. feature 20 (0.013559)\n",
      "22. feature 14 (0.011996)\n",
      "23. feature 19 (0.011525)\n",
      "24. feature 15 (0.007655)\n",
      "25. feature 21 (0.007615)\n",
      "26. feature 32 (0.006498)\n",
      "27. feature 23 (0.005771)\n",
      "28. feature 27 (0.003207)\n",
      "29. feature 25 (0.002711)\n",
      "30. feature 30 (0.002116)\n",
      "31. feature 29 (0.000068)\n",
      "32. feature 26 (0.000000)\n",
      "33. feature 28 (0.000000)\n",
      "34. feature 33 (0.000000)\n"
     ]
    }
   ],
   "source": [
    "rfr_important(X1, y1, rfr)"
   ]
  },
  {
   "cell_type": "markdown",
   "metadata": {},
   "source": [
    "## With PCA"
   ]
  },
  {
   "cell_type": "code",
   "execution_count": 93,
   "metadata": {},
   "outputs": [
    {
     "name": "stdout",
     "output_type": "stream",
     "text": [
      "{'criterion': 'mse', 'max_depth': 6, 'n_estimators': 12}\n"
     ]
    }
   ],
   "source": [
    "rfr = ensemble.RandomForestClassifier()\n",
    "rfr_gs = GridSearchCV(rfr, rfr_params, return_train_score=True, n_jobs =-1)\n",
    "rfr_gs.fit(X_pca,y)\n",
    "\n",
    "print(rfr_gs.best_params_)"
   ]
  },
  {
   "cell_type": "code",
   "execution_count": 95,
   "metadata": {},
   "outputs": [
    {
     "data": {
      "text/plain": [
       "array([-0.02247273, -0.00490895, -0.0055996 , -0.17325328])"
      ]
     },
     "execution_count": 95,
     "metadata": {},
     "output_type": "execute_result"
    }
   ],
   "source": [
    "rfr = ensemble.RandomForestClassifier(criterion= 'mse',max_depth= 6, n_estimators= 12)\n",
    "cross_val_score(rfr, X_pca, y, cv=4)"
   ]
  },
  {
   "cell_type": "markdown",
   "metadata": {},
   "source": [
    "## KNN "
   ]
  },
  {
   "cell_type": "code",
   "execution_count": 394,
   "metadata": {
    "collapsed": true
   },
   "outputs": [],
   "source": [
    "knn_params = {'n_neighbors':range(1, 350,1),\n",
    "         'weights': ('uniform', 'distance')}"
   ]
  },
  {
   "cell_type": "code",
   "execution_count": 395,
   "metadata": {},
   "outputs": [
    {
     "name": "stdout",
     "output_type": "stream",
     "text": [
      "{'n_neighbors': 212, 'weights': 'distance'}\n"
     ]
    }
   ],
   "source": [
    "neighbors = KNeighborsClassifier()\n",
    "gs_knn = GridSearchCV(neighbors, knn_params, return_train_score=True, n_jobs =-1)\n",
    "gs_knn.fit(X1,y)\n",
    "\n",
    "print(gs_knn.best_params_)"
   ]
  },
  {
   "cell_type": "code",
   "execution_count": 396,
   "metadata": {},
   "outputs": [
    {
     "name": "stderr",
     "output_type": "stream",
     "text": [
      "C:\\Users\\blindside\\Anaconda3\\lib\\site-packages\\sklearn\\model_selection\\_split.py:605: Warning: The least populated class in y has only 4 members, which is too few. The minimum number of members in any class cannot be less than n_splits=5.\n",
      "  % (min_groups, self.n_splits)), Warning)\n"
     ]
    },
    {
     "data": {
      "text/plain": [
       "array([ 0.72649573,  0.72649573,  0.72649573,  0.73819742,  0.73275862])"
      ]
     },
     "execution_count": 396,
     "metadata": {},
     "output_type": "execute_result"
    }
   ],
   "source": [
    "neighbors = KNeighborsClassifier(n_neighbors = 212, weights ='distance')\n",
    "cross_val_score(neighbors, X1, y, cv=5)"
   ]
  },
  {
   "cell_type": "markdown",
   "metadata": {},
   "source": [
    "## With PCA"
   ]
  },
  {
   "cell_type": "code",
   "execution_count": 397,
   "metadata": {
    "collapsed": true
   },
   "outputs": [],
   "source": [
    "knn_params = {'n_neighbors':range(1, 350,1),\n",
    "         'weights': ('uniform', 'distance')}"
   ]
  },
  {
   "cell_type": "code",
   "execution_count": 398,
   "metadata": {},
   "outputs": [
    {
     "name": "stdout",
     "output_type": "stream",
     "text": [
      "{'n_neighbors': 168, 'weights': 'uniform'}\n"
     ]
    }
   ],
   "source": [
    "neighbors = KNeighborsClassifier()\n",
    "gs_knn = GridSearchCV(neighbors, knn_params, return_train_score=True, n_jobs =-1)\n",
    "gs_knn.fit(X_pca,y)\n",
    "\n",
    "print(gs_knn.best_params_)"
   ]
  },
  {
   "cell_type": "code",
   "execution_count": 399,
   "metadata": {},
   "outputs": [
    {
     "name": "stderr",
     "output_type": "stream",
     "text": [
      "C:\\Users\\blindside\\Anaconda3\\lib\\site-packages\\sklearn\\model_selection\\_split.py:605: Warning: The least populated class in y has only 4 members, which is too few. The minimum number of members in any class cannot be less than n_splits=5.\n",
      "  % (min_groups, self.n_splits)), Warning)\n"
     ]
    },
    {
     "data": {
      "text/plain": [
       "array([ 0.72649573,  0.72649573,  0.72649573,  0.72961373,  0.73275862])"
      ]
     },
     "execution_count": 399,
     "metadata": {},
     "output_type": "execute_result"
    }
   ],
   "source": [
    "neighbors =KNeighborsClassifier(n_neighbors = 168, weights ='uniform')\n",
    "cross_val_score(neighbors, X_pca, y, cv=5)"
   ]
  },
  {
   "cell_type": "markdown",
   "metadata": {},
   "source": [
    "## ELA"
   ]
  },
  {
   "cell_type": "code",
   "execution_count": 400,
   "metadata": {
    "collapsed": true
   },
   "outputs": [],
   "source": [
    "knn_params = {'n_neighbors':range(1, 350,1),\n",
    "         'weights': ('uniform', 'distance')}"
   ]
  },
  {
   "cell_type": "code",
   "execution_count": 402,
   "metadata": {},
   "outputs": [
    {
     "name": "stdout",
     "output_type": "stream",
     "text": [
      "{'n_neighbors': 30, 'weights': 'distance'}\n"
     ]
    }
   ],
   "source": [
    "neighbors = KNeighborsClassifier()\n",
    "gs_knn = GridSearchCV(neighbors, knn_params, return_train_score=True, n_jobs =-1)\n",
    "gs_knn.fit(X1,y1)\n",
    "\n",
    "print(gs_knn.best_params_)"
   ]
  },
  {
   "cell_type": "code",
   "execution_count": 403,
   "metadata": {},
   "outputs": [
    {
     "data": {
      "text/plain": [
       "array([ 0.90598291,  0.89316239,  0.87553648,  0.87553648,  0.87553648])"
      ]
     },
     "execution_count": 403,
     "metadata": {},
     "output_type": "execute_result"
    }
   ],
   "source": [
    "neighbors =KNeighborsClassifier(n_neighbors = 30, weights ='distance')\n",
    "cross_val_score(neighbors, X1, y1, cv=5)"
   ]
  },
  {
   "cell_type": "code",
   "execution_count": 543,
   "metadata": {},
   "outputs": [
    {
     "name": "stdout",
     "output_type": "stream",
     "text": [
      "{'n_neighbors': 107, 'weights': 'distance'}\n"
     ]
    }
   ],
   "source": [
    "neighbors = KNeighborsClassifier()\n",
    "gs_knn = GridSearchCV(neighbors, knn_params, return_train_score=True, n_jobs =-1)\n",
    "gs_knn.fit(X_pca,y1)\n",
    "\n",
    "print(gs_knn.best_params_)"
   ]
  },
  {
   "cell_type": "code",
   "execution_count": 544,
   "metadata": {},
   "outputs": [
    {
     "data": {
      "text/plain": [
       "array([ 0.87606838,  0.87606838,  0.87553648,  0.87553648,  0.87553648])"
      ]
     },
     "execution_count": 544,
     "metadata": {},
     "output_type": "execute_result"
    }
   ],
   "source": [
    "neighbors =KNeighborsClassifier(n_neighbors = 107, weights ='distance')\n",
    "cross_val_score(neighbors, X1, y1, cv=5)"
   ]
  },
  {
   "cell_type": "markdown",
   "metadata": {},
   "source": [
    "## Logistic regression"
   ]
  },
  {
   "cell_type": "code",
   "execution_count": 404,
   "metadata": {},
   "outputs": [],
   "source": [
    "# I am setting up to find an accurate range for alpha, I will do this in two steps to lessen the CPU load\n",
    "lr_params = {'C':np.arange(0.00001, 3, .01)}"
   ]
  },
  {
   "cell_type": "code",
   "execution_count": 405,
   "metadata": {},
   "outputs": [
    {
     "name": "stdout",
     "output_type": "stream",
     "text": [
      "{'C': 2.5200100000000001}\n"
     ]
    }
   ],
   "source": [
    "lr = LogisticRegression()\n",
    "gs_lr = GridSearchCV(lr, lr_params, return_train_score=True, n_jobs =-1)\n",
    "gs_lr.fit(X1,y)\n",
    "\n",
    "print(gs_lr.best_params_)"
   ]
  },
  {
   "cell_type": "code",
   "execution_count": 406,
   "metadata": {
    "collapsed": true
   },
   "outputs": [],
   "source": [
    "lr_params = {'C':np.arange(1, 10, .1)}"
   ]
  },
  {
   "cell_type": "code",
   "execution_count": 407,
   "metadata": {},
   "outputs": [
    {
     "name": "stdout",
     "output_type": "stream",
     "text": [
      "{'C': 1.7000000000000006}\n"
     ]
    }
   ],
   "source": [
    "lr = LogisticRegression()\n",
    "gs_lr = GridSearchCV(lr, lr_params, return_train_score=True, n_jobs =-1)\n",
    "gs_lr.fit(X1,y)\n",
    "\n",
    "print(gs_lr.best_params_)"
   ]
  },
  {
   "cell_type": "code",
   "execution_count": 408,
   "metadata": {},
   "outputs": [
    {
     "name": "stderr",
     "output_type": "stream",
     "text": [
      "C:\\Users\\blindside\\Anaconda3\\lib\\site-packages\\sklearn\\model_selection\\_split.py:605: Warning: The least populated class in y has only 4 members, which is too few. The minimum number of members in any class cannot be less than n_splits=5.\n",
      "  % (min_groups, self.n_splits)), Warning)\n"
     ]
    },
    {
     "data": {
      "text/plain": [
       "array([ 0.90598291,  0.88034188,  0.85897436,  0.81974249,  0.74137931])"
      ]
     },
     "execution_count": 408,
     "metadata": {},
     "output_type": "execute_result"
    }
   ],
   "source": [
    "lr = LogisticRegression(C= 1.7000000000000006)\n",
    "cross_val_score(lr, X1, y, cv=5)"
   ]
  },
  {
   "cell_type": "code",
   "execution_count": 409,
   "metadata": {},
   "outputs": [],
   "source": [
    "def printStuff(reg, x, y):\n",
    "# Get results\n",
    "    print('Coefficient')\n",
    "    fit = reg.fit(x, y)\n",
    "    coef = fit.coef_\n",
    "    print(coef)\n",
    "    print(fit.intercept_)\n",
    "\n",
    "    # Get predictions\n",
    "    pred_y = reg.predict(x)\n",
    "\n",
    "    print('\\nAccuracy')\n",
    "    print(pd.crosstab(pred_y, y))\n",
    "\n",
    "    scores = cross_val_score(reg, x, y, cv=5)\n",
    "    print('\\nPercentage accuracy')\n",
    "    print(scores)\n",
    "    print('Mean:', scores.mean())"
   ]
  },
  {
   "cell_type": "code",
   "execution_count": 410,
   "metadata": {},
   "outputs": [
    {
     "name": "stdout",
     "output_type": "stream",
     "text": [
      "Coefficient\n",
      "[[  6.38667042e-05   1.08687597e+00   7.73504196e-02  -8.44716632e-02\n",
      "   -2.01543475e-01  -2.10999286e-01   2.43113592e-01  -8.56996336e-02\n",
      "    2.61781416e-03   1.11739979e-01  -9.45552595e-02   1.22543482e-01\n",
      "   -4.05069682e-02  -4.32845940e-02  -1.53573515e-01   7.59635262e-02\n",
      "   -4.26430960e-01   4.15866298e-01   5.12764103e-01  -5.11784727e-01\n",
      "   -1.96590355e-01   1.36359754e-01  -9.00840555e-02   7.47422093e-02\n",
      "    1.30446978e-01  -1.35800280e-01   7.62927250e-03  -3.81164946e-03\n",
      "    3.26535640e-01  -2.32782642e-01   7.39818176e-02  -1.67786433e-01\n",
      "   -9.59942318e-02  -3.25088124e-01  -9.59942318e-02  -4.88561114e-02\n",
      "   -3.25362965e-02  -2.59009474e-01   1.61640527e-01   1.29853626e-01\n",
      "    4.15319821e-01   9.33764456e-02  -8.81004886e-01   3.72257002e-01\n",
      "   -4.65581111e-01   1.14534562e-01   4.11298543e-01  -6.03036122e-02\n",
      "    1.02911717e+00  -4.16762051e-01  -1.32443536e+00   7.12028625e-01\n",
      "   -6.09096657e-03   2.64486309e-01  -2.32834508e-01  -2.56124516e-02]\n",
      " [  2.39673575e-04  -5.08771593e-01   2.90054662e-02  -1.57536888e-01\n",
      "    1.20233362e-01   1.26822887e-01  -2.17233828e-01  -1.44958202e-01\n",
      "    7.40631227e-02   2.77557640e-02   5.04675795e-02   1.04813080e-02\n",
      "   -1.35504922e-02  -9.73573075e-03  -2.90188653e-02  -5.69691701e-04\n",
      "   -6.11463526e-02   5.10814796e-02  -8.97908261e-02   9.72235374e-02\n",
      "    8.04367742e-02  -7.66781567e-02   1.01414570e-01  -1.08621253e-01\n",
      "   -7.95604763e-02   7.99991750e-02   8.61254659e-03   1.00077722e-03\n",
      "    1.29753071e-01  -3.08047864e-01   2.71271408e-01  -1.15120231e-01\n",
      "    1.42428794e-02   1.04244478e-02   1.42428794e-02  -7.74807885e-02\n",
      "   -1.25786654e-01  -2.10217553e-01   3.45319601e-01  -3.14590104e-02\n",
      "   -3.50291913e-02   1.61250311e-03   2.41664528e-01  -2.30391456e-01\n",
      "    9.56435801e-02   3.30487822e-02  -1.69731444e-01   1.88954652e-02\n",
      "    2.14426239e-01  -6.53844902e-01   5.08860486e-01  -9.15854399e-02\n",
      "   -5.57650167e-02   1.22716699e-01  -2.14187008e-02  -6.76765975e-02]\n",
      " [ -3.96483624e-04  -3.29253064e-03  -9.33014047e-02   1.45120385e-01\n",
      "    8.46894761e-03   1.21123115e-02   6.75268660e-02   1.13619415e-01\n",
      "   -1.69735012e-01  -1.48675438e-01   4.53264054e-02  -1.84985836e-02\n",
      "    6.24269795e-02  -3.16582193e-03   7.52107513e-02  -1.74960941e-02\n",
      "   -3.61745671e-03   1.85657780e-02  -4.18805239e-03  -7.61326478e-03\n",
      "   -8.86128028e-02   8.83511925e-02  -2.49271772e-02   4.06167738e-02\n",
      "    5.47318433e-03  -6.68293878e-03  -1.27824914e-02  -4.90411520e-04\n",
      "   -2.21311823e-02   8.38244938e-02  -6.48524542e-02   5.82591515e-03\n",
      "   -1.03461802e-03   2.57182932e-02  -1.03461802e-03   4.98714282e-04\n",
      "    1.22724445e-02   2.64882781e-02  -3.60592327e-02  -3.47173803e-05\n",
      "   -1.96248836e-04   1.04455137e-02  -1.85695180e-02   1.09870256e-02\n",
      "   -1.09186320e-04  -2.41030258e-02   2.73454915e-02  -4.66506828e-04\n",
      "   -1.32960635e-01   1.97841642e-01  -6.17369101e-02  -4.77323692e-04\n",
      "    1.53704594e-02  -1.81813186e-02   6.34635635e-03  -8.68724550e-04]\n",
      " [ -3.91554238e-03  -1.95256477e-05  -7.66300574e-01   3.27000319e-01\n",
      "   -2.73513076e-02   2.20282950e-01   1.47211048e-02   2.03405171e-01\n",
      "    4.08747873e-01  -8.55647668e-01  -6.32210334e-02  -5.13115923e-01\n",
      "   -1.42630746e-01   1.13853554e-01   5.37294026e-01  -1.82414230e-01\n",
      "    3.43253041e-02  -5.14520485e-02   6.41649870e-02  -3.09000564e-02\n",
      "    1.02179444e-02   1.06164220e-03  -1.29945461e-02  -8.68097090e-02\n",
      "    1.25992225e-01  -1.69211959e-02   8.43704967e-03   6.18728044e-03\n",
      "   -1.45246418e-02   1.96204899e-01  -1.80568476e-01  -3.05479021e-06\n",
      "    4.47000359e-02   4.19674299e-03   4.47000359e-02  -1.02161514e-02\n",
      "   -1.49213100e-02   3.29420431e-02  -1.69116656e-02  -3.40745371e-07\n",
      "    3.19796702e-03  -7.28705614e-02   7.74504679e-02  -6.66914684e-03\n",
      "    1.75247110e-02   7.63187441e-02  -1.09535896e-01   1.68011676e-02\n",
      "   -1.07864567e-02   5.53445672e-02  -4.34479926e-02  -1.39114019e-06\n",
      "   -2.10513221e-02  -6.18879165e-02   7.69613664e-02   7.08659898e-03]]\n",
      "[ -5.16173508e-05  -2.21436163e-02   2.66677253e-03   1.10872674e-03]\n",
      "\n",
      "Accuracy\n",
      "Average Math Proficiency   1    2    3  4\n",
      "row_0                                    \n",
      "1                          3    0    0  0\n",
      "2                         35  807   64  0\n",
      "3                          0   43  211  2\n",
      "4                          0    0    0  2\n"
     ]
    },
    {
     "name": "stderr",
     "output_type": "stream",
     "text": [
      "C:\\Users\\blindside\\Anaconda3\\lib\\site-packages\\sklearn\\model_selection\\_split.py:605: Warning: The least populated class in y has only 4 members, which is too few. The minimum number of members in any class cannot be less than n_splits=5.\n",
      "  % (min_groups, self.n_splits)), Warning)\n"
     ]
    },
    {
     "name": "stdout",
     "output_type": "stream",
     "text": [
      "\n",
      "Percentage accuracy\n",
      "[ 0.89316239  0.86324786  0.86324786  0.81545064  0.72413793]\n",
      "Mean: 0.831849338894\n"
     ]
    }
   ],
   "source": [
    "printStuff(lr, X, y)"
   ]
  },
  {
   "cell_type": "markdown",
   "metadata": {},
   "source": [
    "## Logistic regression for ELA"
   ]
  },
  {
   "cell_type": "code",
   "execution_count": 411,
   "metadata": {
    "collapsed": true
   },
   "outputs": [],
   "source": [
    "# I am setting up to find an accurate range for alpha, I will do this in two steps to lessen the CPU load\n",
    "lr_params = {'C':np.arange(0.00001, 3, .01)}"
   ]
  },
  {
   "cell_type": "code",
   "execution_count": 412,
   "metadata": {},
   "outputs": [
    {
     "name": "stdout",
     "output_type": "stream",
     "text": [
      "{'C': 0.01001}\n"
     ]
    }
   ],
   "source": [
    "lr = LogisticRegression()\n",
    "gs_lr = GridSearchCV(lr, lr_params, return_train_score=True, n_jobs =-1)\n",
    "gs_lr.fit(X1,y1)\n",
    "\n",
    "print(gs_lr.best_params_)"
   ]
  },
  {
   "cell_type": "code",
   "execution_count": 525,
   "metadata": {
    "collapsed": true
   },
   "outputs": [],
   "source": [
    "# I found the best range for this model now I want to find a more accurate number from that range\n",
    "lr_params = {'C':np.arange(0.001, .1, .001)}"
   ]
  },
  {
   "cell_type": "code",
   "execution_count": 526,
   "metadata": {},
   "outputs": [
    {
     "name": "stdout",
     "output_type": "stream",
     "text": [
      "{'C': 0.002}\n"
     ]
    }
   ],
   "source": [
    "lr = LogisticRegression()\n",
    "gs_lr = GridSearchCV(lr, lr_params, return_train_score=True, n_jobs =-1)\n",
    "gs_lr.fit(X1,y1)\n",
    "\n",
    "print(gs_lr.best_params_)"
   ]
  },
  {
   "cell_type": "code",
   "execution_count": 527,
   "metadata": {},
   "outputs": [
    {
     "data": {
      "text/plain": [
       "array([ 0.94444444,  0.94871795,  0.91416309,  0.88841202,  0.87982833])"
      ]
     },
     "execution_count": 527,
     "metadata": {},
     "output_type": "execute_result"
    }
   ],
   "source": [
    "lr = LogisticRegression(C = 0.002)\n",
    "cross_val_score(lr, X1, y1, cv=5)"
   ]
  },
  {
   "cell_type": "code",
   "execution_count": 528,
   "metadata": {},
   "outputs": [],
   "source": [
    "lr.fit(X1, y)\n",
    "def graphit(model, x, y):\n",
    "    coef_list = model.coef_.ravel().tolist()\n",
    "\n",
    "    # Create new data frame with coefficients\n",
    "    coef = pd.DataFrame(data=coef_list, columns=['coef'])\n",
    "\n",
    "    # Add in variable names\n",
    "    coef['variable'] = list(x)\n",
    "\n",
    "    # Sort by coefficient value\n",
    "    sorted_coef = coef.sort_values('coef', ascending=False)\n",
    "\n",
    "    # Plot \n",
    "    plt.figure(figsize=(10,5))\n",
    "    sns.set_style('darkgrid')\n",
    "    sns.barplot(x=sorted_coef['variable'], y=sorted_coef['coef'], color='blue')\n",
    "    plt.xticks(rotation=90)\n",
    "    plt.ylabel('Value')\n",
    "    plt.title('Logistic Regression Coefficients')\n",
    "\n",
    "    plt.show()"
   ]
  },
  {
   "cell_type": "code",
   "execution_count": 418,
   "metadata": {},
   "outputs": [
    {
     "name": "stdout",
     "output_type": "stream",
     "text": [
      "Coefficient\n",
      "[[ -2.69290944e-04   8.51103249e-02  -3.97782831e-03   1.08622297e-02\n",
      "    9.78238405e-04   1.26631828e-02  -4.52313103e-03  -1.28149495e-02\n",
      "    5.45855050e-02  -3.08189983e-02   8.95602533e-03  -1.34794045e-02\n",
      "   -7.17075665e-03   1.46302836e-02  -1.04203319e-02  -3.40410701e-02\n",
      "   -1.52820614e-02  -1.55786244e-02  -1.54550432e-03   3.73660417e-03\n",
      "   -2.05507492e-02  -1.99526221e-02   7.39824808e-03  -8.29151831e-04\n",
      "   -1.21816144e-03  -2.04562246e-03  -3.28660004e-04  -1.09626068e-05\n",
      "    3.29446199e-03  -2.94062035e-05  -6.33123456e-04   4.25074340e-03\n",
      "   -8.04742274e-04   3.15690115e-03   2.48198346e-03  -6.53467971e-04]\n",
      " [  2.22186937e-04   5.13031492e-02  -2.91239259e-02   8.12187001e-03\n",
      "    1.35952734e-02   1.34202562e-02  -2.29508194e-02   7.50096800e-02\n",
      "    3.22623576e-02   1.03487966e-02   3.01040388e-02  -5.34096448e-02\n",
      "   -6.62771593e-02  -2.90438792e-02  -3.19279949e-03   2.35488819e-03\n",
      "   -1.29227315e-02   2.48427639e-02  -7.01095304e-03  -1.06739425e-03\n",
      "   -6.30363656e-03   7.90001015e-03   6.79238753e-03   4.42184738e-03\n",
      "   -1.31120909e-02   1.07388084e-03  -1.07129950e-02   1.69950995e-05\n",
      "    4.24702897e-03   5.24760782e-04  -1.35044822e-03   7.37665413e-03\n",
      "   -3.08606754e-02  -2.94238190e-03  -1.67173683e-02  -3.36855405e-04]\n",
      " [ -2.73213003e-04  -1.40306150e-01   3.57653874e-02  -6.64779056e-03\n",
      "   -1.70132541e-02  -1.86202272e-02   1.49445534e-02  -1.05973944e-01\n",
      "   -7.52113760e-02   3.79794176e-02  -2.57732798e-02   6.22613291e-02\n",
      "    6.40741236e-02   1.71177631e-02   6.19550441e-03   3.33433552e-04\n",
      "    2.99275419e-03  -1.44695934e-02   1.47108354e-02  -4.11080776e-03\n",
      "    1.04527683e-02  -1.18273797e-02  -8.02021006e-03  -3.60952052e-03\n",
      "    1.02608980e-02   2.77587025e-04   5.88497225e-03  -1.56553709e-06\n",
      "   -4.23880369e-03  -1.83095573e-03   2.65309919e-03  -1.50910421e-02\n",
      "    3.12435606e-02  -1.67869526e-04   1.30016714e-02  -1.06198154e-04]]\n",
      "[ -1.66549512e-05  -1.06827756e-03   8.18666411e-04]\n",
      "\n",
      "Accuracy\n",
      "Average ELA Proficiency   1    2   3\n",
      "row_0                               \n",
      "2                        10  999  44\n",
      "3                         0   23  91\n",
      "\n",
      "Percentage accuracy\n",
      "[ 0.94444444  0.95299145  0.91416309  0.88841202  0.87982833]\n",
      "Mean: 0.915967866182\n"
     ]
    }
   ],
   "source": [
    "printStuff(lr, X1, y1)"
   ]
  },
  {
   "cell_type": "markdown",
   "metadata": {},
   "source": [
    "## With PCA"
   ]
  },
  {
   "cell_type": "code",
   "execution_count": 419,
   "metadata": {
    "collapsed": true
   },
   "outputs": [],
   "source": [
    "# I am setting up to find an accurate range for alpha, I will do this in two steps to lessen the CPU load\n",
    "lr_params = {'C':np.arange(0.00001, 3, .01)}"
   ]
  },
  {
   "cell_type": "code",
   "execution_count": 420,
   "metadata": {},
   "outputs": [
    {
     "name": "stdout",
     "output_type": "stream",
     "text": [
      "{'C': 0.01001}\n"
     ]
    }
   ],
   "source": [
    "lr = LogisticRegression()\n",
    "gs_lr = GridSearchCV(lr, lr_params, return_train_score=True, n_jobs =-1)\n",
    "gs_lr.fit(X_pca,y)\n",
    "\n",
    "print(gs_lr.best_params_)"
   ]
  },
  {
   "cell_type": "code",
   "execution_count": 210,
   "metadata": {
    "collapsed": true
   },
   "outputs": [],
   "source": [
    "lr_params = {'C':np.arange(0.001, .1, .001)}"
   ]
  },
  {
   "cell_type": "code",
   "execution_count": 211,
   "metadata": {},
   "outputs": [
    {
     "name": "stdout",
     "output_type": "stream",
     "text": [
      "{'C': 0.010000000000000002}\n"
     ]
    }
   ],
   "source": [
    "lr = LogisticRegression()\n",
    "gs_lr = GridSearchCV(lr, lr_params, return_train_score=True, n_jobs =-1)\n",
    "gs_lr.fit(X_pca,y)\n",
    "\n",
    "print(gs_lr.best_params_)"
   ]
  },
  {
   "cell_type": "code",
   "execution_count": 545,
   "metadata": {},
   "outputs": [
    {
     "name": "stderr",
     "output_type": "stream",
     "text": [
      "C:\\Users\\blindside\\Anaconda3\\lib\\site-packages\\sklearn\\model_selection\\_split.py:605: Warning: The least populated class in y has only 4 members, which is too few. The minimum number of members in any class cannot be less than n_splits=5.\n",
      "  % (min_groups, self.n_splits)), Warning)\n"
     ]
    },
    {
     "data": {
      "text/plain": [
       "array([ 0.72649573,  0.72649573,  0.72649573,  0.72961373,  0.73275862])"
      ]
     },
     "execution_count": 545,
     "metadata": {},
     "output_type": "execute_result"
    }
   ],
   "source": [
    "lr = LogisticRegression(C= 0.010000000000000002)\n",
    "cross_val_score(lr, X_pca, y, cv=5)"
   ]
  },
  {
   "cell_type": "markdown",
   "metadata": {},
   "source": [
    "#### Ridge Regression "
   ]
  },
  {
   "cell_type": "code",
   "execution_count": 421,
   "metadata": {},
   "outputs": [],
   "source": [
    "lr_ridge = LogisticRegression(penalty ='l1')\n",
    "lr_ridge_params = {'C':np.arange(0.00001, 3, .01)}"
   ]
  },
  {
   "cell_type": "code",
   "execution_count": 422,
   "metadata": {},
   "outputs": [
    {
     "name": "stdout",
     "output_type": "stream",
     "text": [
      "{'C': 0.02001}\n"
     ]
    }
   ],
   "source": [
    "gs_lr_ridge = GridSearchCV(lr_ridge, lr_ridge_params, return_train_score=True, n_jobs =-1)\n",
    "gs_lr_ridge.fit(X1,y)\n",
    "\n",
    "print(gs_lr_ridge.best_params_)"
   ]
  },
  {
   "cell_type": "code",
   "execution_count": 423,
   "metadata": {
    "collapsed": true
   },
   "outputs": [],
   "source": [
    "lr_ridge_params = {'C':np.arange(0.001, .1, .001)}"
   ]
  },
  {
   "cell_type": "code",
   "execution_count": 424,
   "metadata": {},
   "outputs": [
    {
     "name": "stdout",
     "output_type": "stream",
     "text": [
      "{'C': 0.019000000000000003}\n"
     ]
    }
   ],
   "source": [
    "gs_lr_ridge = GridSearchCV(lr_ridge, lr_ridge_params, return_train_score=True, n_jobs =-1)\n",
    "gs_lr_ridge.fit(X1,y)\n",
    "\n",
    "print(gs_lr_ridge.best_params_)"
   ]
  },
  {
   "cell_type": "code",
   "execution_count": 426,
   "metadata": {},
   "outputs": [
    {
     "name": "stderr",
     "output_type": "stream",
     "text": [
      "C:\\Users\\blindside\\Anaconda3\\lib\\site-packages\\sklearn\\model_selection\\_split.py:605: Warning: The least populated class in y has only 4 members, which is too few. The minimum number of members in any class cannot be less than n_splits=5.\n",
      "  % (min_groups, self.n_splits)), Warning)\n"
     ]
    },
    {
     "data": {
      "text/plain": [
       "array([ 0.90598291,  0.86752137,  0.88888889,  0.82832618,  0.74137931])"
      ]
     },
     "execution_count": 426,
     "metadata": {},
     "output_type": "execute_result"
    }
   ],
   "source": [
    "lr_ridge = LogisticRegression(C= 0.019000000000000003)\n",
    "cross_val_score(lr_ridge, X1, y, cv=5)"
   ]
  },
  {
   "cell_type": "code",
   "execution_count": 427,
   "metadata": {},
   "outputs": [
    {
     "name": "stdout",
     "output_type": "stream",
     "text": [
      "Coefficient\n",
      "[[ -1.56686207e-04   7.13720082e-02  -1.80109939e-02   8.19740331e-03\n",
      "   -4.11808912e-03   4.63088740e-02  -3.43686671e-02   2.69174124e-02\n",
      "    1.11508420e-01  -6.32093446e-02   3.93303757e-02  -3.98847252e-02\n",
      "   -6.45376900e-02  -3.14583528e-03   1.83455770e-02  -3.08485450e-02\n",
      "   -4.12792845e-02  -5.65917893e-03  -1.15453314e-02  -4.10978043e-03\n",
      "    3.60561894e-02  -3.29260528e-02  -5.78221678e-04   3.63997258e-02\n",
      "   -1.96047218e-02  -5.06636096e-03  -1.41376436e-02   1.25065314e-02\n",
      "   -4.72801461e-02   3.62681317e-02   3.23976705e-03   1.49510894e-01\n",
      "   -1.81432187e-02   3.15933142e-02  -3.40508340e-02  -9.58778865e-04]\n",
      " [  2.11887455e-04   3.34977415e-02  -1.23352701e-01   3.65394275e-02\n",
      "    3.80140968e-02  -1.00581049e-01  -1.08632531e-01   6.78853876e-02\n",
      "    2.47847821e-02   5.28926967e-02   4.91931087e-03  -1.41542918e-02\n",
      "   -6.00684563e-02   3.67651121e-03  -7.07596752e-03   9.16438625e-03\n",
      "    4.41833006e-02  -4.28128287e-02   7.30602915e-02  -7.99728879e-02\n",
      "   -5.72047177e-02   6.19766282e-02   3.80487757e-03   2.13543185e-02\n",
      "   -2.04628119e-01  -5.38651354e-03  -1.71368268e-01  -1.16182601e-02\n",
      "    1.40701467e-01  -8.18789304e-02   4.28312691e-03   4.17196260e-02\n",
      "   -3.58731702e-01  -3.25300282e-02   4.17917057e-02  -3.16060709e-02]\n",
      " [ -3.27007439e-04  -8.31574540e-02   1.24436936e-01  -1.72886072e-02\n",
      "   -1.56429834e-02   7.81910747e-02   9.77228468e-02  -1.55883328e-01\n",
      "   -1.39631225e-01   4.29390431e-02  -1.83724046e-02   6.27467414e-02\n",
      "    7.01184397e-02  -2.19650271e-02   1.41606796e-02  -1.08831544e-02\n",
      "   -7.73808523e-02   7.74441930e-02  -3.78269696e-02   5.20075213e-02\n",
      "    1.90611910e-02  -2.85739441e-02  -3.48983054e-03  -3.95915736e-02\n",
      "    1.63579606e-01  -5.07393723e-03   3.37844130e-02  -3.82914061e-05\n",
      "   -4.39967191e-02   2.22823625e-02  -4.66750564e-03  -2.74668302e-01\n",
      "    4.02846854e-01  -1.01904329e-03   8.36713597e-03  -4.52615784e-03]\n",
      " [ -7.67364394e-04  -1.79607108e-01   6.90891322e-02  -1.06809080e-02\n",
      "   -2.68844424e-02  -4.25758710e-02   2.93991691e-02   1.01461395e-01\n",
      "   -1.38596140e-01  -2.55033001e-02  -1.01212168e-01   2.72210408e-02\n",
      "    7.30531287e-02  -4.99091603e-02  -1.51723613e-02   1.92787952e-02\n",
      "    3.48326478e-03  -5.58264701e-03  -2.76247996e-03  -2.63081032e-02\n",
      "    1.74202294e-02   1.97957582e-02  -4.95442829e-03  -4.00488352e-03\n",
      "    1.90161758e-02   1.26379646e-02   1.74363281e-03  -3.35802063e-08\n",
      "    1.62752961e-04   7.78437747e-03   2.87360516e-03  -1.64708916e-03\n",
      "    1.28611622e-02  -2.68936299e-07  -2.03030265e-03   9.03629855e-03]]\n",
      "[-0.00042979 -0.00741627  0.00455082  0.00068829]\n",
      "\n",
      "Accuracy\n",
      "Average Math Proficiency   1    2    3  4\n",
      "row_0                                    \n",
      "1                          2    0    0  0\n",
      "2                         36  806   62  0\n",
      "3                          0   44  213  4\n",
      "\n",
      "Percentage accuracy\n",
      "[ 0.90598291  0.86752137  0.88888889  0.82832618  0.74137931]\n",
      "Mean: 0.846419730599\n"
     ]
    },
    {
     "name": "stderr",
     "output_type": "stream",
     "text": [
      "C:\\Users\\blindside\\Anaconda3\\lib\\site-packages\\sklearn\\model_selection\\_split.py:605: Warning: The least populated class in y has only 4 members, which is too few. The minimum number of members in any class cannot be less than n_splits=5.\n",
      "  % (min_groups, self.n_splits)), Warning)\n"
     ]
    }
   ],
   "source": [
    "printStuff(lr_ridge, X1, y)"
   ]
  },
  {
   "cell_type": "markdown",
   "metadata": {},
   "source": [
    "#### RIDGE FOR ELA"
   ]
  },
  {
   "cell_type": "code",
   "execution_count": 428,
   "metadata": {
    "collapsed": true
   },
   "outputs": [],
   "source": [
    "lr_ridge = LogisticRegression(penalty ='l1')\n",
    "lr_ridge_params = {'C':np.arange(0.00001, 3, .01)}"
   ]
  },
  {
   "cell_type": "code",
   "execution_count": 429,
   "metadata": {},
   "outputs": [
    {
     "name": "stdout",
     "output_type": "stream",
     "text": [
      "{'C': 0.10001}\n"
     ]
    }
   ],
   "source": [
    "gs_lr_ridge = GridSearchCV(lr_ridge, lr_ridge_params, return_train_score=True, n_jobs =-1)\n",
    "gs_lr_ridge.fit(X1,y1)\n",
    "\n",
    "print(gs_lr_ridge.best_params_)"
   ]
  },
  {
   "cell_type": "code",
   "execution_count": 430,
   "metadata": {
    "collapsed": true
   },
   "outputs": [],
   "source": [
    "lr_ridge_params = {'C':np.arange(0.01, 1, .001)}"
   ]
  },
  {
   "cell_type": "code",
   "execution_count": 431,
   "metadata": {},
   "outputs": [
    {
     "name": "stdout",
     "output_type": "stream",
     "text": [
      "{'C': 0.089999999999999927}\n"
     ]
    }
   ],
   "source": [
    "gs_lr_ridge = GridSearchCV(lr_ridge, lr_ridge_params, return_train_score=True, n_jobs =-1)\n",
    "gs_lr_ridge.fit(X1,y1)\n",
    "\n",
    "print(gs_lr_ridge.best_params_)"
   ]
  },
  {
   "cell_type": "code",
   "execution_count": 432,
   "metadata": {},
   "outputs": [
    {
     "data": {
      "text/plain": [
       "array([ 0.94444444,  0.94444444,  0.90987124,  0.87124464,  0.87124464])"
      ]
     },
     "execution_count": 432,
     "metadata": {},
     "output_type": "execute_result"
    }
   ],
   "source": [
    "lr_ridge = LogisticRegression(C= 0.089999999999999927)\n",
    "cross_val_score(lr_ridge, X1, y1, cv=5)"
   ]
  },
  {
   "cell_type": "code",
   "execution_count": 433,
   "metadata": {},
   "outputs": [
    {
     "name": "stdout",
     "output_type": "stream",
     "text": [
      "Coefficient\n",
      "[[ -9.34140487e-04   9.06065526e-02   2.03670196e-01  -9.55443374e-02\n",
      "    3.88240930e-02  -2.78714958e-02   2.25672092e-02   5.48805831e-02\n",
      "    5.15934742e-02   1.61013071e-01  -1.07560576e-01   3.69374348e-02\n",
      "   -4.93841629e-02   4.95962770e-02  -1.75600090e-01   1.37550000e-01\n",
      "    7.12426848e-03   6.87325756e-02  -8.58216843e-02  -2.89039471e-02\n",
      "   -2.67111270e-02  -9.01780906e-03   2.00587284e-02  -8.39061178e-03\n",
      "    6.84940274e-02  -1.29295204e-01  -1.18008322e-01   1.32455833e-01\n",
      "   -5.74286006e-02  -2.56708535e-02   6.46294197e-02   1.69752760e-02\n",
      "   -4.72411127e-02  -6.37011650e-02  -4.72411127e-02   5.70956154e-02\n",
      "    4.19478054e-02  -1.57176692e-03  -4.13977880e-02  -4.73008951e-04\n",
      "   -8.62064537e-02   1.87509185e-03   5.10509596e-02   3.17856438e-02\n",
      "   -2.70702236e-02  -6.46521243e-02   1.09584257e-01  -1.93566673e-02\n",
      "    9.54777400e-02  -1.78227905e-02  -1.95728033e-01   1.16578325e-01\n",
      "   -1.37407922e-02   2.66269604e-02   5.33218543e-03  -1.97131120e-02]\n",
      " [  1.71180118e-04  -2.52003012e-02   4.85356058e-02  -5.16603995e-02\n",
      "    7.51672490e-03   1.31241753e-02  -8.83148488e-03  -4.60442617e-02\n",
      "    1.05300514e-01   4.84808460e-02   2.55606863e-02   9.38897840e-02\n",
      "   -8.23622292e-02  -3.48726642e-02  -6.98504786e-02  -4.64956139e-02\n",
      "   -7.42255603e-02   7.34969003e-02  -2.62348559e-02   2.79551560e-02\n",
      "   -4.46107151e-02   5.28329192e-02  -2.76377808e-03  -2.78352060e-03\n",
      "   -1.62048625e-02   1.85330985e-02  -4.14521556e-03   7.35965369e-03\n",
      "    1.51915502e-02  -4.01618367e-02   3.27276695e-02  -1.12521193e-02\n",
      "    3.86408601e-03  -2.44645997e-03   3.86408601e-03  -8.55349055e-03\n",
      "   -2.37518337e-02  -2.40552720e-02   4.42719209e-02   4.04485679e-05\n",
      "   -1.75350342e-02   5.64299038e-04   1.21033882e-02   1.37261065e-03\n",
      "    2.41649436e-02  -1.12470391e-03  -2.12105839e-02  -5.32439208e-03\n",
      "    2.37205553e-02  -9.75141338e-02   8.08106302e-02  -1.05117879e-02\n",
      "    2.03215717e-03   5.67602865e-02  -6.16625606e-02  -6.24619420e-04]\n",
      " [ -3.11233070e-04  -1.19401868e-03  -2.06978558e-01   7.19480543e-02\n",
      "   -2.53887954e-02  -2.96653100e-02   2.97061871e-02   4.19049642e-02\n",
      "   -1.94835596e-01  -1.53554507e-01   7.18755401e-02  -1.30333939e-01\n",
      "    1.10295671e-01   1.14218646e-02   8.47784792e-02   8.49913702e-02\n",
      "    9.05156959e-02  -8.82285274e-02  -5.63670758e-02   6.14267888e-02\n",
      "    1.81520057e-02  -2.97889355e-02   8.53574157e-03  -1.25046799e-03\n",
      "    2.80013854e-02  -2.66627395e-02   8.87472724e-04  -6.71303495e-03\n",
      "   -2.32586783e-02   7.02960169e-02  -3.77951465e-02  -3.08539816e-04\n",
      "    1.04976402e-02   1.57398408e-04   1.04976402e-02  -1.17655270e-02\n",
      "    9.39579689e-03  -3.64335527e-02   3.59750691e-02  -3.66089652e-06\n",
      "    8.39647120e-02  -3.44280386e-03  -4.11473588e-02  -3.04408969e-02\n",
      "   -4.11967764e-02   2.75746151e-02  -6.24458121e-03   2.88003948e-02\n",
      "   -1.70052363e-01   2.98794229e-01  -1.18883750e-01  -9.24463491e-04\n",
      "    6.94398258e-03  -1.65546100e-01   1.80039594e-01  -1.25038251e-02]]\n",
      "[-0.00149476 -0.00349474  0.00893365]\n",
      "\n",
      "Accuracy\n",
      "Average ELA Proficiency  1    2   3\n",
      "row_0                              \n",
      "1                        1    0   0\n",
      "2                        9  998  39\n",
      "3                        0   24  96\n",
      "\n",
      "Percentage accuracy\n",
      "[ 0.94444444  0.94444444  0.90987124  0.87982833  0.86695279]\n",
      "Mean: 0.909108249881\n"
     ]
    }
   ],
   "source": [
    "printStuff(lr_ridge, X, y1)"
   ]
  },
  {
   "cell_type": "markdown",
   "metadata": {},
   "source": [
    "#### With PCA"
   ]
  },
  {
   "cell_type": "code",
   "execution_count": 434,
   "metadata": {
    "collapsed": true
   },
   "outputs": [],
   "source": [
    "lr_ridge = LogisticRegression(penalty ='l1')\n",
    "lr_ridge_params = {'C':np.arange(0.00001, 3, .01)}"
   ]
  },
  {
   "cell_type": "code",
   "execution_count": 228,
   "metadata": {},
   "outputs": [
    {
     "name": "stdout",
     "output_type": "stream",
     "text": [
      "{'C': 0.02001}\n"
     ]
    }
   ],
   "source": [
    "gs_lr_ridge = GridSearchCV(lr_ridge, lr_ridge_params, return_train_score=True, n_jobs =-1)\n",
    "gs_lr_ridge.fit(X_pca ,y1)\n",
    "\n",
    "print(gs_lr_ridge.best_params_)"
   ]
  },
  {
   "cell_type": "code",
   "execution_count": 229,
   "metadata": {
    "collapsed": true
   },
   "outputs": [],
   "source": [
    "lr_ridge_params = {'C':np.arange(0.001, 1, .001)}"
   ]
  },
  {
   "cell_type": "code",
   "execution_count": 230,
   "metadata": {},
   "outputs": [
    {
     "name": "stdout",
     "output_type": "stream",
     "text": [
      "{'C': 0.012}\n"
     ]
    }
   ],
   "source": [
    "gs_lr_ridge = GridSearchCV(lr_ridge, lr_ridge_params, return_train_score=True, n_jobs =-1)\n",
    "gs_lr_ridge.fit(X_pca,y1)\n",
    "\n",
    "print(gs_lr_ridge.best_params_)"
   ]
  },
  {
   "cell_type": "code",
   "execution_count": 231,
   "metadata": {},
   "outputs": [
    {
     "name": "stderr",
     "output_type": "stream",
     "text": [
      "C:\\Users\\blindside\\Anaconda3\\lib\\site-packages\\sklearn\\model_selection\\_split.py:605: Warning: The least populated class in y has only 4 members, which is too few. The minimum number of members in any class cannot be less than n_splits=5.\n",
      "  % (min_groups, self.n_splits)), Warning)\n"
     ]
    },
    {
     "data": {
      "text/plain": [
       "array([ 0.72649573,  0.72649573,  0.72649573,  0.72961373,  0.73275862])"
      ]
     },
     "execution_count": 231,
     "metadata": {},
     "output_type": "execute_result"
    }
   ],
   "source": [
    "lr_ridge = LogisticRegression(C= .012)\n",
    "cross_val_score(lr_ridge, X_pca, y, cv=5)"
   ]
  },
  {
   "cell_type": "markdown",
   "metadata": {},
   "source": [
    "#### Lasso"
   ]
  },
  {
   "cell_type": "code",
   "execution_count": 437,
   "metadata": {
    "collapsed": true
   },
   "outputs": [],
   "source": [
    "lr_lasso = LogisticRegression(penalty ='l2')\n",
    "lr_lasso_params = {'C':np.arange(0.00001, 3, .01)}"
   ]
  },
  {
   "cell_type": "code",
   "execution_count": 438,
   "metadata": {},
   "outputs": [
    {
     "name": "stdout",
     "output_type": "stream",
     "text": [
      "{'C': 2.5200100000000001}\n"
     ]
    }
   ],
   "source": [
    "gs_lr_lasso = GridSearchCV(lr_lasso, lr_lasso_params, return_train_score=True, n_jobs =-1)\n",
    "gs_lr_lasso.fit(X1 ,y)\n",
    "\n",
    "print(gs_lr_lasso.best_params_)"
   ]
  },
  {
   "cell_type": "code",
   "execution_count": 439,
   "metadata": {
    "collapsed": true
   },
   "outputs": [],
   "source": [
    "lr_lasso_params = {'C':np.arange(1, 20, .01)}"
   ]
  },
  {
   "cell_type": "code",
   "execution_count": 440,
   "metadata": {},
   "outputs": [
    {
     "name": "stdout",
     "output_type": "stream",
     "text": [
      "{'C': 3.8700000000000028}\n"
     ]
    }
   ],
   "source": [
    "gs_lr_lasso = GridSearchCV(lr_lasso, lr_lasso_params, return_train_score=True, n_jobs =-1)\n",
    "gs_lr_lasso.fit(X1 ,y)\n",
    "\n",
    "print(gs_lr_lasso.best_params_)"
   ]
  },
  {
   "cell_type": "code",
   "execution_count": 441,
   "metadata": {},
   "outputs": [
    {
     "name": "stderr",
     "output_type": "stream",
     "text": [
      "C:\\Users\\blindside\\Anaconda3\\lib\\site-packages\\sklearn\\model_selection\\_split.py:605: Warning: The least populated class in y has only 4 members, which is too few. The minimum number of members in any class cannot be less than n_splits=5.\n",
      "  % (min_groups, self.n_splits)), Warning)\n"
     ]
    },
    {
     "data": {
      "text/plain": [
       "array([ 0.88888889,  0.88034188,  0.87179487,  0.83690987,  0.74568966])"
      ]
     },
     "execution_count": 441,
     "metadata": {},
     "output_type": "execute_result"
    }
   ],
   "source": [
    "lr_lasso = LogisticRegression(C= 3.8700000000000028)\n",
    "cross_val_score(lr_lasso, X1, y, cv=5)"
   ]
  },
  {
   "cell_type": "code",
   "execution_count": 442,
   "metadata": {},
   "outputs": [
    {
     "name": "stdout",
     "output_type": "stream",
     "text": [
      "Coefficient\n",
      "[[  5.96947159e-07   8.75205788e-02  -1.75438584e-01  -2.53902420e-01\n",
      "   -2.66352227e-01   2.31686970e-01  -8.31187411e-02   1.19352594e-02\n",
      "    1.18731076e-01  -5.59462812e-02   8.21343992e-02  -5.46375889e-02\n",
      "   -1.49971144e-01   1.03647022e-01   5.45583925e-02  -4.39259980e-02\n",
      "   -3.50395929e-01   2.67085706e-01  -7.57881949e-02   6.46971307e-02\n",
      "    1.07167389e-01  -1.10187172e-01  -7.04741122e-04   4.22117708e-01\n",
      "   -6.62791818e-01  -1.86448581e-01  -9.34244170e-01   1.06174528e+00\n",
      "   -1.68807833e+00   1.03689262e+00  -2.44212942e-01   2.66395090e+00\n",
      "   -9.22987060e-01   3.24467323e+00   2.05445541e-02   6.09877391e-02]\n",
      " [  1.44346864e-04   3.39886016e-02  -1.52751220e-01   2.07691354e-01\n",
      "    2.12974614e-01  -3.03811599e-01  -1.43604439e-01   8.18663716e-02\n",
      "    2.27525612e-02   5.65487622e-02   6.05938866e-03   9.69553270e-03\n",
      "   -5.54954313e-02   2.12346455e-03  -1.05660917e-02   1.10476854e-02\n",
      "    5.78429401e-02  -5.45343242e-02   1.09362987e-01  -1.15014054e-01\n",
      "   -6.98774605e-02   7.57799238e-02   2.65055361e-03   4.18545287e-02\n",
      "   -5.69449413e-01  -9.83203812e-03  -4.80046526e-01  -5.85302365e-02\n",
      "    3.36452882e-01  -3.31008704e-01   3.86844251e-02   4.31217843e-02\n",
      "   -1.13013041e+00  -1.66474074e-01  -2.90414509e-02  -1.31134388e-01]\n",
      " [ -4.05726957e-04  -8.42267125e-02   1.43342508e-01  -1.71161130e-02\n",
      "   -1.73214886e-02   9.83289568e-02   1.17572899e-01  -1.55356412e-01\n",
      "   -1.37608893e-01   4.24308071e-02  -1.69246985e-02   6.44199049e-02\n",
      "    5.53377714e-02  -2.26341754e-02   1.49258875e-02  -1.20757753e-02\n",
      "   -9.98430018e-02   9.97471610e-02  -5.52910768e-02   6.87622870e-02\n",
      "    2.82937769e-02  -3.76380298e-02  -3.73309071e-03  -4.83620742e-02\n",
      "    2.02336300e-01  -6.21305961e-03   4.24127626e-02  -5.25104071e-05\n",
      "   -5.45177675e-02   2.60824469e-02  -4.44437047e-03  -3.32215301e-01\n",
      "    4.91002825e-01  -1.14666537e-03   9.41588357e-03  -5.37292825e-03]\n",
      " [ -4.55745296e-03  -9.77529454e-01   4.37491333e-01  -4.12986250e-03\n",
      "    2.88527572e-01   1.92848061e-02   2.91615355e-01   4.43196674e-01\n",
      "   -1.12143649e+00  -8.63444161e-02  -5.51105389e-01  -2.69533579e-01\n",
      "    7.20705641e-01  -1.32356931e-01   4.52562768e-02   1.87422468e-02\n",
      "   -9.51905001e-03  -2.17864734e-02  -3.72473934e-03  -1.16589583e-01\n",
      "    1.49075047e-01  -8.32961690e-03   1.29115984e-02  -2.44759317e-02\n",
      "    2.68347330e-01   5.41550099e-02   5.22442727e-02  -3.65965443e-07\n",
      "    1.16227955e-01  -2.44541269e-02   1.74902677e-02  -1.77912752e-02\n",
      "    6.71649342e-02  -1.62399130e-06   1.13702937e-01  -3.86699774e-03]]\n",
      "[-0.01496336 -0.03522249  0.00534102  0.00044803]\n",
      "\n",
      "Accuracy\n",
      "Average Math Proficiency   1    2    3  4\n",
      "row_0                                    \n",
      "1                          3    0    0  0\n",
      "2                         35  814   64  0\n",
      "3                          0   36  211  2\n",
      "4                          0    0    0  2\n"
     ]
    },
    {
     "name": "stderr",
     "output_type": "stream",
     "text": [
      "C:\\Users\\blindside\\Anaconda3\\lib\\site-packages\\sklearn\\model_selection\\_split.py:605: Warning: The least populated class in y has only 4 members, which is too few. The minimum number of members in any class cannot be less than n_splits=5.\n",
      "  % (min_groups, self.n_splits)), Warning)\n"
     ]
    },
    {
     "name": "stdout",
     "output_type": "stream",
     "text": [
      "\n",
      "Percentage accuracy\n",
      "[ 0.88888889  0.88034188  0.87179487  0.83690987  0.74568966]\n",
      "Mean: 0.844725033489\n"
     ]
    }
   ],
   "source": [
    "printStuff(lr_lasso, X1, y)"
   ]
  },
  {
   "cell_type": "markdown",
   "metadata": {},
   "source": [
    "#### LASSO FOR ELA"
   ]
  },
  {
   "cell_type": "code",
   "execution_count": 443,
   "metadata": {
    "collapsed": true
   },
   "outputs": [],
   "source": [
    "lr_lasso = LogisticRegression(penalty ='l2')\n",
    "lr_ridge_params = {'C':np.arange(0.00001, 3, .01)}"
   ]
  },
  {
   "cell_type": "code",
   "execution_count": 444,
   "metadata": {},
   "outputs": [
    {
     "name": "stdout",
     "output_type": "stream",
     "text": [
      "{'C': 1.1000000000000001}\n"
     ]
    }
   ],
   "source": [
    "gs_lr_lasso = GridSearchCV(lr_lasso, lr_lasso_params, return_train_score=True, n_jobs =-1)\n",
    "gs_lr_lasso.fit(X1 ,y1)\n",
    "\n",
    "print(gs_lr_lasso.best_params_)"
   ]
  },
  {
   "cell_type": "code",
   "execution_count": 445,
   "metadata": {
    "collapsed": true
   },
   "outputs": [],
   "source": [
    "lr_lasso_params = {'C':np.arange(0.1, 10, .01)}"
   ]
  },
  {
   "cell_type": "code",
   "execution_count": 447,
   "metadata": {},
   "outputs": [
    {
     "name": "stdout",
     "output_type": "stream",
     "text": [
      "{'C': 6.3199999999999967}\n"
     ]
    }
   ],
   "source": [
    "gs_lr_lasso = GridSearchCV(lr_lasso, lr_lasso_params, return_train_score=True, n_jobs =-1)\n",
    "gs_lr_lasso.fit(X1 ,y)\n",
    "\n",
    "print(gs_lr_lasso.best_params_)"
   ]
  },
  {
   "cell_type": "code",
   "execution_count": 448,
   "metadata": {},
   "outputs": [
    {
     "data": {
      "text/plain": [
       "array([ 0.94017094,  0.94017094,  0.90128755,  0.87982833,  0.87124464])"
      ]
     },
     "execution_count": 448,
     "metadata": {},
     "output_type": "execute_result"
    }
   ],
   "source": [
    "lr_lasso = LogisticRegression(C= 6.3199999999999967)\n",
    "cross_val_score(lr_lasso, X1, y1, cv=5)"
   ]
  },
  {
   "cell_type": "code",
   "execution_count": 449,
   "metadata": {},
   "outputs": [
    {
     "name": "stdout",
     "output_type": "stream",
     "text": [
      "Coefficient\n",
      "[[ -9.95879381e-04   2.79481827e-01  -1.80173745e-01   3.79611165e-02\n",
      "   -5.18763163e-02   4.98191210e-03   7.60616483e-02   4.61796604e-02\n",
      "    1.94489552e-01  -1.35813819e-01   4.49342501e-02  -4.56386446e-02\n",
      "   -2.83989339e-01   3.11930122e-01   7.48464919e-02  -1.53557803e-01\n",
      "   -1.74526162e-01   1.71979180e-01  -4.32743097e-02   4.59482539e-02\n",
      "    1.49539234e-01  -2.29484390e-01   3.83040844e-02  -6.35844051e-01\n",
      "   -4.02302221e-01  -6.45060327e-01  -9.50186523e-03  -4.62554442e-03\n",
      "    3.60158900e-01   6.01981666e-01  -2.36317453e-01   1.09666519e+00\n",
      "   -3.43650205e-01   1.77680225e+00  -4.75623458e-01  -1.93007193e-01]\n",
      " [  1.13735797e-04   5.53324228e-02  -4.99387301e-02   3.02766815e-02\n",
      "    3.16755582e-02  -2.83661971e-02  -4.30593570e-02   1.21539354e-01\n",
      "    5.62891756e-02   2.96394564e-02   8.42096847e-02  -6.71296164e-02\n",
      "   -9.25588510e-02  -7.84683674e-02  -1.43097260e-03   2.47803688e-03\n",
      "   -1.01270325e-01   1.11275345e-01   8.64551214e-03  -1.48120402e-02\n",
      "   -1.94329915e-02   1.93261601e-02   6.17641806e-03   4.92928008e-02\n",
      "   -1.19800760e-01   1.46992534e-02  -6.23123107e-02   1.08826993e-04\n",
      "    4.00156625e-02   7.35810442e-03  -1.37827360e-02   6.06433000e-02\n",
      "   -2.76033139e-01  -3.28887510e-02  -1.81800920e-01  -1.93560630e-03]\n",
      " [ -3.60243723e-04  -2.06646330e-01   7.80143357e-02  -1.24036046e-02\n",
      "   -1.91830112e-02   3.06627990e-02   5.27895493e-02  -1.94355333e-01\n",
      "   -1.58016650e-01   1.00493127e-01  -1.22233520e-01   1.15147603e-01\n",
      "    3.74894532e-02   9.12304034e-02   8.38576662e-03  -4.54313705e-04\n",
      "    1.94378205e-02  -3.16408551e-02   1.00933949e-02  -2.25124883e-03\n",
      "    2.19553946e-02  -2.08509275e-02  -6.92159951e-03  -1.82613328e-02\n",
      "    6.09874782e-02   7.55829486e-03  -2.11012236e-02  -4.64549847e-06\n",
      "   -2.36812410e-02  -2.42099741e-02   2.23524292e-02  -1.23300087e-01\n",
      "    2.37108373e-01  -6.71496976e-04   1.41229917e-01  -9.77893436e-03]]\n",
      "[-0.02863613 -0.00949372  0.00665756]\n",
      "\n",
      "Accuracy\n",
      "Average ELA Proficiency  1     2   3\n",
      "row_0                               \n",
      "1                        1     0   0\n",
      "2                        9  1000  39\n",
      "3                        0    22  96\n",
      "\n",
      "Percentage accuracy\n",
      "[ 0.94017094  0.94017094  0.90128755  0.87982833  0.87124464]\n",
      "Mean: 0.906540479073\n"
     ]
    }
   ],
   "source": [
    "printStuff(lr_lasso, X1, y1)"
   ]
  },
  {
   "cell_type": "markdown",
   "metadata": {},
   "source": [
    "#### With PCA"
   ]
  },
  {
   "cell_type": "code",
   "execution_count": 141,
   "metadata": {
    "collapsed": true
   },
   "outputs": [],
   "source": [
    "lr_lasso = LogisticRegression(penalty ='l1')\n",
    "lr_ridge_params = {'C':np.arange(0.00001, 3, .01)}"
   ]
  },
  {
   "cell_type": "code",
   "execution_count": 142,
   "metadata": {},
   "outputs": [
    {
     "name": "stdout",
     "output_type": "stream",
     "text": [
      "{'C': 0.10000000000000001}\n"
     ]
    }
   ],
   "source": [
    "gs_lr_lasso = GridSearchCV(lr_lasso, lr_lasso_params, return_train_score=True, n_jobs =-1)\n",
    "gs_lr_lasso.fit(X_pca ,y1)\n",
    "\n",
    "print(gs_lr_lasso.best_params_)"
   ]
  },
  {
   "cell_type": "code",
   "execution_count": null,
   "metadata": {
    "collapsed": true
   },
   "outputs": [],
   "source": [
    "lr_ridge_params = {'C':np.arange(0.00001, 3, .01)}"
   ]
  },
  {
   "cell_type": "code",
   "execution_count": null,
   "metadata": {
    "collapsed": true
   },
   "outputs": [],
   "source": [
    "gs_lr_lasso = GridSearchCV(lr_lasso, lr_lasso_params, return_train_score=True, n_jobs =-1)\n",
    "gs_lr_lasso.fit(X_pca ,y1)\n",
    "\n",
    "print(gs_lr_lasso.best_params_)"
   ]
  },
  {
   "cell_type": "code",
   "execution_count": 143,
   "metadata": {},
   "outputs": [
    {
     "data": {
      "text/plain": [
       "array([ 0.72696246,  0.72696246,  0.72852234,  0.73103448])"
      ]
     },
     "execution_count": 143,
     "metadata": {},
     "output_type": "execute_result"
    }
   ],
   "source": [
    "lr_lasso = LogisticRegression(C= 0.10000000000000001)\n",
    "cross_val_score(lr_lasso, X_pca, y, cv=4)"
   ]
  },
  {
   "cell_type": "markdown",
   "metadata": {},
   "source": [
    "## SVC"
   ]
  },
  {
   "cell_type": "code",
   "execution_count": 457,
   "metadata": {},
   "outputs": [],
   "source": [
    "svc_params = {'kernel': ('rbf', 'poly', 'linear', 'sigmoid'),\n",
    "         'max_iter': range(1, 150)}"
   ]
  },
  {
   "cell_type": "code",
   "execution_count": 460,
   "metadata": {},
   "outputs": [
    {
     "name": "stdout",
     "output_type": "stream",
     "text": [
      "{'kernel': 'rbf', 'max_iter': 130}\n"
     ]
    },
    {
     "name": "stderr",
     "output_type": "stream",
     "text": [
      "C:\\Users\\blindside\\Anaconda3\\lib\\site-packages\\sklearn\\svm\\base.py:218: ConvergenceWarning: Solver terminated early (max_iter=130).  Consider pre-processing your data with StandardScaler or MinMaxScaler.\n",
      "  % self.max_iter, ConvergenceWarning)\n"
     ]
    }
   ],
   "source": [
    "svc = SVC()\n",
    "gs_svc = GridSearchCV(svc, svc_params, return_train_score=True, n_jobs =-1)\n",
    "gs_svc.fit(X1,y)\n",
    "\n",
    "print(gs_svc.best_params_)"
   ]
  },
  {
   "cell_type": "code",
   "execution_count": 461,
   "metadata": {},
   "outputs": [
    {
     "name": "stderr",
     "output_type": "stream",
     "text": [
      "C:\\Users\\blindside\\Anaconda3\\lib\\site-packages\\sklearn\\model_selection\\_split.py:605: Warning: The least populated class in y has only 4 members, which is too few. The minimum number of members in any class cannot be less than n_splits=5.\n",
      "  % (min_groups, self.n_splits)), Warning)\n",
      "C:\\Users\\blindside\\Anaconda3\\lib\\site-packages\\sklearn\\svm\\base.py:218: ConvergenceWarning: Solver terminated early (max_iter=130).  Consider pre-processing your data with StandardScaler or MinMaxScaler.\n",
      "  % self.max_iter, ConvergenceWarning)\n",
      "C:\\Users\\blindside\\Anaconda3\\lib\\site-packages\\sklearn\\svm\\base.py:218: ConvergenceWarning: Solver terminated early (max_iter=130).  Consider pre-processing your data with StandardScaler or MinMaxScaler.\n",
      "  % self.max_iter, ConvergenceWarning)\n",
      "C:\\Users\\blindside\\Anaconda3\\lib\\site-packages\\sklearn\\svm\\base.py:218: ConvergenceWarning: Solver terminated early (max_iter=130).  Consider pre-processing your data with StandardScaler or MinMaxScaler.\n",
      "  % self.max_iter, ConvergenceWarning)\n",
      "C:\\Users\\blindside\\Anaconda3\\lib\\site-packages\\sklearn\\svm\\base.py:218: ConvergenceWarning: Solver terminated early (max_iter=130).  Consider pre-processing your data with StandardScaler or MinMaxScaler.\n",
      "  % self.max_iter, ConvergenceWarning)\n",
      "C:\\Users\\blindside\\Anaconda3\\lib\\site-packages\\sklearn\\svm\\base.py:218: ConvergenceWarning: Solver terminated early (max_iter=130).  Consider pre-processing your data with StandardScaler or MinMaxScaler.\n",
      "  % self.max_iter, ConvergenceWarning)\n"
     ]
    },
    {
     "data": {
      "text/plain": [
       "array([ 0.66666667,  0.7008547 ,  0.77777778,  0.50214592,  0.46551724])"
      ]
     },
     "execution_count": 461,
     "metadata": {},
     "output_type": "execute_result"
    }
   ],
   "source": [
    "svc = SVC(kernel= 'rbf', max_iter =130)\n",
    "cross_val_score(svc, X1, y, cv=5)"
   ]
  },
  {
   "cell_type": "markdown",
   "metadata": {},
   "source": [
    "## SVR for ELA"
   ]
  },
  {
   "cell_type": "code",
   "execution_count": 462,
   "metadata": {
    "collapsed": true
   },
   "outputs": [],
   "source": [
    "svc_params = {'kernel': ('rbf', 'poly', 'linear', 'sigmoid'),\n",
    "         'max_iter': range(1, 150)}"
   ]
  },
  {
   "cell_type": "code",
   "execution_count": 463,
   "metadata": {},
   "outputs": [
    {
     "name": "stdout",
     "output_type": "stream",
     "text": [
      "{'kernel': 'rbf', 'max_iter': 17}\n"
     ]
    },
    {
     "name": "stderr",
     "output_type": "stream",
     "text": [
      "C:\\Users\\blindside\\Anaconda3\\lib\\site-packages\\sklearn\\svm\\base.py:218: ConvergenceWarning: Solver terminated early (max_iter=17).  Consider pre-processing your data with StandardScaler or MinMaxScaler.\n",
      "  % self.max_iter, ConvergenceWarning)\n"
     ]
    }
   ],
   "source": [
    "svc = SVC()\n",
    "gs_svc = GridSearchCV(svc, svc_params, return_train_score=True, n_jobs =-1)\n",
    "gs_svc.fit(X1,y1)\n",
    "\n",
    "print(gs_svc.best_params_)"
   ]
  },
  {
   "cell_type": "code",
   "execution_count": 547,
   "metadata": {},
   "outputs": [
    {
     "data": {
      "text/plain": [
       "array([ 0.87606838,  0.87606838,  0.87553648,  0.87553648,  0.87553648])"
      ]
     },
     "execution_count": 547,
     "metadata": {},
     "output_type": "execute_result"
    }
   ],
   "source": [
    "svc = SVC(kernel= 'rbf', max_iter =17)\n",
    "cross_val_score(neighbors, X1, y1, cv=5)"
   ]
  },
  {
   "cell_type": "markdown",
   "metadata": {},
   "source": [
    "## With PCA"
   ]
  },
  {
   "cell_type": "code",
   "execution_count": 465,
   "metadata": {},
   "outputs": [
    {
     "name": "stdout",
     "output_type": "stream",
     "text": [
      "{'kernel': 'rbf', 'max_iter': 106}\n"
     ]
    },
    {
     "name": "stderr",
     "output_type": "stream",
     "text": [
      "C:\\Users\\blindside\\Anaconda3\\lib\\site-packages\\sklearn\\svm\\base.py:218: ConvergenceWarning: Solver terminated early (max_iter=106).  Consider pre-processing your data with StandardScaler or MinMaxScaler.\n",
      "  % self.max_iter, ConvergenceWarning)\n"
     ]
    }
   ],
   "source": [
    "svc = SVC()\n",
    "gs_svc = GridSearchCV(svc, svc_params, return_train_score=True, n_jobs =-1)\n",
    "gs_svc.fit(X_pca,y)\n",
    "\n",
    "print(gs_svc.best_params_)"
   ]
  },
  {
   "cell_type": "code",
   "execution_count": 546,
   "metadata": {},
   "outputs": [
    {
     "data": {
      "text/plain": [
       "array([ 0.81623932,  0.87606838,  0.87553648,  0.87553648,  0.87553648])"
      ]
     },
     "execution_count": 546,
     "metadata": {},
     "output_type": "execute_result"
    }
   ],
   "source": [
    "svc = SVC(kernel= 'rbf', max_iter =106)\n",
    "cross_val_score(neighbors, X_pca, y1, cv=5)"
   ]
  },
  {
   "cell_type": "markdown",
   "metadata": {},
   "source": [
    "## Gradient Boosting"
   ]
  },
  {
   "cell_type": "code",
   "execution_count": 478,
   "metadata": {},
   "outputs": [],
   "source": [
    "gb_params = {'n_estimators':range(1, 50,1),\n",
    "         'max_depth': range(1, 10),\n",
    "         'max_features': ('sqrt', 'log2')}"
   ]
  },
  {
   "cell_type": "code",
   "execution_count": 479,
   "metadata": {},
   "outputs": [
    {
     "name": "stdout",
     "output_type": "stream",
     "text": [
      "{'max_depth': 3, 'max_features': 'log2', 'n_estimators': 31}\n"
     ]
    }
   ],
   "source": [
    "gb = ensemble.GradientBoostingClassifier()\n",
    "gs = GridSearchCV(gb, gb_params, return_train_score=True, n_jobs =-1)\n",
    "gs.fit(X1,y)\n",
    "\n",
    "print(gs.best_params_)"
   ]
  },
  {
   "cell_type": "code",
   "execution_count": 480,
   "metadata": {},
   "outputs": [
    {
     "name": "stderr",
     "output_type": "stream",
     "text": [
      "C:\\Users\\blindside\\Anaconda3\\lib\\site-packages\\sklearn\\model_selection\\_split.py:605: Warning: The least populated class in y has only 4 members, which is too few. The minimum number of members in any class cannot be less than n_splits=5.\n",
      "  % (min_groups, self.n_splits)), Warning)\n"
     ]
    },
    {
     "data": {
      "text/plain": [
       "array([ 0.92307692,  0.88461538,  0.86752137,  0.85407725,  0.76293103])"
      ]
     },
     "execution_count": 480,
     "metadata": {},
     "output_type": "execute_result"
    }
   ],
   "source": [
    "gb = ensemble.GradientBoostingClassifier(max_depth= 3, n_estimators= 31, max_features = 'log2')\n",
    "cross_val_score(gb, X1, y, cv=5)"
   ]
  },
  {
   "cell_type": "code",
   "execution_count": 481,
   "metadata": {
    "collapsed": true
   },
   "outputs": [],
   "source": [
    "gb_params = {'n_estimators':range(25, 50,1),\n",
    "         'max_depth': range(2, 8),\n",
    "         'criterion': ('friedman_mse', 'mae', 'mse'),\n",
    "         'max_features': ('sqrt', 'log2')}"
   ]
  },
  {
   "cell_type": "code",
   "execution_count": 482,
   "metadata": {},
   "outputs": [
    {
     "name": "stdout",
     "output_type": "stream",
     "text": [
      "{'criterion': 'mae', 'max_depth': 3, 'max_features': 'log2', 'n_estimators': 30}\n"
     ]
    }
   ],
   "source": [
    "gb = ensemble.GradientBoostingClassifier()\n",
    "gs1 = GridSearchCV(gb, gb_params, return_train_score=True, n_jobs =-1)\n",
    "gs1.fit(X1,y)\n",
    "\n",
    "print(gs1.best_params_)"
   ]
  },
  {
   "cell_type": "code",
   "execution_count": 485,
   "metadata": {},
   "outputs": [
    {
     "name": "stderr",
     "output_type": "stream",
     "text": [
      "C:\\Users\\blindside\\Anaconda3\\lib\\site-packages\\sklearn\\model_selection\\_split.py:605: Warning: The least populated class in y has only 4 members, which is too few. The minimum number of members in any class cannot be less than n_splits=5.\n",
      "  % (min_groups, self.n_splits)), Warning)\n"
     ]
    },
    {
     "data": {
      "text/plain": [
       "array([ 0.89316239,  0.86752137,  0.8974359 ,  0.82403433,  0.76724138])"
      ]
     },
     "execution_count": 485,
     "metadata": {},
     "output_type": "execute_result"
    }
   ],
   "source": [
    "gb = ensemble.GradientBoostingClassifier(max_depth= 3, n_estimators= 30, max_features = 'log2', criterion = 'mae')\n",
    "cross_val_score(gb, X1, y, cv=5)"
   ]
  },
  {
   "cell_type": "code",
   "execution_count": 496,
   "metadata": {},
   "outputs": [],
   "source": [
    "gb = ensemble.GradientBoostingClassifier(max_features ='log2', criterion ='mae')\n",
    "gb_params = {'n_estimators':range(25, 75,1),\n",
    "         'max_depth': range(2, 25)}"
   ]
  },
  {
   "cell_type": "code",
   "execution_count": 497,
   "metadata": {},
   "outputs": [
    {
     "name": "stdout",
     "output_type": "stream",
     "text": [
      "{'max_depth': 3, 'n_estimators': 54}\n"
     ]
    }
   ],
   "source": [
    "gs1 = GridSearchCV(gb, gb_params, return_train_score=True, n_jobs =-1)\n",
    "gs1.fit(X1,y)\n",
    "\n",
    "print(gs1.best_params_)"
   ]
  },
  {
   "cell_type": "code",
   "execution_count": 498,
   "metadata": {},
   "outputs": [
    {
     "name": "stderr",
     "output_type": "stream",
     "text": [
      "C:\\Users\\blindside\\Anaconda3\\lib\\site-packages\\sklearn\\model_selection\\_split.py:605: Warning: The least populated class in y has only 4 members, which is too few. The minimum number of members in any class cannot be less than n_splits=5.\n",
      "  % (min_groups, self.n_splits)), Warning)\n"
     ]
    },
    {
     "data": {
      "text/plain": [
       "array([ 0.90598291,  0.87606838,  0.88034188,  0.80686695,  0.76724138])"
      ]
     },
     "execution_count": 498,
     "metadata": {},
     "output_type": "execute_result"
    }
   ],
   "source": [
    "gb = ensemble.GradientBoostingClassifier(max_depth= 3, n_estimators= 54, max_features = 'log2', criterion = 'mae')\n",
    "cross_val_score(gb, X1, y, cv=5)"
   ]
  },
  {
   "cell_type": "markdown",
   "metadata": {},
   "source": [
    "#### With PCA"
   ]
  },
  {
   "cell_type": "code",
   "execution_count": 82,
   "metadata": {},
   "outputs": [
    {
     "name": "stdout",
     "output_type": "stream",
     "text": [
      "{'max_depth': 2, 'n_estimators': 1}\n"
     ]
    }
   ],
   "source": [
    "gb = ensemble.GradientBoostingClassifier()\n",
    "gs = GridSearchCV(gb, gb_params, return_train_score=True, n_jobs =-1)\n",
    "gs.fit(X_pca,y)\n",
    "\n",
    "print(gs.best_params_)"
   ]
  },
  {
   "cell_type": "code",
   "execution_count": 87,
   "metadata": {},
   "outputs": [
    {
     "data": {
      "text/plain": [
       "array([ 0.72696246,  0.72696246,  0.72852234,  0.73103448])"
      ]
     },
     "execution_count": 87,
     "metadata": {},
     "output_type": "execute_result"
    }
   ],
   "source": [
    "gb = ensemble.GradientBoostingClassifier(max_depth= 2, n_estimators= 1)\n",
    "cross_val_score(gb, X_pca, y, cv=5)"
   ]
  },
  {
   "cell_type": "markdown",
   "metadata": {},
   "source": [
    "## Gradient Boosting for ELA"
   ]
  },
  {
   "cell_type": "code",
   "execution_count": 486,
   "metadata": {
    "collapsed": true
   },
   "outputs": [],
   "source": [
    "gb_params = {'n_estimators':range(1, 60,1),\n",
    "         'max_depth': range(2, 30),\n",
    "         'max_features': ('sqrt', 'log2')}"
   ]
  },
  {
   "cell_type": "code",
   "execution_count": 487,
   "metadata": {},
   "outputs": [
    {
     "name": "stdout",
     "output_type": "stream",
     "text": [
      "{'max_depth': 3, 'max_features': 'log2', 'n_estimators': 37}\n"
     ]
    }
   ],
   "source": [
    "gb = ensemble.GradientBoostingClassifier()\n",
    "gs = GridSearchCV(gb, gb_params, return_train_score=True, n_jobs =-1)\n",
    "gs.fit(X1,y1)\n",
    "\n",
    "print(gs.best_params_)"
   ]
  },
  {
   "cell_type": "code",
   "execution_count": 488,
   "metadata": {},
   "outputs": [
    {
     "data": {
      "text/plain": [
       "array([ 0.95726496,  0.94871795,  0.92274678,  0.91845494,  0.89699571])"
      ]
     },
     "execution_count": 488,
     "metadata": {},
     "output_type": "execute_result"
    }
   ],
   "source": [
    "gb = ensemble.GradientBoostingClassifier(max_depth= 3, n_estimators=37, max_features = 'log2')\n",
    "cross_val_score(gb, X1, y1, cv=5)"
   ]
  },
  {
   "cell_type": "code",
   "execution_count": 489,
   "metadata": {
    "collapsed": true
   },
   "outputs": [],
   "source": [
    "gb_params = {'n_estimators':range(30, 90,1),\n",
    "         'max_depth': range(2, 10),\n",
    "         'criterion': ('friedman_mse', 'mae', 'mse'),\n",
    "         'max_features': ('sqrt', 'log2')}"
   ]
  },
  {
   "cell_type": "code",
   "execution_count": 490,
   "metadata": {},
   "outputs": [
    {
     "name": "stdout",
     "output_type": "stream",
     "text": [
      "{'criterion': 'mse', 'max_depth': 3, 'max_features': 'log2', 'n_estimators': 49}\n"
     ]
    }
   ],
   "source": [
    "gb = ensemble.GradientBoostingClassifier()\n",
    "gs = GridSearchCV(gb, gb_params, return_train_score=True, n_jobs =-1)\n",
    "gs.fit(X1,y1)\n",
    "\n",
    "print(gs.best_params_)"
   ]
  },
  {
   "cell_type": "code",
   "execution_count": 499,
   "metadata": {},
   "outputs": [
    {
     "data": {
      "text/plain": [
       "array([ 0.94444444,  0.95299145,  0.91416309,  0.91845494,  0.89699571])"
      ]
     },
     "execution_count": 499,
     "metadata": {},
     "output_type": "execute_result"
    }
   ],
   "source": [
    "gb = ensemble.GradientBoostingClassifier(max_depth= 3, n_estimators=49, max_features = 'log2', criterion = 'mse')\n",
    "cross_val_score(gb, X1, y1, cv=5)"
   ]
  },
  {
   "cell_type": "markdown",
   "metadata": {},
   "source": [
    "#### With PCA"
   ]
  },
  {
   "cell_type": "code",
   "execution_count": 500,
   "metadata": {
    "collapsed": true
   },
   "outputs": [],
   "source": [
    "gb_params = {'n_estimators':range(1, 50,1),\n",
    "         'max_depth': range(2, 10),\n",
    "         'criterion': ('friedman_mse', 'mae', 'mse'),\n",
    "         'max_features': ('sqrt', 'log2') }"
   ]
  },
  {
   "cell_type": "code",
   "execution_count": 501,
   "metadata": {},
   "outputs": [
    {
     "name": "stdout",
     "output_type": "stream",
     "text": [
      "{'criterion': 'mse', 'max_depth': 4, 'max_features': 'log2', 'n_estimators': 7}\n"
     ]
    }
   ],
   "source": [
    "gb = ensemble.GradientBoostingClassifier()\n",
    "gs = GridSearchCV(gb, gb_params, return_train_score=True, n_jobs =-1)\n",
    "gs.fit(X1,y)\n",
    "\n",
    "print(gs.best_params_)"
   ]
  },
  {
   "cell_type": "code",
   "execution_count": 502,
   "metadata": {},
   "outputs": [
    {
     "name": "stderr",
     "output_type": "stream",
     "text": [
      "C:\\Users\\blindside\\Anaconda3\\lib\\site-packages\\sklearn\\model_selection\\_split.py:605: Warning: The least populated class in y has only 4 members, which is too few. The minimum number of members in any class cannot be less than n_splits=5.\n",
      "  % (min_groups, self.n_splits)), Warning)\n"
     ]
    },
    {
     "data": {
      "text/plain": [
       "array([ 0.72222222,  0.73076923,  0.74358974,  0.60515021,  0.69827586])"
      ]
     },
     "execution_count": 502,
     "metadata": {},
     "output_type": "execute_result"
    }
   ],
   "source": [
    "gb = ensemble.GradientBoostingClassifier(max_depth= 4, n_estimators= 7)\n",
    "cross_val_score(gb, X_pca, y, cv=5)"
   ]
  }
 ],
 "metadata": {
  "kernelspec": {
   "display_name": "Python 3",
   "language": "python",
   "name": "python3"
  },
  "language_info": {
   "codemirror_mode": {
    "name": "ipython",
    "version": 3
   },
   "file_extension": ".py",
   "mimetype": "text/x-python",
   "name": "python",
   "nbconvert_exporter": "python",
   "pygments_lexer": "ipython3",
   "version": "3.6.3"
  }
 },
 "nbformat": 4,
 "nbformat_minor": 2
}
