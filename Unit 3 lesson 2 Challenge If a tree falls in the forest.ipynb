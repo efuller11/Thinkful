{
 "cells": [
  {
   "cell_type": "markdown",
   "metadata": {},
   "source": [
    "# Challenge: If a tree falls in the forest..."
   ]
  },
  {
   "cell_type": "code",
   "execution_count": 14,
   "metadata": {
    "collapsed": true
   },
   "outputs": [],
   "source": [
    "import pandas as pd\n",
    "import numpy as np\n",
    "import matplotlib.pyplot as plt\n",
    "%matplotlib inline\n",
    "from sklearn import ensemble\n",
    "from sklearn.model_selection import cross_val_score\n",
    "import seaborn as sns\n",
    "import time\n",
    "from sklearn import tree\n",
    "from sklearn.model_selection import GridSearchCV\n",
    "from sklearn import preprocessing\n",
    "from sklearn.preprocessing import LabelEncoder, OneHotEncoder"
   ]
  },
  {
   "cell_type": "code",
   "execution_count": 15,
   "metadata": {
    "collapsed": true
   },
   "outputs": [],
   "source": [
    "kickstarter_data = pd.read_csv('kickstarter_2018.csv')"
   ]
  },
  {
   "cell_type": "code",
   "execution_count": 16,
   "metadata": {},
   "outputs": [
    {
     "data": {
      "text/html": [
       "<div>\n",
       "<style>\n",
       "    .dataframe thead tr:only-child th {\n",
       "        text-align: right;\n",
       "    }\n",
       "\n",
       "    .dataframe thead th {\n",
       "        text-align: left;\n",
       "    }\n",
       "\n",
       "    .dataframe tbody tr th {\n",
       "        vertical-align: top;\n",
       "    }\n",
       "</style>\n",
       "<table border=\"1\" class=\"dataframe\">\n",
       "  <thead>\n",
       "    <tr style=\"text-align: right;\">\n",
       "      <th></th>\n",
       "      <th>ID</th>\n",
       "      <th>name</th>\n",
       "      <th>category</th>\n",
       "      <th>main_category</th>\n",
       "      <th>currency</th>\n",
       "      <th>deadline</th>\n",
       "      <th>goal</th>\n",
       "      <th>launched</th>\n",
       "      <th>pledged</th>\n",
       "      <th>state</th>\n",
       "      <th>backers</th>\n",
       "      <th>country</th>\n",
       "      <th>usd pledged</th>\n",
       "      <th>usd_pledged_real</th>\n",
       "      <th>usd_goal_real</th>\n",
       "    </tr>\n",
       "  </thead>\n",
       "  <tbody>\n",
       "    <tr>\n",
       "      <th>0</th>\n",
       "      <td>1000002330</td>\n",
       "      <td>The Songs of Adelaide &amp; Abullah</td>\n",
       "      <td>Poetry</td>\n",
       "      <td>Publishing</td>\n",
       "      <td>GBP</td>\n",
       "      <td>2015-10-09</td>\n",
       "      <td>1000.0</td>\n",
       "      <td>2015-08-11 12:12:28</td>\n",
       "      <td>0.0</td>\n",
       "      <td>failed</td>\n",
       "      <td>0</td>\n",
       "      <td>GB</td>\n",
       "      <td>0.0</td>\n",
       "      <td>0.0</td>\n",
       "      <td>1533.95</td>\n",
       "    </tr>\n",
       "    <tr>\n",
       "      <th>1</th>\n",
       "      <td>1000003930</td>\n",
       "      <td>Greeting From Earth: ZGAC Arts Capsule For ET</td>\n",
       "      <td>Narrative Film</td>\n",
       "      <td>Film &amp; Video</td>\n",
       "      <td>USD</td>\n",
       "      <td>2017-11-01</td>\n",
       "      <td>30000.0</td>\n",
       "      <td>2017-09-02 04:43:57</td>\n",
       "      <td>2421.0</td>\n",
       "      <td>failed</td>\n",
       "      <td>15</td>\n",
       "      <td>US</td>\n",
       "      <td>100.0</td>\n",
       "      <td>2421.0</td>\n",
       "      <td>30000.00</td>\n",
       "    </tr>\n",
       "    <tr>\n",
       "      <th>2</th>\n",
       "      <td>1000004038</td>\n",
       "      <td>Where is Hank?</td>\n",
       "      <td>Narrative Film</td>\n",
       "      <td>Film &amp; Video</td>\n",
       "      <td>USD</td>\n",
       "      <td>2013-02-26</td>\n",
       "      <td>45000.0</td>\n",
       "      <td>2013-01-12 00:20:50</td>\n",
       "      <td>220.0</td>\n",
       "      <td>failed</td>\n",
       "      <td>3</td>\n",
       "      <td>US</td>\n",
       "      <td>220.0</td>\n",
       "      <td>220.0</td>\n",
       "      <td>45000.00</td>\n",
       "    </tr>\n",
       "    <tr>\n",
       "      <th>3</th>\n",
       "      <td>1000007540</td>\n",
       "      <td>ToshiCapital Rekordz Needs Help to Complete Album</td>\n",
       "      <td>Music</td>\n",
       "      <td>Music</td>\n",
       "      <td>USD</td>\n",
       "      <td>2012-04-16</td>\n",
       "      <td>5000.0</td>\n",
       "      <td>2012-03-17 03:24:11</td>\n",
       "      <td>1.0</td>\n",
       "      <td>failed</td>\n",
       "      <td>1</td>\n",
       "      <td>US</td>\n",
       "      <td>1.0</td>\n",
       "      <td>1.0</td>\n",
       "      <td>5000.00</td>\n",
       "    </tr>\n",
       "    <tr>\n",
       "      <th>4</th>\n",
       "      <td>1000011046</td>\n",
       "      <td>Community Film Project: The Art of Neighborhoo...</td>\n",
       "      <td>Film &amp; Video</td>\n",
       "      <td>Film &amp; Video</td>\n",
       "      <td>USD</td>\n",
       "      <td>2015-08-29</td>\n",
       "      <td>19500.0</td>\n",
       "      <td>2015-07-04 08:35:03</td>\n",
       "      <td>1283.0</td>\n",
       "      <td>canceled</td>\n",
       "      <td>14</td>\n",
       "      <td>US</td>\n",
       "      <td>1283.0</td>\n",
       "      <td>1283.0</td>\n",
       "      <td>19500.00</td>\n",
       "    </tr>\n",
       "  </tbody>\n",
       "</table>\n",
       "</div>"
      ],
      "text/plain": [
       "           ID                                               name  \\\n",
       "0  1000002330                    The Songs of Adelaide & Abullah   \n",
       "1  1000003930      Greeting From Earth: ZGAC Arts Capsule For ET   \n",
       "2  1000004038                                     Where is Hank?   \n",
       "3  1000007540  ToshiCapital Rekordz Needs Help to Complete Album   \n",
       "4  1000011046  Community Film Project: The Art of Neighborhoo...   \n",
       "\n",
       "         category main_category currency    deadline     goal  \\\n",
       "0          Poetry    Publishing      GBP  2015-10-09   1000.0   \n",
       "1  Narrative Film  Film & Video      USD  2017-11-01  30000.0   \n",
       "2  Narrative Film  Film & Video      USD  2013-02-26  45000.0   \n",
       "3           Music         Music      USD  2012-04-16   5000.0   \n",
       "4    Film & Video  Film & Video      USD  2015-08-29  19500.0   \n",
       "\n",
       "              launched  pledged     state  backers country  usd pledged  \\\n",
       "0  2015-08-11 12:12:28      0.0    failed        0      GB          0.0   \n",
       "1  2017-09-02 04:43:57   2421.0    failed       15      US        100.0   \n",
       "2  2013-01-12 00:20:50    220.0    failed        3      US        220.0   \n",
       "3  2012-03-17 03:24:11      1.0    failed        1      US          1.0   \n",
       "4  2015-07-04 08:35:03   1283.0  canceled       14      US       1283.0   \n",
       "\n",
       "   usd_pledged_real  usd_goal_real  \n",
       "0               0.0        1533.95  \n",
       "1            2421.0       30000.00  \n",
       "2             220.0       45000.00  \n",
       "3               1.0        5000.00  \n",
       "4            1283.0       19500.00  "
      ]
     },
     "execution_count": 16,
     "metadata": {},
     "output_type": "execute_result"
    }
   ],
   "source": [
    "kickstarter_data.head()"
   ]
  },
  {
   "cell_type": "code",
   "execution_count": 17,
   "metadata": {},
   "outputs": [
    {
     "data": {
      "text/html": [
       "<div>\n",
       "<style>\n",
       "    .dataframe thead tr:only-child th {\n",
       "        text-align: right;\n",
       "    }\n",
       "\n",
       "    .dataframe thead th {\n",
       "        text-align: left;\n",
       "    }\n",
       "\n",
       "    .dataframe tbody tr th {\n",
       "        vertical-align: top;\n",
       "    }\n",
       "</style>\n",
       "<table border=\"1\" class=\"dataframe\">\n",
       "  <thead>\n",
       "    <tr style=\"text-align: right;\">\n",
       "      <th></th>\n",
       "      <th>ID</th>\n",
       "      <th>goal</th>\n",
       "      <th>pledged</th>\n",
       "      <th>backers</th>\n",
       "      <th>usd pledged</th>\n",
       "      <th>usd_pledged_real</th>\n",
       "      <th>usd_goal_real</th>\n",
       "    </tr>\n",
       "  </thead>\n",
       "  <tbody>\n",
       "    <tr>\n",
       "      <th>count</th>\n",
       "      <td>3.786610e+05</td>\n",
       "      <td>3.786610e+05</td>\n",
       "      <td>3.786610e+05</td>\n",
       "      <td>378661.000000</td>\n",
       "      <td>3.748640e+05</td>\n",
       "      <td>3.786610e+05</td>\n",
       "      <td>3.786610e+05</td>\n",
       "    </tr>\n",
       "    <tr>\n",
       "      <th>mean</th>\n",
       "      <td>1.074731e+09</td>\n",
       "      <td>4.908079e+04</td>\n",
       "      <td>9.682979e+03</td>\n",
       "      <td>105.617476</td>\n",
       "      <td>7.036729e+03</td>\n",
       "      <td>9.058924e+03</td>\n",
       "      <td>4.545440e+04</td>\n",
       "    </tr>\n",
       "    <tr>\n",
       "      <th>std</th>\n",
       "      <td>6.190862e+08</td>\n",
       "      <td>1.183391e+06</td>\n",
       "      <td>9.563601e+04</td>\n",
       "      <td>907.185035</td>\n",
       "      <td>7.863975e+04</td>\n",
       "      <td>9.097334e+04</td>\n",
       "      <td>1.152950e+06</td>\n",
       "    </tr>\n",
       "    <tr>\n",
       "      <th>min</th>\n",
       "      <td>5.971000e+03</td>\n",
       "      <td>1.000000e-02</td>\n",
       "      <td>0.000000e+00</td>\n",
       "      <td>0.000000</td>\n",
       "      <td>0.000000e+00</td>\n",
       "      <td>0.000000e+00</td>\n",
       "      <td>1.000000e-02</td>\n",
       "    </tr>\n",
       "    <tr>\n",
       "      <th>25%</th>\n",
       "      <td>5.382635e+08</td>\n",
       "      <td>2.000000e+03</td>\n",
       "      <td>3.000000e+01</td>\n",
       "      <td>2.000000</td>\n",
       "      <td>1.698000e+01</td>\n",
       "      <td>3.100000e+01</td>\n",
       "      <td>2.000000e+03</td>\n",
       "    </tr>\n",
       "    <tr>\n",
       "      <th>50%</th>\n",
       "      <td>1.075276e+09</td>\n",
       "      <td>5.200000e+03</td>\n",
       "      <td>6.200000e+02</td>\n",
       "      <td>12.000000</td>\n",
       "      <td>3.947200e+02</td>\n",
       "      <td>6.243300e+02</td>\n",
       "      <td>5.500000e+03</td>\n",
       "    </tr>\n",
       "    <tr>\n",
       "      <th>75%</th>\n",
       "      <td>1.610149e+09</td>\n",
       "      <td>1.600000e+04</td>\n",
       "      <td>4.076000e+03</td>\n",
       "      <td>56.000000</td>\n",
       "      <td>3.034090e+03</td>\n",
       "      <td>4.050000e+03</td>\n",
       "      <td>1.550000e+04</td>\n",
       "    </tr>\n",
       "    <tr>\n",
       "      <th>max</th>\n",
       "      <td>2.147476e+09</td>\n",
       "      <td>1.000000e+08</td>\n",
       "      <td>2.033899e+07</td>\n",
       "      <td>219382.000000</td>\n",
       "      <td>2.033899e+07</td>\n",
       "      <td>2.033899e+07</td>\n",
       "      <td>1.663614e+08</td>\n",
       "    </tr>\n",
       "  </tbody>\n",
       "</table>\n",
       "</div>"
      ],
      "text/plain": [
       "                 ID          goal       pledged        backers   usd pledged  \\\n",
       "count  3.786610e+05  3.786610e+05  3.786610e+05  378661.000000  3.748640e+05   \n",
       "mean   1.074731e+09  4.908079e+04  9.682979e+03     105.617476  7.036729e+03   \n",
       "std    6.190862e+08  1.183391e+06  9.563601e+04     907.185035  7.863975e+04   \n",
       "min    5.971000e+03  1.000000e-02  0.000000e+00       0.000000  0.000000e+00   \n",
       "25%    5.382635e+08  2.000000e+03  3.000000e+01       2.000000  1.698000e+01   \n",
       "50%    1.075276e+09  5.200000e+03  6.200000e+02      12.000000  3.947200e+02   \n",
       "75%    1.610149e+09  1.600000e+04  4.076000e+03      56.000000  3.034090e+03   \n",
       "max    2.147476e+09  1.000000e+08  2.033899e+07  219382.000000  2.033899e+07   \n",
       "\n",
       "       usd_pledged_real  usd_goal_real  \n",
       "count      3.786610e+05   3.786610e+05  \n",
       "mean       9.058924e+03   4.545440e+04  \n",
       "std        9.097334e+04   1.152950e+06  \n",
       "min        0.000000e+00   1.000000e-02  \n",
       "25%        3.100000e+01   2.000000e+03  \n",
       "50%        6.243300e+02   5.500000e+03  \n",
       "75%        4.050000e+03   1.550000e+04  \n",
       "max        2.033899e+07   1.663614e+08  "
      ]
     },
     "execution_count": 17,
     "metadata": {},
     "output_type": "execute_result"
    }
   ],
   "source": [
    "kickstarter_data.describe()"
   ]
  },
  {
   "cell_type": "code",
   "execution_count": 18,
   "metadata": {
    "collapsed": true
   },
   "outputs": [],
   "source": [
    "kickstarter_data['state'] = kickstarter_data['state'].apply(lambda x: 1 if x == 'successful' else 0 )"
   ]
  },
  {
   "cell_type": "code",
   "execution_count": 19,
   "metadata": {},
   "outputs": [
    {
     "data": {
      "text/plain": [
       "0    244705\n",
       "1    133956\n",
       "Name: state, dtype: int64"
      ]
     },
     "execution_count": 19,
     "metadata": {},
     "output_type": "execute_result"
    }
   ],
   "source": [
    "kickstarter_data['state'].value_counts()"
   ]
  },
  {
   "cell_type": "code",
   "execution_count": 20,
   "metadata": {},
   "outputs": [
    {
     "data": {
      "text/plain": [
       "0.6462376637678556"
      ]
     },
     "execution_count": 20,
     "metadata": {},
     "output_type": "execute_result"
    }
   ],
   "source": [
    "244705 /(133956+244705)"
   ]
  },
  {
   "cell_type": "code",
   "execution_count": 21,
   "metadata": {
    "collapsed": true
   },
   "outputs": [],
   "source": [
    "success_data = kickstarter_data[kickstarter_data['state'] == 1]\n",
    "fail_data = kickstarter_data[kickstarter_data['state'] == 0]"
   ]
  },
  {
   "cell_type": "code",
   "execution_count": 22,
   "metadata": {},
   "outputs": [
    {
     "data": {
      "image/png": "[encoded data removed]",
      "text/plain": [
       "<matplotlib.figure.Figure at 0x2100ebe6c88>"
      ]
     },
     "metadata": {},
     "output_type": "display_data"
    }
   ],
   "source": [
    "plt.figure(figsize=(30, 28))\n",
    "plt.subplot(4, 2, 1)\n",
    "sns.countplot(success_data['main_category'])\n",
    "plt.title('main Categories')\n",
    "plt.xlabel(\"Kickstarter successes in each category\")\n",
    "plt.xticks(rotation = 90)\n",
    "sns.despine(left=False, bottom=True)\n",
    "\n",
    "plt.subplot(4, 2, 2)\n",
    "sns.countplot(fail_data['main_category'])\n",
    "plt.title('main Categories')\n",
    "plt.xlabel(\"Kickstarter nonsuccesses in each category\")\n",
    "plt.xticks(rotation = 90)\n",
    "sns.despine(left=False, bottom=True)\n",
    "\n",
    "plt.subplot(4, 2, 3)\n",
    "plt.boxplot(success_data['backers'])\n",
    "plt.title('success backers')\n",
    "plt.xlabel(\"backers\")\n",
    "\n",
    "plt.subplot(4, 2, 4)\n",
    "plt.boxplot(fail_data['backers'])\n",
    "plt.title('failed backers')\n",
    "plt.xlabel(\"backers\")\n",
    "\n",
    "plt.subplot(4, 2, 5)\n",
    "plt.boxplot(success_data['goal'])\n",
    "plt.title(\" Successful Kickstarter Goals\")\n",
    "plt.xlabel(\"goals\")\n",
    "plt.xticks(rotation = 90)\n",
    "\n",
    "plt.subplot(4, 2, 6)\n",
    "plt.boxplot(fail_data['goal'])\n",
    "plt.title(\" Failed Kickstarter Goals\")\n",
    "plt.xlabel(\"goals\")\n",
    "plt.xticks(rotation = 90)\n",
    "\n",
    "plt.subplot(4, 2, 7)\n",
    "plt.boxplot(success_data['pledged'])\n",
    "plt.title('Successful Kickstarter Pledges')\n",
    "plt.xlabel(\"Money pledged\")\n",
    "\n",
    "plt.subplot(4, 2, 8)\n",
    "plt.boxplot(success_data['pledged'])\n",
    "plt.title('Failed Kickstarter Pledges')\n",
    "plt.xlabel(\"Money pledged\")\n",
    "\n",
    "plt.show()"
   ]
  },
  {
   "cell_type": "markdown",
   "metadata": {},
   "source": [
    "### Cutting our the outliers"
   ]
  },
  {
   "cell_type": "code",
   "execution_count": 101,
   "metadata": {
    "collapsed": true
   },
   "outputs": [],
   "source": [
    "new_ks_data = kickstarter_data[kickstarter_data['pledged']< kickstarter_data['pledged'].quantile(0.70)]"
   ]
  },
  {
   "cell_type": "markdown",
   "metadata": {},
   "source": [
    "## Selecting features for the model"
   ]
  },
  {
   "cell_type": "code",
   "execution_count": 24,
   "metadata": {
    "collapsed": true
   },
   "outputs": [],
   "source": [
    "X = new_ks_data[['main_category', 'country','backers', 'goal', 'usd_goal_real']]\n",
    "y = new_ks_data[\"state\"]"
   ]
  },
  {
   "cell_type": "markdown",
   "metadata": {},
   "source": [
    "Converting the categorical values into numerical values so decision tree can run"
   ]
  },
  {
   "cell_type": "code",
   "execution_count": 25,
   "metadata": {
    "collapsed": true
   },
   "outputs": [],
   "source": [
    "X = pd.get_dummies(X)"
   ]
  },
  {
   "cell_type": "markdown",
   "metadata": {},
   "source": [
    "## Decision Tree"
   ]
  },
  {
   "cell_type": "code",
   "execution_count": 100,
   "metadata": {},
   "outputs": [
    {
     "name": "stdout",
     "output_type": "stream",
     "text": [
      "[19] [0.93692426866829615]\n"
     ]
    },
    {
     "data": {
      "image/png": "[encoded data removed]",
      "text/plain": [
       "<matplotlib.figure.Figure at 0x21006ecfe10>"
      ]
     },
     "metadata": {},
     "output_type": "display_data"
    }
   ],
   "source": [
    "# Writing a function to show the best max_depth with max_feature of auto showing a scatter plot with results.\n",
    "def best_depth(crit, max_feat, max_dep):\n",
    "    for i in range(1, max_dep):\n",
    "        score = [0]\n",
    "        best_dep = [0]\n",
    "        decision_tree = tree.DecisionTreeClassifier(criterion=crit, max_features = max_feat, max_depth = i)\n",
    "        decision_tree.fit(X, y)\n",
    "        results = cross_val_score(decision_tree, X, y, cv=5)\n",
    "        plt.scatter(i, np.mean(results))\n",
    "        if np.mean(results)> score:\n",
    "            del best_dep[0]\n",
    "            best_dep.append(i)\n",
    "            del score[0]\n",
    "            score.append(np.mean(results))\n",
    "            \n",
    "    print(best_dep, score)\n",
    "best_depth('gini', 'auto', 20)     "
   ]
  },
  {
   "cell_type": "code",
   "execution_count": 98,
   "metadata": {},
   "outputs": [
    {
     "name": "stdout",
     "output_type": "stream",
     "text": [
      "[19] [0.94181469535179363]\n"
     ]
    },
    {
     "data": {
      "image/png": "[encoded data removed]",
      "text/plain": [
       "<matplotlib.figure.Figure at 0x21006e19358>"
      ]
     },
     "metadata": {},
     "output_type": "display_data"
    }
   ],
   "source": [
    "# Writing a function to show the best max_feature with showing a scatter plot with results.\n",
    "def best_feature(crit, max_feat, max_dep):\n",
    "    for i in range(1, max_feat):\n",
    "        score = [0]\n",
    "        best_feat = [0]\n",
    "        decision_tree = tree.DecisionTreeClassifier(criterion=crit, max_features = i, max_depth = max_dep)\n",
    "        decision_tree.fit(X, y)\n",
    "        results = cross_val_score(decision_tree, X, y, cv=5)\n",
    "        plt.scatter(i, np.mean(results))\n",
    "        if np.mean(results)> score:\n",
    "            del best_feat[0]\n",
    "            best_feat.append(i)\n",
    "            del score[0]\n",
    "            score.append(np.mean(results))\n",
    "            \n",
    "    print(best_feat, score)\n",
    "best_feature('gini', 20, 19) "
   ]
  },
  {
   "cell_type": "code",
   "execution_count": 52,
   "metadata": {},
   "outputs": [
    {
     "data": {
      "text/plain": [
       "array([ 0.94262944,  0.94126237,  0.94439957,  0.94387137,  0.94174214])"
      ]
     },
     "execution_count": 52,
     "metadata": {},
     "output_type": "execute_result"
    }
   ],
   "source": [
    "decision_tree = tree.DecisionTreeClassifier(criterion='entropy', max_features = 19, max_depth = 19)\n",
    "decision_tree.fit(X, y)\n",
    "cross_val_score(decision_tree, X, y, cv=5)"
   ]
  },
  {
   "cell_type": "code",
   "execution_count": null,
   "metadata": {
    "collapsed": true
   },
   "outputs": [],
   "source": [
    "# This was my attempt on getting a plot with all the parameters after an hour of waiting I interupted it.\n",
    "crit_list =['gini', 'entropy']\n",
    "def best_parameters(crit, max_feat, max_dep):\n",
    "    score = [0]\n",
    "    best_feat = [0]\n",
    "    best_dep = [0]\n",
    "    best_crit = ['gini']\n",
    "    for i in range(1, max_feat):\n",
    "        for j in range(1, max_dep):\n",
    "            for criterion in crit:\n",
    "                decision_tree = tree.DecisionTreeClassifier(criterion=criterion, max_features = i, max_depth = j)\n",
    "                decision_tree.fit(X, y)\n",
    "                results = cross_val_score(decision_tree, X, y, cv=5)\n",
    "              \n",
    "                if np.mean(results)> score:\n",
    "                    del best_feat[0]\n",
    "                    best_feat.append(i)\n",
    "                    del best_dep[0]\n",
    "                    best_dep.append(j)\n",
    "                    del best_crit[0]\n",
    "                    best_crit.append(criterion)\n",
    "                    del score[0]\n",
    "                    score.append(np.mean(results))\n",
    "\n",
    "    print(best_crit, best_feat, best_dep, score)\n",
    "best_parameters(crit_list, 20, 20) "
   ]
  },
  {
   "cell_type": "markdown",
   "metadata": {},
   "source": [
    "## Forest"
   ]
  },
  {
   "cell_type": "code",
   "execution_count": 102,
   "metadata": {},
   "outputs": [
    {
     "name": "stdout",
     "output_type": "stream",
     "text": [
      "[19] [0.94818720568336334]\n"
     ]
    },
    {
     "data": {
      "image/png": "[encoded data removed]",
      "text/plain": [
       "<matplotlib.figure.Figure at 0x21004a63f60>"
      ]
     },
     "metadata": {},
     "output_type": "display_data"
    }
   ],
   "source": [
    "def best_depth(crit, max_feat, max_dep):\n",
    "    for i in range(1, max_dep):\n",
    "        score = [0]\n",
    "        best_dep = [0]\n",
    "        forest = ensemble.RandomForestClassifier(criterion=crit, max_features = max_feat, max_depth = i)\n",
    "        forest.fit(X, y)\n",
    "        results = cross_val_score(forest, X, y, cv=5)\n",
    "        plt.scatter(i, np.mean(results))\n",
    "        if np.mean(results)> score:\n",
    "            del best_dep[0]\n",
    "            best_dep.append(i)\n",
    "            del score[0]\n",
    "            score.append(np.mean(results))\n",
    "            \n",
    "    print(best_dep, score)\n",
    "best_depth('gini', 'auto', 20)   "
   ]
  },
  {
   "cell_type": "code",
   "execution_count": 103,
   "metadata": {},
   "outputs": [
    {
     "name": "stdout",
     "output_type": "stream",
     "text": [
      "[19] [0.93608213438293952]\n"
     ]
    },
    {
     "data": {
      "image/png": "[encoded data removed]",
      "text/plain": [
       "<matplotlib.figure.Figure at 0x21005bec048>"
      ]
     },
     "metadata": {},
     "output_type": "display_data"
    }
   ],
   "source": [
    "def best_feature(crit, max_feat, max_dep):\n",
    "    for i in range(1, max_feat):\n",
    "        score = [0]\n",
    "        best_feat = [0]\n",
    "        forest = ensemble.RandomForestClassifier(criterion=crit, max_features = i, max_depth = max_dep)\n",
    "        forest.fit(X, y)\n",
    "        results = cross_val_score(decision_tree, X, y, cv=5)\n",
    "        plt.scatter(i, np.mean(results))\n",
    "        if np.mean(results)> score:\n",
    "            del best_feat[0]\n",
    "            best_feat.append(i)\n",
    "            del score[0]\n",
    "            score.append(np.mean(results))\n",
    "            \n",
    "    print(best_feat, score)\n",
    "best_feature('gini', 20, 19)"
   ]
  },
  {
   "cell_type": "code",
   "execution_count": 104,
   "metadata": {},
   "outputs": [
    {
     "name": "stdout",
     "output_type": "stream",
     "text": [
      "[24] [0.93758911786919374]\n"
     ]
    },
    {
     "data": {
      "image/png": "[encoded data removed]",
      "text/plain": [
       "<matplotlib.figure.Figure at 0x2100580f8d0>"
      ]
     },
     "metadata": {},
     "output_type": "display_data"
    }
   ],
   "source": [
    "def best_est(crit, max_feat, max_dep, n_est):\n",
    "    for i in range(1, n_est):\n",
    "        score = [0]\n",
    "        best_feat = [0]\n",
    "        forest = ensemble.RandomForestClassifier(criterion=crit, max_features = max_feat, max_depth = max_dep, n_estimators = i)\n",
    "        forest.fit(X, y)\n",
    "        results = cross_val_score(decision_tree, X, y, cv=5)\n",
    "        plt.scatter(i, np.mean(results))\n",
    "        if np.mean(results)> score:\n",
    "            del best_feat[0]\n",
    "            best_feat.append(i)\n",
    "            del score[0]\n",
    "            score.append(np.mean(results))\n",
    "            \n",
    "    print(best_feat, score)\n",
    "best_est('gini', 18, 19, 25)"
   ]
  },
  {
   "cell_type": "code",
   "execution_count": 105,
   "metadata": {},
   "outputs": [
    {
     "data": {
      "text/plain": [
       "array([  5.72513624e-01,   2.33829607e-01,   1.47040515e-01,\n",
       "         1.51456804e-03,   2.97365377e-03,   9.63428161e-04,\n",
       "         1.12989533e-03,   3.13881111e-03,   1.23135782e-03,\n",
       "         4.84426023e-03,   1.46706916e-03,   6.69321927e-03,\n",
       "         3.85685068e-04,   4.61798633e-03,   7.64119072e-04,\n",
       "         1.56162158e-03,   1.71539648e-03,   3.15433586e-03,\n",
       "         1.33168871e-04,   8.45283504e-04,   1.90039560e-04,\n",
       "         1.17137867e-03,   1.03953863e-04,   5.66942554e-04,\n",
       "         1.42932527e-04,   3.59746223e-04,   5.16864132e-04,\n",
       "         1.61926556e-03,   5.66731360e-05,   1.32154638e-04,\n",
       "         4.47255141e-04,   0.00000000e+00,   6.00189699e-06,\n",
       "         5.03421779e-05,   7.77286517e-04,   4.71074393e-04,\n",
       "         4.08491120e-05,   2.37725446e-04,   9.93567670e-05,\n",
       "         2.33842392e-04,   2.25870962e-03])"
      ]
     },
     "execution_count": 105,
     "metadata": {},
     "output_type": "execute_result"
    }
   ],
   "source": [
    "rfc = ensemble.RandomForestClassifier(criterion = 'gini', n_estimators = 12,  max_depth= 19, max_features = 18)\n",
    "rfc.fit(X, y)\n",
    "rfc.feature_importances_"
   ]
  },
  {
   "cell_type": "code",
   "execution_count": 107,
   "metadata": {},
   "outputs": [
    {
     "data": {
      "text/plain": [
       "array([ 0.94606267,  0.94567429,  0.94822122,  0.94739786,  0.94548618])"
      ]
     },
     "execution_count": 107,
     "metadata": {},
     "output_type": "execute_result"
    }
   ],
   "source": [
    "cross_val_score(rfc, X, y, cv=5)"
   ]
  },
  {
   "cell_type": "code",
   "execution_count": 108,
   "metadata": {},
   "outputs": [
    {
     "data": {
      "text/plain": [
       "array([ 0.94590732,  0.94500629,  0.94747553,  0.94792605,  0.94565707])"
      ]
     },
     "execution_count": 108,
     "metadata": {},
     "output_type": "execute_result"
    }
   ],
   "source": [
    "rfc1 = ensemble.RandomForestClassifier(criterion = 'entropy', n_estimators = 12,  max_depth= 19, max_features = 18)\n",
    "rfc1.fit(X, y)\n",
    "cross_val_score(rfc, X, y, cv=5)"
   ]
  },
  {
   "cell_type": "code",
   "execution_count": 109,
   "metadata": {},
   "outputs": [
    {
     "name": "stdout",
     "output_type": "stream",
     "text": [
      "--- 52.53717756271362 seconds --- [ 0.94649848  0.94715094  0.94646574  0.94643467  0.94649682  0.94882709\n",
      "  0.94795712  0.94752214  0.94714929  0.94543873]\n"
     ]
    }
   ],
   "source": [
    "start_time = time.time()\n",
    "val_score =cross_val_score(rfc, X, y, cv=10)\n",
    "print(\"--- %s seconds ---\" % (time.time() - start_time),  val_score)"
   ]
  },
  {
   "cell_type": "markdown",
   "metadata": {},
   "source": [
    "Both entropy and gini were very close in accuracy, the best n_est I saw was 12, the best depth I saw was 19, and the best max features I saw was 18. With this setup they were close to 95% accuracy."
   ]
  },
  {
   "cell_type": "code",
   "execution_count": null,
   "metadata": {
    "collapsed": true
   },
   "outputs": [],
   "source": [
    "# This was my attempt on getting a plot with all the parameters after an hour of waiting I interupted it.\n",
    "crit_list =['gini', 'entropy']\n",
    "def best_forest_parameters(crit, max_feat, max_dep,  n_est):\n",
    "    score = [0]\n",
    "    best_feat = [0]\n",
    "    best_dep = [0]\n",
    "    best_crit = ['gini']\n",
    "    best_estimator = [0]\n",
    "    for i in range(1, max_feat):\n",
    "        for j in range(1, max_dep):\n",
    "            for criterion in crit:\n",
    "                for k in range(1, n_est):\n",
    "                    forest = ensemble.RandomForestClassifier(criterion=criterion, max_features = i, max_depth = j, n_estimators = k)\n",
    "                    forest.fit(X, y)\n",
    "                    results = cross_val_score(forest, X, y, cv=5)\n",
    "                    plt.plot(i, np.mean(results), 'r')\n",
    "                    plt.plot(j, np.mean(results), 'g')\n",
    "                    plt.plot(criterion, np.mean(results), 'b')\n",
    "                    plt.plot(k, np.mean(results), 'y')\n",
    "                    if np.mean(results)> score:\n",
    "                        del best_feat[0]\n",
    "                        best_feat.append(i)\n",
    "                        del best_dep[0]\n",
    "                        best_dep.append(j)\n",
    "                        del best_crit[0]\n",
    "                        best_crit.append(criterion)\n",
    "                        del best_estimator[0]\n",
    "                        best_estimator.append(criterion)\n",
    "                        del score[0]\n",
    "                        score.append(np.mean(results))\n",
    "\n",
    "    print(best_crit, best_feat, best_dep, score)\n",
    "\n",
    "best_forest_parameters(crit_list, 20, 20, 20)"
   ]
  }
 ],
 "metadata": {
  "kernelspec": {
   "display_name": "Python 3",
   "language": "python",
   "name": "python3"
  },
  "language_info": {
   "codemirror_mode": {
    "name": "ipython",
    "version": 3
   },
   "file_extension": ".py",
   "mimetype": "text/x-python",
   "name": "python",
   "nbconvert_exporter": "python",
   "pygments_lexer": "ipython3",
   "version": "3.6.3"
  }
 },
 "nbformat": 4,
 "nbformat_minor": 2
}
