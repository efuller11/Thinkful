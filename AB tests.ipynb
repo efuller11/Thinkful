{
 "cells": [
  {
   "cell_type": "markdown",
   "metadata": {},
   "source": [
    "1.Does a new supplement help people sleep better? "
   ]
  },
  {
   "cell_type": "markdown",
   "metadata": {},
   "source": [
    "Acquire a large group of people to test the supplement and then randomly break up the groups evenly. Have half take the supplement (group A) and half take a placebo (group B). I would get the gender, age, any back problems, a rough stress level of individual through a short survey of day to day and most importantly take measurements on sleep performance such as percentage of time in deep sleep versus light sleep and most of sleep on average that person gets a night. Before the trial starts the indivuals will need to have their sleep accessed for a specific period of time, probably at least a month. Then have the trial start and measure the difference in sleep patterns after the supplement. If the supplement works then the A group should have an increase in their specific sleep performance than B group.  "
   ]
  },
  {
   "cell_type": "markdown",
   "metadata": {},
   "source": [
    "2.Will new uniforms help a gym's business?"
   ]
  },
  {
   "cell_type": "markdown",
   "metadata": {},
   "source": [
    "For this case we would have to evenly yet randomly split up the days the company's employees would wear new uniforms and see how the sales varied. Group A would be old uniform days and group B would be new uniform days. The hypothesis would be that the newer uniforms would drive up numbers versus the old uniforms. The key metric I would take would be the total of all new sales that was made during each day, such as new contracts, training session purchases, and product purchases. Even though I would total those values for the key metric I would also want to know if the new uniform increased any specific sales more than others, perhaps the other sales might be roughly the same, except the training sessions have have been boosted."
   ]
  },
  {
   "cell_type": "markdown",
   "metadata": {},
   "source": [
    "3.Will a new homepage improve my online exotic pet rental business?"
   ]
  },
  {
   "cell_type": "markdown",
   "metadata": {},
   "source": [
    "There is something called a split URL test. This enables A/B testing for the two sites. The original would be the control site or group A and the new site will be group B. The hypothesis would be that a newer more modern webpage would make the company more rentals. The key metric will be how many rentals each site variation had over a specific amount of time. Other characteristics I would want to know is the session duration. "
   ]
  },
  {
   "cell_type": "markdown",
   "metadata": {},
   "source": [
    "4.If I put 'please read' in the email subject will more people read my emails"
   ]
  },
  {
   "cell_type": "markdown",
   "metadata": {},
   "source": [
    "Split up the email sent randomly and send half to each group. Group A will have 'please read', group B would not. The hypothesis would be that 'please read'group, group A would have a better read rate than group B. We would measure the amount of people or percentage of people that read versus didn't read by each group. Might want to measure age, gender, positional authority(assuming this was a company) also. "
   ]
  }
 ],
 "metadata": {
  "kernelspec": {
   "display_name": "Python 3",
   "language": "python",
   "name": "python3"
  },
  "language_info": {
   "codemirror_mode": {
    "name": "ipython",
    "version": 3
   },
   "file_extension": ".py",
   "mimetype": "text/x-python",
   "name": "python",
   "nbconvert_exporter": "python",
   "pygments_lexer": "ipython3",
   "version": "3.6.3"
  }
 },
 "nbformat": 4,
 "nbformat_minor": 2
}
