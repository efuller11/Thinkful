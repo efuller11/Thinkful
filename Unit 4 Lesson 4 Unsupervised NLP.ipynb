{
 "cells": [
  {
   "cell_type": "markdown",
   "metadata": {},
   "source": [
    "## Unsupervised NLP"
   ]
  },
  {
   "cell_type": "code",
   "execution_count": 44,
   "metadata": {},
   "outputs": [],
   "source": [
    "import numpy as np\n",
    "import pandas as pd\n",
    "import scipy\n",
    "import matplotlib.pyplot as plt\n",
    "import seaborn as sns\n",
    "import nltk\n",
    "from nltk.corpus import gutenberg\n",
    "import re\n",
    "from sklearn.model_selection import train_test_split\n",
    "from sklearn.feature_extraction.text import TfidfVectorizer\n",
    "from sklearn.decomposition import TruncatedSVD\n",
    "from sklearn.pipeline import make_pipeline\n",
    "from sklearn.preprocessing import Normalizer\n",
    "import spacy\n",
    "from sklearn.model_selection import cross_val_score\n",
    "%matplotlib inline"
   ]
  },
  {
   "cell_type": "code",
   "execution_count": 27,
   "metadata": {},
   "outputs": [
    {
     "name": "stdout",
     "output_type": "stream",
     "text": [
      "[nltk_data] Downloading package gutenberg to\n",
      "[nltk_data]     C:\\Users\\blindside\\AppData\\Roaming\\nltk_data...\n",
      "[nltk_data]   Package gutenberg is already up-to-date!\n",
      "['[ Emma by Jane Austen 1816 ]', 'VOLUME I', 'CHAPTER I', 'Emma Woodhouse , handsome , clever , and rich , with a comfortable home and happy disposition , seemed to unite some of the best blessings of existence ; and had lived nearly twenty - one years in the world with very little to distress or vex her .']\n"
     ]
    }
   ],
   "source": [
    "nltk.download('gutenberg')\n",
    "#reading in the data, this time in the form of paragraphs\n",
    "emma=gutenberg.paras('austen-emma.txt')\n",
    "#processing\n",
    "emma_paras=[]\n",
    "for paragraph in emma:\n",
    "    para=paragraph[0]\n",
    "    #removing the double-dash from all words\n",
    "    para=[re.sub(r'--','',word) for word in para]\n",
    "    #Forming each paragraph into a string and adding it to the list of strings.\n",
    "    emma_paras.append(' '.join(para))\n",
    "\n",
    "print(emma_paras[0:4])"
   ]
  },
  {
   "cell_type": "code",
   "execution_count": 49,
   "metadata": {},
   "outputs": [
    {
     "name": "stdout",
     "output_type": "stream",
     "text": [
      "Number of features: 1950\n",
      "Original sentence: \" I shall hear about you all ,\" said he ; \" that is my chief consolation .\n",
      "Tf_idf vector: {'consolation': 0.6547616985025793, 'hear': 0.5120227818620013, 'said': 0.30299582965558575, 'shall': 0.46616876368932997}\n"
     ]
    }
   ],
   "source": [
    "X_train, X_test = train_test_split(emma_paras, test_size=0.4, random_state=0)\n",
    "\n",
    "vectorizer = TfidfVectorizer(max_df=0.5, # drop words that occur in more than half the paragraphs\n",
    "                             min_df=2, # only use words that appear at least twice\n",
    "                             stop_words='english', \n",
    "                             lowercase=True, #convert everything to lower case (since Alice in Wonderland has the HABIT of CAPITALIZING WORDS for EMPHASIS)\n",
    "                             use_idf=True,#we definitely want to use inverse document frequencies in our weighting\n",
    "                             norm=u'l2', #Applies a correction factor so that longer paragraphs and shorter paragraphs get treated equally\n",
    "                             smooth_idf=True #Adds 1 to all document frequencies, as if an extra document existed that used every word once.  Prevents divide-by-zero errors\n",
    "                            )\n",
    "\n",
    "\n",
    "#Applying the vectorizer\n",
    "emma_paras_tfidf=vectorizer.fit_transform(emma_paras)\n",
    "print(\"Number of features: %d\" % emma_paras_tfidf.get_shape()[1])\n",
    "\n",
    "#splitting into training and test sets\n",
    "X_train_tfidf, X_test_tfidf= train_test_split(emma_paras_tfidf, test_size=0.4, random_state=0)\n",
    "\n",
    "\n",
    "#Reshapes the vectorizer output into something people can read\n",
    "X_train_tfidf_csr = X_train_tfidf.tocsr()\n",
    "\n",
    "#number of paragraphs\n",
    "n = X_train_tfidf_csr.shape[0]\n",
    "#A list of dictionaries, one per paragraph\n",
    "tfidf_bypara = [{} for _ in range(0,n)]\n",
    "#List of features\n",
    "terms = vectorizer.get_feature_names()\n",
    "#for each paragraph, lists the feature words and their tf-idf scores\n",
    "for i, j in zip(*X_train_tfidf_csr.nonzero()):\n",
    "    tfidf_bypara[i][terms[j]] = X_train_tfidf_csr[i, j]\n",
    "\n",
    "#Keep in mind that the log base 2 of 1 is 0, so a tf-idf score of 0 indicates that the word was present once in that sentence.\n",
    "print('Original sentence:', X_train[5])\n",
    "print('Tf_idf vector:', tfidf_bypara[5])"
   ]
  },
  {
   "cell_type": "code",
   "execution_count": 4,
   "metadata": {},
   "outputs": [
    {
     "name": "stdout",
     "output_type": "stream",
     "text": [
      "Percent variance captured by all components: 45.19180491596879\n",
      "Component 0:\n",
      "\" Oh !     0.999287\n",
      "\" Oh !     0.999287\n",
      "\" Oh !     0.999287\n",
      "\" Oh !     0.999287\n",
      "\" Oh !     0.999287\n",
      "\" Oh !     0.999287\n",
      "\" Oh !     0.999287\n",
      "\" Oh !\"    0.999287\n",
      "\" Oh !     0.999287\n",
      "\" Oh !     0.999287\n",
      "Name: 0, dtype: float64\n",
      "Component 1:\n",
      "\" You have made her too tall , Emma ,\" said Mr . Knightley .                                                                                                                0.635011\n",
      "\" You get upon delicate subjects , Emma ,\" said Mrs . Weston smiling ; \" remember that I am here . Mr .                                                                     0.576260\n",
      "\" I do not know what your opinion may be , Mrs . Weston ,\" said Mr . Knightley , \" of this great intimacy between Emma and Harriet Smith , but I think it a bad thing .\"    0.562131\n",
      "\" You are right , Mrs . Weston ,\" said Mr . Knightley warmly , \" Miss Fairfax is as capable as any of us of forming a just opinion of Mrs . Elton .                         0.562100\n",
      "\" There were misunderstandings between them , Emma ; he said so expressly .                                                                                                 0.528354\n",
      "Mr . Knightley might quarrel with her , but Emma could not quarrel with herself .                                                                                           0.522031\n",
      "\" Now ,\" said Emma , when they were fairly beyond the sweep gates , \" now Mr . Weston , do let me know what has happened .\"                                                 0.513333\n",
      "\" In one respect , perhaps , Mr . Elton ' s manners are superior to Mr . Knightley ' s or Mr . Weston ' s .                                                                 0.508312\n",
      "Emma found that it was not Mr . Weston ' s fault that the number of privy councillors was not yet larger .                                                                  0.503406\n",
      "\" I do not admire it ,\" said Mr . Knightley .                                                                                                                               0.500141\n",
      "Name: 1, dtype: float64\n",
      "Component 2:\n",
      "CHAPTER I       0.998555\n",
      "CHAPTER X       0.998555\n",
      "CHAPTER X       0.998555\n",
      "CHAPTER V       0.998555\n",
      "CHAPTER V       0.998555\n",
      "CHAPTER I       0.998555\n",
      "CHAPTER V       0.998555\n",
      "CHAPTER X       0.998555\n",
      "CHAPTER I       0.998555\n",
      "CHAPTER XIII    0.997353\n",
      "Name: 2, dtype: float64\n",
      "Component 3:\n",
      "But ah !    0.992917\n",
      "\" Ah !      0.992917\n",
      "\" Ah !      0.992917\n",
      "\" Ah !      0.992917\n",
      "\" Ah !\"     0.992917\n",
      "But ah !    0.992917\n",
      "\" Ah !      0.992917\n",
      "\" Ah !      0.992917\n",
      "\" Ah !      0.992917\n",
      "\" Ah !      0.992917\n",
      "Name: 3, dtype: float64\n",
      "Component 4:\n",
      "\" There were misunderstandings between them , Emma ; he said so expressly .    0.650592\n",
      "\" Are you well , my Emma ?\"                                                    0.598345\n",
      "Emma demurred .                                                                0.598345\n",
      "Emma was silenced .                                                            0.586974\n",
      "At first it was downright dulness to Emma .                                    0.585850\n",
      "\" Emma , my dear Emma \"                                                        0.576563\n",
      "Emma could not resist .                                                        0.569581\n",
      "\" It is not now worth a regret ,\" said Emma .                                  0.568524\n",
      "\" For shame , Emma !                                                           0.545628\n",
      "Emma was out of hearing .                                                      0.495632\n",
      "Name: 4, dtype: float64\n"
     ]
    }
   ],
   "source": [
    "#Our SVD data reducer.  We are going to reduce the feature space from 1379 to 130.\n",
    "svd= TruncatedSVD(130)\n",
    "lsa = make_pipeline(svd, Normalizer(copy=False))\n",
    "# Run SVD on the training data, then project the training data.\n",
    "X_train_lsa = lsa.fit_transform(X_train_tfidf)\n",
    "\n",
    "variance_explained=svd.explained_variance_ratio_\n",
    "total_variance = variance_explained.sum()\n",
    "print(\"Percent variance captured by all components:\",total_variance*100)\n",
    "\n",
    "#Looking at what sorts of paragraphs our solution considers similar, for the first five identified topics\n",
    "paras_by_component=pd.DataFrame(X_train_lsa,index=X_train)\n",
    "for i in range(5):\n",
    "    print('Component {}:'.format(i))\n",
    "    print(paras_by_component.loc[:,i].sort_values(ascending=False)[0:10])"
   ]
  },
  {
   "cell_type": "code",
   "execution_count": 5,
   "metadata": {},
   "outputs": [
    {
     "data": {
      "image/png": "[encoded data removed]",
      "text/plain": [
       "<matplotlib.figure.Figure at 0x2871aff1a20>"
      ]
     },
     "metadata": {},
     "output_type": "display_data"
    },
    {
     "name": "stdout",
     "output_type": "stream",
     "text": [
      "Key:\n",
      "0 That is _court_ .\n",
      "1 \" Yes , sir , I did indeed ; and I am very much obliged by your kind solicitude about me .\"\n",
      "2 \" How much his business engrosses him already is very plain from the circumstance of his forgetting to inquire for the book you recommended .\n",
      "3 To restrain him as much as might be , by her own manners , she was immediately preparing to speak with exquisite calmness and gravity of the weather and the night ; but scarcely had she begun , scarcely had they passed the sweep - gate and joined the other carriage , than she found her subject cut up  her hand seized  her attention demanded , and Mr . Elton actually making violent love to her : availing himself of the precious opportunity , declaring sentiments which must be already well known , hoping  fearing  adoring  ready to die if she refused him ; but flattering himself that his ardent attachment and unequalled love and unexampled passion could not fail of having some effect , and in short , very much resolved on being seriously accepted as soon as possible .\n",
      "4 Emma smiled and answered \" My visit was of use to the nervous part of her complaint , I hope ; but not even I can charm away a sore throat ; it is a most severe cold indeed .\n",
      "5 A very few minutes more , however , completed the present trial .\n",
      "6 \" I am delighted to hear you speak so stoutly on the subject ,\" replied Emma , smiling ; \" but you do not mean to deny that there was a time  and not very distant either  when you gave me reason to understand that you did care about him ?\"\n",
      "7 \" Very well ; and if he had intended to give her one , he would have told her so .\"\n",
      "8 Some laughed , and answered good - humouredly .\n",
      "9 \" There appeared such a perfectly good understanding among them all \" he began rather quickly , but checking himself , added , \" however , it is impossible for me to say on what terms they really were  how it might all be behind the scenes .\n"
     ]
    }
   ],
   "source": [
    "# Compute document similarity using LSA components\n",
    "similarity = np.asarray(np.asmatrix(X_train_lsa) * np.asmatrix(X_train_lsa).T)\n",
    "#Only taking the first 10 sentences\n",
    "sim_matrix=pd.DataFrame(similarity,index=X_train).iloc[0:10,0:10]\n",
    "#Making a plot\n",
    "ax = sns.heatmap(sim_matrix,yticklabels=range(10))\n",
    "plt.show()\n",
    "\n",
    "#Generating a key for the plot.\n",
    "print('Key:')\n",
    "for i in range(10):\n",
    "    print(i,sim_matrix.index[i])"
   ]
  },
  {
   "cell_type": "markdown",
   "metadata": {},
   "source": [
    "## Drill 0: Test set"
   ]
  },
  {
   "cell_type": "markdown",
   "metadata": {},
   "source": [
    "Now it's your turn: Apply our LSA model to the test set. Does it identify similar sentences for components 0 through 4?"
   ]
  },
  {
   "cell_type": "code",
   "execution_count": 6,
   "metadata": {},
   "outputs": [
    {
     "name": "stdout",
     "output_type": "stream",
     "text": [
      "Component 0:\n",
      "\" Oh !         0.999287\n",
      "\" Oh !         0.999287\n",
      "\" Oh !         0.999287\n",
      "\" Oh !\"        0.999287\n",
      "\" Oh no !      0.999287\n",
      "\" Me ! oh !    0.999287\n",
      "\" Oh !         0.999287\n",
      "\" Oh !         0.999287\n",
      "\" Oh !         0.999287\n",
      "\" Oh !         0.999287\n",
      "Name: 0, dtype: float64\n",
      "Component 1:\n",
      "\" Well , Mrs . Weston ,\" said Emma triumphantly when he left them , \" what do you say now to Mr . Knightley ' s marrying Jane Fairfax ?\"                                                                                                                                                                                                                                                                                                             0.673695\n",
      "Frank turned instantly to Emma , to claim her former promise ; and boasted himself an engaged man , which his father looked his most perfect approbation of  and it then appeared that Mrs . Weston was wanting _him_ to dance with Mrs . Elton himself , and that their business was to help to persuade him into it , which was done pretty soon . Mr . Weston and Mrs . Elton led the way , Mr . Frank Churchill and Miss Woodhouse followed .    0.602417\n",
      "In this walk Emma and Mr . Weston found all the others assembled ; and towards this view she immediately perceived Mr . Knightley and Harriet distinct from the rest , quietly leading the way .                                                                                                                                                                                                                                                     0.569130\n",
      "\" He is a person I never think of from one month ' s end to another ,\" said Mr . Knightley , with a degree of vexation , which made Emma immediately talk of something else , though she could not comprehend why he should be angry .                                                                                                                                                                                                               0.567802\n",
      "After tea , Mr . and Mrs . Weston , and Mr . Elton sat down with Mr . Woodhouse to cards .                                                                                                                                                                                                                                                                                                                                                           0.567264\n",
      "The result of this distress was , that , with a much more voluntary , cheerful consent than his daughter had ever presumed to hope for at the moment , she was able to fix her wedding - day  and Mr . Elton was called on , within a month from the marriage of Mr . and Mrs . Robert Martin , to join the hands of Mr . Knightley and Miss Woodhouse .                                                                                             0.554791\n",
      "\" Mrs . Weston ' s manners ,\" said Emma , \" were always particularly good .                                                                                                                                                                                                                                                                                                                                                                          0.550090\n",
      "Emma was more than half in hopes of Mr . Elton ' s having dropt a hint .                                                                                                                                                                                                                                                                                                                                                                             0.538958\n",
      "\" Well ,\" said Emma , \" there is no disputing about taste . At least you admire her except her complexion .\"                                                                                                                                                                                                                                                                                                                                         0.532211\n",
      "Nobody had any information to give ; and , after a few more wonderings , Emma said ,                                                                                                                                                                                                                                                                                                                                                                 0.532080\n",
      "Name: 1, dtype: float64\n",
      "Component 2:\n",
      "CHAPTER XVIII    0.998555\n",
      "CHAPTER XV       0.998555\n",
      "CHAPTER XVIII    0.998555\n",
      "CHAPTER XVIII    0.998555\n",
      "CHAPTER XV       0.998555\n",
      "CHAPTER XV       0.998555\n",
      "CHAPTER XIX      0.998555\n",
      "CHAPTER XIII     0.997353\n",
      "CHAPTER XIII     0.997353\n",
      "CHAPTER XVII     0.997326\n",
      "Name: 2, dtype: float64\n",
      "Component 3:\n",
      "\" Ah !     0.992917\n",
      "\" Ah !     0.992917\n",
      "\" Ah !     0.992917\n",
      "\" Ah !     0.992917\n",
      "\" Ah !     0.992917\n",
      "\" Ah !     0.992917\n",
      "\" Ah !\"    0.992917\n",
      "\" Ah !     0.992917\n",
      "\" Ah !     0.992917\n",
      "\" Ah !     0.992917\n",
      "Name: 3, dtype: float64\n",
      "Component 4:\n",
      "Nobody had any information to give ; and , after a few more wonderings , Emma said ,                            0.630985\n",
      "\" No , no ,\" said Emma , \" it will not reckon low .                                                             0.628148\n",
      "\" Well ,\" said Emma , \" there is no disputing about taste . At least you admire her except her complexion .\"    0.620348\n",
      "\" Emma !\"                                                                                                       0.598345\n",
      "\" My Emma !\"                                                                                                    0.598345\n",
      "Emma had done .                                                                                                 0.598345\n",
      "Emma wondered on what , of all the medley , she would fix .                                                     0.593280\n",
      "\" And I do envy him , Emma .                                                                                    0.591036\n",
      "\" Emma ,\" said she , \" this paper is worse than I expected .                                                    0.588903\n",
      "\" No ,\" said Emma , laughing ; \" but perhaps there might be some made to his coming back again .                0.550739\n",
      "Name: 4, dtype: float64\n"
     ]
    }
   ],
   "source": [
    "# Remember, you will use the same model, only with the test set data.  Don't fit a new model by mistake!\n",
    "\n",
    "X_test_lsa = lsa.transform(X_test_tfidf)\n",
    "\n",
    "#Looking at what sorts of paragraphs our solution considers similar, for the first five identified topics\n",
    "test_by_component=pd.DataFrame(X_test_lsa,index=X_test)\n",
    "for i in range(5):\n",
    "    print('Component {}:'.format(i))\n",
    "    print(test_by_component.loc[:,i].sort_values(ascending=False)[0:10])"
   ]
  },
  {
   "cell_type": "markdown",
   "metadata": {},
   "source": [
    "## Drill 1: Tweaking tf-idf"
   ]
  },
  {
   "cell_type": "markdown",
   "metadata": {
    "collapsed": true
   },
   "source": [
    "Go back up to the code where we originally translated the text from words to numbers. There are a lot of decision-points here, from the stop list to the thresholds for inclusion and exclusion, and many others as well. We also didn't integrate spaCy, and so don't have info on lemmas or Named Entities. Change things up a few times and see how that affects the results of the LSA. Write up your observations and share them with your mentor."
   ]
  },
  {
   "cell_type": "code",
   "execution_count": 53,
   "metadata": {},
   "outputs": [
    {
     "name": "stdout",
     "output_type": "stream",
     "text": [
      "Number of features: 1020\n"
     ]
    }
   ],
   "source": [
    "vectorizer = TfidfVectorizer(max_df=0.333, # drop words that occur in more than 1/3 of the paragraphs\n",
    "                             min_df=4, # only use words that appear at least 4 times\n",
    "                             stop_words='english', \n",
    "                             lowercase=True, #convert everything to lower case (since Alice in Wonderland has the HABIT of CAPITALIZING WORDS for EMPHASIS)\n",
    "                             use_idf=True,#we definitely want to use inverse document frequencies in our weighting\n",
    "                             norm=u'l2', #Applies a correction factor so that longer paragraphs and shorter paragraphs get treated equally\n",
    "                             smooth_idf=True #Adds 1 to all document frequencies, as if an extra document existed that used every word once.  Prevents divide-by-zero errors\n",
    "                            )\n",
    "\n",
    "\n",
    "#Applying the vectorizer\n",
    "emma_paras_tfidf=vectorizer.fit_transform(emma_paras)\n",
    "print(\"Number of features: %d\" % emma_paras_tfidf.get_shape()[1])\n",
    "\n",
    "#splitting into training and test sets\n",
    "X_train_tfidf, X_test_tfidf= train_test_split(emma_paras_tfidf, test_size=0.4, random_state=0)"
   ]
  },
  {
   "cell_type": "code",
   "execution_count": 54,
   "metadata": {},
   "outputs": [
    {
     "name": "stdout",
     "output_type": "stream",
     "text": [
      "Component 0:\n",
      "\" Oh !    0.999387\n",
      "\" Oh !    0.999387\n",
      "\" Oh !    0.999387\n",
      "\" Oh !    0.999387\n",
      "\" Oh !    0.999387\n",
      "\" Oh !    0.999387\n",
      "\" Oh !    0.999387\n",
      "\" Oh !    0.999387\n",
      "\" Oh !    0.999387\n",
      "\" Oh !    0.999387\n",
      "Name: 0, dtype: float64\n",
      "Component 1:\n",
      "CHAPTER XIII     0.999087\n",
      "CHAPTER XIX      0.999087\n",
      "CHAPTER VIII     0.999087\n",
      "CHAPTER XII      0.999087\n",
      "CHAPTER IX       0.999087\n",
      "CHAPTER VII      0.999087\n",
      "CHAPTER I        0.999087\n",
      "CHAPTER XIV      0.999087\n",
      "CHAPTER XVII     0.999087\n",
      "CHAPTER XVIII    0.999087\n",
      "Name: 1, dtype: float64\n",
      "Component 2:\n",
      "\" You have made her too tall , Emma ,\" said Mr . Knightley .                                                                                                                                                                                                                                                                                                                                                                                           0.655078\n",
      "After tea , Mr . and Mrs . Weston , and Mr . Elton sat down with Mr . Woodhouse to cards .                                                                                                                                                                                                                                                                                                                                                             0.589847\n",
      "\" You get upon delicate subjects , Emma ,\" said Mrs . Weston smiling ; \" remember that I am here .  Mr .                                                                                                                                                                                                                                                                                                                                               0.580214\n",
      "\" I do not know what your opinion may be , Mrs . Weston ,\" said Mr . Knightley , \" of this great intimacy between Emma and Harriet Smith , but I think it a bad thing .\"                                                                                                                                                                                                                                                                               0.557270\n",
      "Emma found that it was not Mr . Weston ' s fault that the number of privy councillors was not yet larger .                                                                                                                                                                                                                                                                                                                                             0.555107\n",
      "Frank turned instantly to Emma , to claim her former promise ; and boasted himself an engaged man , which his father looked his most perfect approbation of   and it then appeared that Mrs . Weston was wanting _him_ to dance with Mrs . Elton himself , and that their business was to help to persuade him into it , which was done pretty soon .  Mr . Weston and Mrs . Elton led the way , Mr . Frank Churchill and Miss Woodhouse followed .    0.554614\n",
      "\" Mr . Weston will be almost as much relieved as myself ,\" said she .                                                                                                                                                                                                                                                                                                                                                                                  0.551697\n",
      "\" You are right , Mrs . Weston ,\" said Mr . Knightley warmly , \" Miss Fairfax is as capable as any of us of forming a just opinion of Mrs . Elton .                                                                                                                                                                                                                                                                                                    0.550841\n",
      "\" In one respect , perhaps , Mr . Elton ' s manners are superior to Mr . Knightley ' s or Mr . Weston ' s .                                                                                                                                                                                                                                                                                                                                            0.549501\n",
      "Mr . Knightley might quarrel with her , but Emma could not quarrel with herself .                                                                                                                                                                                                                                                                                                                                                                      0.548910\n",
      "Name: 2, dtype: float64\n",
      "Component 3:\n",
      "\" Emma !\"                                                                                                                0.569620\n",
      "Emma demurred .                                                                                                          0.569620\n",
      "Emma was silenced .                                                                                                      0.569620\n",
      "\" Are you well , my Emma ?\"                                                                                              0.569620\n",
      "Emma was out of hearing .                                                                                                0.496508\n",
      "Emma remained in a state of vexation too ; but there was more indistinctness in the causes of her ' s , than in his .    0.487873\n",
      "\" From something that he said , my dear Emma , I rather imagine  \"                                                       0.487686\n",
      "\" For shame , Emma !                                                                                                     0.480369\n",
      "This wretched note was the finale of Emma ' s breakfast .                                                                0.478507\n",
      "\" What is to be done , my dear Emma ?  what is to be done ?\"                                                             0.442891\n",
      "Name: 3, dtype: float64\n",
      "Component 4:\n",
      "\" Ah !    0.984292\n",
      "\" Ah !    0.984292\n",
      "\" Ah !    0.984292\n",
      "\" Ah !    0.984292\n",
      "\" Ah !    0.984292\n",
      "\" Ah !    0.984292\n",
      "\" Ah !    0.984292\n",
      "\" Ah !    0.984292\n",
      "\" Ah !    0.984292\n",
      "\" Ah !    0.984292\n",
      "Name: 4, dtype: float64\n"
     ]
    }
   ],
   "source": [
    "# Keeping same number of components\n",
    "svd= TruncatedSVD(130)\n",
    "lsa = make_pipeline(svd, Normalizer(copy=False))\n",
    "\n",
    "# Fit with train data\n",
    "X_train_lsa = lsa.fit_transform(X_train_tfidf)\n",
    "\n",
    "#Looking at what sorts of paragraphs our solution considers similar, for the first five identified topics\n",
    "paras_by_component=pd.DataFrame(X_train_lsa,index=X_train)\n",
    "for i in range(5):\n",
    "    print('Component {}:'.format(i))\n",
    "    print(paras_by_component.loc[:,i].sort_values(ascending=False)[0:10])"
   ]
  },
  {
   "cell_type": "code",
   "execution_count": 55,
   "metadata": {},
   "outputs": [
    {
     "name": "stdout",
     "output_type": "stream",
     "text": [
      "Component 0:\n",
      "\" Oh !       0.999767\n",
      "\" Oh !       0.999767\n",
      "\" Oh !       0.999767\n",
      "\" Oh !       0.999767\n",
      "\" Oh !       0.999767\n",
      "\" Oh !       0.999767\n",
      "\" Oh !\"      0.999767\n",
      "\" Oh !       0.999767\n",
      "\" Oh !       0.999767\n",
      "\" Oh no !    0.999767\n",
      "Name: 0, dtype: float64\n",
      "Component 1:\n",
      "\" There were misunderstandings between them , Emma ; he said so expressly .                                                                 0.624248\n",
      "\" Well , Mrs . Weston ,\" said Emma triumphantly when he left them , \" what do you say now to Mr . Knightley ' s marrying Jane Fairfax ?\"    0.618705\n",
      "Nobody had any information to give ; and , after a few more wonderings , Emma said ,                                                        0.603120\n",
      "Mrs . Weston said no more ; and Emma could imagine with what surprize and mortification she must be returning to her seat .                 0.542056\n",
      "\" Mrs . Weston ' s manners ,\" said Emma , \" were always particularly good .                                                                 0.531200\n",
      "\" No , no ,\" said Emma , \" it will not reckon low .                                                                                         0.521301\n",
      "Emma could not resist .                                                                                                                     0.508947\n",
      "Emma had done .                                                                                                                             0.508947\n",
      "\" And I do envy him , Emma .                                                                                                                0.508947\n",
      "At first it was downright dulness to Emma .                                                                                                 0.508947\n",
      "Name: 1, dtype: float64\n",
      "Component 2:\n",
      "CHAPTER IX     1.0\n",
      "CHAPTER VII    1.0\n",
      "CHAPTER XI     1.0\n",
      "CHAPTER XV     1.0\n",
      "CHAPTER X      1.0\n",
      "CHAPTER XV     1.0\n",
      "CHAPTER XI     1.0\n",
      "CHAPTER VI     1.0\n",
      "CHAPTER XV     1.0\n",
      "CHAPTER XII    1.0\n",
      "Name: 2, dtype: float64\n",
      "Component 3:\n",
      "\" My Emma !\"                                                                                                                                        0.780788\n",
      "Emma had done .                                                                                                                                     0.780788\n",
      "\" And I do envy him , Emma .                                                                                                                        0.780788\n",
      "Emma wondered on what , of all the medley , she would fix .                                                                                         0.780788\n",
      "Emma could not resist .                                                                                                                             0.780788\n",
      "At first it was downright dulness to Emma .                                                                                                         0.780788\n",
      "\" Emma , my dear Emma  \"                                                                                                                            0.652517\n",
      "\" Such an imagination has crossed me , I own , Emma ; and if it never occurred to you before , you may as well take it into consideration now .\"    0.614993\n",
      "No second meeting had there yet been between him and Emma .                                                                                         0.539399\n",
      "\" There were misunderstandings between them , Emma ; he said so expressly .                                                                         0.489218\n",
      "Name: 3, dtype: float64\n",
      "Component 4:\n",
      "\" Ah !\"    0.998279\n",
      "\" Ah !     0.998279\n",
      "\" Ah !     0.998279\n",
      "\" Ah !     0.998279\n",
      "\" Ah !     0.998279\n",
      "\" Ah !     0.998279\n",
      "\" Ah !     0.998279\n",
      "\" Ah !     0.998279\n",
      "\" Ah !     0.998279\n",
      "\" Ah !     0.998279\n",
      "Name: 4, dtype: float64\n"
     ]
    }
   ],
   "source": [
    "X_test_lsa = lsa.fit_transform(X_test_tfidf)\n",
    "\n",
    "#Looking at what sorts of paragraphs our solution considers similar, for the first five identified topics\n",
    "paras_by_component=pd.DataFrame(X_test_lsa,index=X_test)\n",
    "for i in range(5):\n",
    "    print('Component {}:'.format(i))\n",
    "    print(paras_by_component.loc[:,i].sort_values(ascending=False)[0:10])"
   ]
  },
  {
   "cell_type": "markdown",
   "metadata": {},
   "source": [
    "## Changing component number"
   ]
  },
  {
   "cell_type": "code",
   "execution_count": 56,
   "metadata": {},
   "outputs": [
    {
     "name": "stdout",
     "output_type": "stream",
     "text": [
      "Component 0:\n",
      "\" Oh !     0.999489\n",
      "\" Oh !\"    0.999489\n",
      "\" Oh !     0.999489\n",
      "\" Oh !     0.999489\n",
      "\" Oh !     0.999489\n",
      "\" Oh !     0.999489\n",
      "\" Oh !     0.999489\n",
      "\" Oh !     0.999489\n",
      "\" Oh !     0.999489\n",
      "\" Oh !     0.999489\n",
      "Name: 0, dtype: float64\n",
      "Component 1:\n",
      "CHAPTER XIII     0.999999\n",
      "CHAPTER V        0.999999\n",
      "CHAPTER IX       0.999999\n",
      "CHAPTER V        0.999999\n",
      "CHAPTER XVII     0.999999\n",
      "CHAPTER XVIII    0.999999\n",
      "CHAPTER XIV      0.999999\n",
      "CHAPTER IV       0.999999\n",
      "CHAPTER XVII     0.999999\n",
      "CHAPTER I        0.999999\n",
      "Name: 1, dtype: float64\n",
      "Component 2:\n",
      "The rest of the gentlemen being now in the room , Emma found herself obliged to turn from him for a few minutes , and listen to Mr . Cole .                                                                                                                                                                                                                                                                                                                                             0.716908\n",
      "\" You get upon delicate subjects , Emma ,\" said Mrs . Weston smiling ; \" remember that I am here .  Mr .                                                                                                                                                                                                                                                                                                                                                                                0.715793\n",
      "\" Emma knows I never flatter her ,\" said Mr . Knightley , \" but I meant no reflection on any body .                                                                                                                                                                                                                                                                                                                                                                                     0.688507\n",
      "Emma would not have smiled for the world , and only said , \" Is Mr . Elton gone on foot to Donwell ?  He will have a hot walk .\"                                                                                                                                                                                                                                                                                                                                                        0.684958\n",
      "In this walk Emma and Mr . Weston found all the others assembled ; and towards this view she immediately perceived Mr . Knightley and Harriet distinct from the rest , quietly leading the way .                                                                                                                                                                                                                                                                                        0.678695\n",
      "Emma could not forgive her ;  but as neither provocation nor resentment were discerned by Mr . Knightley , who had been of the party , and had seen only proper attention and pleasing behaviour on each side , he was expressing the next morning , being at Hartfield again on business with Mr . Woodhouse , his approbation of the whole ; not so openly as he might have done had her father been out of the room , but speaking plain enough to be very intelligible to Emma .    0.675963\n",
      "\" I do not know what your opinion may be , Mrs . Weston ,\" said Mr . Knightley , \" of this great intimacy between Emma and Harriet Smith , but I think it a bad thing .\"                                                                                                                                                                                                                                                                                                                0.675663\n",
      "\" You have made her too tall , Emma ,\" said Mr . Knightley .                                                                                                                                                                                                                                                                                                                                                                                                                            0.672719\n",
      "The result of this distress was , that , with a much more voluntary , cheerful consent than his daughter had ever presumed to hope for at the moment , she was able to fix her wedding - day   and Mr . Elton was called on , within a month from the marriage of Mr . and Mrs . Robert Martin , to join the hands of Mr . Knightley and Miss Woodhouse .                                                                                                                               0.669895\n",
      "\" Emma ,\" said Mr . Knightley presently , \" I have a piece of news for you .                                                                                                                                                                                                                                                                                                                                                                                                            0.665975\n",
      "Name: 2, dtype: float64\n",
      "Component 3:\n",
      "Emma saw his anxiety , and wishing to appease it , at least for the present , said , and with a sincerity which no one could question                                      0.588659\n",
      "\" My dearest Emma ,\" said he , \" for dearest you will always be , whatever the event of this hour ' s conversation , my dearest , most beloved Emma   tell me at once .    0.583479\n",
      "Emma demurred .                                                                                                                                                            0.576969\n",
      "\" Are you well , my Emma ?\"                                                                                                                                                0.576969\n",
      "Emma was silenced .                                                                                                                                                        0.576969\n",
      "\" Emma !\"                                                                                                                                                                  0.576969\n",
      "\" For shame , Emma !                                                                                                                                                       0.576716\n",
      "Emma could imagine she saw a touch of the arm at this speech , from his wife .                                                                                             0.576654\n",
      "Emma could not bear to give him pain .                                                                                                                                     0.573661\n",
      "\" I am very much obliged to you ,\" said Emma , laughing again .                                                                                                            0.573235\n",
      "Name: 3, dtype: float64\n",
      "Component 4:\n",
      "\" Ah !      0.984663\n",
      "But ah !    0.984663\n",
      "\" Ah !      0.984663\n",
      "\" Ah !      0.984663\n",
      "\" Ah !      0.984663\n",
      "\" Ah !      0.984663\n",
      "\" Ah !      0.984663\n",
      "\" Ah !      0.984663\n",
      "\" Ah !      0.984663\n",
      "But ah !    0.984663\n",
      "Name: 4, dtype: float64\n"
     ]
    }
   ],
   "source": [
    "# Keeping same number of components\n",
    "svd= TruncatedSVD(35)\n",
    "lsa = make_pipeline(svd, Normalizer(copy=False))\n",
    "\n",
    "# Fit with train data\n",
    "X_train_lsa = lsa.fit_transform(X_train_tfidf)\n",
    "\n",
    "#Looking at what sorts of paragraphs our solution considers similar, for the first five identified topics\n",
    "paras_by_component=pd.DataFrame(X_train_lsa,index=X_train)\n",
    "for i in range(5):\n",
    "    print('Component {}:'.format(i))\n",
    "    print(paras_by_component.loc[:,i].sort_values(ascending=False)[0:10])"
   ]
  },
  {
   "cell_type": "code",
   "execution_count": 57,
   "metadata": {},
   "outputs": [
    {
     "name": "stdout",
     "output_type": "stream",
     "text": [
      "Component 0:\n",
      "\" Me !  oh !    0.999849\n",
      "\" Oh !          0.999849\n",
      "\" Oh !          0.999849\n",
      "\" Oh !          0.999849\n",
      "\" Oh !          0.999849\n",
      "\" Oh no !       0.999849\n",
      "\" Oh !          0.999849\n",
      "\" Oh !          0.999849\n",
      "\" Oh !          0.999849\n",
      "\" Oh !          0.999849\n",
      "Name: 0, dtype: float64\n",
      "Component 1:\n",
      "Mrs . Weston was acting no part , feigning no feelings in all that she said to him in favour of the event .  She had been extremely surprized , never more so , than when Emma first opened the affair to her ; but she saw in it only increase of happiness to all , and had no scruple in urging him to the utmost .  She had such a regard for Mr . Knightley , as to think he deserved even her dearest Emma ; and it was in every respect so proper , suitable , and unexceptionable a connexion , and in one respect , one point of the highest importance , so peculiarly eligible , so singularly fortunate , that now it seemed as if Emma could not safely have attached herself to any other creature , and that she had herself been the stupidest of beings in not having thought of it , and wished it long ago .  How very few of those men in a rank of life to address Emma would have renounced their own home for Hartfield !    0.815710\n",
      "Mr . Knightley , in fact , was one of the few people who could see faults in Emma Woodhouse , and the only one who ever told her of them : and though this was not particularly agreeable to Emma herself , she knew it would be so much less so to her father , that she would not have him really suspect such a circumstance as her not being thought perfect by every body .                                                                                                                                                                                                                                                                                                                                                                                                                                                                                                                                                                    0.732766\n",
      "\" Mr . Knightley ,\" said Emma , trying to be lively , but really confused   \" I am in a very extraordinary situation .                                                                                                                                                                                                                                                                                                                                                                                                                                                                                                                                                                                                                                                                                                                                                                                                                              0.712012\n",
      "\" Well , Mrs . Weston ,\" said Emma triumphantly when he left them , \" what do you say now to Mr . Knightley ' s marrying Jane Fairfax ?\"                                                                                                                                                                                                                                                                                                                                                                                                                                                                                                                                                                                                                                                                                                                                                                                                            0.666720\n",
      "Emma was extremely gratified .  They were interrupted by the bustle of Mr . Weston calling on every body to begin dancing again .                                                                                                                                                                                                                                                                                                                                                                                                                                                                                                                                                                                                                                                                                                                                                                                                                   0.655886\n",
      "\" And when ,\" thought Emma , \" will there be a beginning of Mr .                                                                                                                                                                                                                                                                                                                                                                                                                                                                                                                                                                                                                                                                                                                                                                                                                                                                                    0.653936\n",
      "\" He is a person I never think of from one month ' s end to another ,\" said Mr . Knightley , with a degree of vexation , which made Emma immediately talk of something else , though she could not comprehend why he should be angry .                                                                                                                                                                                                                                                                                                                                                                                                                                                                                                                                                                                                                                                                                                              0.651957\n",
      "Mrs . Weston said no more ; and Emma could imagine with what surprize and mortification she must be returning to her seat .                                                                                                                                                                                                                                                                                                                                                                                                                                                                                                                                                                                                                                                                                                                                                                                                                         0.636050\n",
      "\" No ,\" said Emma , laughing ; \" but perhaps there might be some made to his coming back again .                                                                                                                                                                                                                                                                                                                                                                                                                                                                                                                                                                                                                                                                                                                                                                                                                                                    0.635974\n",
      "\" You cannot see too much perfection in Mrs . Weston for my feelings ,\" said Emma ; \" were you to guess her to be _eighteen_ , I should listen with pleasure ; but _she_ would be ready to quarrel with you for using such words .                                                                                                                                                                                                                                                                                                                                                                                                                                                                                                                                                                                                                                                                                                                  0.634363\n"
     ]
    },
    {
     "name": "stdout",
     "output_type": "stream",
     "text": [
      "Name: 1, dtype: float64\n",
      "Component 2:\n",
      "CHAPTER XIII     1.0\n",
      "CHAPTER IX       1.0\n",
      "CHAPTER XV       1.0\n",
      "CHAPTER X        1.0\n",
      "CHAPTER XIV      1.0\n",
      "CHAPTER XVIII    1.0\n",
      "CHAPTER XV       1.0\n",
      "CHAPTER IV       1.0\n",
      "CHAPTER VII      1.0\n",
      "CHAPTER VIII     1.0\n",
      "Name: 2, dtype: float64\n",
      "Component 3:\n",
      "Emma had done .                                                                                                                                     0.788573\n",
      "At first it was downright dulness to Emma .                                                                                                         0.788573\n",
      "\" My Emma !\"                                                                                                                                        0.788573\n",
      "Emma wondered on what , of all the medley , she would fix .                                                                                         0.788573\n",
      "Emma could not resist .                                                                                                                             0.788573\n",
      "\" And I do envy him , Emma .                                                                                                                        0.788573\n",
      "\" Such an imagination has crossed me , I own , Emma ; and if it never occurred to you before , you may as well take it into consideration now .\"    0.778294\n",
      "\" She must have some motive , more powerful than appears , for refusing this invitation ,\" was Emma ' s conclusion .                                0.777964\n",
      "It was as much as Emma could bear , without being impolite .                                                                                        0.773951\n",
      "No second meeting had there yet been between him and Emma .                                                                                         0.767093\n",
      "Name: 3, dtype: float64\n",
      "Component 4:\n",
      "\" Ah !\"    0.998508\n",
      "\" Ah !     0.998508\n",
      "\" Ah !     0.998508\n",
      "\" Ah !     0.998508\n",
      "\" Ah !     0.998508\n",
      "\" Ah !     0.998508\n",
      "\" Ah !\"    0.998508\n",
      "\" Ah !     0.998508\n",
      "\" Ah !     0.998508\n",
      "\" Ah !     0.998508\n",
      "Name: 4, dtype: float64\n"
     ]
    }
   ],
   "source": [
    "X_test_lsa = lsa.fit_transform(X_test_tfidf)\n",
    "\n",
    "#Looking at what sorts of paragraphs our solution considers similar, for the first five identified topics\n",
    "paras_by_component=pd.DataFrame(X_test_lsa,index=X_test)\n",
    "for i in range(5):\n",
    "    print('Component {}:'.format(i))\n",
    "    print(paras_by_component.loc[:,i].sort_values(ascending=False)[0:10])"
   ]
  },
  {
   "cell_type": "markdown",
   "metadata": {},
   "source": [
    "## Conclusion"
   ]
  },
  {
   "cell_type": "markdown",
   "metadata": {},
   "source": [
    "Lowering the components actually did help the accuracy a little. Changing the min and max values in the vectorizer did not make much an impact on the model. Since I do know the data I am trying to predict wouldn't this still be a supervised model?"
   ]
  }
 ],
 "metadata": {
  "kernelspec": {
   "display_name": "Python 3",
   "language": "python",
   "name": "python3"
  },
  "language_info": {
   "codemirror_mode": {
    "name": "ipython",
    "version": 3
   },
   "file_extension": ".py",
   "mimetype": "text/x-python",
   "name": "python",
   "nbconvert_exporter": "python",
   "pygments_lexer": "ipython3",
   "version": "3.6.3"
  }
 },
 "nbformat": 4,
 "nbformat_minor": 2
}
