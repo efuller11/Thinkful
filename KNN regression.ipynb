{
 "cells": [
  {
   "cell_type": "markdown",
   "metadata": {},
   "source": [
    "# KNN regression"
   ]
  },
  {
   "cell_type": "code",
   "execution_count": 17,
   "metadata": {
    "collapsed": true
   },
   "outputs": [],
   "source": [
    "import pandas as pd\n",
    "import numpy as np\n",
    "import scipy\n",
    "import matplotlib.pyplot as plt\n",
    "%matplotlib inline\n",
    "from sklearn.cluster import KMeans\n",
    "from sklearn import neighbors\n",
    "from sklearn.model_selection import cross_val_score\n",
    "music = pd.DataFrame()\n",
    "music['duration'] = [184, 134, 243, 186, 122, 197, 294, 382, 102, 264, \n",
    "                     205, 110, 307, 110, 397, 153, 190, 192, 210, 403,\n",
    "                     164, 198, 204, 253, 234, 190, 182, 401, 376, 102]\n",
    "music['loudness'] = [18, 34, 43, 36, 22, 9, 29, 22, 10, 24, \n",
    "                     20, 10, 17, 51, 7, 13, 19, 12, 21, 22,\n",
    "                     16, 18, 4, 23, 34, 19, 14, 11, 37, 42]\n",
    "music['bpm'] = [ 105, 90, 78, 75, 120, 110, 80, 100, 105, 60,\n",
    "                  70, 105, 95, 70, 90, 105, 70, 75, 102, 100,\n",
    "                  100, 95, 90, 80, 90, 80, 100, 105, 70, 65]"
   ]
  },
  {
   "cell_type": "code",
   "execution_count": 18,
   "metadata": {},
   "outputs": [],
   "source": [
    "knn = neighbors.KNeighborsRegressor(n_neighbors=10)\n",
    "X = music[[\"loudness\", \"duration\"]]\n",
    "Y = music.bpm\n",
    "\n",
    "knn.fit(X, Y)\n",
    "\n",
    "T = pd.DataFrame({\"Duration\" : np.arange(0, 50, 0.1), \"Loudness\" : np.arange(0, 50, 0.1)})\n",
    "\n",
    "knn.predict(T);"
   ]
  },
  {
   "cell_type": "code",
   "execution_count": 3,
   "metadata": {
    "collapsed": true
   },
   "outputs": [],
   "source": [
    "# weighted KNN\n",
    "knn_w = neighbors.KNeighborsRegressor(n_neighbors=10, weights= 'distance')\n",
    "knn_w.fit(X, Y)\n",
    "\n",
    "T = pd.DataFrame({\"Duration\" : np.arange(0, 50, 0.1), \"Loudness\" : np.arange(0, 50, 0.1)})\n",
    "\n",
    "knn.predict(T);"
   ]
  },
  {
   "cell_type": "code",
   "execution_count": 16,
   "metadata": {},
   "outputs": [
    {
     "name": "stdout",
     "output_type": "stream",
     "text": [
      "Unweighted Accuracy: -0.42 (+/- 0.78)\n",
      "Weighted Accuracy: -0.26 (+/- 0.74)\n",
      "[-0.19955242  0.02166018 -0.45898521 -1.12653237 -0.33925385] [-0.19928589  0.11602916 -0.03725669 -0.96209236 -0.24160284]\n",
      "<bound method RegressorMixin.score of KNeighborsRegressor(algorithm='auto', leaf_size=30, metric='minkowski',\n",
      "          metric_params=None, n_jobs=1, n_neighbors=10, p=2,\n",
      "          weights='uniform')> 0.992882224542\n"
     ]
    }
   ],
   "source": [
    "score = cross_val_score(knn, X, Y, cv=5)\n",
    "print(\"Unweighted Accuracy: %0.2f (+/- %0.2f)\" % (score.mean(), score.std() * 2))\n",
    "score_w = cross_val_score(knn_w, X, Y, cv=5)\n",
    "print(\"Weighted Accuracy: %0.2f (+/- %0.2f)\" % (score_w.mean(), score_w.std() * 2))\n",
    "print(score, score_w)"
   ]
  },
  {
   "cell_type": "code",
   "execution_count": 10,
   "metadata": {},
   "outputs": [],
   "source": [
    "knn2 = neighbors.KNeighborsRegressor(n_neighbors=6)\n",
    "knn2.fit(X, Y)\n",
    "knn_w2 = neighbors.KNeighborsRegressor(n_neighbors=6, weights= 'distance')\n",
    "knn_w2.fit(X, Y);"
   ]
  },
  {
   "cell_type": "code",
   "execution_count": 11,
   "metadata": {},
   "outputs": [
    {
     "name": "stdout",
     "output_type": "stream",
     "text": [
      "Unweighted Accuracy: -0.51 (+/- 0.81)\n",
      "Weighted Accuracy: -0.37 (+/- 0.88)\n",
      "[-0.27589046  0.10333333 -1.0264332  -0.84676259 -0.52029915] [-0.22433116  0.17544965 -0.31339279 -1.1755091  -0.31833106]\n"
     ]
    }
   ],
   "source": [
    "score2 = cross_val_score(knn2, X, Y, cv=5)\n",
    "print(\"Unweighted Accuracy: %0.2f (+/- %0.2f)\" % (score2.mean(), score2.std() * 2))\n",
    "score_w2 = cross_val_score(knn_w2, X, Y, cv=5)\n",
    "print(\"Weighted Accuracy: %0.2f (+/- %0.2f)\" % (score_w2.mean(), score_w2.std() * 2))\n",
    "print(score2, score_w2)"
   ]
  },
  {
   "cell_type": "code",
   "execution_count": 12,
   "metadata": {
    "collapsed": true
   },
   "outputs": [],
   "source": [
    "knn3 = neighbors.KNeighborsRegressor(n_neighbors=4)\n",
    "knn3.fit(X, Y)\n",
    "knn_w3 = neighbors.KNeighborsRegressor(n_neighbors=4, weights= 'distance')\n",
    "knn_w3.fit(X, Y);"
   ]
  },
  {
   "cell_type": "code",
   "execution_count": 14,
   "metadata": {},
   "outputs": [
    {
     "name": "stdout",
     "output_type": "stream",
     "text": [
      "Unweighted Accuracy: -0.84 (+/- 1.25)\n",
      "Weighted Accuracy: -0.63 (+/- 1.64)\n",
      "[-0.58770161 -0.09586283 -1.08214008 -1.93219424 -0.52403846] [-0.36797107  0.05419452 -0.29107565 -2.24753038 -0.32141451]\n"
     ]
    }
   ],
   "source": [
    "score3 = cross_val_score(knn3, X, Y, cv=5)\n",
    "print(\"Unweighted Accuracy: %0.2f (+/- %0.2f)\" % (score3.mean(), score3.std() * 2))\n",
    "score_w3 = cross_val_score(knn_w3, X, Y, cv=5)\n",
    "print(\"Weighted Accuracy: %0.2f (+/- %0.2f)\" % (score_w3.mean(), score_w3.std() * 2))\n",
    "print(score3, score_w3)"
   ]
  },
  {
   "cell_type": "code",
   "execution_count": 15,
   "metadata": {},
   "outputs": [
    {
     "name": "stdout",
     "output_type": "stream",
     "text": [
      "Unweighted Accuracy: -0.69 (+/- 1.03)\n",
      "Weighted Accuracy: -0.59 (+/- 1.75)\n",
      "[-0.18723118 -0.12106195 -0.95071336 -1.51159073 -0.68589744] [-0.08085886  0.01328205 -0.22958188 -2.31848052 -0.31762584]\n"
     ]
    }
   ],
   "source": [
    "knn4 = neighbors.KNeighborsRegressor(n_neighbors=3)\n",
    "knn4.fit(X, Y)\n",
    "knn_w4 = neighbors.KNeighborsRegressor(n_neighbors=3, weights= 'distance')\n",
    "knn_w4.fit(X, Y);\n",
    "score4 = cross_val_score(knn4, X, Y, cv=5)\n",
    "print(\"Unweighted Accuracy: %0.2f (+/- %0.2f)\" % (score4.mean(), score4.std() * 2))\n",
    "score_w4 = cross_val_score(knn_w4, X, Y, cv=5)\n",
    "print(\"Weighted Accuracy: %0.2f (+/- %0.2f)\" % (score_w4.mean(), score_w4.std() * 2))"
   ]
  },
  {
   "cell_type": "markdown",
   "metadata": {},
   "source": [
    "The knn3 model seems to be the better of the bunch, however the variance is still extremely bad."
   ]
  }
 ],
 "metadata": {
  "kernelspec": {
   "display_name": "Python 3",
   "language": "python",
   "name": "python3"
  },
  "language_info": {
   "codemirror_mode": {
    "name": "ipython",
    "version": 3
   },
   "file_extension": ".py",
   "mimetype": "text/x-python",
   "name": "python",
   "nbconvert_exporter": "python",
   "pygments_lexer": "ipython3",
   "version": "3.6.3"
  }
 },
 "nbformat": 4,
 "nbformat_minor": 2
}
