{
 "cells": [
  {
   "cell_type": "code",
   "execution_count": 29,
   "metadata": {
    "collapsed": true
   },
   "outputs": [],
   "source": [
    "import numpy as np\n",
    "import pandas as pd\n",
    "import scipy\n",
    "import matplotlib.pyplot as plt\n",
    "import seaborn as sns\n",
    "%matplotlib inline\n",
    "from sklearn.model_selection import cross_val_score\n",
    "from sklearn.feature_selection import SelectKBest\n",
    "from sklearn.feature_selection import chi2\n",
    "from sklearn.decomposition import PCA\n",
    "from sklearn.svm import SVC"
   ]
  },
  {
   "cell_type": "code",
   "execution_count": 4,
   "metadata": {},
   "outputs": [],
   "source": [
    "epi_data = pd.read_csv('epi_r.csv')"
   ]
  },
  {
   "cell_type": "code",
   "execution_count": 7,
   "metadata": {},
   "outputs": [
    {
     "data": {
      "image/png": "[encoded data removed]",
      "text/plain": [
       "<matplotlib.figure.Figure at 0x1e9708a7c88>"
      ]
     },
     "metadata": {},
     "output_type": "display_data"
    }
   ],
   "source": [
    "epi_data.rating.hist(bins=20)\n",
    "plt.title('Histogram of Recipe Ratings')\n",
    "plt.show()"
   ]
  },
  {
   "cell_type": "code",
   "execution_count": 9,
   "metadata": {},
   "outputs": [
    {
     "data": {
      "text/plain": [
       "calories    4117\n",
       "protein     4162\n",
       "fat         4183\n",
       "sodium      4119\n",
       "dtype: int64"
      ]
     },
     "execution_count": 9,
     "metadata": {},
     "output_type": "execute_result"
    }
   ],
   "source": [
    "# Count nulls \n",
    "null_count = epi_data.isnull().sum()\n",
    "null_count[null_count>0]"
   ]
  },
  {
   "cell_type": "code",
   "execution_count": 11,
   "metadata": {},
   "outputs": [
    {
     "data": {
      "text/plain": [
       "SVR(C=1.0, cache_size=200, coef0=0.0, degree=3, epsilon=0.1, gamma='auto',\n",
       "  kernel='rbf', max_iter=-1, shrinking=True, tol=0.001, verbose=False)"
      ]
     },
     "execution_count": 11,
     "metadata": {},
     "output_type": "execute_result"
    }
   ],
   "source": [
    "from sklearn.svm import SVR\n",
    "svr = SVR()\n",
    "X = epi_data.drop(['rating', 'title', 'calories', 'protein', 'fat', 'sodium'], 1)\n",
    "Y = epi_data.rating\n",
    "svr.fit(X,Y)"
   ]
  },
  {
   "cell_type": "code",
   "execution_count": 13,
   "metadata": {},
   "outputs": [
    {
     "data": {
      "text/plain": [
       "0.038565706512988962"
      ]
     },
     "execution_count": 13,
     "metadata": {},
     "output_type": "execute_result"
    }
   ],
   "source": [
    "svr.score(X, Y)"
   ]
  },
  {
   "cell_type": "code",
   "execution_count": 15,
   "metadata": {},
   "outputs": [
    {
     "data": {
      "text/plain": [
       "array([ 0.01818511,  0.026411  ,  0.03037705,  0.01957949,  0.02451197])"
      ]
     },
     "execution_count": 15,
     "metadata": {},
     "output_type": "execute_result"
    }
   ],
   "source": [
    "cross_val_score(svr, X, Y, cv=5)"
   ]
  },
  {
   "cell_type": "markdown",
   "metadata": {},
   "source": [
    "## The challenge begins"
   ]
  },
  {
   "cell_type": "code",
   "execution_count": 16,
   "metadata": {},
   "outputs": [
    {
     "data": {
      "text/html": [
       "<div>\n",
       "<style>\n",
       "    .dataframe thead tr:only-child th {\n",
       "        text-align: right;\n",
       "    }\n",
       "\n",
       "    .dataframe thead th {\n",
       "        text-align: left;\n",
       "    }\n",
       "\n",
       "    .dataframe tbody tr th {\n",
       "        vertical-align: top;\n",
       "    }\n",
       "</style>\n",
       "<table border=\"1\" class=\"dataframe\">\n",
       "  <thead>\n",
       "    <tr style=\"text-align: right;\">\n",
       "      <th></th>\n",
       "      <th>rating</th>\n",
       "      <th>calories</th>\n",
       "      <th>protein</th>\n",
       "      <th>fat</th>\n",
       "      <th>sodium</th>\n",
       "      <th>#cakeweek</th>\n",
       "      <th>#wasteless</th>\n",
       "      <th>22-minute meals</th>\n",
       "      <th>3-ingredient recipes</th>\n",
       "      <th>30 days of groceries</th>\n",
       "      <th>...</th>\n",
       "      <th>yellow squash</th>\n",
       "      <th>yogurt</th>\n",
       "      <th>yonkers</th>\n",
       "      <th>yuca</th>\n",
       "      <th>zucchini</th>\n",
       "      <th>cookbooks</th>\n",
       "      <th>leftovers</th>\n",
       "      <th>snack</th>\n",
       "      <th>snack week</th>\n",
       "      <th>turkey</th>\n",
       "    </tr>\n",
       "  </thead>\n",
       "  <tbody>\n",
       "    <tr>\n",
       "      <th>count</th>\n",
       "      <td>20052.000000</td>\n",
       "      <td>1.593500e+04</td>\n",
       "      <td>15890.000000</td>\n",
       "      <td>1.586900e+04</td>\n",
       "      <td>1.593300e+04</td>\n",
       "      <td>20052.000000</td>\n",
       "      <td>20052.000000</td>\n",
       "      <td>20052.000000</td>\n",
       "      <td>20052.000000</td>\n",
       "      <td>20052.000000</td>\n",
       "      <td>...</td>\n",
       "      <td>20052.000000</td>\n",
       "      <td>20052.000000</td>\n",
       "      <td>20052.000000</td>\n",
       "      <td>20052.000000</td>\n",
       "      <td>20052.000000</td>\n",
       "      <td>20052.000000</td>\n",
       "      <td>20052.000000</td>\n",
       "      <td>20052.000000</td>\n",
       "      <td>20052.000000</td>\n",
       "      <td>20052.000000</td>\n",
       "    </tr>\n",
       "    <tr>\n",
       "      <th>mean</th>\n",
       "      <td>3.714467</td>\n",
       "      <td>6.322958e+03</td>\n",
       "      <td>100.160793</td>\n",
       "      <td>3.468775e+02</td>\n",
       "      <td>6.225975e+03</td>\n",
       "      <td>0.000299</td>\n",
       "      <td>0.000050</td>\n",
       "      <td>0.000848</td>\n",
       "      <td>0.001346</td>\n",
       "      <td>0.000349</td>\n",
       "      <td>...</td>\n",
       "      <td>0.001247</td>\n",
       "      <td>0.026332</td>\n",
       "      <td>0.000050</td>\n",
       "      <td>0.000299</td>\n",
       "      <td>0.014861</td>\n",
       "      <td>0.000150</td>\n",
       "      <td>0.000349</td>\n",
       "      <td>0.001396</td>\n",
       "      <td>0.000948</td>\n",
       "      <td>0.022741</td>\n",
       "    </tr>\n",
       "    <tr>\n",
       "      <th>std</th>\n",
       "      <td>1.340829</td>\n",
       "      <td>3.590460e+05</td>\n",
       "      <td>3840.318527</td>\n",
       "      <td>2.045611e+04</td>\n",
       "      <td>3.333182e+05</td>\n",
       "      <td>0.017296</td>\n",
       "      <td>0.007062</td>\n",
       "      <td>0.029105</td>\n",
       "      <td>0.036671</td>\n",
       "      <td>0.018681</td>\n",
       "      <td>...</td>\n",
       "      <td>0.035288</td>\n",
       "      <td>0.160123</td>\n",
       "      <td>0.007062</td>\n",
       "      <td>0.017296</td>\n",
       "      <td>0.121001</td>\n",
       "      <td>0.012231</td>\n",
       "      <td>0.018681</td>\n",
       "      <td>0.037343</td>\n",
       "      <td>0.030768</td>\n",
       "      <td>0.149080</td>\n",
       "    </tr>\n",
       "    <tr>\n",
       "      <th>min</th>\n",
       "      <td>0.000000</td>\n",
       "      <td>0.000000e+00</td>\n",
       "      <td>0.000000</td>\n",
       "      <td>0.000000e+00</td>\n",
       "      <td>0.000000e+00</td>\n",
       "      <td>0.000000</td>\n",
       "      <td>0.000000</td>\n",
       "      <td>0.000000</td>\n",
       "      <td>0.000000</td>\n",
       "      <td>0.000000</td>\n",
       "      <td>...</td>\n",
       "      <td>0.000000</td>\n",
       "      <td>0.000000</td>\n",
       "      <td>0.000000</td>\n",
       "      <td>0.000000</td>\n",
       "      <td>0.000000</td>\n",
       "      <td>0.000000</td>\n",
       "      <td>0.000000</td>\n",
       "      <td>0.000000</td>\n",
       "      <td>0.000000</td>\n",
       "      <td>0.000000</td>\n",
       "    </tr>\n",
       "    <tr>\n",
       "      <th>25%</th>\n",
       "      <td>3.750000</td>\n",
       "      <td>1.980000e+02</td>\n",
       "      <td>3.000000</td>\n",
       "      <td>7.000000e+00</td>\n",
       "      <td>8.000000e+01</td>\n",
       "      <td>0.000000</td>\n",
       "      <td>0.000000</td>\n",
       "      <td>0.000000</td>\n",
       "      <td>0.000000</td>\n",
       "      <td>0.000000</td>\n",
       "      <td>...</td>\n",
       "      <td>0.000000</td>\n",
       "      <td>0.000000</td>\n",
       "      <td>0.000000</td>\n",
       "      <td>0.000000</td>\n",
       "      <td>0.000000</td>\n",
       "      <td>0.000000</td>\n",
       "      <td>0.000000</td>\n",
       "      <td>0.000000</td>\n",
       "      <td>0.000000</td>\n",
       "      <td>0.000000</td>\n",
       "    </tr>\n",
       "    <tr>\n",
       "      <th>50%</th>\n",
       "      <td>4.375000</td>\n",
       "      <td>3.310000e+02</td>\n",
       "      <td>8.000000</td>\n",
       "      <td>1.700000e+01</td>\n",
       "      <td>2.940000e+02</td>\n",
       "      <td>0.000000</td>\n",
       "      <td>0.000000</td>\n",
       "      <td>0.000000</td>\n",
       "      <td>0.000000</td>\n",
       "      <td>0.000000</td>\n",
       "      <td>...</td>\n",
       "      <td>0.000000</td>\n",
       "      <td>0.000000</td>\n",
       "      <td>0.000000</td>\n",
       "      <td>0.000000</td>\n",
       "      <td>0.000000</td>\n",
       "      <td>0.000000</td>\n",
       "      <td>0.000000</td>\n",
       "      <td>0.000000</td>\n",
       "      <td>0.000000</td>\n",
       "      <td>0.000000</td>\n",
       "    </tr>\n",
       "    <tr>\n",
       "      <th>75%</th>\n",
       "      <td>4.375000</td>\n",
       "      <td>5.860000e+02</td>\n",
       "      <td>27.000000</td>\n",
       "      <td>3.300000e+01</td>\n",
       "      <td>7.110000e+02</td>\n",
       "      <td>0.000000</td>\n",
       "      <td>0.000000</td>\n",
       "      <td>0.000000</td>\n",
       "      <td>0.000000</td>\n",
       "      <td>0.000000</td>\n",
       "      <td>...</td>\n",
       "      <td>0.000000</td>\n",
       "      <td>0.000000</td>\n",
       "      <td>0.000000</td>\n",
       "      <td>0.000000</td>\n",
       "      <td>0.000000</td>\n",
       "      <td>0.000000</td>\n",
       "      <td>0.000000</td>\n",
       "      <td>0.000000</td>\n",
       "      <td>0.000000</td>\n",
       "      <td>0.000000</td>\n",
       "    </tr>\n",
       "    <tr>\n",
       "      <th>max</th>\n",
       "      <td>5.000000</td>\n",
       "      <td>3.011122e+07</td>\n",
       "      <td>236489.000000</td>\n",
       "      <td>1.722763e+06</td>\n",
       "      <td>2.767511e+07</td>\n",
       "      <td>1.000000</td>\n",
       "      <td>1.000000</td>\n",
       "      <td>1.000000</td>\n",
       "      <td>1.000000</td>\n",
       "      <td>1.000000</td>\n",
       "      <td>...</td>\n",
       "      <td>1.000000</td>\n",
       "      <td>1.000000</td>\n",
       "      <td>1.000000</td>\n",
       "      <td>1.000000</td>\n",
       "      <td>1.000000</td>\n",
       "      <td>1.000000</td>\n",
       "      <td>1.000000</td>\n",
       "      <td>1.000000</td>\n",
       "      <td>1.000000</td>\n",
       "      <td>1.000000</td>\n",
       "    </tr>\n",
       "  </tbody>\n",
       "</table>\n",
       "<p>8 rows × 679 columns</p>\n",
       "</div>"
      ],
      "text/plain": [
       "             rating      calories        protein           fat        sodium  \\\n",
       "count  20052.000000  1.593500e+04   15890.000000  1.586900e+04  1.593300e+04   \n",
       "mean       3.714467  6.322958e+03     100.160793  3.468775e+02  6.225975e+03   \n",
       "std        1.340829  3.590460e+05    3840.318527  2.045611e+04  3.333182e+05   \n",
       "min        0.000000  0.000000e+00       0.000000  0.000000e+00  0.000000e+00   \n",
       "25%        3.750000  1.980000e+02       3.000000  7.000000e+00  8.000000e+01   \n",
       "50%        4.375000  3.310000e+02       8.000000  1.700000e+01  2.940000e+02   \n",
       "75%        4.375000  5.860000e+02      27.000000  3.300000e+01  7.110000e+02   \n",
       "max        5.000000  3.011122e+07  236489.000000  1.722763e+06  2.767511e+07   \n",
       "\n",
       "          #cakeweek    #wasteless  22-minute meals  3-ingredient recipes  \\\n",
       "count  20052.000000  20052.000000     20052.000000          20052.000000   \n",
       "mean       0.000299      0.000050         0.000848              0.001346   \n",
       "std        0.017296      0.007062         0.029105              0.036671   \n",
       "min        0.000000      0.000000         0.000000              0.000000   \n",
       "25%        0.000000      0.000000         0.000000              0.000000   \n",
       "50%        0.000000      0.000000         0.000000              0.000000   \n",
       "75%        0.000000      0.000000         0.000000              0.000000   \n",
       "max        1.000000      1.000000         1.000000              1.000000   \n",
       "\n",
       "       30 days of groceries      ...       yellow squash        yogurt  \\\n",
       "count          20052.000000      ...        20052.000000  20052.000000   \n",
       "mean               0.000349      ...            0.001247      0.026332   \n",
       "std                0.018681      ...            0.035288      0.160123   \n",
       "min                0.000000      ...            0.000000      0.000000   \n",
       "25%                0.000000      ...            0.000000      0.000000   \n",
       "50%                0.000000      ...            0.000000      0.000000   \n",
       "75%                0.000000      ...            0.000000      0.000000   \n",
       "max                1.000000      ...            1.000000      1.000000   \n",
       "\n",
       "            yonkers          yuca      zucchini     cookbooks     leftovers  \\\n",
       "count  20052.000000  20052.000000  20052.000000  20052.000000  20052.000000   \n",
       "mean       0.000050      0.000299      0.014861      0.000150      0.000349   \n",
       "std        0.007062      0.017296      0.121001      0.012231      0.018681   \n",
       "min        0.000000      0.000000      0.000000      0.000000      0.000000   \n",
       "25%        0.000000      0.000000      0.000000      0.000000      0.000000   \n",
       "50%        0.000000      0.000000      0.000000      0.000000      0.000000   \n",
       "75%        0.000000      0.000000      0.000000      0.000000      0.000000   \n",
       "max        1.000000      1.000000      1.000000      1.000000      1.000000   \n",
       "\n",
       "              snack    snack week        turkey  \n",
       "count  20052.000000  20052.000000  20052.000000  \n",
       "mean       0.001396      0.000948      0.022741  \n",
       "std        0.037343      0.030768      0.149080  \n",
       "min        0.000000      0.000000      0.000000  \n",
       "25%        0.000000      0.000000      0.000000  \n",
       "50%        0.000000      0.000000      0.000000  \n",
       "75%        0.000000      0.000000      0.000000  \n",
       "max        1.000000      1.000000      1.000000  \n",
       "\n",
       "[8 rows x 679 columns]"
      ]
     },
     "execution_count": 16,
     "metadata": {},
     "output_type": "execute_result"
    }
   ],
   "source": [
    "epi_data.describe()"
   ]
  },
  {
   "cell_type": "code",
   "execution_count": 26,
   "metadata": {},
   "outputs": [],
   "source": [
    "# Turn target variable into classification.  I chose 3 because there was not a 3.5 rating.\n",
    "epi_data['good'] = epi_data['rating'] >= 3.0"
   ]
  },
  {
   "cell_type": "code",
   "execution_count": 27,
   "metadata": {
    "collapsed": true
   },
   "outputs": [],
   "source": [
    "# redefining Y\n",
    "Y = epi_data['good']"
   ]
  },
  {
   "cell_type": "code",
   "execution_count": 30,
   "metadata": {
    "collapsed": true
   },
   "outputs": [],
   "source": [
    "# Using PCA to acquire 30 features\n",
    "pca = PCA(n_components=30)\n",
    "pca.fit(X)\n",
    "X_pca = pca.transform(X)"
   ]
  },
  {
   "cell_type": "code",
   "execution_count": 31,
   "metadata": {},
   "outputs": [
    {
     "data": {
      "text/plain": [
       "0.87507480550568517"
      ]
     },
     "execution_count": 31,
     "metadata": {},
     "output_type": "execute_result"
    }
   ],
   "source": [
    "svc = SVC()\n",
    "svc.fit(X_pca, Y)\n",
    "svc.score(X_pca, Y)"
   ]
  },
  {
   "cell_type": "code",
   "execution_count": 32,
   "metadata": {},
   "outputs": [
    {
     "data": {
      "text/plain": [
       "array([ 0.8726321 ,  0.87506234,  0.8765586 ,  0.87356608,  0.87506234])"
      ]
     },
     "execution_count": 32,
     "metadata": {},
     "output_type": "execute_result"
    }
   ],
   "source": [
    "cross_val_score(svc, X_pca, Y, cv=5)"
   ]
  },
  {
   "cell_type": "markdown",
   "metadata": {},
   "source": [
    "Much Better but lets try one  more thing"
   ]
  },
  {
   "cell_type": "markdown",
   "metadata": {},
   "source": [
    "## Feature Selection by popularity"
   ]
  },
  {
   "cell_type": "code",
   "execution_count": 34,
   "metadata": {},
   "outputs": [],
   "source": [
    "# Restarting with the original data to try different features\n",
    "df2 = epi_data.drop(['rating', 'title', 'calories', 'protein', 'fat', 'sodium'], 1)\n",
    "\n",
    "# Select only rows where rating is > 3.5\n",
    "epi_data[epi_data['good'] == True]\n",
    "\n",
    "# Sort keywords by value count\n",
    "keywords = df2.sum().sort_values(ascending=False)\n",
    "\n",
    "# Select top 30 words and store in list\n",
    "keywords = keywords[:31].index.tolist()"
   ]
  },
  {
   "cell_type": "code",
   "execution_count": 39,
   "metadata": {},
   "outputs": [
    {
     "data": {
      "text/html": [
       "<div>\n",
       "<style>\n",
       "    .dataframe thead tr:only-child th {\n",
       "        text-align: right;\n",
       "    }\n",
       "\n",
       "    .dataframe thead th {\n",
       "        text-align: left;\n",
       "    }\n",
       "\n",
       "    .dataframe tbody tr th {\n",
       "        vertical-align: top;\n",
       "    }\n",
       "</style>\n",
       "<table border=\"1\" class=\"dataframe\">\n",
       "  <thead>\n",
       "    <tr style=\"text-align: right;\">\n",
       "      <th></th>\n",
       "      <th>bon appétit</th>\n",
       "      <th>peanut free</th>\n",
       "      <th>soy free</th>\n",
       "      <th>tree nut free</th>\n",
       "      <th>vegetarian</th>\n",
       "      <th>gourmet</th>\n",
       "      <th>kosher</th>\n",
       "      <th>pescatarian</th>\n",
       "      <th>quick &amp; easy</th>\n",
       "      <th>wheat/gluten-free</th>\n",
       "      <th>...</th>\n",
       "      <th>healthy</th>\n",
       "      <th>kidney friendly</th>\n",
       "      <th>onion</th>\n",
       "      <th>tomato</th>\n",
       "      <th>vegetable</th>\n",
       "      <th>sauté</th>\n",
       "      <th>milk/cream</th>\n",
       "      <th>fruit</th>\n",
       "      <th>vegan</th>\n",
       "      <th>kid-friendly</th>\n",
       "    </tr>\n",
       "  </thead>\n",
       "  <tbody>\n",
       "    <tr>\n",
       "      <th>0</th>\n",
       "      <td>0.0</td>\n",
       "      <td>0.0</td>\n",
       "      <td>0.0</td>\n",
       "      <td>0.0</td>\n",
       "      <td>0.0</td>\n",
       "      <td>0.0</td>\n",
       "      <td>0.0</td>\n",
       "      <td>0.0</td>\n",
       "      <td>0.0</td>\n",
       "      <td>0.0</td>\n",
       "      <td>...</td>\n",
       "      <td>0.0</td>\n",
       "      <td>0.0</td>\n",
       "      <td>0.0</td>\n",
       "      <td>1.0</td>\n",
       "      <td>1.0</td>\n",
       "      <td>0.0</td>\n",
       "      <td>0.0</td>\n",
       "      <td>1.0</td>\n",
       "      <td>0.0</td>\n",
       "      <td>1.0</td>\n",
       "    </tr>\n",
       "    <tr>\n",
       "      <th>1</th>\n",
       "      <td>1.0</td>\n",
       "      <td>0.0</td>\n",
       "      <td>0.0</td>\n",
       "      <td>0.0</td>\n",
       "      <td>0.0</td>\n",
       "      <td>0.0</td>\n",
       "      <td>0.0</td>\n",
       "      <td>0.0</td>\n",
       "      <td>0.0</td>\n",
       "      <td>0.0</td>\n",
       "      <td>...</td>\n",
       "      <td>0.0</td>\n",
       "      <td>0.0</td>\n",
       "      <td>1.0</td>\n",
       "      <td>0.0</td>\n",
       "      <td>0.0</td>\n",
       "      <td>0.0</td>\n",
       "      <td>0.0</td>\n",
       "      <td>0.0</td>\n",
       "      <td>0.0</td>\n",
       "      <td>0.0</td>\n",
       "    </tr>\n",
       "    <tr>\n",
       "      <th>2</th>\n",
       "      <td>0.0</td>\n",
       "      <td>0.0</td>\n",
       "      <td>0.0</td>\n",
       "      <td>0.0</td>\n",
       "      <td>0.0</td>\n",
       "      <td>1.0</td>\n",
       "      <td>0.0</td>\n",
       "      <td>0.0</td>\n",
       "      <td>0.0</td>\n",
       "      <td>0.0</td>\n",
       "      <td>...</td>\n",
       "      <td>0.0</td>\n",
       "      <td>0.0</td>\n",
       "      <td>0.0</td>\n",
       "      <td>0.0</td>\n",
       "      <td>1.0</td>\n",
       "      <td>0.0</td>\n",
       "      <td>0.0</td>\n",
       "      <td>0.0</td>\n",
       "      <td>0.0</td>\n",
       "      <td>0.0</td>\n",
       "    </tr>\n",
       "    <tr>\n",
       "      <th>3</th>\n",
       "      <td>1.0</td>\n",
       "      <td>1.0</td>\n",
       "      <td>1.0</td>\n",
       "      <td>1.0</td>\n",
       "      <td>0.0</td>\n",
       "      <td>0.0</td>\n",
       "      <td>1.0</td>\n",
       "      <td>1.0</td>\n",
       "      <td>0.0</td>\n",
       "      <td>0.0</td>\n",
       "      <td>...</td>\n",
       "      <td>1.0</td>\n",
       "      <td>0.0</td>\n",
       "      <td>0.0</td>\n",
       "      <td>1.0</td>\n",
       "      <td>0.0</td>\n",
       "      <td>1.0</td>\n",
       "      <td>0.0</td>\n",
       "      <td>0.0</td>\n",
       "      <td>0.0</td>\n",
       "      <td>0.0</td>\n",
       "    </tr>\n",
       "    <tr>\n",
       "      <th>4</th>\n",
       "      <td>1.0</td>\n",
       "      <td>0.0</td>\n",
       "      <td>0.0</td>\n",
       "      <td>0.0</td>\n",
       "      <td>1.0</td>\n",
       "      <td>0.0</td>\n",
       "      <td>0.0</td>\n",
       "      <td>0.0</td>\n",
       "      <td>1.0</td>\n",
       "      <td>0.0</td>\n",
       "      <td>...</td>\n",
       "      <td>0.0</td>\n",
       "      <td>0.0</td>\n",
       "      <td>0.0</td>\n",
       "      <td>0.0</td>\n",
       "      <td>1.0</td>\n",
       "      <td>0.0</td>\n",
       "      <td>0.0</td>\n",
       "      <td>0.0</td>\n",
       "      <td>0.0</td>\n",
       "      <td>0.0</td>\n",
       "    </tr>\n",
       "  </tbody>\n",
       "</table>\n",
       "<p>5 rows × 30 columns</p>\n",
       "</div>"
      ],
      "text/plain": [
       "   bon appétit  peanut free  soy free  tree nut free  vegetarian  gourmet  \\\n",
       "0          0.0          0.0       0.0            0.0         0.0      0.0   \n",
       "1          1.0          0.0       0.0            0.0         0.0      0.0   \n",
       "2          0.0          0.0       0.0            0.0         0.0      1.0   \n",
       "3          1.0          1.0       1.0            1.0         0.0      0.0   \n",
       "4          1.0          0.0       0.0            0.0         1.0      0.0   \n",
       "\n",
       "   kosher  pescatarian  quick & easy  wheat/gluten-free      ...       \\\n",
       "0     0.0          0.0           0.0                0.0      ...        \n",
       "1     0.0          0.0           0.0                0.0      ...        \n",
       "2     0.0          0.0           0.0                0.0      ...        \n",
       "3     1.0          1.0           0.0                0.0      ...        \n",
       "4     0.0          0.0           1.0                0.0      ...        \n",
       "\n",
       "   healthy  kidney friendly  onion  tomato  vegetable  sauté  milk/cream  \\\n",
       "0      0.0              0.0    0.0     1.0        1.0    0.0         0.0   \n",
       "1      0.0              0.0    1.0     0.0        0.0    0.0         0.0   \n",
       "2      0.0              0.0    0.0     0.0        1.0    0.0         0.0   \n",
       "3      1.0              0.0    0.0     1.0        0.0    1.0         0.0   \n",
       "4      0.0              0.0    0.0     0.0        1.0    0.0         0.0   \n",
       "\n",
       "   fruit  vegan  kid-friendly  \n",
       "0    1.0    0.0           1.0  \n",
       "1    0.0    0.0           0.0  \n",
       "2    0.0    0.0           0.0  \n",
       "3    0.0    0.0           0.0  \n",
       "4    0.0    0.0           0.0  \n",
       "\n",
       "[5 rows x 30 columns]"
      ]
     },
     "execution_count": 39,
     "metadata": {},
     "output_type": "execute_result"
    }
   ],
   "source": [
    "# dropping the added 'good' from list\n",
    "X_keywords = epi_data[keywords]\n",
    "\n",
    "# Remove target variable\n",
    "X_keywords = X_keywords.drop(['good'], 1)\n",
    "\n",
    "X_keywords.head()"
   ]
  },
  {
   "cell_type": "code",
   "execution_count": 41,
   "metadata": {},
   "outputs": [
    {
     "data": {
      "text/plain": [
       "0.86754438460003991"
      ]
     },
     "execution_count": 41,
     "metadata": {},
     "output_type": "execute_result"
    }
   ],
   "source": [
    "Y = epi_data['good']\n",
    "# Train and test model\n",
    "svc = SVC()\n",
    "svc.fit(X_keywords,Y)\n",
    "svc.score(X_keywords, Y)"
   ]
  },
  {
   "cell_type": "code",
   "execution_count": 42,
   "metadata": {},
   "outputs": [
    {
     "data": {
      "text/plain": [
       "array([ 0.86739781,  0.86758105,  0.86758105,  0.86758105,  0.86758105])"
      ]
     },
     "execution_count": 42,
     "metadata": {},
     "output_type": "execute_result"
    }
   ],
   "source": [
    "cross_val_score(svc, X_keywords, Y, cv=5)"
   ]
  },
  {
   "cell_type": "markdown",
   "metadata": {},
   "source": [
    "Both results were pretty close, but the PCA results ended up being around 1% more accurate. There absolutely could be bias towards certain foods, as mentioned in the content people who like chocolate will be more likely to rate higher because their favorite sweets are chocolate based. Any ingredient could do this, I don't care for lima beans and my wife hates cucumbers, so dishes with those items would face harsher ratings from us."
   ]
  }
 ],
 "metadata": {
  "kernelspec": {
   "display_name": "Python 3",
   "language": "python",
   "name": "python3"
  },
  "language_info": {
   "codemirror_mode": {
    "name": "ipython",
    "version": 3
   },
   "file_extension": ".py",
   "mimetype": "text/x-python",
   "name": "python",
   "nbconvert_exporter": "python",
   "pygments_lexer": "ipython3",
   "version": "3.6.3"
  }
 },
 "nbformat": 4,
 "nbformat_minor": 2
}
