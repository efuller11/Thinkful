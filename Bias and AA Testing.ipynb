{
 "cells": [
  {
   "cell_type": "markdown",
   "metadata": {},
   "source": [
    "1.You're testing advertising emails for a bathing suit company and you test one version of the email in February and the other in May."
   ]
  },
  {
   "cell_type": "markdown",
   "metadata": {},
   "source": [
    "    A: depending on the location bathing suits might not be in season in February. May's group would likely gain a huge bias just from the month it launched."
   ]
  },
  {
   "cell_type": "markdown",
   "metadata": {},
   "source": [
    "2.You open a clinic to treat anxiety and find that the people who visit show a higher rate of anxiety than the general population."
   ]
  },
  {
   "cell_type": "markdown",
   "metadata": {},
   "source": [
    "    A: It would be expected that people with anxiety would be more likely to visit a clinic to get treatment for it."
   ]
  },
  {
   "cell_type": "markdown",
   "metadata": {},
   "source": [
    "3.You launch a new ad billboard based campaign and see an increase in website visits in the first week."
   ]
  },
  {
   "cell_type": "markdown",
   "metadata": {},
   "source": [
    "    A: While the ad might be helping the visits, there could be other factors involved. Was there a sale? Is your product/service seasonal? "
   ]
  },
  {
   "cell_type": "markdown",
   "metadata": {},
   "source": [
    "4.You launch a loyalty program but see no change in visits in the first week."
   ]
  },
  {
   "cell_type": "markdown",
   "metadata": {},
   "source": [
    "    A: Currently the loyalty program is not helping, however that does not mean it wouldn't help in the future. One week might be too short of time to base on whether it is effective or not. There is the possibility that the customers do not know about the new promotion, how is was the program advertised? There is the possibility that there could be something not functional about the program, such as it might not work, the coupons might be for things people don't want, the employees might not even know about it or they might not be using the program for some reason. There is even the possibility that the program is working, however something else is driving down the numbers, such as unavailable products, an increase in prices or competition is gaining popularity recently. Lastly, the customers might like the product so much the small price difference does not matter, or perhaps the clients are so wealthy that small savings are irrelevant to them. "
   ]
  }
 ],
 "metadata": {
  "kernelspec": {
   "display_name": "Python 3",
   "language": "python",
   "name": "python3"
  },
  "language_info": {
   "codemirror_mode": {
    "name": "ipython",
    "version": 3
   },
   "file_extension": ".py",
   "mimetype": "text/x-python",
   "name": "python",
   "nbconvert_exporter": "python",
   "pygments_lexer": "ipython3",
   "version": "3.6.3"
  }
 },
 "nbformat": 4,
 "nbformat_minor": 2
}
